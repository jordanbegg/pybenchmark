{
 "cells": [
  {
   "cell_type": "code",
   "execution_count": 57,
   "metadata": {},
   "outputs": [],
   "source": [
    "from pathlib import Path\n",
    "\n",
    "import pandas as pd\n",
    "\n",
    "from pybenchmark.client import BenchmarkClient"
   ]
  },
  {
   "cell_type": "code",
   "execution_count": 58,
   "metadata": {},
   "outputs": [],
   "source": [
    "URL = \"http://127.0.0.1:8000\"\n",
    "DATA_DIR = Path(\"../resources\")"
   ]
  },
  {
   "cell_type": "code",
   "execution_count": 59,
   "metadata": {},
   "outputs": [],
   "source": [
    "client = BenchmarkClient(url=URL)"
   ]
  },
  {
   "cell_type": "markdown",
   "metadata": {},
   "source": [
    "# Muscle Groups"
   ]
  },
  {
   "cell_type": "code",
   "execution_count": 60,
   "metadata": {},
   "outputs": [
    {
     "data": {
      "text/html": [
       "<div>\n",
       "<style scoped>\n",
       "    .dataframe tbody tr th:only-of-type {\n",
       "        vertical-align: middle;\n",
       "    }\n",
       "\n",
       "    .dataframe tbody tr th {\n",
       "        vertical-align: top;\n",
       "    }\n",
       "\n",
       "    .dataframe thead th {\n",
       "        text-align: right;\n",
       "    }\n",
       "</style>\n",
       "<table border=\"1\" class=\"dataframe\">\n",
       "  <thead>\n",
       "    <tr style=\"text-align: right;\">\n",
       "      <th></th>\n",
       "      <th>name</th>\n",
       "    </tr>\n",
       "  </thead>\n",
       "  <tbody>\n",
       "    <tr>\n",
       "      <th>0</th>\n",
       "      <td>chest</td>\n",
       "    </tr>\n",
       "    <tr>\n",
       "      <th>1</th>\n",
       "      <td>triceps</td>\n",
       "    </tr>\n",
       "    <tr>\n",
       "      <th>2</th>\n",
       "      <td>biceps</td>\n",
       "    </tr>\n",
       "    <tr>\n",
       "      <th>3</th>\n",
       "      <td>shoulders</td>\n",
       "    </tr>\n",
       "    <tr>\n",
       "      <th>4</th>\n",
       "      <td>quadriceps</td>\n",
       "    </tr>\n",
       "  </tbody>\n",
       "</table>\n",
       "</div>"
      ],
      "text/plain": [
       "         name\n",
       "0       chest\n",
       "1     triceps\n",
       "2      biceps\n",
       "3   shoulders\n",
       "4  quadriceps"
      ]
     },
     "execution_count": 60,
     "metadata": {},
     "output_type": "execute_result"
    }
   ],
   "source": [
    "df = pd.read_excel(DATA_DIR / \"setup.xlsx\", sheet_name=\"musclegroups\")\n",
    "df.head()"
   ]
  },
  {
   "cell_type": "code",
   "execution_count": 61,
   "metadata": {},
   "outputs": [
    {
     "name": "stdout",
     "output_type": "stream",
     "text": [
      "Created Muscle Group chest\n",
      "Created Muscle Group triceps\n",
      "Created Muscle Group biceps\n",
      "Created Muscle Group shoulders\n",
      "Created Muscle Group quadriceps\n",
      "Created Muscle Group hamstrings\n",
      "Created Muscle Group calves\n",
      "Created Muscle Group core\n",
      "Created Muscle Group back\n",
      "Created Muscle Group glutes\n"
     ]
    }
   ],
   "source": [
    "for name in df.name.tolist():\n",
    "    try:\n",
    "        response = client.musclegroups.create_musclegroup(name=name)\n",
    "        print(f\"Created Muscle Group {name}\")\n",
    "    except Exception as e:\n",
    "        print(e)"
   ]
  },
  {
   "cell_type": "markdown",
   "metadata": {},
   "source": [
    "# Exercises"
   ]
  },
  {
   "cell_type": "code",
   "execution_count": 62,
   "metadata": {},
   "outputs": [
    {
     "data": {
      "text/html": [
       "<div>\n",
       "<style scoped>\n",
       "    .dataframe tbody tr th:only-of-type {\n",
       "        vertical-align: middle;\n",
       "    }\n",
       "\n",
       "    .dataframe tbody tr th {\n",
       "        vertical-align: top;\n",
       "    }\n",
       "\n",
       "    .dataframe thead th {\n",
       "        text-align: right;\n",
       "    }\n",
       "</style>\n",
       "<table border=\"1\" class=\"dataframe\">\n",
       "  <thead>\n",
       "    <tr style=\"text-align: right;\">\n",
       "      <th></th>\n",
       "      <th>name</th>\n",
       "      <th>musclegroups</th>\n",
       "    </tr>\n",
       "  </thead>\n",
       "  <tbody>\n",
       "    <tr>\n",
       "      <th>0</th>\n",
       "      <td>Bench Press</td>\n",
       "      <td>chest, triceps</td>\n",
       "    </tr>\n",
       "    <tr>\n",
       "      <th>1</th>\n",
       "      <td>Lean-In Cable Row</td>\n",
       "      <td>back, biceps</td>\n",
       "    </tr>\n",
       "    <tr>\n",
       "      <th>2</th>\n",
       "      <td>Dumbbell Shoulder Press Neutral Grip</td>\n",
       "      <td>shoulders</td>\n",
       "    </tr>\n",
       "    <tr>\n",
       "      <th>3</th>\n",
       "      <td>Lat Pulldown Neutral Grip</td>\n",
       "      <td>back, biceps</td>\n",
       "    </tr>\n",
       "    <tr>\n",
       "      <th>4</th>\n",
       "      <td>Rope Hammer Curls</td>\n",
       "      <td>biceps</td>\n",
       "    </tr>\n",
       "  </tbody>\n",
       "</table>\n",
       "</div>"
      ],
      "text/plain": [
       "                                   name    musclegroups\n",
       "0                           Bench Press  chest, triceps\n",
       "1                     Lean-In Cable Row    back, biceps\n",
       "2  Dumbbell Shoulder Press Neutral Grip       shoulders\n",
       "3             Lat Pulldown Neutral Grip    back, biceps\n",
       "4                     Rope Hammer Curls          biceps"
      ]
     },
     "execution_count": 62,
     "metadata": {},
     "output_type": "execute_result"
    }
   ],
   "source": [
    "df = pd.read_excel(DATA_DIR / \"setup.xlsx\", sheet_name=\"exercises\")\n",
    "df.head()"
   ]
  },
  {
   "cell_type": "code",
   "execution_count": 63,
   "metadata": {},
   "outputs": [
    {
     "data": {
      "text/html": [
       "<div>\n",
       "<style scoped>\n",
       "    .dataframe tbody tr th:only-of-type {\n",
       "        vertical-align: middle;\n",
       "    }\n",
       "\n",
       "    .dataframe tbody tr th {\n",
       "        vertical-align: top;\n",
       "    }\n",
       "\n",
       "    .dataframe thead th {\n",
       "        text-align: right;\n",
       "    }\n",
       "</style>\n",
       "<table border=\"1\" class=\"dataframe\">\n",
       "  <thead>\n",
       "    <tr style=\"text-align: right;\">\n",
       "      <th></th>\n",
       "      <th>name</th>\n",
       "      <th>id</th>\n",
       "    </tr>\n",
       "  </thead>\n",
       "  <tbody>\n",
       "    <tr>\n",
       "      <th>0</th>\n",
       "      <td>chest</td>\n",
       "      <td>1</td>\n",
       "    </tr>\n",
       "    <tr>\n",
       "      <th>1</th>\n",
       "      <td>triceps</td>\n",
       "      <td>2</td>\n",
       "    </tr>\n",
       "    <tr>\n",
       "      <th>2</th>\n",
       "      <td>biceps</td>\n",
       "      <td>3</td>\n",
       "    </tr>\n",
       "    <tr>\n",
       "      <th>3</th>\n",
       "      <td>shoulders</td>\n",
       "      <td>4</td>\n",
       "    </tr>\n",
       "    <tr>\n",
       "      <th>4</th>\n",
       "      <td>quadriceps</td>\n",
       "      <td>5</td>\n",
       "    </tr>\n",
       "  </tbody>\n",
       "</table>\n",
       "</div>"
      ],
      "text/plain": [
       "         name  id\n",
       "0       chest   1\n",
       "1     triceps   2\n",
       "2      biceps   3\n",
       "3   shoulders   4\n",
       "4  quadriceps   5"
      ]
     },
     "execution_count": 63,
     "metadata": {},
     "output_type": "execute_result"
    }
   ],
   "source": [
    "mgs = pd.DataFrame(client.musclegroups.get_musclegroups())\n",
    "mgs.head()"
   ]
  },
  {
   "cell_type": "code",
   "execution_count": 64,
   "metadata": {},
   "outputs": [
    {
     "name": "stdout",
     "output_type": "stream",
     "text": [
      "Created Exercise Bench Press\n",
      "Created Exercise Lean-In Cable Row\n",
      "Created Exercise Dumbbell Shoulder Press Neutral Grip\n",
      "Created Exercise Lat Pulldown Neutral Grip\n",
      "Created Exercise Rope Hammer Curls\n",
      "Created Exercise Cable Lateral Raises\n",
      "Created Exercise Tricep Pushdown\n",
      "Created Exercise V-Bar Pushdown\n",
      "Created Exercise Barbell Back Squats\n",
      "Created Exercise Barbell Stiff Leg Deadlift\n",
      "Created Exercise Dumbbell Bulgarian Split Squats Single Arm\n",
      "Created Exercise Hyperextensions\n",
      "Created Exercise Rollouts\n",
      "Created Exercise Military Press\n",
      "Created Exercise Pull Ups Neutral Grip\n",
      "Created Exercise Incline Dumbbell Bench Press Neutral Grip\n",
      "Created Exercise Dumbbell Prone Rows\n",
      "Created Exercise Seated Dumbbell Hammer Curls\n",
      "Created Exercise Seated Dumbbell Lat Raises\n",
      "Created Exercise Dumbbell Skull Crushers\n",
      "Created Exercise Trap Bar Deadlift\n",
      "Created Exercise Dumbbell Split Squats\n",
      "Created Exercise Lying Leg Curls\n",
      "Created Exercise Leg Press\n",
      "Created Exercise Leg Raises\n",
      "Created Exercise Hack Squat\n",
      "Created Exercise Pendulum Squat\n",
      "Created Exercise Belt Squat\n",
      "Created Exercise Incline Chest Press Machine\n",
      "Created Exercise Chest Press Machine\n",
      "Created Exercise Machine Row\n",
      "Created Exercise Cable Flyes\n",
      "Created Exercise Incline Dumbbell Curls\n",
      "Created Exercise California Press\n",
      "Created Exercise Pull Ups Supinated Grip\n",
      "Created Exercise Dips\n",
      "Created Exercise Face Pulls\n",
      "Created Exercise Seated Cable Row\n",
      "Created Exercise Press Ups\n",
      "Created Exercise Farmers Walks\n",
      "Created Exercise Romanian Deadlift\n",
      "Created Exercise Seated Leg Curls\n",
      "Created Exercise Leg Extensions\n",
      "Created Exercise Dumbbell Shoulder Press Pronated Grip\n",
      "Created Exercise Overhead Tricep Rope Extension\n",
      "Created Exercise Cable Drag Curls\n",
      "Created Exercise Walking Lunges\n",
      "Created Exercise Lat Pulldown Overhand Grip\n"
     ]
    }
   ],
   "source": [
    "for ix, exercise in df.iterrows():\n",
    "    name = exercise[\"name\"]\n",
    "    mg_names = [mg.strip() for mg in exercise.musclegroups.split(\",\")]\n",
    "    mg_ids = mgs[mgs[\"name\"].isin(mg_names)].id.to_list()\n",
    "    try:\n",
    "        response = client.exercises.create_exercise(name=name, musclegroup_ids=mg_ids)\n",
    "        print(f\"Created Exercise {name}\")\n",
    "    except Exception as e:\n",
    "        print(e)"
   ]
  },
  {
   "cell_type": "markdown",
   "metadata": {},
   "source": [
    "# Workout Routines"
   ]
  },
  {
   "cell_type": "code",
   "execution_count": 65,
   "metadata": {},
   "outputs": [
    {
     "data": {
      "text/html": [
       "<div>\n",
       "<style scoped>\n",
       "    .dataframe tbody tr th:only-of-type {\n",
       "        vertical-align: middle;\n",
       "    }\n",
       "\n",
       "    .dataframe tbody tr th {\n",
       "        vertical-align: top;\n",
       "    }\n",
       "\n",
       "    .dataframe thead th {\n",
       "        text-align: right;\n",
       "    }\n",
       "</style>\n",
       "<table border=\"1\" class=\"dataframe\">\n",
       "  <thead>\n",
       "    <tr style=\"text-align: right;\">\n",
       "      <th></th>\n",
       "      <th>routine_name</th>\n",
       "      <th>exercise</th>\n",
       "      <th>reps</th>\n",
       "    </tr>\n",
       "  </thead>\n",
       "  <tbody>\n",
       "    <tr>\n",
       "      <th>0</th>\n",
       "      <td>Wave Loading 321 Lower 1</td>\n",
       "      <td>Trap Bar Deadlift</td>\n",
       "      <td>3</td>\n",
       "    </tr>\n",
       "    <tr>\n",
       "      <th>1</th>\n",
       "      <td>Wave Loading 321 Lower 1</td>\n",
       "      <td>Trap Bar Deadlift</td>\n",
       "      <td>2</td>\n",
       "    </tr>\n",
       "    <tr>\n",
       "      <th>2</th>\n",
       "      <td>Wave Loading 321 Lower 1</td>\n",
       "      <td>Trap Bar Deadlift</td>\n",
       "      <td>1</td>\n",
       "    </tr>\n",
       "    <tr>\n",
       "      <th>3</th>\n",
       "      <td>Wave Loading 321 Lower 1</td>\n",
       "      <td>Trap Bar Deadlift</td>\n",
       "      <td>3</td>\n",
       "    </tr>\n",
       "    <tr>\n",
       "      <th>4</th>\n",
       "      <td>Wave Loading 321 Lower 1</td>\n",
       "      <td>Trap Bar Deadlift</td>\n",
       "      <td>2</td>\n",
       "    </tr>\n",
       "  </tbody>\n",
       "</table>\n",
       "</div>"
      ],
      "text/plain": [
       "               routine_name           exercise  reps\n",
       "0  Wave Loading 321 Lower 1  Trap Bar Deadlift     3\n",
       "1  Wave Loading 321 Lower 1  Trap Bar Deadlift     2\n",
       "2  Wave Loading 321 Lower 1  Trap Bar Deadlift     1\n",
       "3  Wave Loading 321 Lower 1  Trap Bar Deadlift     3\n",
       "4  Wave Loading 321 Lower 1  Trap Bar Deadlift     2"
      ]
     },
     "execution_count": 65,
     "metadata": {},
     "output_type": "execute_result"
    }
   ],
   "source": [
    "df = pd.read_excel(DATA_DIR / \"setup.xlsx\", sheet_name=\"workoutroutines\")\n",
    "df = df.rename(columns={\"name\": \"routine_name\"})\n",
    "df.head()"
   ]
  },
  {
   "cell_type": "code",
   "execution_count": 67,
   "metadata": {},
   "outputs": [
    {
     "data": {
      "text/plain": [
       "array(['Wave Loading 321 Lower 1', 'Wave Loading 321 Upper 1',\n",
       "       'Wave Loading 321 Lower 2', 'Wave Loading 321 Upper 2',\n",
       "       'Wave Loading 642 Lower 1', 'Wave Loading 642 Upper 1',\n",
       "       'Wave Loading 642 Lower 2', 'Wave Loading 642 Upper 2',\n",
       "       'Hypertrophy Legs', 'Hypertrophy Chest and Back',\n",
       "       'Hypertrophy Shoulders and Arms', 'Arm Block Chest',\n",
       "       'Arm Block Back', 'Arm Block Legs', 'Arm Block Arms',\n",
       "       'Arm Block Legs 2'], dtype=object)"
      ]
     },
     "execution_count": 67,
     "metadata": {},
     "output_type": "execute_result"
    }
   ],
   "source": [
    "routines = df[\"routine_name\"].unique()\n",
    "routines"
   ]
  },
  {
   "cell_type": "code",
   "execution_count": 68,
   "metadata": {},
   "outputs": [
    {
     "data": {
      "text/html": [
       "<div>\n",
       "<style scoped>\n",
       "    .dataframe tbody tr th:only-of-type {\n",
       "        vertical-align: middle;\n",
       "    }\n",
       "\n",
       "    .dataframe tbody tr th {\n",
       "        vertical-align: top;\n",
       "    }\n",
       "\n",
       "    .dataframe thead th {\n",
       "        text-align: right;\n",
       "    }\n",
       "</style>\n",
       "<table border=\"1\" class=\"dataframe\">\n",
       "  <thead>\n",
       "    <tr style=\"text-align: right;\">\n",
       "      <th></th>\n",
       "      <th>name</th>\n",
       "      <th>id</th>\n",
       "    </tr>\n",
       "  </thead>\n",
       "  <tbody>\n",
       "    <tr>\n",
       "      <th>0</th>\n",
       "      <td>bench press</td>\n",
       "      <td>1</td>\n",
       "    </tr>\n",
       "    <tr>\n",
       "      <th>1</th>\n",
       "      <td>lean-in cable row</td>\n",
       "      <td>2</td>\n",
       "    </tr>\n",
       "    <tr>\n",
       "      <th>2</th>\n",
       "      <td>dumbbell shoulder press neutral grip</td>\n",
       "      <td>3</td>\n",
       "    </tr>\n",
       "    <tr>\n",
       "      <th>3</th>\n",
       "      <td>lat pulldown neutral grip</td>\n",
       "      <td>4</td>\n",
       "    </tr>\n",
       "    <tr>\n",
       "      <th>4</th>\n",
       "      <td>rope hammer curls</td>\n",
       "      <td>5</td>\n",
       "    </tr>\n",
       "  </tbody>\n",
       "</table>\n",
       "</div>"
      ],
      "text/plain": [
       "                                   name  id\n",
       "0                           bench press   1\n",
       "1                     lean-in cable row   2\n",
       "2  dumbbell shoulder press neutral grip   3\n",
       "3             lat pulldown neutral grip   4\n",
       "4                     rope hammer curls   5"
      ]
     },
     "execution_count": 68,
     "metadata": {},
     "output_type": "execute_result"
    }
   ],
   "source": [
    "exs = pd.DataFrame(client.exercises.get_exercises())\n",
    "exs.head()"
   ]
  },
  {
   "cell_type": "code",
   "execution_count": 69,
   "metadata": {},
   "outputs": [
    {
     "data": {
      "text/html": [
       "<div>\n",
       "<style scoped>\n",
       "    .dataframe tbody tr th:only-of-type {\n",
       "        vertical-align: middle;\n",
       "    }\n",
       "\n",
       "    .dataframe tbody tr th {\n",
       "        vertical-align: top;\n",
       "    }\n",
       "\n",
       "    .dataframe thead th {\n",
       "        text-align: right;\n",
       "    }\n",
       "</style>\n",
       "<table border=\"1\" class=\"dataframe\">\n",
       "  <thead>\n",
       "    <tr style=\"text-align: right;\">\n",
       "      <th></th>\n",
       "      <th>routine_name</th>\n",
       "      <th>exercise</th>\n",
       "      <th>reps</th>\n",
       "      <th>exercise_lower</th>\n",
       "    </tr>\n",
       "  </thead>\n",
       "  <tbody>\n",
       "    <tr>\n",
       "      <th>0</th>\n",
       "      <td>Wave Loading 321 Lower 1</td>\n",
       "      <td>Trap Bar Deadlift</td>\n",
       "      <td>3</td>\n",
       "      <td>trap bar deadlift</td>\n",
       "    </tr>\n",
       "    <tr>\n",
       "      <th>1</th>\n",
       "      <td>Wave Loading 321 Lower 1</td>\n",
       "      <td>Trap Bar Deadlift</td>\n",
       "      <td>2</td>\n",
       "      <td>trap bar deadlift</td>\n",
       "    </tr>\n",
       "    <tr>\n",
       "      <th>2</th>\n",
       "      <td>Wave Loading 321 Lower 1</td>\n",
       "      <td>Trap Bar Deadlift</td>\n",
       "      <td>1</td>\n",
       "      <td>trap bar deadlift</td>\n",
       "    </tr>\n",
       "    <tr>\n",
       "      <th>3</th>\n",
       "      <td>Wave Loading 321 Lower 1</td>\n",
       "      <td>Trap Bar Deadlift</td>\n",
       "      <td>3</td>\n",
       "      <td>trap bar deadlift</td>\n",
       "    </tr>\n",
       "    <tr>\n",
       "      <th>4</th>\n",
       "      <td>Wave Loading 321 Lower 1</td>\n",
       "      <td>Trap Bar Deadlift</td>\n",
       "      <td>2</td>\n",
       "      <td>trap bar deadlift</td>\n",
       "    </tr>\n",
       "  </tbody>\n",
       "</table>\n",
       "</div>"
      ],
      "text/plain": [
       "               routine_name           exercise  reps     exercise_lower\n",
       "0  Wave Loading 321 Lower 1  Trap Bar Deadlift     3  trap bar deadlift\n",
       "1  Wave Loading 321 Lower 1  Trap Bar Deadlift     2  trap bar deadlift\n",
       "2  Wave Loading 321 Lower 1  Trap Bar Deadlift     1  trap bar deadlift\n",
       "3  Wave Loading 321 Lower 1  Trap Bar Deadlift     3  trap bar deadlift\n",
       "4  Wave Loading 321 Lower 1  Trap Bar Deadlift     2  trap bar deadlift"
      ]
     },
     "execution_count": 69,
     "metadata": {},
     "output_type": "execute_result"
    }
   ],
   "source": [
    "df[\"exercise_lower\"] = df.exercise.str.lower()\n",
    "df.head()"
   ]
  },
  {
   "cell_type": "code",
   "execution_count": 70,
   "metadata": {},
   "outputs": [
    {
     "data": {
      "text/html": [
       "<div>\n",
       "<style scoped>\n",
       "    .dataframe tbody tr th:only-of-type {\n",
       "        vertical-align: middle;\n",
       "    }\n",
       "\n",
       "    .dataframe tbody tr th {\n",
       "        vertical-align: top;\n",
       "    }\n",
       "\n",
       "    .dataframe thead th {\n",
       "        text-align: right;\n",
       "    }\n",
       "</style>\n",
       "<table border=\"1\" class=\"dataframe\">\n",
       "  <thead>\n",
       "    <tr style=\"text-align: right;\">\n",
       "      <th></th>\n",
       "      <th>reps</th>\n",
       "      <th>id</th>\n",
       "    </tr>\n",
       "    <tr>\n",
       "      <th>routine_name</th>\n",
       "      <th></th>\n",
       "      <th></th>\n",
       "    </tr>\n",
       "  </thead>\n",
       "  <tbody>\n",
       "    <tr>\n",
       "      <th>Wave Loading 321 Lower 1</th>\n",
       "      <td>3</td>\n",
       "      <td>21</td>\n",
       "    </tr>\n",
       "    <tr>\n",
       "      <th>Wave Loading 321 Lower 1</th>\n",
       "      <td>2</td>\n",
       "      <td>21</td>\n",
       "    </tr>\n",
       "    <tr>\n",
       "      <th>Wave Loading 321 Lower 1</th>\n",
       "      <td>1</td>\n",
       "      <td>21</td>\n",
       "    </tr>\n",
       "    <tr>\n",
       "      <th>Wave Loading 321 Lower 1</th>\n",
       "      <td>3</td>\n",
       "      <td>21</td>\n",
       "    </tr>\n",
       "    <tr>\n",
       "      <th>Wave Loading 321 Lower 1</th>\n",
       "      <td>2</td>\n",
       "      <td>21</td>\n",
       "    </tr>\n",
       "    <tr>\n",
       "      <th>...</th>\n",
       "      <td>...</td>\n",
       "      <td>...</td>\n",
       "    </tr>\n",
       "    <tr>\n",
       "      <th>Arm Block Legs 2</th>\n",
       "      <td>24</td>\n",
       "      <td>47</td>\n",
       "    </tr>\n",
       "    <tr>\n",
       "      <th>Arm Block Legs 2</th>\n",
       "      <td>20</td>\n",
       "      <td>42</td>\n",
       "    </tr>\n",
       "    <tr>\n",
       "      <th>Arm Block Legs 2</th>\n",
       "      <td>20</td>\n",
       "      <td>42</td>\n",
       "    </tr>\n",
       "    <tr>\n",
       "      <th>Arm Block Legs 2</th>\n",
       "      <td>20</td>\n",
       "      <td>42</td>\n",
       "    </tr>\n",
       "    <tr>\n",
       "      <th>Arm Block Legs 2</th>\n",
       "      <td>20</td>\n",
       "      <td>42</td>\n",
       "    </tr>\n",
       "  </tbody>\n",
       "</table>\n",
       "<p>333 rows × 2 columns</p>\n",
       "</div>"
      ],
      "text/plain": [
       "                          reps  id\n",
       "routine_name                      \n",
       "Wave Loading 321 Lower 1     3  21\n",
       "Wave Loading 321 Lower 1     2  21\n",
       "Wave Loading 321 Lower 1     1  21\n",
       "Wave Loading 321 Lower 1     3  21\n",
       "Wave Loading 321 Lower 1     2  21\n",
       "...                        ...  ..\n",
       "Arm Block Legs 2            24  47\n",
       "Arm Block Legs 2            20  42\n",
       "Arm Block Legs 2            20  42\n",
       "Arm Block Legs 2            20  42\n",
       "Arm Block Legs 2            20  42\n",
       "\n",
       "[333 rows x 2 columns]"
      ]
     },
     "execution_count": 70,
     "metadata": {},
     "output_type": "execute_result"
    }
   ],
   "source": [
    "df_all = df.merge(right=exs, left_on=\"exercise_lower\", right_on=\"name\").set_index(\"routine_name\")[[\"reps\", \"id\"]]\n",
    "df_all"
   ]
  },
  {
   "cell_type": "code",
   "execution_count": 73,
   "metadata": {},
   "outputs": [
    {
     "name": "stdout",
     "output_type": "stream",
     "text": [
      "Expecting value: line 1 column 1 (char 0)\n",
      "Expecting value: line 1 column 1 (char 0)\n",
      "Expecting value: line 1 column 1 (char 0)\n",
      "Expecting value: line 1 column 1 (char 0)\n",
      "Expecting value: line 1 column 1 (char 0)\n",
      "Expecting value: line 1 column 1 (char 0)\n",
      "Expecting value: line 1 column 1 (char 0)\n",
      "Expecting value: line 1 column 1 (char 0)\n",
      "Expecting value: line 1 column 1 (char 0)\n",
      "Expecting value: line 1 column 1 (char 0)\n",
      "Expecting value: line 1 column 1 (char 0)\n",
      "Expecting value: line 1 column 1 (char 0)\n",
      "Expecting value: line 1 column 1 (char 0)\n",
      "Expecting value: line 1 column 1 (char 0)\n",
      "Expecting value: line 1 column 1 (char 0)\n",
      "Expecting value: line 1 column 1 (char 0)\n"
     ]
    }
   ],
   "source": [
    "for routine in routines:\n",
    "    exercises = df_all.loc[routine].to_dict(orient=\"records\")\n",
    "    try:\n",
    "        response = client.workout_routines.create_workout_routine(name=routine, exercises=exercises)\n",
    "        print(f\"Created Routine {routine}\")\n",
    "    except Exception as e:\n",
    "        print(e)"
   ]
  },
  {
   "cell_type": "code",
   "execution_count": 52,
   "metadata": {},
   "outputs": [
    {
     "data": {
      "text/plain": [
       "[{'reps': 20, 'id': 24},\n",
       " {'reps': 20, 'id': 24},\n",
       " {'reps': 20, 'id': 24},\n",
       " {'reps': 20, 'id': 24},\n",
       " {'reps': 12, 'id': 12},\n",
       " {'reps': 12, 'id': 12},\n",
       " {'reps': 12, 'id': 12},\n",
       " {'reps': 12, 'id': 12},\n",
       " {'reps': 24, 'id': 47},\n",
       " {'reps': 24, 'id': 47},\n",
       " {'reps': 24, 'id': 47},\n",
       " {'reps': 20, 'id': 42},\n",
       " {'reps': 20, 'id': 42},\n",
       " {'reps': 20, 'id': 42},\n",
       " {'reps': 20, 'id': 42}]"
      ]
     },
     "execution_count": 52,
     "metadata": {},
     "output_type": "execute_result"
    }
   ],
   "source": [
    "exercises.to_dict(orient=\"records\")"
   ]
  }
 ],
 "metadata": {
  "kernelspec": {
   "display_name": "pybenchmark-Zfe2W2H7-py3.12",
   "language": "python",
   "name": "python3"
  },
  "language_info": {
   "codemirror_mode": {
    "name": "ipython",
    "version": 3
   },
   "file_extension": ".py",
   "mimetype": "text/x-python",
   "name": "python",
   "nbconvert_exporter": "python",
   "pygments_lexer": "ipython3",
   "version": "3.12.1"
  }
 },
 "nbformat": 4,
 "nbformat_minor": 2
}
