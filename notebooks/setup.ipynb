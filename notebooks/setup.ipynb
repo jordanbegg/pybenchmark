{
 "cells": [
  {
   "cell_type": "code",
   "execution_count": 1,
   "metadata": {},
   "outputs": [],
   "source": [
    "from pathlib import Path\n",
    "import datetime as dt\n",
    "\n",
    "import pandas as pd\n",
    "\n",
    "from pybenchmark.client import BenchmarkClient"
   ]
  },
  {
   "cell_type": "code",
   "execution_count": 2,
   "metadata": {},
   "outputs": [],
   "source": [
    "# URL = \"https://benchmark-container-app.braveflower-04bf6ce2.uksouth.azurecontainerapps.io/\"\n",
    "URL = \"http://127.0.0.1:8000\"\n",
    "DATA_DIR = Path(\"../resources\")"
   ]
  },
  {
   "cell_type": "code",
   "execution_count": 3,
   "metadata": {},
   "outputs": [],
   "source": [
    "client = BenchmarkClient(\n",
    "    url=URL, email=\"jordansbegg@outlook.com\", password=\"BenchmarkPassword\"\n",
    ")"
   ]
  },
  {
   "cell_type": "markdown",
   "metadata": {},
   "source": [
    "# Permissions"
   ]
  },
  {
   "cell_type": "code",
   "execution_count": 4,
   "metadata": {},
   "outputs": [
    {
     "data": {
      "text/html": [
       "<div>\n",
       "<style scoped>\n",
       "    .dataframe tbody tr th:only-of-type {\n",
       "        vertical-align: middle;\n",
       "    }\n",
       "\n",
       "    .dataframe tbody tr th {\n",
       "        vertical-align: top;\n",
       "    }\n",
       "\n",
       "    .dataframe thead th {\n",
       "        text-align: right;\n",
       "    }\n",
       "</style>\n",
       "<table border=\"1\" class=\"dataframe\">\n",
       "  <thead>\n",
       "    <tr style=\"text-align: right;\">\n",
       "      <th></th>\n",
       "      <th>name</th>\n",
       "    </tr>\n",
       "  </thead>\n",
       "  <tbody>\n",
       "    <tr>\n",
       "      <th>0</th>\n",
       "      <td>read_exercise</td>\n",
       "    </tr>\n",
       "    <tr>\n",
       "      <th>1</th>\n",
       "      <td>create_exercise</td>\n",
       "    </tr>\n",
       "    <tr>\n",
       "      <th>2</th>\n",
       "      <td>delete_exercise</td>\n",
       "    </tr>\n",
       "    <tr>\n",
       "      <th>3</th>\n",
       "      <td>read_all_workouts</td>\n",
       "    </tr>\n",
       "    <tr>\n",
       "      <th>4</th>\n",
       "      <td>read_own_workout</td>\n",
       "    </tr>\n",
       "  </tbody>\n",
       "</table>\n",
       "</div>"
      ],
      "text/plain": [
       "                name\n",
       "0      read_exercise\n",
       "1    create_exercise\n",
       "2    delete_exercise\n",
       "3  read_all_workouts\n",
       "4   read_own_workout"
      ]
     },
     "execution_count": 4,
     "metadata": {},
     "output_type": "execute_result"
    }
   ],
   "source": [
    "df = pd.read_excel(DATA_DIR / \"setup.xlsx\", sheet_name=\"permissions\")\n",
    "df.head()"
   ]
  },
  {
   "cell_type": "code",
   "execution_count": 5,
   "metadata": {},
   "outputs": [
    {
     "ename": "JSONDecodeError",
     "evalue": "Expecting value: line 1 column 1 (char 0)",
     "output_type": "error",
     "traceback": [
      "\u001b[1;31m---------------------------------------------------------------------------\u001b[0m",
      "\u001b[1;31mJSONDecodeError\u001b[0m                           Traceback (most recent call last)",
      "File \u001b[1;32mc:\\Users\\jorda\\AppData\\Local\\pypoetry\\Cache\\virtualenvs\\pybenchmark-Zfe2W2H7-py3.12\\Lib\\site-packages\\requests\\models.py:974\u001b[0m, in \u001b[0;36mResponse.json\u001b[1;34m(self, **kwargs)\u001b[0m\n\u001b[0;32m    973\u001b[0m \u001b[38;5;28;01mtry\u001b[39;00m:\n\u001b[1;32m--> 974\u001b[0m     \u001b[38;5;28;01mreturn\u001b[39;00m \u001b[43mcomplexjson\u001b[49m\u001b[38;5;241;43m.\u001b[39;49m\u001b[43mloads\u001b[49m\u001b[43m(\u001b[49m\u001b[38;5;28;43mself\u001b[39;49m\u001b[38;5;241;43m.\u001b[39;49m\u001b[43mtext\u001b[49m\u001b[43m,\u001b[49m\u001b[43m \u001b[49m\u001b[38;5;241;43m*\u001b[39;49m\u001b[38;5;241;43m*\u001b[39;49m\u001b[43mkwargs\u001b[49m\u001b[43m)\u001b[49m\n\u001b[0;32m    975\u001b[0m \u001b[38;5;28;01mexcept\u001b[39;00m JSONDecodeError \u001b[38;5;28;01mas\u001b[39;00m e:\n\u001b[0;32m    976\u001b[0m     \u001b[38;5;66;03m# Catch JSON-related errors and raise as requests.JSONDecodeError\u001b[39;00m\n\u001b[0;32m    977\u001b[0m     \u001b[38;5;66;03m# This aliases json.JSONDecodeError and simplejson.JSONDecodeError\u001b[39;00m\n",
      "File \u001b[1;32m~\\AppData\\Local\\Programs\\Python\\Python312\\Lib\\json\\__init__.py:346\u001b[0m, in \u001b[0;36mloads\u001b[1;34m(s, cls, object_hook, parse_float, parse_int, parse_constant, object_pairs_hook, **kw)\u001b[0m\n\u001b[0;32m    343\u001b[0m \u001b[38;5;28;01mif\u001b[39;00m (\u001b[38;5;28mcls\u001b[39m \u001b[38;5;129;01mis\u001b[39;00m \u001b[38;5;28;01mNone\u001b[39;00m \u001b[38;5;129;01mand\u001b[39;00m object_hook \u001b[38;5;129;01mis\u001b[39;00m \u001b[38;5;28;01mNone\u001b[39;00m \u001b[38;5;129;01mand\u001b[39;00m\n\u001b[0;32m    344\u001b[0m         parse_int \u001b[38;5;129;01mis\u001b[39;00m \u001b[38;5;28;01mNone\u001b[39;00m \u001b[38;5;129;01mand\u001b[39;00m parse_float \u001b[38;5;129;01mis\u001b[39;00m \u001b[38;5;28;01mNone\u001b[39;00m \u001b[38;5;129;01mand\u001b[39;00m\n\u001b[0;32m    345\u001b[0m         parse_constant \u001b[38;5;129;01mis\u001b[39;00m \u001b[38;5;28;01mNone\u001b[39;00m \u001b[38;5;129;01mand\u001b[39;00m object_pairs_hook \u001b[38;5;129;01mis\u001b[39;00m \u001b[38;5;28;01mNone\u001b[39;00m \u001b[38;5;129;01mand\u001b[39;00m \u001b[38;5;129;01mnot\u001b[39;00m kw):\n\u001b[1;32m--> 346\u001b[0m     \u001b[38;5;28;01mreturn\u001b[39;00m \u001b[43m_default_decoder\u001b[49m\u001b[38;5;241;43m.\u001b[39;49m\u001b[43mdecode\u001b[49m\u001b[43m(\u001b[49m\u001b[43ms\u001b[49m\u001b[43m)\u001b[49m\n\u001b[0;32m    347\u001b[0m \u001b[38;5;28;01mif\u001b[39;00m \u001b[38;5;28mcls\u001b[39m \u001b[38;5;129;01mis\u001b[39;00m \u001b[38;5;28;01mNone\u001b[39;00m:\n",
      "File \u001b[1;32m~\\AppData\\Local\\Programs\\Python\\Python312\\Lib\\json\\decoder.py:337\u001b[0m, in \u001b[0;36mJSONDecoder.decode\u001b[1;34m(self, s, _w)\u001b[0m\n\u001b[0;32m    333\u001b[0m \u001b[38;5;250m\u001b[39m\u001b[38;5;124;03m\"\"\"Return the Python representation of ``s`` (a ``str`` instance\u001b[39;00m\n\u001b[0;32m    334\u001b[0m \u001b[38;5;124;03mcontaining a JSON document).\u001b[39;00m\n\u001b[0;32m    335\u001b[0m \n\u001b[0;32m    336\u001b[0m \u001b[38;5;124;03m\"\"\"\u001b[39;00m\n\u001b[1;32m--> 337\u001b[0m obj, end \u001b[38;5;241m=\u001b[39m \u001b[38;5;28;43mself\u001b[39;49m\u001b[38;5;241;43m.\u001b[39;49m\u001b[43mraw_decode\u001b[49m\u001b[43m(\u001b[49m\u001b[43ms\u001b[49m\u001b[43m,\u001b[49m\u001b[43m \u001b[49m\u001b[43midx\u001b[49m\u001b[38;5;241;43m=\u001b[39;49m\u001b[43m_w\u001b[49m\u001b[43m(\u001b[49m\u001b[43ms\u001b[49m\u001b[43m,\u001b[49m\u001b[43m \u001b[49m\u001b[38;5;241;43m0\u001b[39;49m\u001b[43m)\u001b[49m\u001b[38;5;241;43m.\u001b[39;49m\u001b[43mend\u001b[49m\u001b[43m(\u001b[49m\u001b[43m)\u001b[49m\u001b[43m)\u001b[49m\n\u001b[0;32m    338\u001b[0m end \u001b[38;5;241m=\u001b[39m _w(s, end)\u001b[38;5;241m.\u001b[39mend()\n",
      "File \u001b[1;32m~\\AppData\\Local\\Programs\\Python\\Python312\\Lib\\json\\decoder.py:355\u001b[0m, in \u001b[0;36mJSONDecoder.raw_decode\u001b[1;34m(self, s, idx)\u001b[0m\n\u001b[0;32m    354\u001b[0m \u001b[38;5;28;01mexcept\u001b[39;00m \u001b[38;5;167;01mStopIteration\u001b[39;00m \u001b[38;5;28;01mas\u001b[39;00m err:\n\u001b[1;32m--> 355\u001b[0m     \u001b[38;5;28;01mraise\u001b[39;00m JSONDecodeError(\u001b[38;5;124m\"\u001b[39m\u001b[38;5;124mExpecting value\u001b[39m\u001b[38;5;124m\"\u001b[39m, s, err\u001b[38;5;241m.\u001b[39mvalue) \u001b[38;5;28;01mfrom\u001b[39;00m \u001b[38;5;28;01mNone\u001b[39;00m\n\u001b[0;32m    356\u001b[0m \u001b[38;5;28;01mreturn\u001b[39;00m obj, end\n",
      "\u001b[1;31mJSONDecodeError\u001b[0m: Expecting value: line 1 column 1 (char 0)",
      "\nDuring handling of the above exception, another exception occurred:\n",
      "\u001b[1;31mJSONDecodeError\u001b[0m                           Traceback (most recent call last)",
      "Cell \u001b[1;32mIn[5], line 2\u001b[0m\n\u001b[0;32m      1\u001b[0m \u001b[38;5;28;01mfor\u001b[39;00m permission \u001b[38;5;129;01min\u001b[39;00m df\u001b[38;5;241m.\u001b[39mname\u001b[38;5;241m.\u001b[39mvalues:\n\u001b[1;32m----> 2\u001b[0m     \u001b[43mclient\u001b[49m\u001b[38;5;241;43m.\u001b[39;49m\u001b[43mpermissions\u001b[49m\u001b[38;5;241;43m.\u001b[39;49m\u001b[43mcreate_permission\u001b[49m\u001b[43m(\u001b[49m\u001b[43mname\u001b[49m\u001b[38;5;241;43m=\u001b[39;49m\u001b[43mpermission\u001b[49m\u001b[43m)\u001b[49m\n\u001b[0;32m      3\u001b[0m     \u001b[38;5;28mprint\u001b[39m(\u001b[38;5;124mf\u001b[39m\u001b[38;5;124m\"\u001b[39m\u001b[38;5;124mcreated permission \u001b[39m\u001b[38;5;132;01m{\u001b[39;00mpermission\u001b[38;5;132;01m}\u001b[39;00m\u001b[38;5;124m\"\u001b[39m)\n",
      "File \u001b[1;32m~\\development\\pybenchmark\\pybenchmark\\auth.py:37\u001b[0m, in \u001b[0;36madd_auth.<locals>.decorator.<locals>.wrapper\u001b[1;34m(instance, *args, **kwargs)\u001b[0m\n\u001b[0;32m     35\u001b[0m headers[\u001b[38;5;124m\"\u001b[39m\u001b[38;5;124mAuthorization\u001b[39m\u001b[38;5;124m\"\u001b[39m] \u001b[38;5;241m=\u001b[39m \u001b[38;5;124mf\u001b[39m\u001b[38;5;124m\"\u001b[39m\u001b[38;5;124mBearer: \u001b[39m\u001b[38;5;132;01m{\u001b[39;00mauth\u001b[38;5;241m.\u001b[39mget_token()\u001b[38;5;132;01m}\u001b[39;00m\u001b[38;5;124m\"\u001b[39m\n\u001b[0;32m     36\u001b[0m kwargs[\u001b[38;5;124m\"\u001b[39m\u001b[38;5;124mheaders\u001b[39m\u001b[38;5;124m\"\u001b[39m] \u001b[38;5;241m=\u001b[39m headers\n\u001b[1;32m---> 37\u001b[0m \u001b[38;5;28;01mreturn\u001b[39;00m \u001b[43mfunc\u001b[49m\u001b[43m(\u001b[49m\u001b[43minstance\u001b[49m\u001b[43m,\u001b[49m\u001b[43m \u001b[49m\u001b[38;5;241;43m*\u001b[39;49m\u001b[43margs\u001b[49m\u001b[43m,\u001b[49m\u001b[43m \u001b[49m\u001b[38;5;241;43m*\u001b[39;49m\u001b[38;5;241;43m*\u001b[39;49m\u001b[43mkwargs\u001b[49m\u001b[43m)\u001b[49m\n",
      "File \u001b[1;32m~\\development\\pybenchmark\\pybenchmark\\permissions.py:32\u001b[0m, in \u001b[0;36mPermissions.create_permission\u001b[1;34m(self, name, headers)\u001b[0m\n\u001b[0;32m     30\u001b[0m \u001b[38;5;28;01mif\u001b[39;00m response\u001b[38;5;241m.\u001b[39mstatus_code \u001b[38;5;241m==\u001b[39m \u001b[38;5;241m200\u001b[39m:\n\u001b[0;32m     31\u001b[0m     \u001b[38;5;28;01mreturn\u001b[39;00m response\u001b[38;5;241m.\u001b[39mjson()\n\u001b[1;32m---> 32\u001b[0m \u001b[38;5;28;01mraise\u001b[39;00m \u001b[38;5;167;01mValueError\u001b[39;00m(\u001b[38;5;124mf\u001b[39m\u001b[38;5;124m\"\u001b[39m\u001b[38;5;124mUnable to create permission. Received \u001b[39m\u001b[38;5;132;01m{\u001b[39;00m\u001b[43mresponse\u001b[49m\u001b[38;5;241;43m.\u001b[39;49m\u001b[43mjson\u001b[49m\u001b[43m(\u001b[49m\u001b[43m)\u001b[49m\u001b[38;5;132;01m}\u001b[39;00m\u001b[38;5;124m\"\u001b[39m)\n",
      "File \u001b[1;32mc:\\Users\\jorda\\AppData\\Local\\pypoetry\\Cache\\virtualenvs\\pybenchmark-Zfe2W2H7-py3.12\\Lib\\site-packages\\requests\\models.py:978\u001b[0m, in \u001b[0;36mResponse.json\u001b[1;34m(self, **kwargs)\u001b[0m\n\u001b[0;32m    974\u001b[0m     \u001b[38;5;28;01mreturn\u001b[39;00m complexjson\u001b[38;5;241m.\u001b[39mloads(\u001b[38;5;28mself\u001b[39m\u001b[38;5;241m.\u001b[39mtext, \u001b[38;5;241m*\u001b[39m\u001b[38;5;241m*\u001b[39mkwargs)\n\u001b[0;32m    975\u001b[0m \u001b[38;5;28;01mexcept\u001b[39;00m JSONDecodeError \u001b[38;5;28;01mas\u001b[39;00m e:\n\u001b[0;32m    976\u001b[0m     \u001b[38;5;66;03m# Catch JSON-related errors and raise as requests.JSONDecodeError\u001b[39;00m\n\u001b[0;32m    977\u001b[0m     \u001b[38;5;66;03m# This aliases json.JSONDecodeError and simplejson.JSONDecodeError\u001b[39;00m\n\u001b[1;32m--> 978\u001b[0m     \u001b[38;5;28;01mraise\u001b[39;00m RequestsJSONDecodeError(e\u001b[38;5;241m.\u001b[39mmsg, e\u001b[38;5;241m.\u001b[39mdoc, e\u001b[38;5;241m.\u001b[39mpos)\n",
      "\u001b[1;31mJSONDecodeError\u001b[0m: Expecting value: line 1 column 1 (char 0)"
     ]
    }
   ],
   "source": [
    "for permission in df.name.values:\n",
    "    client.permissions.create_permission(name=permission)\n",
    "    print(f\"created permission {permission}\")"
   ]
  },
  {
   "cell_type": "markdown",
   "metadata": {},
   "source": [
    "# Roles"
   ]
  },
  {
   "cell_type": "code",
   "execution_count": 6,
   "metadata": {},
   "outputs": [
    {
     "data": {
      "text/html": [
       "<div>\n",
       "<style scoped>\n",
       "    .dataframe tbody tr th:only-of-type {\n",
       "        vertical-align: middle;\n",
       "    }\n",
       "\n",
       "    .dataframe tbody tr th {\n",
       "        vertical-align: top;\n",
       "    }\n",
       "\n",
       "    .dataframe thead th {\n",
       "        text-align: right;\n",
       "    }\n",
       "</style>\n",
       "<table border=\"1\" class=\"dataframe\">\n",
       "  <thead>\n",
       "    <tr style=\"text-align: right;\">\n",
       "      <th></th>\n",
       "      <th>name</th>\n",
       "      <th>permission</th>\n",
       "    </tr>\n",
       "  </thead>\n",
       "  <tbody>\n",
       "    <tr>\n",
       "      <th>0</th>\n",
       "      <td>admin</td>\n",
       "      <td>read_exercise</td>\n",
       "    </tr>\n",
       "    <tr>\n",
       "      <th>1</th>\n",
       "      <td>admin</td>\n",
       "      <td>create_exercise</td>\n",
       "    </tr>\n",
       "    <tr>\n",
       "      <th>2</th>\n",
       "      <td>admin</td>\n",
       "      <td>delete_exercise</td>\n",
       "    </tr>\n",
       "    <tr>\n",
       "      <th>3</th>\n",
       "      <td>admin</td>\n",
       "      <td>read_all_workouts</td>\n",
       "    </tr>\n",
       "    <tr>\n",
       "      <th>4</th>\n",
       "      <td>admin</td>\n",
       "      <td>create_all_workouts</td>\n",
       "    </tr>\n",
       "  </tbody>\n",
       "</table>\n",
       "</div>"
      ],
      "text/plain": [
       "    name           permission\n",
       "0  admin        read_exercise\n",
       "1  admin      create_exercise\n",
       "2  admin      delete_exercise\n",
       "3  admin    read_all_workouts\n",
       "4  admin  create_all_workouts"
      ]
     },
     "execution_count": 6,
     "metadata": {},
     "output_type": "execute_result"
    }
   ],
   "source": [
    "df = pd.read_excel(DATA_DIR / \"setup.xlsx\", sheet_name=\"roles\")\n",
    "df.head()"
   ]
  },
  {
   "cell_type": "code",
   "execution_count": 7,
   "metadata": {},
   "outputs": [
    {
     "data": {
      "text/html": [
       "<div>\n",
       "<style scoped>\n",
       "    .dataframe tbody tr th:only-of-type {\n",
       "        vertical-align: middle;\n",
       "    }\n",
       "\n",
       "    .dataframe tbody tr th {\n",
       "        vertical-align: top;\n",
       "    }\n",
       "\n",
       "    .dataframe thead th {\n",
       "        text-align: right;\n",
       "    }\n",
       "</style>\n",
       "<table border=\"1\" class=\"dataframe\">\n",
       "  <thead>\n",
       "    <tr style=\"text-align: right;\">\n",
       "      <th></th>\n",
       "      <th>name</th>\n",
       "      <th>id</th>\n",
       "    </tr>\n",
       "  </thead>\n",
       "  <tbody>\n",
       "    <tr>\n",
       "      <th>0</th>\n",
       "      <td>read_exercise</td>\n",
       "      <td>1</td>\n",
       "    </tr>\n",
       "    <tr>\n",
       "      <th>1</th>\n",
       "      <td>create_exercise</td>\n",
       "      <td>2</td>\n",
       "    </tr>\n",
       "    <tr>\n",
       "      <th>2</th>\n",
       "      <td>delete_exercise</td>\n",
       "      <td>3</td>\n",
       "    </tr>\n",
       "    <tr>\n",
       "      <th>3</th>\n",
       "      <td>read_all_workouts</td>\n",
       "      <td>4</td>\n",
       "    </tr>\n",
       "    <tr>\n",
       "      <th>4</th>\n",
       "      <td>read_own_workout</td>\n",
       "      <td>5</td>\n",
       "    </tr>\n",
       "  </tbody>\n",
       "</table>\n",
       "</div>"
      ],
      "text/plain": [
       "                name  id\n",
       "0      read_exercise   1\n",
       "1    create_exercise   2\n",
       "2    delete_exercise   3\n",
       "3  read_all_workouts   4\n",
       "4   read_own_workout   5"
      ]
     },
     "execution_count": 7,
     "metadata": {},
     "output_type": "execute_result"
    }
   ],
   "source": [
    "permissions = pd.DataFrame(client.permissions.get_permissions())\n",
    "permissions.head()"
   ]
  },
  {
   "cell_type": "code",
   "execution_count": 8,
   "metadata": {},
   "outputs": [
    {
     "data": {
      "text/html": [
       "<div>\n",
       "<style scoped>\n",
       "    .dataframe tbody tr th:only-of-type {\n",
       "        vertical-align: middle;\n",
       "    }\n",
       "\n",
       "    .dataframe tbody tr th {\n",
       "        vertical-align: top;\n",
       "    }\n",
       "\n",
       "    .dataframe thead th {\n",
       "        text-align: right;\n",
       "    }\n",
       "</style>\n",
       "<table border=\"1\" class=\"dataframe\">\n",
       "  <thead>\n",
       "    <tr style=\"text-align: right;\">\n",
       "      <th></th>\n",
       "      <th>name_x</th>\n",
       "      <th>permission</th>\n",
       "      <th>id</th>\n",
       "    </tr>\n",
       "  </thead>\n",
       "  <tbody>\n",
       "    <tr>\n",
       "      <th>0</th>\n",
       "      <td>admin</td>\n",
       "      <td>read_exercise</td>\n",
       "      <td>1</td>\n",
       "    </tr>\n",
       "    <tr>\n",
       "      <th>1</th>\n",
       "      <td>admin</td>\n",
       "      <td>create_exercise</td>\n",
       "      <td>2</td>\n",
       "    </tr>\n",
       "    <tr>\n",
       "      <th>2</th>\n",
       "      <td>admin</td>\n",
       "      <td>delete_exercise</td>\n",
       "      <td>3</td>\n",
       "    </tr>\n",
       "    <tr>\n",
       "      <th>3</th>\n",
       "      <td>admin</td>\n",
       "      <td>read_all_workouts</td>\n",
       "      <td>4</td>\n",
       "    </tr>\n",
       "    <tr>\n",
       "      <th>4</th>\n",
       "      <td>admin</td>\n",
       "      <td>create_all_workouts</td>\n",
       "      <td>7</td>\n",
       "    </tr>\n",
       "  </tbody>\n",
       "</table>\n",
       "</div>"
      ],
      "text/plain": [
       "  name_x           permission  id\n",
       "0  admin        read_exercise   1\n",
       "1  admin      create_exercise   2\n",
       "2  admin      delete_exercise   3\n",
       "3  admin    read_all_workouts   4\n",
       "4  admin  create_all_workouts   7"
      ]
     },
     "execution_count": 8,
     "metadata": {},
     "output_type": "execute_result"
    }
   ],
   "source": [
    "df_all = df.merge(permissions, left_on=\"permission\", right_on=\"name\")[\n",
    "    [\"name_x\", \"permission\", \"id\"]\n",
    "]\n",
    "df_all.head()"
   ]
  },
  {
   "cell_type": "code",
   "execution_count": 9,
   "metadata": {},
   "outputs": [
    {
     "ename": "JSONDecodeError",
     "evalue": "Expecting value: line 1 column 1 (char 0)",
     "output_type": "error",
     "traceback": [
      "\u001b[1;31m---------------------------------------------------------------------------\u001b[0m",
      "\u001b[1;31mJSONDecodeError\u001b[0m                           Traceback (most recent call last)",
      "File \u001b[1;32mc:\\Users\\jorda\\AppData\\Local\\pypoetry\\Cache\\virtualenvs\\pybenchmark-Zfe2W2H7-py3.12\\Lib\\site-packages\\requests\\models.py:974\u001b[0m, in \u001b[0;36mResponse.json\u001b[1;34m(self, **kwargs)\u001b[0m\n\u001b[0;32m    973\u001b[0m \u001b[38;5;28;01mtry\u001b[39;00m:\n\u001b[1;32m--> 974\u001b[0m     \u001b[38;5;28;01mreturn\u001b[39;00m \u001b[43mcomplexjson\u001b[49m\u001b[38;5;241;43m.\u001b[39;49m\u001b[43mloads\u001b[49m\u001b[43m(\u001b[49m\u001b[38;5;28;43mself\u001b[39;49m\u001b[38;5;241;43m.\u001b[39;49m\u001b[43mtext\u001b[49m\u001b[43m,\u001b[49m\u001b[43m \u001b[49m\u001b[38;5;241;43m*\u001b[39;49m\u001b[38;5;241;43m*\u001b[39;49m\u001b[43mkwargs\u001b[49m\u001b[43m)\u001b[49m\n\u001b[0;32m    975\u001b[0m \u001b[38;5;28;01mexcept\u001b[39;00m JSONDecodeError \u001b[38;5;28;01mas\u001b[39;00m e:\n\u001b[0;32m    976\u001b[0m     \u001b[38;5;66;03m# Catch JSON-related errors and raise as requests.JSONDecodeError\u001b[39;00m\n\u001b[0;32m    977\u001b[0m     \u001b[38;5;66;03m# This aliases json.JSONDecodeError and simplejson.JSONDecodeError\u001b[39;00m\n",
      "File \u001b[1;32m~\\AppData\\Local\\Programs\\Python\\Python312\\Lib\\json\\__init__.py:346\u001b[0m, in \u001b[0;36mloads\u001b[1;34m(s, cls, object_hook, parse_float, parse_int, parse_constant, object_pairs_hook, **kw)\u001b[0m\n\u001b[0;32m    343\u001b[0m \u001b[38;5;28;01mif\u001b[39;00m (\u001b[38;5;28mcls\u001b[39m \u001b[38;5;129;01mis\u001b[39;00m \u001b[38;5;28;01mNone\u001b[39;00m \u001b[38;5;129;01mand\u001b[39;00m object_hook \u001b[38;5;129;01mis\u001b[39;00m \u001b[38;5;28;01mNone\u001b[39;00m \u001b[38;5;129;01mand\u001b[39;00m\n\u001b[0;32m    344\u001b[0m         parse_int \u001b[38;5;129;01mis\u001b[39;00m \u001b[38;5;28;01mNone\u001b[39;00m \u001b[38;5;129;01mand\u001b[39;00m parse_float \u001b[38;5;129;01mis\u001b[39;00m \u001b[38;5;28;01mNone\u001b[39;00m \u001b[38;5;129;01mand\u001b[39;00m\n\u001b[0;32m    345\u001b[0m         parse_constant \u001b[38;5;129;01mis\u001b[39;00m \u001b[38;5;28;01mNone\u001b[39;00m \u001b[38;5;129;01mand\u001b[39;00m object_pairs_hook \u001b[38;5;129;01mis\u001b[39;00m \u001b[38;5;28;01mNone\u001b[39;00m \u001b[38;5;129;01mand\u001b[39;00m \u001b[38;5;129;01mnot\u001b[39;00m kw):\n\u001b[1;32m--> 346\u001b[0m     \u001b[38;5;28;01mreturn\u001b[39;00m \u001b[43m_default_decoder\u001b[49m\u001b[38;5;241;43m.\u001b[39;49m\u001b[43mdecode\u001b[49m\u001b[43m(\u001b[49m\u001b[43ms\u001b[49m\u001b[43m)\u001b[49m\n\u001b[0;32m    347\u001b[0m \u001b[38;5;28;01mif\u001b[39;00m \u001b[38;5;28mcls\u001b[39m \u001b[38;5;129;01mis\u001b[39;00m \u001b[38;5;28;01mNone\u001b[39;00m:\n",
      "File \u001b[1;32m~\\AppData\\Local\\Programs\\Python\\Python312\\Lib\\json\\decoder.py:337\u001b[0m, in \u001b[0;36mJSONDecoder.decode\u001b[1;34m(self, s, _w)\u001b[0m\n\u001b[0;32m    333\u001b[0m \u001b[38;5;250m\u001b[39m\u001b[38;5;124;03m\"\"\"Return the Python representation of ``s`` (a ``str`` instance\u001b[39;00m\n\u001b[0;32m    334\u001b[0m \u001b[38;5;124;03mcontaining a JSON document).\u001b[39;00m\n\u001b[0;32m    335\u001b[0m \n\u001b[0;32m    336\u001b[0m \u001b[38;5;124;03m\"\"\"\u001b[39;00m\n\u001b[1;32m--> 337\u001b[0m obj, end \u001b[38;5;241m=\u001b[39m \u001b[38;5;28;43mself\u001b[39;49m\u001b[38;5;241;43m.\u001b[39;49m\u001b[43mraw_decode\u001b[49m\u001b[43m(\u001b[49m\u001b[43ms\u001b[49m\u001b[43m,\u001b[49m\u001b[43m \u001b[49m\u001b[43midx\u001b[49m\u001b[38;5;241;43m=\u001b[39;49m\u001b[43m_w\u001b[49m\u001b[43m(\u001b[49m\u001b[43ms\u001b[49m\u001b[43m,\u001b[49m\u001b[43m \u001b[49m\u001b[38;5;241;43m0\u001b[39;49m\u001b[43m)\u001b[49m\u001b[38;5;241;43m.\u001b[39;49m\u001b[43mend\u001b[49m\u001b[43m(\u001b[49m\u001b[43m)\u001b[49m\u001b[43m)\u001b[49m\n\u001b[0;32m    338\u001b[0m end \u001b[38;5;241m=\u001b[39m _w(s, end)\u001b[38;5;241m.\u001b[39mend()\n",
      "File \u001b[1;32m~\\AppData\\Local\\Programs\\Python\\Python312\\Lib\\json\\decoder.py:355\u001b[0m, in \u001b[0;36mJSONDecoder.raw_decode\u001b[1;34m(self, s, idx)\u001b[0m\n\u001b[0;32m    354\u001b[0m \u001b[38;5;28;01mexcept\u001b[39;00m \u001b[38;5;167;01mStopIteration\u001b[39;00m \u001b[38;5;28;01mas\u001b[39;00m err:\n\u001b[1;32m--> 355\u001b[0m     \u001b[38;5;28;01mraise\u001b[39;00m JSONDecodeError(\u001b[38;5;124m\"\u001b[39m\u001b[38;5;124mExpecting value\u001b[39m\u001b[38;5;124m\"\u001b[39m, s, err\u001b[38;5;241m.\u001b[39mvalue) \u001b[38;5;28;01mfrom\u001b[39;00m \u001b[38;5;28;01mNone\u001b[39;00m\n\u001b[0;32m    356\u001b[0m \u001b[38;5;28;01mreturn\u001b[39;00m obj, end\n",
      "\u001b[1;31mJSONDecodeError\u001b[0m: Expecting value: line 1 column 1 (char 0)",
      "\nDuring handling of the above exception, another exception occurred:\n",
      "\u001b[1;31mJSONDecodeError\u001b[0m                           Traceback (most recent call last)",
      "Cell \u001b[1;32mIn[9], line 3\u001b[0m\n\u001b[0;32m      1\u001b[0m \u001b[38;5;28;01mfor\u001b[39;00m role \u001b[38;5;129;01min\u001b[39;00m df_all\u001b[38;5;241m.\u001b[39mname_x\u001b[38;5;241m.\u001b[39munique():\n\u001b[0;32m      2\u001b[0m     role_permission_ids \u001b[38;5;241m=\u001b[39m df_all[df_all[\u001b[38;5;124m\"\u001b[39m\u001b[38;5;124mname_x\u001b[39m\u001b[38;5;124m\"\u001b[39m] \u001b[38;5;241m==\u001b[39m role][\u001b[38;5;124m\"\u001b[39m\u001b[38;5;124mid\u001b[39m\u001b[38;5;124m\"\u001b[39m]\u001b[38;5;241m.\u001b[39mto_list()\n\u001b[1;32m----> 3\u001b[0m     \u001b[43mclient\u001b[49m\u001b[38;5;241;43m.\u001b[39;49m\u001b[43mroles\u001b[49m\u001b[38;5;241;43m.\u001b[39;49m\u001b[43mcreate_role\u001b[49m\u001b[43m(\u001b[49m\u001b[43mname\u001b[49m\u001b[38;5;241;43m=\u001b[39;49m\u001b[43mrole\u001b[49m\u001b[43m,\u001b[49m\u001b[43m \u001b[49m\u001b[43mpermission_ids\u001b[49m\u001b[38;5;241;43m=\u001b[39;49m\u001b[43mrole_permission_ids\u001b[49m\u001b[43m)\u001b[49m\n\u001b[0;32m      4\u001b[0m     \u001b[38;5;28mprint\u001b[39m(\u001b[38;5;124mf\u001b[39m\u001b[38;5;124m\"\u001b[39m\u001b[38;5;124mcreated role \u001b[39m\u001b[38;5;132;01m{\u001b[39;00mrole\u001b[38;5;132;01m}\u001b[39;00m\u001b[38;5;124m\"\u001b[39m)\n",
      "File \u001b[1;32m~\\development\\pybenchmark\\pybenchmark\\auth.py:37\u001b[0m, in \u001b[0;36madd_auth.<locals>.decorator.<locals>.wrapper\u001b[1;34m(instance, *args, **kwargs)\u001b[0m\n\u001b[0;32m     35\u001b[0m headers[\u001b[38;5;124m\"\u001b[39m\u001b[38;5;124mAuthorization\u001b[39m\u001b[38;5;124m\"\u001b[39m] \u001b[38;5;241m=\u001b[39m \u001b[38;5;124mf\u001b[39m\u001b[38;5;124m\"\u001b[39m\u001b[38;5;124mBearer: \u001b[39m\u001b[38;5;132;01m{\u001b[39;00mauth\u001b[38;5;241m.\u001b[39mget_token()\u001b[38;5;132;01m}\u001b[39;00m\u001b[38;5;124m\"\u001b[39m\n\u001b[0;32m     36\u001b[0m kwargs[\u001b[38;5;124m\"\u001b[39m\u001b[38;5;124mheaders\u001b[39m\u001b[38;5;124m\"\u001b[39m] \u001b[38;5;241m=\u001b[39m headers\n\u001b[1;32m---> 37\u001b[0m \u001b[38;5;28;01mreturn\u001b[39;00m \u001b[43mfunc\u001b[49m\u001b[43m(\u001b[49m\u001b[43minstance\u001b[49m\u001b[43m,\u001b[49m\u001b[43m \u001b[49m\u001b[38;5;241;43m*\u001b[39;49m\u001b[43margs\u001b[49m\u001b[43m,\u001b[49m\u001b[43m \u001b[49m\u001b[38;5;241;43m*\u001b[39;49m\u001b[38;5;241;43m*\u001b[39;49m\u001b[43mkwargs\u001b[49m\u001b[43m)\u001b[49m\n",
      "File \u001b[1;32m~\\development\\pybenchmark\\pybenchmark\\roles.py:32\u001b[0m, in \u001b[0;36mRoles.create_role\u001b[1;34m(self, name, permission_ids, headers)\u001b[0m\n\u001b[0;32m     30\u001b[0m \u001b[38;5;28;01mif\u001b[39;00m response\u001b[38;5;241m.\u001b[39mstatus_code \u001b[38;5;241m==\u001b[39m \u001b[38;5;241m200\u001b[39m:\n\u001b[0;32m     31\u001b[0m     \u001b[38;5;28;01mreturn\u001b[39;00m response\u001b[38;5;241m.\u001b[39mjson()\n\u001b[1;32m---> 32\u001b[0m \u001b[38;5;28;01mraise\u001b[39;00m \u001b[38;5;167;01mValueError\u001b[39;00m(\u001b[38;5;124mf\u001b[39m\u001b[38;5;124m\"\u001b[39m\u001b[38;5;124mUnable to create role. Received \u001b[39m\u001b[38;5;132;01m{\u001b[39;00m\u001b[43mresponse\u001b[49m\u001b[38;5;241;43m.\u001b[39;49m\u001b[43mjson\u001b[49m\u001b[43m(\u001b[49m\u001b[43m)\u001b[49m\u001b[38;5;132;01m}\u001b[39;00m\u001b[38;5;124m\"\u001b[39m)\n",
      "File \u001b[1;32mc:\\Users\\jorda\\AppData\\Local\\pypoetry\\Cache\\virtualenvs\\pybenchmark-Zfe2W2H7-py3.12\\Lib\\site-packages\\requests\\models.py:978\u001b[0m, in \u001b[0;36mResponse.json\u001b[1;34m(self, **kwargs)\u001b[0m\n\u001b[0;32m    974\u001b[0m     \u001b[38;5;28;01mreturn\u001b[39;00m complexjson\u001b[38;5;241m.\u001b[39mloads(\u001b[38;5;28mself\u001b[39m\u001b[38;5;241m.\u001b[39mtext, \u001b[38;5;241m*\u001b[39m\u001b[38;5;241m*\u001b[39mkwargs)\n\u001b[0;32m    975\u001b[0m \u001b[38;5;28;01mexcept\u001b[39;00m JSONDecodeError \u001b[38;5;28;01mas\u001b[39;00m e:\n\u001b[0;32m    976\u001b[0m     \u001b[38;5;66;03m# Catch JSON-related errors and raise as requests.JSONDecodeError\u001b[39;00m\n\u001b[0;32m    977\u001b[0m     \u001b[38;5;66;03m# This aliases json.JSONDecodeError and simplejson.JSONDecodeError\u001b[39;00m\n\u001b[1;32m--> 978\u001b[0m     \u001b[38;5;28;01mraise\u001b[39;00m RequestsJSONDecodeError(e\u001b[38;5;241m.\u001b[39mmsg, e\u001b[38;5;241m.\u001b[39mdoc, e\u001b[38;5;241m.\u001b[39mpos)\n",
      "\u001b[1;31mJSONDecodeError\u001b[0m: Expecting value: line 1 column 1 (char 0)"
     ]
    }
   ],
   "source": [
    "for role in df_all.name_x.unique():\n",
    "    role_permission_ids = df_all[df_all[\"name_x\"] == role][\"id\"].to_list()\n",
    "    client.roles.create_role(name=role, permission_ids=role_permission_ids)\n",
    "    print(f\"created role {role}\")"
   ]
  },
  {
   "cell_type": "markdown",
   "metadata": {},
   "source": [
    "# Users"
   ]
  },
  {
   "cell_type": "code",
   "execution_count": 12,
   "metadata": {},
   "outputs": [],
   "source": [
    "user = {\n",
    "    \"name\": \"Jordan Begg\",\n",
    "    \"email\": \"jordansbegg@outlook.com\",\n",
    "    \"password\": \"BenchmarkPassword\",\n",
    "    \"role_id\": 1,\n",
    "}"
   ]
  },
  {
   "cell_type": "code",
   "execution_count": null,
   "metadata": {},
   "outputs": [],
   "source": [
    "try:\n",
    "    response = client.users.create_user(**user)\n",
    "    print(f\"Created User {user['name']}\")\n",
    "except Exception as e:\n",
    "    print(e)"
   ]
  },
  {
   "cell_type": "markdown",
   "metadata": {},
   "source": [
    "# Weights"
   ]
  },
  {
   "cell_type": "code",
   "execution_count": 10,
   "metadata": {},
   "outputs": [],
   "source": [
    "WEEKDAYS = {\n",
    "    \"Monday\": 0,\n",
    "    \"Tuesday\": 1,\n",
    "    \"Wednesday\": 2,\n",
    "    \"Thursday\": 3,\n",
    "    \"Friday\": 4,\n",
    "    \"Saturday\": 5,\n",
    "    \"Sunday\": 6,\n",
    "}"
   ]
  },
  {
   "cell_type": "code",
   "execution_count": 11,
   "metadata": {},
   "outputs": [
    {
     "data": {
      "text/plain": [
       "[{'weight': 60.0, 'date': Timestamp('2022-02-07 00:00:00')},\n",
       " {'weight': 60.9, 'date': Timestamp('2022-02-14 00:00:00')},\n",
       " {'weight': 60.0, 'date': Timestamp('2022-02-28 00:00:00')},\n",
       " {'weight': 60.6, 'date': Timestamp('2022-03-14 00:00:00')},\n",
       " {'weight': 60.8, 'date': Timestamp('2022-03-21 00:00:00')},\n",
       " {'weight': 61.9, 'date': Timestamp('2022-03-28 00:00:00')},\n",
       " {'weight': 62.1, 'date': Timestamp('2022-04-25 00:00:00')},\n",
       " {'weight': 62.2, 'date': Timestamp('2022-05-30 00:00:00')},\n",
       " {'weight': 63.5, 'date': Timestamp('2022-06-13 00:00:00')},\n",
       " {'weight': 64.6, 'date': Timestamp('2022-06-20 00:00:00')},\n",
       " {'weight': 64.0, 'date': Timestamp('2022-07-04 00:00:00')},\n",
       " {'weight': 64.2, 'date': Timestamp('2022-07-11 00:00:00')},\n",
       " {'weight': 65.0, 'date': Timestamp('2022-08-22 00:00:00')},\n",
       " {'weight': 64.0, 'date': Timestamp('2022-08-29 00:00:00')},\n",
       " {'weight': 63.1, 'date': Timestamp('2022-09-05 00:00:00')},\n",
       " {'weight': 61.8, 'date': Timestamp('2022-09-12 00:00:00')},\n",
       " {'weight': 61.6, 'date': Timestamp('2022-09-19 00:00:00')},\n",
       " {'weight': 60.7, 'date': Timestamp('2022-09-26 00:00:00')},\n",
       " {'weight': 58.7, 'date': Timestamp('2022-10-10 00:00:00')},\n",
       " {'weight': 58.8, 'date': Timestamp('2022-10-17 00:00:00')},\n",
       " {'weight': 57.9, 'date': Timestamp('2022-10-24 00:00:00')},\n",
       " {'weight': 56.7, 'date': Timestamp('2022-11-07 00:00:00')},\n",
       " {'weight': 58.2, 'date': Timestamp('2022-11-28 00:00:00')},\n",
       " {'weight': 59.8, 'date': Timestamp('2022-12-05 00:00:00')},\n",
       " {'weight': 61.8, 'date': Timestamp('2023-01-16 00:00:00')},\n",
       " {'weight': 61.0, 'date': Timestamp('2023-01-23 00:00:00')},\n",
       " {'weight': 61.4, 'date': Timestamp('2023-01-30 00:00:00')},\n",
       " {'weight': 61.4, 'date': Timestamp('2023-02-06 00:00:00')},\n",
       " {'weight': 61.4, 'date': Timestamp('2023-02-13 00:00:00')},\n",
       " {'weight': 61.3, 'date': Timestamp('2023-02-20 00:00:00')},\n",
       " {'weight': 62.0, 'date': Timestamp('2023-02-27 00:00:00')},\n",
       " {'weight': 62.4, 'date': Timestamp('2023-03-06 00:00:00')},\n",
       " {'weight': 61.7, 'date': Timestamp('2023-03-13 00:00:00')},\n",
       " {'weight': 62.6, 'date': Timestamp('2023-03-20 00:00:00')},\n",
       " {'weight': 61.9, 'date': Timestamp('2023-03-27 00:00:00')},\n",
       " {'weight': 62.5, 'date': Timestamp('2023-04-03 00:00:00')},\n",
       " {'weight': 63.2, 'date': Timestamp('2023-04-17 00:00:00')},\n",
       " {'weight': 63.2, 'date': Timestamp('2023-04-24 00:00:00')},\n",
       " {'weight': 62.1, 'date': Timestamp('2023-05-01 00:00:00')},\n",
       " {'weight': 63.6, 'date': Timestamp('2023-05-08 00:00:00')},\n",
       " {'weight': 63.3, 'date': Timestamp('2023-05-15 00:00:00')},\n",
       " {'weight': 65.8, 'date': Timestamp('2023-07-03 00:00:00')},\n",
       " {'weight': 66.8, 'date': Timestamp('2023-07-10 00:00:00')},\n",
       " {'weight': 67.1, 'date': Timestamp('2023-07-17 00:00:00')},\n",
       " {'weight': 67.7, 'date': Timestamp('2023-07-24 00:00:00')},\n",
       " {'weight': 67.9, 'date': Timestamp('2023-07-31 00:00:00')},\n",
       " {'weight': 69.5, 'date': Timestamp('2023-08-21 00:00:00')},\n",
       " {'weight': 69.7, 'date': Timestamp('2023-08-28 00:00:00')},\n",
       " {'weight': 70.5, 'date': Timestamp('2023-09-04 00:00:00')},\n",
       " {'weight': 71.6, 'date': Timestamp('2023-10-09 00:00:00')},\n",
       " {'weight': 72.1, 'date': Timestamp('2024-01-01 00:00:00')},\n",
       " {'weight': 73.9, 'date': Timestamp('2024-02-05 00:00:00')},\n",
       " {'weight': 76.1, 'date': Timestamp('2024-02-19 00:00:00')},\n",
       " {'weight': 74.7, 'date': Timestamp('2024-02-26 00:00:00')},\n",
       " {'weight': 74.6, 'date': Timestamp('2024-03-04 00:00:00')},\n",
       " {'weight': 74.8, 'date': Timestamp('2024-03-18 00:00:00')},\n",
       " {'weight': 70.2, 'date': Timestamp('2024-09-16 00:00:00')},\n",
       " {'weight': 69.15, 'date': Timestamp('2024-09-23 00:00:00')},\n",
       " {'weight': 67.5, 'date': Timestamp('2024-10-07 00:00:00')},\n",
       " {'weight': 66.2, 'date': Timestamp('2024-10-14 00:00:00')},\n",
       " {'weight': 65.6, 'date': Timestamp('2024-10-21 00:00:00')},\n",
       " {'weight': 64.4, 'date': Timestamp('2024-10-28 00:00:00')},\n",
       " {'weight': 65.2, 'date': Timestamp('2024-11-04 00:00:00')},\n",
       " {'weight': 63.7, 'date': Timestamp('2024-11-11 00:00:00')},\n",
       " {'weight': 64.6, 'date': Timestamp('2024-12-02 00:00:00')},\n",
       " {'weight': 64.3, 'date': Timestamp('2024-12-09 00:00:00')},\n",
       " {'weight': 59.9, 'date': Timestamp('2022-02-01 00:00:00')},\n",
       " {'weight': 60.8, 'date': Timestamp('2022-02-15 00:00:00')},\n",
       " {'weight': 59.8, 'date': Timestamp('2022-03-01 00:00:00')},\n",
       " {'weight': 60.4, 'date': Timestamp('2022-03-08 00:00:00')},\n",
       " {'weight': 60.8, 'date': Timestamp('2022-03-22 00:00:00')},\n",
       " {'weight': 61.0, 'date': Timestamp('2022-03-29 00:00:00')},\n",
       " {'weight': 62.7, 'date': Timestamp('2022-05-03 00:00:00')},\n",
       " {'weight': 62.7, 'date': Timestamp('2022-05-17 00:00:00')},\n",
       " {'weight': 61.9, 'date': Timestamp('2022-05-24 00:00:00')},\n",
       " {'weight': 61.7, 'date': Timestamp('2022-05-31 00:00:00')},\n",
       " {'weight': 63.4, 'date': Timestamp('2022-08-30 00:00:00')},\n",
       " {'weight': 62.6, 'date': Timestamp('2022-09-06 00:00:00')},\n",
       " {'weight': 61.1, 'date': Timestamp('2022-09-20 00:00:00')},\n",
       " {'weight': 60.1, 'date': Timestamp('2022-10-04 00:00:00')},\n",
       " {'weight': 58.3, 'date': Timestamp('2022-10-11 00:00:00')},\n",
       " {'weight': 58.3, 'date': Timestamp('2022-10-18 00:00:00')},\n",
       " {'weight': 57.4, 'date': Timestamp('2022-10-25 00:00:00')},\n",
       " {'weight': 57.9, 'date': Timestamp('2022-11-01 00:00:00')},\n",
       " {'weight': 57.3, 'date': Timestamp('2022-11-08 00:00:00')},\n",
       " {'weight': 59.0, 'date': Timestamp('2022-12-06 00:00:00')},\n",
       " {'weight': 61.2, 'date': Timestamp('2023-01-17 00:00:00')},\n",
       " {'weight': 61.4, 'date': Timestamp('2023-01-24 00:00:00')},\n",
       " {'weight': 62.3, 'date': Timestamp('2023-01-31 00:00:00')},\n",
       " {'weight': 61.1, 'date': Timestamp('2023-02-07 00:00:00')},\n",
       " {'weight': 61.0, 'date': Timestamp('2023-02-14 00:00:00')},\n",
       " {'weight': 61.2, 'date': Timestamp('2023-02-21 00:00:00')},\n",
       " {'weight': 61.2, 'date': Timestamp('2023-02-28 00:00:00')},\n",
       " {'weight': 61.9, 'date': Timestamp('2023-03-07 00:00:00')},\n",
       " {'weight': 61.6, 'date': Timestamp('2023-03-14 00:00:00')},\n",
       " {'weight': 62.1, 'date': Timestamp('2023-03-21 00:00:00')},\n",
       " {'weight': 62.0, 'date': Timestamp('2023-03-28 00:00:00')},\n",
       " {'weight': 61.8, 'date': Timestamp('2023-04-04 00:00:00')},\n",
       " {'weight': 62.6, 'date': Timestamp('2023-04-18 00:00:00')},\n",
       " {'weight': 62.6, 'date': Timestamp('2023-04-25 00:00:00')},\n",
       " {'weight': 62.5, 'date': Timestamp('2023-05-02 00:00:00')},\n",
       " {'weight': 63.1, 'date': Timestamp('2023-05-09 00:00:00')},\n",
       " {'weight': 64.2, 'date': Timestamp('2023-05-30 00:00:00')},\n",
       " {'weight': 66.1, 'date': Timestamp('2023-06-27 00:00:00')},\n",
       " {'weight': 67.6, 'date': Timestamp('2023-07-25 00:00:00')},\n",
       " {'weight': 68.0, 'date': Timestamp('2023-08-01 00:00:00')},\n",
       " {'weight': 68.3, 'date': Timestamp('2023-08-15 00:00:00')},\n",
       " {'weight': 69.5, 'date': Timestamp('2023-08-29 00:00:00')},\n",
       " {'weight': 71.3, 'date': Timestamp('2023-10-10 00:00:00')},\n",
       " {'weight': 71.1, 'date': Timestamp('2023-12-12 00:00:00')},\n",
       " {'weight': 74.3, 'date': Timestamp('2024-03-26 00:00:00')},\n",
       " {'weight': 73.8, 'date': Timestamp('2024-04-16 00:00:00')},\n",
       " {'weight': 68.6, 'date': Timestamp('2024-09-10 00:00:00')},\n",
       " {'weight': 68.2, 'date': Timestamp('2024-09-17 00:00:00')},\n",
       " {'weight': 67.4, 'date': Timestamp('2024-09-24 00:00:00')},\n",
       " {'weight': 67.6, 'date': Timestamp('2024-10-01 00:00:00')},\n",
       " {'weight': 67.1, 'date': Timestamp('2024-10-08 00:00:00')},\n",
       " {'weight': 66.5, 'date': Timestamp('2024-10-15 00:00:00')},\n",
       " {'weight': 64.6, 'date': Timestamp('2024-10-29 00:00:00')},\n",
       " {'weight': 64.4, 'date': Timestamp('2024-11-05 00:00:00')},\n",
       " {'weight': 63.9, 'date': Timestamp('2024-11-12 00:00:00')},\n",
       " {'weight': 63.8, 'date': Timestamp('2024-11-19 00:00:00')},\n",
       " {'weight': 63.9, 'date': Timestamp('2024-11-26 00:00:00')},\n",
       " {'weight': 64.1, 'date': Timestamp('2024-12-03 00:00:00')},\n",
       " {'weight': 63.7, 'date': Timestamp('2024-12-10 00:00:00')},\n",
       " {'weight': 60.3, 'date': Timestamp('2022-01-26 00:00:00')},\n",
       " {'weight': 61.05, 'date': Timestamp('2022-02-02 00:00:00')},\n",
       " {'weight': 61.5, 'date': Timestamp('2022-02-16 00:00:00')},\n",
       " {'weight': 60.3, 'date': Timestamp('2022-03-02 00:00:00')},\n",
       " {'weight': 60.75, 'date': Timestamp('2022-03-09 00:00:00')},\n",
       " {'weight': 61.35, 'date': Timestamp('2022-03-16 00:00:00')},\n",
       " {'weight': 61.4, 'date': Timestamp('2022-03-23 00:00:00')},\n",
       " {'weight': 62.3, 'date': Timestamp('2022-03-30 00:00:00')},\n",
       " {'weight': 62.3, 'date': Timestamp('2022-04-06 00:00:00')},\n",
       " {'weight': 61.7, 'date': Timestamp('2022-04-13 00:00:00')},\n",
       " {'weight': 62.7, 'date': Timestamp('2022-04-20 00:00:00')},\n",
       " {'weight': 63.1, 'date': Timestamp('2022-04-27 00:00:00')},\n",
       " {'weight': 63.6, 'date': Timestamp('2022-05-04 00:00:00')},\n",
       " {'weight': 63.75, 'date': Timestamp('2022-05-18 00:00:00')},\n",
       " {'weight': 62.95, 'date': Timestamp('2022-05-25 00:00:00')},\n",
       " {'weight': 62.85, 'date': Timestamp('2022-06-01 00:00:00')},\n",
       " {'weight': 62.9, 'date': Timestamp('2022-06-08 00:00:00')},\n",
       " {'weight': 64.2, 'date': Timestamp('2022-06-15 00:00:00')},\n",
       " {'weight': 64.4, 'date': Timestamp('2022-06-22 00:00:00')},\n",
       " {'weight': 64.7, 'date': Timestamp('2022-06-29 00:00:00')},\n",
       " {'weight': 65.05, 'date': Timestamp('2022-07-06 00:00:00')},\n",
       " {'weight': 64.85, 'date': Timestamp('2022-07-13 00:00:00')},\n",
       " {'weight': 64.65, 'date': Timestamp('2022-07-20 00:00:00')},\n",
       " {'weight': 64.95, 'date': Timestamp('2022-08-10 00:00:00')},\n",
       " {'weight': 65.15, 'date': Timestamp('2022-08-17 00:00:00')},\n",
       " {'weight': 65.65, 'date': Timestamp('2022-08-24 00:00:00')},\n",
       " {'weight': 64.15, 'date': Timestamp('2022-08-31 00:00:00')},\n",
       " {'weight': 61.85, 'date': Timestamp('2022-09-21 00:00:00')},\n",
       " {'weight': 61.45, 'date': Timestamp('2022-09-28 00:00:00')},\n",
       " {'weight': 58.55, 'date': Timestamp('2022-10-12 00:00:00')},\n",
       " {'weight': 58.1, 'date': Timestamp('2022-10-19 00:00:00')},\n",
       " {'weight': 58.15, 'date': Timestamp('2022-10-26 00:00:00')},\n",
       " {'weight': 58.05, 'date': Timestamp('2022-11-02 00:00:00')},\n",
       " {'weight': 57.3, 'date': Timestamp('2022-11-09 00:00:00')},\n",
       " {'weight': '61. 05', 'date': Timestamp('2022-11-23 00:00:00')},\n",
       " {'weight': 60.15, 'date': Timestamp('2022-11-30 00:00:00')},\n",
       " {'weight': 59.3, 'date': Timestamp('2022-12-07 00:00:00')},\n",
       " {'weight': 60.2, 'date': Timestamp('2022-12-14 00:00:00')},\n",
       " {'weight': 60.5, 'date': Timestamp('2023-01-18 00:00:00')},\n",
       " {'weight': 61, 'date': Timestamp('2023-01-25 00:00:00')},\n",
       " {'weight': 61.7, 'date': Timestamp('2023-02-01 00:00:00')},\n",
       " {'weight': 61.5, 'date': Timestamp('2023-02-08 00:00:00')},\n",
       " {'weight': 61.2, 'date': Timestamp('2023-02-15 00:00:00')},\n",
       " {'weight': 60.9, 'date': Timestamp('2023-02-22 00:00:00')},\n",
       " {'weight': 61.7, 'date': Timestamp('2023-03-01 00:00:00')},\n",
       " {'weight': 61.8, 'date': Timestamp('2023-03-08 00:00:00')},\n",
       " {'weight': 61.7, 'date': Timestamp('2023-03-22 00:00:00')},\n",
       " {'weight': 62.3, 'date': Timestamp('2023-04-05 00:00:00')},\n",
       " {'weight': 62.8, 'date': Timestamp('2023-04-19 00:00:00')},\n",
       " {'weight': 62.7, 'date': Timestamp('2023-04-26 00:00:00')},\n",
       " {'weight': 62.6, 'date': Timestamp('2023-05-10 00:00:00')},\n",
       " {'weight': 64.9, 'date': Timestamp('2023-05-31 00:00:00')},\n",
       " {'weight': 66.1, 'date': Timestamp('2023-06-28 00:00:00')},\n",
       " {'weight': 65.7, 'date': Timestamp('2023-07-05 00:00:00')},\n",
       " {'weight': 66.8, 'date': Timestamp('2023-07-12 00:00:00')},\n",
       " {'weight': 66.8, 'date': Timestamp('2023-07-19 00:00:00')},\n",
       " {'weight': 67.8, 'date': Timestamp('2023-07-26 00:00:00')},\n",
       " {'weight': 68.8, 'date': Timestamp('2023-08-16 00:00:00')},\n",
       " {'weight': 69.7, 'date': Timestamp('2023-08-23 00:00:00')},\n",
       " {'weight': 69.6, 'date': Timestamp('2023-08-30 00:00:00')},\n",
       " {'weight': 73.5, 'date': Timestamp('2024-04-17 00:00:00')},\n",
       " {'weight': 68.1, 'date': Timestamp('2024-09-11 00:00:00')},\n",
       " {'weight': 67.6, 'date': Timestamp('2024-09-18 00:00:00')},\n",
       " {'weight': 66.8, 'date': Timestamp('2024-09-25 00:00:00')},\n",
       " {'weight': 66.5, 'date': Timestamp('2024-10-02 00:00:00')},\n",
       " {'weight': 66.4, 'date': Timestamp('2024-10-09 00:00:00')},\n",
       " {'weight': 65.9, 'date': Timestamp('2024-10-16 00:00:00')},\n",
       " {'weight': 64.7, 'date': Timestamp('2024-10-30 00:00:00')},\n",
       " {'weight': 63.8, 'date': Timestamp('2024-11-06 00:00:00')},\n",
       " {'weight': 63.5, 'date': Timestamp('2024-11-13 00:00:00')},\n",
       " {'weight': 64, 'date': Timestamp('2024-11-27 00:00:00')},\n",
       " {'weight': 64, 'date': Timestamp('2024-12-11 00:00:00')},\n",
       " {'weight': 61.3, 'date': Timestamp('2022-02-17 00:00:00')},\n",
       " {'weight': 59.7, 'date': Timestamp('2022-03-03 00:00:00')},\n",
       " {'weight': 60.4, 'date': Timestamp('2022-03-10 00:00:00')},\n",
       " {'weight': 60.6, 'date': Timestamp('2022-03-17 00:00:00')},\n",
       " {'weight': 61.0, 'date': Timestamp('2022-03-24 00:00:00')},\n",
       " {'weight': 61.7, 'date': Timestamp('2022-04-21 00:00:00')},\n",
       " {'weight': 62.8, 'date': Timestamp('2022-05-05 00:00:00')},\n",
       " {'weight': 62.6, 'date': Timestamp('2022-06-16 00:00:00')},\n",
       " {'weight': 63.2, 'date': Timestamp('2022-09-01 00:00:00')},\n",
       " {'weight': 62.3, 'date': Timestamp('2022-09-08 00:00:00')},\n",
       " {'weight': 62.0, 'date': Timestamp('2022-09-15 00:00:00')},\n",
       " {'weight': 60.6, 'date': Timestamp('2022-09-29 00:00:00')},\n",
       " {'weight': 59.1, 'date': Timestamp('2022-10-06 00:00:00')},\n",
       " {'weight': 57.4, 'date': Timestamp('2022-10-20 00:00:00')},\n",
       " {'weight': 57.2, 'date': Timestamp('2022-10-27 00:00:00')},\n",
       " {'weight': 57.2, 'date': Timestamp('2022-11-03 00:00:00')},\n",
       " {'weight': 57.2, 'date': Timestamp('2022-11-10 00:00:00')},\n",
       " {'weight': 59.1, 'date': Timestamp('2022-12-01 00:00:00')},\n",
       " {'weight': 58.7, 'date': Timestamp('2022-12-08 00:00:00')},\n",
       " {'weight': 60.9, 'date': Timestamp('2023-01-12 00:00:00')},\n",
       " {'weight': 60.7, 'date': Timestamp('2023-01-19 00:00:00')},\n",
       " {'weight': 61.1, 'date': Timestamp('2023-01-26 00:00:00')},\n",
       " {'weight': 61.2, 'date': Timestamp('2023-02-02 00:00:00')},\n",
       " {'weight': 60.8, 'date': Timestamp('2023-02-09 00:00:00')},\n",
       " {'weight': 60.9, 'date': Timestamp('2023-02-16 00:00:00')},\n",
       " {'weight': 60.8, 'date': Timestamp('2023-02-23 00:00:00')},\n",
       " {'weight': 61.1, 'date': Timestamp('2023-03-02 00:00:00')},\n",
       " {'weight': 61.2, 'date': Timestamp('2023-03-09 00:00:00')},\n",
       " {'weight': 61.4, 'date': Timestamp('2023-03-23 00:00:00')},\n",
       " {'weight': 62.6, 'date': Timestamp('2023-04-20 00:00:00')},\n",
       " {'weight': 62.5, 'date': Timestamp('2023-04-27 00:00:00')},\n",
       " {'weight': 62.7, 'date': Timestamp('2023-05-04 00:00:00')},\n",
       " {'weight': 62.4, 'date': Timestamp('2023-05-11 00:00:00')},\n",
       " {'weight': 64.7, 'date': Timestamp('2023-06-01 00:00:00')},\n",
       " {'weight': 65.7, 'date': Timestamp('2023-07-06 00:00:00')},\n",
       " {'weight': 66.2, 'date': Timestamp('2023-07-13 00:00:00')},\n",
       " {'weight': 66.5, 'date': Timestamp('2023-07-20 00:00:00')},\n",
       " {'weight': 67.9, 'date': Timestamp('2023-07-27 00:00:00')},\n",
       " {'weight': 69.5, 'date': Timestamp('2023-08-17 00:00:00')},\n",
       " {'weight': 73.4, 'date': Timestamp('2023-12-28 00:00:00')},\n",
       " {'weight': 69.3, 'date': Timestamp('2024-09-05 00:00:00')},\n",
       " {'weight': 68.1, 'date': Timestamp('2024-09-12 00:00:00')},\n",
       " {'weight': 67.9, 'date': Timestamp('2024-09-19 00:00:00')},\n",
       " {'weight': 66.6, 'date': Timestamp('2024-09-26 00:00:00')},\n",
       " {'weight': 66.4, 'date': Timestamp('2024-10-03 00:00:00')},\n",
       " {'weight': 66.0, 'date': Timestamp('2024-10-10 00:00:00')},\n",
       " {'weight': 65.9, 'date': Timestamp('2024-10-17 00:00:00')},\n",
       " {'weight': 64.7, 'date': Timestamp('2024-10-31 00:00:00')},\n",
       " {'weight': 63.7, 'date': Timestamp('2024-11-07 00:00:00')},\n",
       " {'weight': 64.4, 'date': Timestamp('2024-11-28 00:00:00')},\n",
       " {'weight': 59.9, 'date': Timestamp('2022-01-28 00:00:00')},\n",
       " {'weight': 60.4, 'date': Timestamp('2022-02-11 00:00:00')},\n",
       " {'weight': 60.6, 'date': Timestamp('2022-02-18 00:00:00')},\n",
       " {'weight': 59.9, 'date': Timestamp('2022-03-04 00:00:00')},\n",
       " {'weight': 61.2, 'date': Timestamp('2022-04-08 00:00:00')},\n",
       " {'weight': 61.1, 'date': Timestamp('2022-04-15 00:00:00')},\n",
       " {'weight': 60.7, 'date': Timestamp('2022-06-03 00:00:00')},\n",
       " {'weight': 62.9, 'date': Timestamp('2022-06-10 00:00:00')},\n",
       " {'weight': 61.5, 'date': Timestamp('2022-09-16 00:00:00')},\n",
       " {'weight': 60.9, 'date': Timestamp('2022-09-23 00:00:00')},\n",
       " {'weight': 60.5, 'date': Timestamp('2022-09-30 00:00:00')},\n",
       " {'weight': 59.0, 'date': Timestamp('2022-10-07 00:00:00')},\n",
       " {'weight': 57.8, 'date': Timestamp('2022-10-21 00:00:00')},\n",
       " {'weight': 57.2, 'date': Timestamp('2022-10-28 00:00:00')},\n",
       " {'weight': 57.1, 'date': Timestamp('2022-11-04 00:00:00')},\n",
       " {'weight': 56.8, 'date': Timestamp('2022-11-11 00:00:00')},\n",
       " {'weight': 58.4, 'date': Timestamp('2022-11-25 00:00:00')},\n",
       " {'weight': 58.3, 'date': Timestamp('2022-12-02 00:00:00')},\n",
       " {'weight': 58.5, 'date': Timestamp('2022-12-09 00:00:00')},\n",
       " {'weight': 58.9, 'date': Timestamp('2022-12-23 00:00:00')},\n",
       " {'weight': 60.5, 'date': Timestamp('2023-01-13 00:00:00')},\n",
       " {'weight': 61.3, 'date': Timestamp('2023-01-20 00:00:00')},\n",
       " {'weight': 61.3, 'date': Timestamp('2023-01-27 00:00:00')},\n",
       " {'weight': 61.1, 'date': Timestamp('2023-02-03 00:00:00')},\n",
       " {'weight': 61.0, 'date': Timestamp('2023-02-10 00:00:00')},\n",
       " {'weight': 61.0, 'date': Timestamp('2023-02-17 00:00:00')},\n",
       " {'weight': 61.5, 'date': Timestamp('2023-02-24 00:00:00')},\n",
       " {'weight': 62.0, 'date': Timestamp('2023-03-03 00:00:00')},\n",
       " {'weight': 61.4, 'date': Timestamp('2023-03-10 00:00:00')},\n",
       " {'weight': 61.5, 'date': Timestamp('2023-03-24 00:00:00')},\n",
       " {'weight': 62.1, 'date': Timestamp('2023-04-07 00:00:00')},\n",
       " {'weight': 61.7, 'date': Timestamp('2023-04-28 00:00:00')},\n",
       " {'weight': 62.4, 'date': Timestamp('2023-05-05 00:00:00')},\n",
       " {'weight': 62.6, 'date': Timestamp('2023-05-12 00:00:00')},\n",
       " {'weight': 65.8, 'date': Timestamp('2023-06-30 00:00:00')},\n",
       " {'weight': 66.2, 'date': Timestamp('2023-07-14 00:00:00')},\n",
       " {'weight': 66.5, 'date': Timestamp('2023-07-21 00:00:00')},\n",
       " {'weight': 67.7, 'date': Timestamp('2023-07-28 00:00:00')},\n",
       " {'weight': 72.3, 'date': Timestamp('2023-12-29 00:00:00')},\n",
       " {'weight': 73.4, 'date': Timestamp('2024-04-19 00:00:00')},\n",
       " {'weight': 69.3, 'date': Timestamp('2024-09-06 00:00:00')},\n",
       " {'weight': 68.3, 'date': Timestamp('2024-09-13 00:00:00')},\n",
       " {'weight': 67.9, 'date': Timestamp('2024-09-20 00:00:00')},\n",
       " {'weight': 66.1, 'date': Timestamp('2024-10-04 00:00:00')},\n",
       " {'weight': 66.0, 'date': Timestamp('2024-10-11 00:00:00')},\n",
       " {'weight': 65.7, 'date': Timestamp('2024-10-18 00:00:00')},\n",
       " {'weight': 65.5, 'date': Timestamp('2024-10-25 00:00:00')},\n",
       " {'weight': 64.6, 'date': Timestamp('2024-11-01 00:00:00')},\n",
       " {'weight': 63.6, 'date': Timestamp('2024-11-08 00:00:00')},\n",
       " {'weight': 64.5, 'date': Timestamp('2024-12-06 00:00:00')},\n",
       " {'weight': 64.4, 'date': Timestamp('2024-12-13 00:00:00')},\n",
       " {'weight': 60.1, 'date': Timestamp('2022-02-05 00:00:00')},\n",
       " {'weight': 61.3, 'date': Timestamp('2022-02-19 00:00:00')},\n",
       " {'weight': 63.7, 'date': Timestamp('2022-06-25 00:00:00')},\n",
       " {'weight': 63.1, 'date': Timestamp('2022-09-03 00:00:00')},\n",
       " {'weight': 62.9, 'date': Timestamp('2022-09-10 00:00:00')},\n",
       " {'weight': 61.95, 'date': Timestamp('2022-09-17 00:00:00')},\n",
       " {'weight': 60.2, 'date': Timestamp('2022-09-24 00:00:00')},\n",
       " {'weight': 60.1, 'date': Timestamp('2022-10-01 00:00:00')},\n",
       " {'weight': 59.6, 'date': Timestamp('2022-10-08 00:00:00')},\n",
       " {'weight': 57.8, 'date': Timestamp('2022-10-15 00:00:00')},\n",
       " {'weight': 57.3, 'date': Timestamp('2022-10-22 00:00:00')},\n",
       " {'weight': 56.7, 'date': Timestamp('2022-11-05 00:00:00')},\n",
       " {'weight': 57.2, 'date': Timestamp('2022-11-26 00:00:00')},\n",
       " {'weight': 58.3, 'date': Timestamp('2022-12-03 00:00:00')},\n",
       " {'weight': 61.0, 'date': Timestamp('2023-01-21 00:00:00')},\n",
       " {'weight': 61.3, 'date': Timestamp('2023-01-28 00:00:00')},\n",
       " {'weight': 61.3, 'date': Timestamp('2023-02-04 00:00:00')},\n",
       " {'weight': 60.7, 'date': Timestamp('2023-02-11 00:00:00')},\n",
       " {'weight': 61.2, 'date': Timestamp('2023-02-25 00:00:00')},\n",
       " {'weight': 61.8, 'date': Timestamp('2023-03-04 00:00:00')},\n",
       " {'weight': 61.9, 'date': Timestamp('2023-03-25 00:00:00')},\n",
       " {'weight': 63.0, 'date': Timestamp('2023-04-01 00:00:00')},\n",
       " {'weight': 65.7, 'date': Timestamp('2023-07-01 00:00:00')},\n",
       " {'weight': 68.9, 'date': Timestamp('2024-09-07 00:00:00')},\n",
       " {'weight': 67.6, 'date': Timestamp('2024-09-21 00:00:00')},\n",
       " {'weight': 66.7, 'date': Timestamp('2024-10-05 00:00:00')},\n",
       " {'weight': 65.9, 'date': Timestamp('2024-10-12 00:00:00')},\n",
       " {'weight': 66.2, 'date': Timestamp('2024-10-19 00:00:00')},\n",
       " {'weight': 63.7, 'date': Timestamp('2024-11-02 00:00:00')},\n",
       " {'weight': 63.5, 'date': Timestamp('2024-11-16 00:00:00')},\n",
       " {'weight': 63.8, 'date': Timestamp('2024-11-23 00:00:00')},\n",
       " {'weight': 63.7, 'date': Timestamp('2024-11-30 00:00:00')},\n",
       " {'weight': 60.3, 'date': Timestamp('2022-01-30 00:00:00')},\n",
       " {'weight': 61.1, 'date': Timestamp('2022-02-13 00:00:00')},\n",
       " {'weight': 59.7, 'date': Timestamp('2022-03-06 00:00:00')},\n",
       " {'weight': 62.0, 'date': Timestamp('2022-03-27 00:00:00')},\n",
       " {'weight': 60.7, 'date': Timestamp('2022-04-03 00:00:00')},\n",
       " {'weight': 61.5, 'date': Timestamp('2022-04-17 00:00:00')},\n",
       " {'weight': 61.9, 'date': Timestamp('2022-04-24 00:00:00')},\n",
       " {'weight': 64.2, 'date': Timestamp('2022-08-28 00:00:00')},\n",
       " {'weight': 62.9, 'date': Timestamp('2022-09-04 00:00:00')},\n",
       " {'weight': 62.2, 'date': Timestamp('2022-09-11 00:00:00')},\n",
       " {'weight': 60.9, 'date': Timestamp('2022-09-25 00:00:00')},\n",
       " {'weight': 59.7, 'date': Timestamp('2022-10-02 00:00:00')},\n",
       " {'weight': 58.6, 'date': Timestamp('2022-10-09 00:00:00')},\n",
       " {'weight': 58.2, 'date': Timestamp('2022-10-16 00:00:00')},\n",
       " {'weight': 57.2, 'date': Timestamp('2022-10-23 00:00:00')},\n",
       " {'weight': 60.9, 'date': Timestamp('2023-01-22 00:00:00')},\n",
       " {'weight': 60.9, 'date': Timestamp('2023-01-29 00:00:00')},\n",
       " {'weight': 61.5, 'date': Timestamp('2023-02-05 00:00:00')},\n",
       " {'weight': 62.4, 'date': Timestamp('2023-02-26 00:00:00')},\n",
       " {'weight': 61.4, 'date': Timestamp('2023-03-05 00:00:00')},\n",
       " {'weight': 63.0, 'date': Timestamp('2023-04-16 00:00:00')},\n",
       " {'weight': 62.8, 'date': Timestamp('2023-05-07 00:00:00')},\n",
       " {'weight': 69.1, 'date': Timestamp('2024-09-08 00:00:00')},\n",
       " {'weight': 67.8, 'date': Timestamp('2024-09-15 00:00:00')},\n",
       " {'weight': 66.9, 'date': Timestamp('2024-09-22 00:00:00')},\n",
       " {'weight': 66.6, 'date': Timestamp('2024-10-06 00:00:00')},\n",
       " {'weight': 66.0, 'date': Timestamp('2024-10-13 00:00:00')},\n",
       " {'weight': 65.9, 'date': Timestamp('2024-10-20 00:00:00')},\n",
       " {'weight': 64.5, 'date': Timestamp('2024-10-27 00:00:00')},\n",
       " {'weight': 64.2, 'date': Timestamp('2024-11-10 00:00:00')},\n",
       " {'weight': 63.5, 'date': Timestamp('2024-11-17 00:00:00')},\n",
       " {'weight': 64.2, 'date': Timestamp('2024-11-24 00:00:00')},\n",
       " {'weight': 64.2, 'date': Timestamp('2024-12-01 00:00:00')}]"
      ]
     },
     "execution_count": 11,
     "metadata": {},
     "output_type": "execute_result"
    }
   ],
   "source": [
    "df = pd.read_excel(DATA_DIR / \"weights.xlsx\", sheet_name=\"Sheet2\")\n",
    "df = df.melt(\n",
    "    id_vars=\"Date\",\n",
    "    value_vars=[\n",
    "        \"Monday\",\n",
    "        \"Tuesday\",\n",
    "        \"Wednesday\",\n",
    "        \"Thursday\",\n",
    "        \"Friday\",\n",
    "        \"Saturday\",\n",
    "        \"Sunday\",\n",
    "    ],\n",
    ")\n",
    "df[\"dow\"] = df[\"variable\"].map(WEEKDAYS)\n",
    "df[\"Real Date\"] = df.apply(axis=1, func=lambda x: dt.timedelta(days=x.dow) + x.Date)\n",
    "df = (\n",
    "    df.drop(columns=[\"Date\", \"dow\", \"variable\"])\n",
    "    .rename(columns={\"value\": \"weight\", \"Real Date\": \"date\"})\n",
    "    .dropna()\n",
    ")\n",
    "weights = df.to_dict(orient=\"records\")\n",
    "weights"
   ]
  },
  {
   "cell_type": "code",
   "execution_count": 23,
   "metadata": {},
   "outputs": [
    {
     "data": {
      "text/plain": [
       "1"
      ]
     },
     "execution_count": 23,
     "metadata": {},
     "output_type": "execute_result"
    }
   ],
   "source": [
    "u = client.users.get_users()[0]\n",
    "u[\"id\"]"
   ]
  },
  {
   "cell_type": "code",
   "execution_count": null,
   "metadata": {},
   "outputs": [],
   "source": [
    "for weight in weights:\n",
    "    value = weight[\"weight\"]\n",
    "    date = weight[\"date\"].date()\n",
    "    try:\n",
    "        response = client.weights.create_weight(\n",
    "            weight=value, date=str(date), user_id=u[\"id\"]\n",
    "        )\n",
    "        print(f\"Created Weight {value}\")\n",
    "    except Exception as e:\n",
    "        print(e)"
   ]
  },
  {
   "cell_type": "markdown",
   "metadata": {},
   "source": [
    "# Muscle Groups"
   ]
  },
  {
   "cell_type": "code",
   "execution_count": 12,
   "metadata": {},
   "outputs": [
    {
     "data": {
      "text/html": [
       "<div>\n",
       "<style scoped>\n",
       "    .dataframe tbody tr th:only-of-type {\n",
       "        vertical-align: middle;\n",
       "    }\n",
       "\n",
       "    .dataframe tbody tr th {\n",
       "        vertical-align: top;\n",
       "    }\n",
       "\n",
       "    .dataframe thead th {\n",
       "        text-align: right;\n",
       "    }\n",
       "</style>\n",
       "<table border=\"1\" class=\"dataframe\">\n",
       "  <thead>\n",
       "    <tr style=\"text-align: right;\">\n",
       "      <th></th>\n",
       "      <th>name</th>\n",
       "    </tr>\n",
       "  </thead>\n",
       "  <tbody>\n",
       "    <tr>\n",
       "      <th>0</th>\n",
       "      <td>chest</td>\n",
       "    </tr>\n",
       "    <tr>\n",
       "      <th>1</th>\n",
       "      <td>triceps</td>\n",
       "    </tr>\n",
       "    <tr>\n",
       "      <th>2</th>\n",
       "      <td>biceps</td>\n",
       "    </tr>\n",
       "    <tr>\n",
       "      <th>3</th>\n",
       "      <td>shoulders</td>\n",
       "    </tr>\n",
       "    <tr>\n",
       "      <th>4</th>\n",
       "      <td>quadriceps</td>\n",
       "    </tr>\n",
       "  </tbody>\n",
       "</table>\n",
       "</div>"
      ],
      "text/plain": [
       "         name\n",
       "0       chest\n",
       "1     triceps\n",
       "2      biceps\n",
       "3   shoulders\n",
       "4  quadriceps"
      ]
     },
     "execution_count": 12,
     "metadata": {},
     "output_type": "execute_result"
    }
   ],
   "source": [
    "df = pd.read_excel(DATA_DIR / \"setup.xlsx\", sheet_name=\"musclegroups\")\n",
    "df.head()"
   ]
  },
  {
   "cell_type": "code",
   "execution_count": 13,
   "metadata": {},
   "outputs": [
    {
     "name": "stdout",
     "output_type": "stream",
     "text": [
      "Expecting value: line 1 column 1 (char 0)\n",
      "Expecting value: line 1 column 1 (char 0)\n",
      "Expecting value: line 1 column 1 (char 0)\n",
      "Expecting value: line 1 column 1 (char 0)\n",
      "Expecting value: line 1 column 1 (char 0)\n",
      "Expecting value: line 1 column 1 (char 0)\n",
      "Expecting value: line 1 column 1 (char 0)\n",
      "Expecting value: line 1 column 1 (char 0)\n",
      "Expecting value: line 1 column 1 (char 0)\n",
      "Expecting value: line 1 column 1 (char 0)\n"
     ]
    }
   ],
   "source": [
    "for name in df.name.tolist():\n",
    "    try:\n",
    "        response = client.musclegroups.create_musclegroup(name=name)\n",
    "        print(f\"Created Muscle Group {name}\")\n",
    "    except Exception as e:\n",
    "        print(e)"
   ]
  },
  {
   "cell_type": "markdown",
   "metadata": {},
   "source": [
    "# Exercises"
   ]
  },
  {
   "cell_type": "code",
   "execution_count": 14,
   "metadata": {},
   "outputs": [
    {
     "data": {
      "text/html": [
       "<div>\n",
       "<style scoped>\n",
       "    .dataframe tbody tr th:only-of-type {\n",
       "        vertical-align: middle;\n",
       "    }\n",
       "\n",
       "    .dataframe tbody tr th {\n",
       "        vertical-align: top;\n",
       "    }\n",
       "\n",
       "    .dataframe thead th {\n",
       "        text-align: right;\n",
       "    }\n",
       "</style>\n",
       "<table border=\"1\" class=\"dataframe\">\n",
       "  <thead>\n",
       "    <tr style=\"text-align: right;\">\n",
       "      <th></th>\n",
       "      <th>name</th>\n",
       "      <th>musclegroups</th>\n",
       "    </tr>\n",
       "  </thead>\n",
       "  <tbody>\n",
       "    <tr>\n",
       "      <th>0</th>\n",
       "      <td>Bench Press</td>\n",
       "      <td>chest, triceps</td>\n",
       "    </tr>\n",
       "    <tr>\n",
       "      <th>1</th>\n",
       "      <td>Lean-In Cable Row</td>\n",
       "      <td>back, biceps</td>\n",
       "    </tr>\n",
       "    <tr>\n",
       "      <th>2</th>\n",
       "      <td>Dumbbell Shoulder Press Neutral Grip</td>\n",
       "      <td>shoulders</td>\n",
       "    </tr>\n",
       "    <tr>\n",
       "      <th>3</th>\n",
       "      <td>Lat Pulldown Neutral Grip</td>\n",
       "      <td>back, biceps</td>\n",
       "    </tr>\n",
       "    <tr>\n",
       "      <th>4</th>\n",
       "      <td>Rope Hammer Curls</td>\n",
       "      <td>biceps</td>\n",
       "    </tr>\n",
       "  </tbody>\n",
       "</table>\n",
       "</div>"
      ],
      "text/plain": [
       "                                   name    musclegroups\n",
       "0                           Bench Press  chest, triceps\n",
       "1                     Lean-In Cable Row    back, biceps\n",
       "2  Dumbbell Shoulder Press Neutral Grip       shoulders\n",
       "3             Lat Pulldown Neutral Grip    back, biceps\n",
       "4                     Rope Hammer Curls          biceps"
      ]
     },
     "execution_count": 14,
     "metadata": {},
     "output_type": "execute_result"
    }
   ],
   "source": [
    "df = pd.read_excel(DATA_DIR / \"setup.xlsx\", sheet_name=\"exercises\")\n",
    "df.head()"
   ]
  },
  {
   "cell_type": "code",
   "execution_count": 15,
   "metadata": {},
   "outputs": [
    {
     "data": {
      "text/html": [
       "<div>\n",
       "<style scoped>\n",
       "    .dataframe tbody tr th:only-of-type {\n",
       "        vertical-align: middle;\n",
       "    }\n",
       "\n",
       "    .dataframe tbody tr th {\n",
       "        vertical-align: top;\n",
       "    }\n",
       "\n",
       "    .dataframe thead th {\n",
       "        text-align: right;\n",
       "    }\n",
       "</style>\n",
       "<table border=\"1\" class=\"dataframe\">\n",
       "  <thead>\n",
       "    <tr style=\"text-align: right;\">\n",
       "      <th></th>\n",
       "      <th>name</th>\n",
       "      <th>id</th>\n",
       "    </tr>\n",
       "  </thead>\n",
       "  <tbody>\n",
       "    <tr>\n",
       "      <th>0</th>\n",
       "      <td>chest</td>\n",
       "      <td>1</td>\n",
       "    </tr>\n",
       "    <tr>\n",
       "      <th>1</th>\n",
       "      <td>triceps</td>\n",
       "      <td>2</td>\n",
       "    </tr>\n",
       "    <tr>\n",
       "      <th>2</th>\n",
       "      <td>biceps</td>\n",
       "      <td>3</td>\n",
       "    </tr>\n",
       "    <tr>\n",
       "      <th>3</th>\n",
       "      <td>shoulders</td>\n",
       "      <td>4</td>\n",
       "    </tr>\n",
       "    <tr>\n",
       "      <th>4</th>\n",
       "      <td>quadriceps</td>\n",
       "      <td>5</td>\n",
       "    </tr>\n",
       "  </tbody>\n",
       "</table>\n",
       "</div>"
      ],
      "text/plain": [
       "         name  id\n",
       "0       chest   1\n",
       "1     triceps   2\n",
       "2      biceps   3\n",
       "3   shoulders   4\n",
       "4  quadriceps   5"
      ]
     },
     "execution_count": 15,
     "metadata": {},
     "output_type": "execute_result"
    }
   ],
   "source": [
    "mgs = pd.DataFrame(client.musclegroups.get_musclegroups())\n",
    "mgs.head()"
   ]
  },
  {
   "cell_type": "code",
   "execution_count": 16,
   "metadata": {},
   "outputs": [
    {
     "name": "stdout",
     "output_type": "stream",
     "text": [
      "Expecting value: line 1 column 1 (char 0)\n",
      "Expecting value: line 1 column 1 (char 0)\n",
      "Expecting value: line 1 column 1 (char 0)\n",
      "Expecting value: line 1 column 1 (char 0)\n",
      "Expecting value: line 1 column 1 (char 0)\n",
      "Expecting value: line 1 column 1 (char 0)\n",
      "Expecting value: line 1 column 1 (char 0)\n",
      "Expecting value: line 1 column 1 (char 0)\n",
      "Expecting value: line 1 column 1 (char 0)\n",
      "Expecting value: line 1 column 1 (char 0)\n",
      "Expecting value: line 1 column 1 (char 0)\n",
      "Expecting value: line 1 column 1 (char 0)\n",
      "Expecting value: line 1 column 1 (char 0)\n",
      "Expecting value: line 1 column 1 (char 0)\n",
      "Expecting value: line 1 column 1 (char 0)\n",
      "Expecting value: line 1 column 1 (char 0)\n",
      "Expecting value: line 1 column 1 (char 0)\n",
      "Expecting value: line 1 column 1 (char 0)\n",
      "Expecting value: line 1 column 1 (char 0)\n",
      "Expecting value: line 1 column 1 (char 0)\n",
      "Expecting value: line 1 column 1 (char 0)\n",
      "Expecting value: line 1 column 1 (char 0)\n",
      "Expecting value: line 1 column 1 (char 0)\n",
      "Expecting value: line 1 column 1 (char 0)\n",
      "Expecting value: line 1 column 1 (char 0)\n",
      "Expecting value: line 1 column 1 (char 0)\n",
      "Expecting value: line 1 column 1 (char 0)\n",
      "Expecting value: line 1 column 1 (char 0)\n",
      "Expecting value: line 1 column 1 (char 0)\n",
      "Expecting value: line 1 column 1 (char 0)\n",
      "Expecting value: line 1 column 1 (char 0)\n",
      "Expecting value: line 1 column 1 (char 0)\n",
      "Expecting value: line 1 column 1 (char 0)\n",
      "Expecting value: line 1 column 1 (char 0)\n",
      "Expecting value: line 1 column 1 (char 0)\n",
      "Expecting value: line 1 column 1 (char 0)\n",
      "Expecting value: line 1 column 1 (char 0)\n",
      "Expecting value: line 1 column 1 (char 0)\n",
      "Expecting value: line 1 column 1 (char 0)\n",
      "Expecting value: line 1 column 1 (char 0)\n",
      "Expecting value: line 1 column 1 (char 0)\n",
      "Expecting value: line 1 column 1 (char 0)\n",
      "Expecting value: line 1 column 1 (char 0)\n",
      "Expecting value: line 1 column 1 (char 0)\n",
      "Expecting value: line 1 column 1 (char 0)\n",
      "Expecting value: line 1 column 1 (char 0)\n",
      "Expecting value: line 1 column 1 (char 0)\n",
      "Expecting value: line 1 column 1 (char 0)\n",
      "Expecting value: line 1 column 1 (char 0)\n",
      "Expecting value: line 1 column 1 (char 0)\n",
      "Expecting value: line 1 column 1 (char 0)\n",
      "Expecting value: line 1 column 1 (char 0)\n",
      "Expecting value: line 1 column 1 (char 0)\n",
      "Expecting value: line 1 column 1 (char 0)\n",
      "Expecting value: line 1 column 1 (char 0)\n",
      "Expecting value: line 1 column 1 (char 0)\n",
      "Expecting value: line 1 column 1 (char 0)\n"
     ]
    }
   ],
   "source": [
    "for ix, exercise in df.iterrows():\n",
    "    name = exercise[\"name\"]\n",
    "    mg_names = [mg.strip() for mg in exercise.musclegroups.split(\",\")]\n",
    "    mg_ids = mgs[mgs[\"name\"].isin(mg_names)].id.to_list()\n",
    "    try:\n",
    "        response = client.exercises.create_exercise(name=name, musclegroup_ids=mg_ids)\n",
    "        print(f\"Created Exercise {name}\")\n",
    "    except Exception as e:\n",
    "        print(e)"
   ]
  },
  {
   "cell_type": "markdown",
   "metadata": {},
   "source": [
    "# Workout Routines"
   ]
  },
  {
   "cell_type": "code",
   "execution_count": 17,
   "metadata": {},
   "outputs": [
    {
     "data": {
      "text/html": [
       "<div>\n",
       "<style scoped>\n",
       "    .dataframe tbody tr th:only-of-type {\n",
       "        vertical-align: middle;\n",
       "    }\n",
       "\n",
       "    .dataframe tbody tr th {\n",
       "        vertical-align: top;\n",
       "    }\n",
       "\n",
       "    .dataframe thead th {\n",
       "        text-align: right;\n",
       "    }\n",
       "</style>\n",
       "<table border=\"1\" class=\"dataframe\">\n",
       "  <thead>\n",
       "    <tr style=\"text-align: right;\">\n",
       "      <th></th>\n",
       "      <th>routine_name</th>\n",
       "      <th>exercise</th>\n",
       "      <th>reps</th>\n",
       "    </tr>\n",
       "  </thead>\n",
       "  <tbody>\n",
       "    <tr>\n",
       "      <th>0</th>\n",
       "      <td>Wave Loading 321 Lower 1</td>\n",
       "      <td>Trap Bar Deadlift</td>\n",
       "      <td>3</td>\n",
       "    </tr>\n",
       "    <tr>\n",
       "      <th>1</th>\n",
       "      <td>Wave Loading 321 Lower 1</td>\n",
       "      <td>Trap Bar Deadlift</td>\n",
       "      <td>2</td>\n",
       "    </tr>\n",
       "    <tr>\n",
       "      <th>2</th>\n",
       "      <td>Wave Loading 321 Lower 1</td>\n",
       "      <td>Trap Bar Deadlift</td>\n",
       "      <td>1</td>\n",
       "    </tr>\n",
       "    <tr>\n",
       "      <th>3</th>\n",
       "      <td>Wave Loading 321 Lower 1</td>\n",
       "      <td>Trap Bar Deadlift</td>\n",
       "      <td>3</td>\n",
       "    </tr>\n",
       "    <tr>\n",
       "      <th>4</th>\n",
       "      <td>Wave Loading 321 Lower 1</td>\n",
       "      <td>Trap Bar Deadlift</td>\n",
       "      <td>2</td>\n",
       "    </tr>\n",
       "  </tbody>\n",
       "</table>\n",
       "</div>"
      ],
      "text/plain": [
       "               routine_name           exercise  reps\n",
       "0  Wave Loading 321 Lower 1  Trap Bar Deadlift     3\n",
       "1  Wave Loading 321 Lower 1  Trap Bar Deadlift     2\n",
       "2  Wave Loading 321 Lower 1  Trap Bar Deadlift     1\n",
       "3  Wave Loading 321 Lower 1  Trap Bar Deadlift     3\n",
       "4  Wave Loading 321 Lower 1  Trap Bar Deadlift     2"
      ]
     },
     "execution_count": 17,
     "metadata": {},
     "output_type": "execute_result"
    }
   ],
   "source": [
    "df = pd.read_excel(DATA_DIR / \"setup.xlsx\", sheet_name=\"workoutroutines\")\n",
    "df = df.rename(columns={\"name\": \"routine_name\"})\n",
    "df.head()"
   ]
  },
  {
   "cell_type": "code",
   "execution_count": 18,
   "metadata": {},
   "outputs": [
    {
     "data": {
      "text/plain": [
       "array(['Wave Loading 321 Lower 1', 'Wave Loading 321 Upper 1',\n",
       "       'Wave Loading 321 Lower 2', 'Wave Loading 321 Upper 2',\n",
       "       'Wave Loading 642 Lower 1', 'Wave Loading 642 Upper 1',\n",
       "       'Wave Loading 642 Lower 2', 'Wave Loading 642 Upper 2',\n",
       "       'Hypertrophy Legs', 'Hypertrophy Chest and Back',\n",
       "       'Hypertrophy Shoulders and Arms', 'Arm Block Chest',\n",
       "       'Arm Block Back', 'Arm Block Legs', 'Arm Block Arms',\n",
       "       'Arm Block Legs 2', 'Upper Lower 2 Sets Upper 2',\n",
       "       'Upper Lower 2 Sets Lower 2', 'Upper Lower 2 Sets Upper 1',\n",
       "       'Upper Lower 2 Sets Lower 1', 'Upper Lower 3 Sets Lower 1',\n",
       "       'Upper Lower 3 Sets Upper 1', 'Upper Lower 3 Sets Lower 2',\n",
       "       'Upper Lower 3 Sets Upper 2'], dtype=object)"
      ]
     },
     "execution_count": 18,
     "metadata": {},
     "output_type": "execute_result"
    }
   ],
   "source": [
    "routines = df[\"routine_name\"].unique()\n",
    "routines"
   ]
  },
  {
   "cell_type": "code",
   "execution_count": 19,
   "metadata": {},
   "outputs": [
    {
     "data": {
      "text/html": [
       "<div>\n",
       "<style scoped>\n",
       "    .dataframe tbody tr th:only-of-type {\n",
       "        vertical-align: middle;\n",
       "    }\n",
       "\n",
       "    .dataframe tbody tr th {\n",
       "        vertical-align: top;\n",
       "    }\n",
       "\n",
       "    .dataframe thead th {\n",
       "        text-align: right;\n",
       "    }\n",
       "</style>\n",
       "<table border=\"1\" class=\"dataframe\">\n",
       "  <thead>\n",
       "    <tr style=\"text-align: right;\">\n",
       "      <th></th>\n",
       "      <th>name</th>\n",
       "      <th>id</th>\n",
       "    </tr>\n",
       "  </thead>\n",
       "  <tbody>\n",
       "    <tr>\n",
       "      <th>0</th>\n",
       "      <td>bench press</td>\n",
       "      <td>1</td>\n",
       "    </tr>\n",
       "    <tr>\n",
       "      <th>1</th>\n",
       "      <td>lean-in cable row</td>\n",
       "      <td>2</td>\n",
       "    </tr>\n",
       "    <tr>\n",
       "      <th>2</th>\n",
       "      <td>dumbbell shoulder press neutral grip</td>\n",
       "      <td>3</td>\n",
       "    </tr>\n",
       "    <tr>\n",
       "      <th>3</th>\n",
       "      <td>lat pulldown neutral grip</td>\n",
       "      <td>4</td>\n",
       "    </tr>\n",
       "    <tr>\n",
       "      <th>4</th>\n",
       "      <td>rope hammer curls</td>\n",
       "      <td>5</td>\n",
       "    </tr>\n",
       "  </tbody>\n",
       "</table>\n",
       "</div>"
      ],
      "text/plain": [
       "                                   name  id\n",
       "0                           bench press   1\n",
       "1                     lean-in cable row   2\n",
       "2  dumbbell shoulder press neutral grip   3\n",
       "3             lat pulldown neutral grip   4\n",
       "4                     rope hammer curls   5"
      ]
     },
     "execution_count": 19,
     "metadata": {},
     "output_type": "execute_result"
    }
   ],
   "source": [
    "exs = pd.DataFrame(client.exercises.get_exercises())\n",
    "exs.head()"
   ]
  },
  {
   "cell_type": "code",
   "execution_count": 20,
   "metadata": {},
   "outputs": [
    {
     "data": {
      "text/html": [
       "<div>\n",
       "<style scoped>\n",
       "    .dataframe tbody tr th:only-of-type {\n",
       "        vertical-align: middle;\n",
       "    }\n",
       "\n",
       "    .dataframe tbody tr th {\n",
       "        vertical-align: top;\n",
       "    }\n",
       "\n",
       "    .dataframe thead th {\n",
       "        text-align: right;\n",
       "    }\n",
       "</style>\n",
       "<table border=\"1\" class=\"dataframe\">\n",
       "  <thead>\n",
       "    <tr style=\"text-align: right;\">\n",
       "      <th></th>\n",
       "      <th>routine_name</th>\n",
       "      <th>exercise</th>\n",
       "      <th>reps</th>\n",
       "      <th>exercise_lower</th>\n",
       "    </tr>\n",
       "  </thead>\n",
       "  <tbody>\n",
       "    <tr>\n",
       "      <th>0</th>\n",
       "      <td>Wave Loading 321 Lower 1</td>\n",
       "      <td>Trap Bar Deadlift</td>\n",
       "      <td>3</td>\n",
       "      <td>trap bar deadlift</td>\n",
       "    </tr>\n",
       "    <tr>\n",
       "      <th>1</th>\n",
       "      <td>Wave Loading 321 Lower 1</td>\n",
       "      <td>Trap Bar Deadlift</td>\n",
       "      <td>2</td>\n",
       "      <td>trap bar deadlift</td>\n",
       "    </tr>\n",
       "    <tr>\n",
       "      <th>2</th>\n",
       "      <td>Wave Loading 321 Lower 1</td>\n",
       "      <td>Trap Bar Deadlift</td>\n",
       "      <td>1</td>\n",
       "      <td>trap bar deadlift</td>\n",
       "    </tr>\n",
       "    <tr>\n",
       "      <th>3</th>\n",
       "      <td>Wave Loading 321 Lower 1</td>\n",
       "      <td>Trap Bar Deadlift</td>\n",
       "      <td>3</td>\n",
       "      <td>trap bar deadlift</td>\n",
       "    </tr>\n",
       "    <tr>\n",
       "      <th>4</th>\n",
       "      <td>Wave Loading 321 Lower 1</td>\n",
       "      <td>Trap Bar Deadlift</td>\n",
       "      <td>2</td>\n",
       "      <td>trap bar deadlift</td>\n",
       "    </tr>\n",
       "  </tbody>\n",
       "</table>\n",
       "</div>"
      ],
      "text/plain": [
       "               routine_name           exercise  reps     exercise_lower\n",
       "0  Wave Loading 321 Lower 1  Trap Bar Deadlift     3  trap bar deadlift\n",
       "1  Wave Loading 321 Lower 1  Trap Bar Deadlift     2  trap bar deadlift\n",
       "2  Wave Loading 321 Lower 1  Trap Bar Deadlift     1  trap bar deadlift\n",
       "3  Wave Loading 321 Lower 1  Trap Bar Deadlift     3  trap bar deadlift\n",
       "4  Wave Loading 321 Lower 1  Trap Bar Deadlift     2  trap bar deadlift"
      ]
     },
     "execution_count": 20,
     "metadata": {},
     "output_type": "execute_result"
    }
   ],
   "source": [
    "df[\"exercise_lower\"] = df.exercise.str.lower()\n",
    "df.head()"
   ]
  },
  {
   "cell_type": "code",
   "execution_count": 21,
   "metadata": {},
   "outputs": [
    {
     "data": {
      "text/html": [
       "<div>\n",
       "<style scoped>\n",
       "    .dataframe tbody tr th:only-of-type {\n",
       "        vertical-align: middle;\n",
       "    }\n",
       "\n",
       "    .dataframe tbody tr th {\n",
       "        vertical-align: top;\n",
       "    }\n",
       "\n",
       "    .dataframe thead th {\n",
       "        text-align: right;\n",
       "    }\n",
       "</style>\n",
       "<table border=\"1\" class=\"dataframe\">\n",
       "  <thead>\n",
       "    <tr style=\"text-align: right;\">\n",
       "      <th></th>\n",
       "      <th></th>\n",
       "      <th>reps</th>\n",
       "    </tr>\n",
       "    <tr>\n",
       "      <th>routine_name</th>\n",
       "      <th>id</th>\n",
       "      <th></th>\n",
       "    </tr>\n",
       "  </thead>\n",
       "  <tbody>\n",
       "    <tr>\n",
       "      <th rowspan=\"5\" valign=\"top\">Wave Loading 321 Lower 1</th>\n",
       "      <th>21</th>\n",
       "      <td>3</td>\n",
       "    </tr>\n",
       "    <tr>\n",
       "      <th>21</th>\n",
       "      <td>2</td>\n",
       "    </tr>\n",
       "    <tr>\n",
       "      <th>21</th>\n",
       "      <td>1</td>\n",
       "    </tr>\n",
       "    <tr>\n",
       "      <th>21</th>\n",
       "      <td>3</td>\n",
       "    </tr>\n",
       "    <tr>\n",
       "      <th>21</th>\n",
       "      <td>2</td>\n",
       "    </tr>\n",
       "    <tr>\n",
       "      <th>...</th>\n",
       "      <th>...</th>\n",
       "      <td>...</td>\n",
       "    </tr>\n",
       "    <tr>\n",
       "      <th rowspan=\"5\" valign=\"top\">Upper Lower 3 Sets Upper 2</th>\n",
       "      <th>39</th>\n",
       "      <td>20</td>\n",
       "    </tr>\n",
       "    <tr>\n",
       "      <th>39</th>\n",
       "      <td>20</td>\n",
       "    </tr>\n",
       "    <tr>\n",
       "      <th>37</th>\n",
       "      <td>12</td>\n",
       "    </tr>\n",
       "    <tr>\n",
       "      <th>37</th>\n",
       "      <td>12</td>\n",
       "    </tr>\n",
       "    <tr>\n",
       "      <th>37</th>\n",
       "      <td>20</td>\n",
       "    </tr>\n",
       "  </tbody>\n",
       "</table>\n",
       "<p>451 rows × 1 columns</p>\n",
       "</div>"
      ],
      "text/plain": [
       "                               reps\n",
       "routine_name               id      \n",
       "Wave Loading 321 Lower 1   21     3\n",
       "                           21     2\n",
       "                           21     1\n",
       "                           21     3\n",
       "                           21     2\n",
       "...                             ...\n",
       "Upper Lower 3 Sets Upper 2 39    20\n",
       "                           39    20\n",
       "                           37    12\n",
       "                           37    12\n",
       "                           37    20\n",
       "\n",
       "[451 rows x 1 columns]"
      ]
     },
     "execution_count": 21,
     "metadata": {},
     "output_type": "execute_result"
    }
   ],
   "source": [
    "df_all = df.merge(right=exs, left_on=\"exercise_lower\", right_on=\"name\").set_index(\n",
    "    \"routine_name\"\n",
    ")[[\"reps\", \"id\"]]\n",
    "df_all = df_all.reset_index().set_index([\"routine_name\", \"id\"])\n",
    "df_all"
   ]
  },
  {
   "cell_type": "code",
   "execution_count": 24,
   "metadata": {},
   "outputs": [
    {
     "name": "stderr",
     "output_type": "stream",
     "text": [
      "C:\\Users\\jorda\\AppData\\Local\\Temp\\ipykernel_34876\\1573314857.py:5: PerformanceWarning: indexing past lexsort depth may impact performance.\n",
      "  sets = df_all.loc[routine, exercise].to_dict(orient=\"records\")\n",
      "C:\\Users\\jorda\\AppData\\Local\\Temp\\ipykernel_34876\\1573314857.py:5: PerformanceWarning: indexing past lexsort depth may impact performance.\n",
      "  sets = df_all.loc[routine, exercise].to_dict(orient=\"records\")\n",
      "C:\\Users\\jorda\\AppData\\Local\\Temp\\ipykernel_34876\\1573314857.py:5: PerformanceWarning: indexing past lexsort depth may impact performance.\n",
      "  sets = df_all.loc[routine, exercise].to_dict(orient=\"records\")\n",
      "C:\\Users\\jorda\\AppData\\Local\\Temp\\ipykernel_34876\\1573314857.py:5: PerformanceWarning: indexing past lexsort depth may impact performance.\n",
      "  sets = df_all.loc[routine, exercise].to_dict(orient=\"records\")\n",
      "C:\\Users\\jorda\\AppData\\Local\\Temp\\ipykernel_34876\\1573314857.py:5: PerformanceWarning: indexing past lexsort depth may impact performance.\n",
      "  sets = df_all.loc[routine, exercise].to_dict(orient=\"records\")\n"
     ]
    },
    {
     "name": "stdout",
     "output_type": "stream",
     "text": [
      "Created Routine Wave Loading 321 Lower 1\n"
     ]
    },
    {
     "name": "stderr",
     "output_type": "stream",
     "text": [
      "C:\\Users\\jorda\\AppData\\Local\\Temp\\ipykernel_34876\\1573314857.py:5: PerformanceWarning: indexing past lexsort depth may impact performance.\n",
      "  sets = df_all.loc[routine, exercise].to_dict(orient=\"records\")\n",
      "C:\\Users\\jorda\\AppData\\Local\\Temp\\ipykernel_34876\\1573314857.py:5: PerformanceWarning: indexing past lexsort depth may impact performance.\n",
      "  sets = df_all.loc[routine, exercise].to_dict(orient=\"records\")\n",
      "C:\\Users\\jorda\\AppData\\Local\\Temp\\ipykernel_34876\\1573314857.py:5: PerformanceWarning: indexing past lexsort depth may impact performance.\n",
      "  sets = df_all.loc[routine, exercise].to_dict(orient=\"records\")\n",
      "C:\\Users\\jorda\\AppData\\Local\\Temp\\ipykernel_34876\\1573314857.py:5: PerformanceWarning: indexing past lexsort depth may impact performance.\n",
      "  sets = df_all.loc[routine, exercise].to_dict(orient=\"records\")\n",
      "C:\\Users\\jorda\\AppData\\Local\\Temp\\ipykernel_34876\\1573314857.py:5: PerformanceWarning: indexing past lexsort depth may impact performance.\n",
      "  sets = df_all.loc[routine, exercise].to_dict(orient=\"records\")\n",
      "C:\\Users\\jorda\\AppData\\Local\\Temp\\ipykernel_34876\\1573314857.py:5: PerformanceWarning: indexing past lexsort depth may impact performance.\n",
      "  sets = df_all.loc[routine, exercise].to_dict(orient=\"records\")\n",
      "C:\\Users\\jorda\\AppData\\Local\\Temp\\ipykernel_34876\\1573314857.py:5: PerformanceWarning: indexing past lexsort depth may impact performance.\n",
      "  sets = df_all.loc[routine, exercise].to_dict(orient=\"records\")\n"
     ]
    },
    {
     "name": "stdout",
     "output_type": "stream",
     "text": [
      "Created Routine Wave Loading 321 Upper 1\n"
     ]
    },
    {
     "name": "stderr",
     "output_type": "stream",
     "text": [
      "C:\\Users\\jorda\\AppData\\Local\\Temp\\ipykernel_34876\\1573314857.py:5: PerformanceWarning: indexing past lexsort depth may impact performance.\n",
      "  sets = df_all.loc[routine, exercise].to_dict(orient=\"records\")\n",
      "C:\\Users\\jorda\\AppData\\Local\\Temp\\ipykernel_34876\\1573314857.py:5: PerformanceWarning: indexing past lexsort depth may impact performance.\n",
      "  sets = df_all.loc[routine, exercise].to_dict(orient=\"records\")\n",
      "C:\\Users\\jorda\\AppData\\Local\\Temp\\ipykernel_34876\\1573314857.py:5: PerformanceWarning: indexing past lexsort depth may impact performance.\n",
      "  sets = df_all.loc[routine, exercise].to_dict(orient=\"records\")\n",
      "C:\\Users\\jorda\\AppData\\Local\\Temp\\ipykernel_34876\\1573314857.py:5: PerformanceWarning: indexing past lexsort depth may impact performance.\n",
      "  sets = df_all.loc[routine, exercise].to_dict(orient=\"records\")\n",
      "C:\\Users\\jorda\\AppData\\Local\\Temp\\ipykernel_34876\\1573314857.py:5: PerformanceWarning: indexing past lexsort depth may impact performance.\n",
      "  sets = df_all.loc[routine, exercise].to_dict(orient=\"records\")\n"
     ]
    },
    {
     "name": "stdout",
     "output_type": "stream",
     "text": [
      "Created Routine Wave Loading 321 Lower 2\n"
     ]
    },
    {
     "name": "stderr",
     "output_type": "stream",
     "text": [
      "C:\\Users\\jorda\\AppData\\Local\\Temp\\ipykernel_34876\\1573314857.py:5: PerformanceWarning: indexing past lexsort depth may impact performance.\n",
      "  sets = df_all.loc[routine, exercise].to_dict(orient=\"records\")\n",
      "C:\\Users\\jorda\\AppData\\Local\\Temp\\ipykernel_34876\\1573314857.py:5: PerformanceWarning: indexing past lexsort depth may impact performance.\n",
      "  sets = df_all.loc[routine, exercise].to_dict(orient=\"records\")\n",
      "C:\\Users\\jorda\\AppData\\Local\\Temp\\ipykernel_34876\\1573314857.py:5: PerformanceWarning: indexing past lexsort depth may impact performance.\n",
      "  sets = df_all.loc[routine, exercise].to_dict(orient=\"records\")\n",
      "C:\\Users\\jorda\\AppData\\Local\\Temp\\ipykernel_34876\\1573314857.py:5: PerformanceWarning: indexing past lexsort depth may impact performance.\n",
      "  sets = df_all.loc[routine, exercise].to_dict(orient=\"records\")\n",
      "C:\\Users\\jorda\\AppData\\Local\\Temp\\ipykernel_34876\\1573314857.py:5: PerformanceWarning: indexing past lexsort depth may impact performance.\n",
      "  sets = df_all.loc[routine, exercise].to_dict(orient=\"records\")\n",
      "C:\\Users\\jorda\\AppData\\Local\\Temp\\ipykernel_34876\\1573314857.py:5: PerformanceWarning: indexing past lexsort depth may impact performance.\n",
      "  sets = df_all.loc[routine, exercise].to_dict(orient=\"records\")\n",
      "C:\\Users\\jorda\\AppData\\Local\\Temp\\ipykernel_34876\\1573314857.py:5: PerformanceWarning: indexing past lexsort depth may impact performance.\n",
      "  sets = df_all.loc[routine, exercise].to_dict(orient=\"records\")\n"
     ]
    },
    {
     "name": "stdout",
     "output_type": "stream",
     "text": [
      "Created Routine Wave Loading 321 Upper 2\n"
     ]
    },
    {
     "name": "stderr",
     "output_type": "stream",
     "text": [
      "C:\\Users\\jorda\\AppData\\Local\\Temp\\ipykernel_34876\\1573314857.py:5: PerformanceWarning: indexing past lexsort depth may impact performance.\n",
      "  sets = df_all.loc[routine, exercise].to_dict(orient=\"records\")\n",
      "C:\\Users\\jorda\\AppData\\Local\\Temp\\ipykernel_34876\\1573314857.py:5: PerformanceWarning: indexing past lexsort depth may impact performance.\n",
      "  sets = df_all.loc[routine, exercise].to_dict(orient=\"records\")\n",
      "C:\\Users\\jorda\\AppData\\Local\\Temp\\ipykernel_34876\\1573314857.py:5: PerformanceWarning: indexing past lexsort depth may impact performance.\n",
      "  sets = df_all.loc[routine, exercise].to_dict(orient=\"records\")\n",
      "C:\\Users\\jorda\\AppData\\Local\\Temp\\ipykernel_34876\\1573314857.py:5: PerformanceWarning: indexing past lexsort depth may impact performance.\n",
      "  sets = df_all.loc[routine, exercise].to_dict(orient=\"records\")\n",
      "C:\\Users\\jorda\\AppData\\Local\\Temp\\ipykernel_34876\\1573314857.py:5: PerformanceWarning: indexing past lexsort depth may impact performance.\n",
      "  sets = df_all.loc[routine, exercise].to_dict(orient=\"records\")\n"
     ]
    },
    {
     "name": "stdout",
     "output_type": "stream",
     "text": [
      "Created Routine Wave Loading 642 Lower 1\n"
     ]
    },
    {
     "name": "stderr",
     "output_type": "stream",
     "text": [
      "C:\\Users\\jorda\\AppData\\Local\\Temp\\ipykernel_34876\\1573314857.py:5: PerformanceWarning: indexing past lexsort depth may impact performance.\n",
      "  sets = df_all.loc[routine, exercise].to_dict(orient=\"records\")\n",
      "C:\\Users\\jorda\\AppData\\Local\\Temp\\ipykernel_34876\\1573314857.py:5: PerformanceWarning: indexing past lexsort depth may impact performance.\n",
      "  sets = df_all.loc[routine, exercise].to_dict(orient=\"records\")\n",
      "C:\\Users\\jorda\\AppData\\Local\\Temp\\ipykernel_34876\\1573314857.py:5: PerformanceWarning: indexing past lexsort depth may impact performance.\n",
      "  sets = df_all.loc[routine, exercise].to_dict(orient=\"records\")\n",
      "C:\\Users\\jorda\\AppData\\Local\\Temp\\ipykernel_34876\\1573314857.py:5: PerformanceWarning: indexing past lexsort depth may impact performance.\n",
      "  sets = df_all.loc[routine, exercise].to_dict(orient=\"records\")\n",
      "C:\\Users\\jorda\\AppData\\Local\\Temp\\ipykernel_34876\\1573314857.py:5: PerformanceWarning: indexing past lexsort depth may impact performance.\n",
      "  sets = df_all.loc[routine, exercise].to_dict(orient=\"records\")\n",
      "C:\\Users\\jorda\\AppData\\Local\\Temp\\ipykernel_34876\\1573314857.py:5: PerformanceWarning: indexing past lexsort depth may impact performance.\n",
      "  sets = df_all.loc[routine, exercise].to_dict(orient=\"records\")\n",
      "C:\\Users\\jorda\\AppData\\Local\\Temp\\ipykernel_34876\\1573314857.py:5: PerformanceWarning: indexing past lexsort depth may impact performance.\n",
      "  sets = df_all.loc[routine, exercise].to_dict(orient=\"records\")\n"
     ]
    },
    {
     "name": "stdout",
     "output_type": "stream",
     "text": [
      "Created Routine Wave Loading 642 Upper 1\n"
     ]
    },
    {
     "name": "stderr",
     "output_type": "stream",
     "text": [
      "C:\\Users\\jorda\\AppData\\Local\\Temp\\ipykernel_34876\\1573314857.py:5: PerformanceWarning: indexing past lexsort depth may impact performance.\n",
      "  sets = df_all.loc[routine, exercise].to_dict(orient=\"records\")\n",
      "C:\\Users\\jorda\\AppData\\Local\\Temp\\ipykernel_34876\\1573314857.py:5: PerformanceWarning: indexing past lexsort depth may impact performance.\n",
      "  sets = df_all.loc[routine, exercise].to_dict(orient=\"records\")\n",
      "C:\\Users\\jorda\\AppData\\Local\\Temp\\ipykernel_34876\\1573314857.py:5: PerformanceWarning: indexing past lexsort depth may impact performance.\n",
      "  sets = df_all.loc[routine, exercise].to_dict(orient=\"records\")\n",
      "C:\\Users\\jorda\\AppData\\Local\\Temp\\ipykernel_34876\\1573314857.py:5: PerformanceWarning: indexing past lexsort depth may impact performance.\n",
      "  sets = df_all.loc[routine, exercise].to_dict(orient=\"records\")\n",
      "C:\\Users\\jorda\\AppData\\Local\\Temp\\ipykernel_34876\\1573314857.py:5: PerformanceWarning: indexing past lexsort depth may impact performance.\n",
      "  sets = df_all.loc[routine, exercise].to_dict(orient=\"records\")\n"
     ]
    },
    {
     "name": "stdout",
     "output_type": "stream",
     "text": [
      "Created Routine Wave Loading 642 Lower 2\n"
     ]
    },
    {
     "name": "stderr",
     "output_type": "stream",
     "text": [
      "C:\\Users\\jorda\\AppData\\Local\\Temp\\ipykernel_34876\\1573314857.py:5: PerformanceWarning: indexing past lexsort depth may impact performance.\n",
      "  sets = df_all.loc[routine, exercise].to_dict(orient=\"records\")\n",
      "C:\\Users\\jorda\\AppData\\Local\\Temp\\ipykernel_34876\\1573314857.py:5: PerformanceWarning: indexing past lexsort depth may impact performance.\n",
      "  sets = df_all.loc[routine, exercise].to_dict(orient=\"records\")\n",
      "C:\\Users\\jorda\\AppData\\Local\\Temp\\ipykernel_34876\\1573314857.py:5: PerformanceWarning: indexing past lexsort depth may impact performance.\n",
      "  sets = df_all.loc[routine, exercise].to_dict(orient=\"records\")\n",
      "C:\\Users\\jorda\\AppData\\Local\\Temp\\ipykernel_34876\\1573314857.py:5: PerformanceWarning: indexing past lexsort depth may impact performance.\n",
      "  sets = df_all.loc[routine, exercise].to_dict(orient=\"records\")\n",
      "C:\\Users\\jorda\\AppData\\Local\\Temp\\ipykernel_34876\\1573314857.py:5: PerformanceWarning: indexing past lexsort depth may impact performance.\n",
      "  sets = df_all.loc[routine, exercise].to_dict(orient=\"records\")\n",
      "C:\\Users\\jorda\\AppData\\Local\\Temp\\ipykernel_34876\\1573314857.py:5: PerformanceWarning: indexing past lexsort depth may impact performance.\n",
      "  sets = df_all.loc[routine, exercise].to_dict(orient=\"records\")\n",
      "C:\\Users\\jorda\\AppData\\Local\\Temp\\ipykernel_34876\\1573314857.py:5: PerformanceWarning: indexing past lexsort depth may impact performance.\n",
      "  sets = df_all.loc[routine, exercise].to_dict(orient=\"records\")\n"
     ]
    },
    {
     "name": "stdout",
     "output_type": "stream",
     "text": [
      "Created Routine Wave Loading 642 Upper 2\n"
     ]
    },
    {
     "name": "stderr",
     "output_type": "stream",
     "text": [
      "C:\\Users\\jorda\\AppData\\Local\\Temp\\ipykernel_34876\\1573314857.py:5: PerformanceWarning: indexing past lexsort depth may impact performance.\n",
      "  sets = df_all.loc[routine, exercise].to_dict(orient=\"records\")\n",
      "C:\\Users\\jorda\\AppData\\Local\\Temp\\ipykernel_34876\\1573314857.py:5: PerformanceWarning: indexing past lexsort depth may impact performance.\n",
      "  sets = df_all.loc[routine, exercise].to_dict(orient=\"records\")\n",
      "C:\\Users\\jorda\\AppData\\Local\\Temp\\ipykernel_34876\\1573314857.py:5: PerformanceWarning: indexing past lexsort depth may impact performance.\n",
      "  sets = df_all.loc[routine, exercise].to_dict(orient=\"records\")\n",
      "C:\\Users\\jorda\\AppData\\Local\\Temp\\ipykernel_34876\\1573314857.py:5: PerformanceWarning: indexing past lexsort depth may impact performance.\n",
      "  sets = df_all.loc[routine, exercise].to_dict(orient=\"records\")\n",
      "C:\\Users\\jorda\\AppData\\Local\\Temp\\ipykernel_34876\\1573314857.py:5: PerformanceWarning: indexing past lexsort depth may impact performance.\n",
      "  sets = df_all.loc[routine, exercise].to_dict(orient=\"records\")\n"
     ]
    },
    {
     "name": "stdout",
     "output_type": "stream",
     "text": [
      "Created Routine Hypertrophy Legs\n"
     ]
    },
    {
     "name": "stderr",
     "output_type": "stream",
     "text": [
      "C:\\Users\\jorda\\AppData\\Local\\Temp\\ipykernel_34876\\1573314857.py:5: PerformanceWarning: indexing past lexsort depth may impact performance.\n",
      "  sets = df_all.loc[routine, exercise].to_dict(orient=\"records\")\n",
      "C:\\Users\\jorda\\AppData\\Local\\Temp\\ipykernel_34876\\1573314857.py:5: PerformanceWarning: indexing past lexsort depth may impact performance.\n",
      "  sets = df_all.loc[routine, exercise].to_dict(orient=\"records\")\n",
      "C:\\Users\\jorda\\AppData\\Local\\Temp\\ipykernel_34876\\1573314857.py:5: PerformanceWarning: indexing past lexsort depth may impact performance.\n",
      "  sets = df_all.loc[routine, exercise].to_dict(orient=\"records\")\n",
      "C:\\Users\\jorda\\AppData\\Local\\Temp\\ipykernel_34876\\1573314857.py:5: PerformanceWarning: indexing past lexsort depth may impact performance.\n",
      "  sets = df_all.loc[routine, exercise].to_dict(orient=\"records\")\n",
      "C:\\Users\\jorda\\AppData\\Local\\Temp\\ipykernel_34876\\1573314857.py:5: PerformanceWarning: indexing past lexsort depth may impact performance.\n",
      "  sets = df_all.loc[routine, exercise].to_dict(orient=\"records\")\n",
      "C:\\Users\\jorda\\AppData\\Local\\Temp\\ipykernel_34876\\1573314857.py:5: PerformanceWarning: indexing past lexsort depth may impact performance.\n",
      "  sets = df_all.loc[routine, exercise].to_dict(orient=\"records\")\n"
     ]
    },
    {
     "name": "stdout",
     "output_type": "stream",
     "text": [
      "Created Routine Hypertrophy Chest and Back\n"
     ]
    },
    {
     "name": "stderr",
     "output_type": "stream",
     "text": [
      "C:\\Users\\jorda\\AppData\\Local\\Temp\\ipykernel_34876\\1573314857.py:5: PerformanceWarning: indexing past lexsort depth may impact performance.\n",
      "  sets = df_all.loc[routine, exercise].to_dict(orient=\"records\")\n",
      "C:\\Users\\jorda\\AppData\\Local\\Temp\\ipykernel_34876\\1573314857.py:5: PerformanceWarning: indexing past lexsort depth may impact performance.\n",
      "  sets = df_all.loc[routine, exercise].to_dict(orient=\"records\")\n",
      "C:\\Users\\jorda\\AppData\\Local\\Temp\\ipykernel_34876\\1573314857.py:5: PerformanceWarning: indexing past lexsort depth may impact performance.\n",
      "  sets = df_all.loc[routine, exercise].to_dict(orient=\"records\")\n",
      "C:\\Users\\jorda\\AppData\\Local\\Temp\\ipykernel_34876\\1573314857.py:5: PerformanceWarning: indexing past lexsort depth may impact performance.\n",
      "  sets = df_all.loc[routine, exercise].to_dict(orient=\"records\")\n",
      "C:\\Users\\jorda\\AppData\\Local\\Temp\\ipykernel_34876\\1573314857.py:5: PerformanceWarning: indexing past lexsort depth may impact performance.\n",
      "  sets = df_all.loc[routine, exercise].to_dict(orient=\"records\")\n",
      "C:\\Users\\jorda\\AppData\\Local\\Temp\\ipykernel_34876\\1573314857.py:5: PerformanceWarning: indexing past lexsort depth may impact performance.\n",
      "  sets = df_all.loc[routine, exercise].to_dict(orient=\"records\")\n"
     ]
    },
    {
     "name": "stdout",
     "output_type": "stream",
     "text": [
      "Created Routine Hypertrophy Shoulders and Arms\n"
     ]
    },
    {
     "name": "stderr",
     "output_type": "stream",
     "text": [
      "C:\\Users\\jorda\\AppData\\Local\\Temp\\ipykernel_34876\\1573314857.py:5: PerformanceWarning: indexing past lexsort depth may impact performance.\n",
      "  sets = df_all.loc[routine, exercise].to_dict(orient=\"records\")\n",
      "C:\\Users\\jorda\\AppData\\Local\\Temp\\ipykernel_34876\\1573314857.py:5: PerformanceWarning: indexing past lexsort depth may impact performance.\n",
      "  sets = df_all.loc[routine, exercise].to_dict(orient=\"records\")\n",
      "C:\\Users\\jorda\\AppData\\Local\\Temp\\ipykernel_34876\\1573314857.py:5: PerformanceWarning: indexing past lexsort depth may impact performance.\n",
      "  sets = df_all.loc[routine, exercise].to_dict(orient=\"records\")\n",
      "C:\\Users\\jorda\\AppData\\Local\\Temp\\ipykernel_34876\\1573314857.py:5: PerformanceWarning: indexing past lexsort depth may impact performance.\n",
      "  sets = df_all.loc[routine, exercise].to_dict(orient=\"records\")\n",
      "C:\\Users\\jorda\\AppData\\Local\\Temp\\ipykernel_34876\\1573314857.py:5: PerformanceWarning: indexing past lexsort depth may impact performance.\n",
      "  sets = df_all.loc[routine, exercise].to_dict(orient=\"records\")\n",
      "C:\\Users\\jorda\\AppData\\Local\\Temp\\ipykernel_34876\\1573314857.py:5: PerformanceWarning: indexing past lexsort depth may impact performance.\n",
      "  sets = df_all.loc[routine, exercise].to_dict(orient=\"records\")\n"
     ]
    },
    {
     "name": "stdout",
     "output_type": "stream",
     "text": [
      "Created Routine Arm Block Chest\n"
     ]
    },
    {
     "name": "stderr",
     "output_type": "stream",
     "text": [
      "C:\\Users\\jorda\\AppData\\Local\\Temp\\ipykernel_34876\\1573314857.py:5: PerformanceWarning: indexing past lexsort depth may impact performance.\n",
      "  sets = df_all.loc[routine, exercise].to_dict(orient=\"records\")\n",
      "C:\\Users\\jorda\\AppData\\Local\\Temp\\ipykernel_34876\\1573314857.py:5: PerformanceWarning: indexing past lexsort depth may impact performance.\n",
      "  sets = df_all.loc[routine, exercise].to_dict(orient=\"records\")\n",
      "C:\\Users\\jorda\\AppData\\Local\\Temp\\ipykernel_34876\\1573314857.py:5: PerformanceWarning: indexing past lexsort depth may impact performance.\n",
      "  sets = df_all.loc[routine, exercise].to_dict(orient=\"records\")\n",
      "C:\\Users\\jorda\\AppData\\Local\\Temp\\ipykernel_34876\\1573314857.py:5: PerformanceWarning: indexing past lexsort depth may impact performance.\n",
      "  sets = df_all.loc[routine, exercise].to_dict(orient=\"records\")\n",
      "C:\\Users\\jorda\\AppData\\Local\\Temp\\ipykernel_34876\\1573314857.py:5: PerformanceWarning: indexing past lexsort depth may impact performance.\n",
      "  sets = df_all.loc[routine, exercise].to_dict(orient=\"records\")\n",
      "C:\\Users\\jorda\\AppData\\Local\\Temp\\ipykernel_34876\\1573314857.py:5: PerformanceWarning: indexing past lexsort depth may impact performance.\n",
      "  sets = df_all.loc[routine, exercise].to_dict(orient=\"records\")\n"
     ]
    },
    {
     "name": "stdout",
     "output_type": "stream",
     "text": [
      "Created Routine Arm Block Back\n"
     ]
    },
    {
     "name": "stderr",
     "output_type": "stream",
     "text": [
      "C:\\Users\\jorda\\AppData\\Local\\Temp\\ipykernel_34876\\1573314857.py:5: PerformanceWarning: indexing past lexsort depth may impact performance.\n",
      "  sets = df_all.loc[routine, exercise].to_dict(orient=\"records\")\n",
      "C:\\Users\\jorda\\AppData\\Local\\Temp\\ipykernel_34876\\1573314857.py:5: PerformanceWarning: indexing past lexsort depth may impact performance.\n",
      "  sets = df_all.loc[routine, exercise].to_dict(orient=\"records\")\n",
      "C:\\Users\\jorda\\AppData\\Local\\Temp\\ipykernel_34876\\1573314857.py:5: PerformanceWarning: indexing past lexsort depth may impact performance.\n",
      "  sets = df_all.loc[routine, exercise].to_dict(orient=\"records\")\n",
      "C:\\Users\\jorda\\AppData\\Local\\Temp\\ipykernel_34876\\1573314857.py:5: PerformanceWarning: indexing past lexsort depth may impact performance.\n",
      "  sets = df_all.loc[routine, exercise].to_dict(orient=\"records\")\n",
      "C:\\Users\\jorda\\AppData\\Local\\Temp\\ipykernel_34876\\1573314857.py:5: PerformanceWarning: indexing past lexsort depth may impact performance.\n",
      "  sets = df_all.loc[routine, exercise].to_dict(orient=\"records\")\n"
     ]
    },
    {
     "name": "stdout",
     "output_type": "stream",
     "text": [
      "Created Routine Arm Block Legs\n"
     ]
    },
    {
     "name": "stderr",
     "output_type": "stream",
     "text": [
      "C:\\Users\\jorda\\AppData\\Local\\Temp\\ipykernel_34876\\1573314857.py:5: PerformanceWarning: indexing past lexsort depth may impact performance.\n",
      "  sets = df_all.loc[routine, exercise].to_dict(orient=\"records\")\n",
      "C:\\Users\\jorda\\AppData\\Local\\Temp\\ipykernel_34876\\1573314857.py:5: PerformanceWarning: indexing past lexsort depth may impact performance.\n",
      "  sets = df_all.loc[routine, exercise].to_dict(orient=\"records\")\n",
      "C:\\Users\\jorda\\AppData\\Local\\Temp\\ipykernel_34876\\1573314857.py:5: PerformanceWarning: indexing past lexsort depth may impact performance.\n",
      "  sets = df_all.loc[routine, exercise].to_dict(orient=\"records\")\n",
      "C:\\Users\\jorda\\AppData\\Local\\Temp\\ipykernel_34876\\1573314857.py:5: PerformanceWarning: indexing past lexsort depth may impact performance.\n",
      "  sets = df_all.loc[routine, exercise].to_dict(orient=\"records\")\n",
      "C:\\Users\\jorda\\AppData\\Local\\Temp\\ipykernel_34876\\1573314857.py:5: PerformanceWarning: indexing past lexsort depth may impact performance.\n",
      "  sets = df_all.loc[routine, exercise].to_dict(orient=\"records\")\n",
      "C:\\Users\\jorda\\AppData\\Local\\Temp\\ipykernel_34876\\1573314857.py:5: PerformanceWarning: indexing past lexsort depth may impact performance.\n",
      "  sets = df_all.loc[routine, exercise].to_dict(orient=\"records\")\n",
      "C:\\Users\\jorda\\AppData\\Local\\Temp\\ipykernel_34876\\1573314857.py:5: PerformanceWarning: indexing past lexsort depth may impact performance.\n",
      "  sets = df_all.loc[routine, exercise].to_dict(orient=\"records\")\n"
     ]
    },
    {
     "name": "stdout",
     "output_type": "stream",
     "text": [
      "Created Routine Arm Block Arms\n"
     ]
    },
    {
     "name": "stderr",
     "output_type": "stream",
     "text": [
      "C:\\Users\\jorda\\AppData\\Local\\Temp\\ipykernel_34876\\1573314857.py:5: PerformanceWarning: indexing past lexsort depth may impact performance.\n",
      "  sets = df_all.loc[routine, exercise].to_dict(orient=\"records\")\n",
      "C:\\Users\\jorda\\AppData\\Local\\Temp\\ipykernel_34876\\1573314857.py:5: PerformanceWarning: indexing past lexsort depth may impact performance.\n",
      "  sets = df_all.loc[routine, exercise].to_dict(orient=\"records\")\n",
      "C:\\Users\\jorda\\AppData\\Local\\Temp\\ipykernel_34876\\1573314857.py:5: PerformanceWarning: indexing past lexsort depth may impact performance.\n",
      "  sets = df_all.loc[routine, exercise].to_dict(orient=\"records\")\n",
      "C:\\Users\\jorda\\AppData\\Local\\Temp\\ipykernel_34876\\1573314857.py:5: PerformanceWarning: indexing past lexsort depth may impact performance.\n",
      "  sets = df_all.loc[routine, exercise].to_dict(orient=\"records\")\n"
     ]
    },
    {
     "name": "stdout",
     "output_type": "stream",
     "text": [
      "Created Routine Arm Block Legs 2\n"
     ]
    },
    {
     "name": "stderr",
     "output_type": "stream",
     "text": [
      "C:\\Users\\jorda\\AppData\\Local\\Temp\\ipykernel_34876\\1573314857.py:5: PerformanceWarning: indexing past lexsort depth may impact performance.\n",
      "  sets = df_all.loc[routine, exercise].to_dict(orient=\"records\")\n",
      "C:\\Users\\jorda\\AppData\\Local\\Temp\\ipykernel_34876\\1573314857.py:5: PerformanceWarning: indexing past lexsort depth may impact performance.\n",
      "  sets = df_all.loc[routine, exercise].to_dict(orient=\"records\")\n",
      "C:\\Users\\jorda\\AppData\\Local\\Temp\\ipykernel_34876\\1573314857.py:5: PerformanceWarning: indexing past lexsort depth may impact performance.\n",
      "  sets = df_all.loc[routine, exercise].to_dict(orient=\"records\")\n",
      "C:\\Users\\jorda\\AppData\\Local\\Temp\\ipykernel_34876\\1573314857.py:5: PerformanceWarning: indexing past lexsort depth may impact performance.\n",
      "  sets = df_all.loc[routine, exercise].to_dict(orient=\"records\")\n",
      "C:\\Users\\jorda\\AppData\\Local\\Temp\\ipykernel_34876\\1573314857.py:5: PerformanceWarning: indexing past lexsort depth may impact performance.\n",
      "  sets = df_all.loc[routine, exercise].to_dict(orient=\"records\")\n",
      "C:\\Users\\jorda\\AppData\\Local\\Temp\\ipykernel_34876\\1573314857.py:5: PerformanceWarning: indexing past lexsort depth may impact performance.\n",
      "  sets = df_all.loc[routine, exercise].to_dict(orient=\"records\")\n",
      "C:\\Users\\jorda\\AppData\\Local\\Temp\\ipykernel_34876\\1573314857.py:5: PerformanceWarning: indexing past lexsort depth may impact performance.\n",
      "  sets = df_all.loc[routine, exercise].to_dict(orient=\"records\")\n"
     ]
    },
    {
     "name": "stdout",
     "output_type": "stream",
     "text": [
      "Created Routine Upper Lower 2 Sets Upper 2\n"
     ]
    },
    {
     "name": "stderr",
     "output_type": "stream",
     "text": [
      "C:\\Users\\jorda\\AppData\\Local\\Temp\\ipykernel_34876\\1573314857.py:5: PerformanceWarning: indexing past lexsort depth may impact performance.\n",
      "  sets = df_all.loc[routine, exercise].to_dict(orient=\"records\")\n",
      "C:\\Users\\jorda\\AppData\\Local\\Temp\\ipykernel_34876\\1573314857.py:5: PerformanceWarning: indexing past lexsort depth may impact performance.\n",
      "  sets = df_all.loc[routine, exercise].to_dict(orient=\"records\")\n",
      "C:\\Users\\jorda\\AppData\\Local\\Temp\\ipykernel_34876\\1573314857.py:5: PerformanceWarning: indexing past lexsort depth may impact performance.\n",
      "  sets = df_all.loc[routine, exercise].to_dict(orient=\"records\")\n",
      "C:\\Users\\jorda\\AppData\\Local\\Temp\\ipykernel_34876\\1573314857.py:5: PerformanceWarning: indexing past lexsort depth may impact performance.\n",
      "  sets = df_all.loc[routine, exercise].to_dict(orient=\"records\")\n",
      "C:\\Users\\jorda\\AppData\\Local\\Temp\\ipykernel_34876\\1573314857.py:5: PerformanceWarning: indexing past lexsort depth may impact performance.\n",
      "  sets = df_all.loc[routine, exercise].to_dict(orient=\"records\")\n"
     ]
    },
    {
     "name": "stdout",
     "output_type": "stream",
     "text": [
      "Created Routine Upper Lower 2 Sets Lower 2\n"
     ]
    },
    {
     "name": "stderr",
     "output_type": "stream",
     "text": [
      "C:\\Users\\jorda\\AppData\\Local\\Temp\\ipykernel_34876\\1573314857.py:5: PerformanceWarning: indexing past lexsort depth may impact performance.\n",
      "  sets = df_all.loc[routine, exercise].to_dict(orient=\"records\")\n",
      "C:\\Users\\jorda\\AppData\\Local\\Temp\\ipykernel_34876\\1573314857.py:5: PerformanceWarning: indexing past lexsort depth may impact performance.\n",
      "  sets = df_all.loc[routine, exercise].to_dict(orient=\"records\")\n",
      "C:\\Users\\jorda\\AppData\\Local\\Temp\\ipykernel_34876\\1573314857.py:5: PerformanceWarning: indexing past lexsort depth may impact performance.\n",
      "  sets = df_all.loc[routine, exercise].to_dict(orient=\"records\")\n",
      "C:\\Users\\jorda\\AppData\\Local\\Temp\\ipykernel_34876\\1573314857.py:5: PerformanceWarning: indexing past lexsort depth may impact performance.\n",
      "  sets = df_all.loc[routine, exercise].to_dict(orient=\"records\")\n",
      "C:\\Users\\jorda\\AppData\\Local\\Temp\\ipykernel_34876\\1573314857.py:5: PerformanceWarning: indexing past lexsort depth may impact performance.\n",
      "  sets = df_all.loc[routine, exercise].to_dict(orient=\"records\")\n",
      "C:\\Users\\jorda\\AppData\\Local\\Temp\\ipykernel_34876\\1573314857.py:5: PerformanceWarning: indexing past lexsort depth may impact performance.\n",
      "  sets = df_all.loc[routine, exercise].to_dict(orient=\"records\")\n",
      "C:\\Users\\jorda\\AppData\\Local\\Temp\\ipykernel_34876\\1573314857.py:5: PerformanceWarning: indexing past lexsort depth may impact performance.\n",
      "  sets = df_all.loc[routine, exercise].to_dict(orient=\"records\")\n"
     ]
    },
    {
     "name": "stdout",
     "output_type": "stream",
     "text": [
      "Created Routine Upper Lower 2 Sets Upper 1\n"
     ]
    },
    {
     "name": "stderr",
     "output_type": "stream",
     "text": [
      "C:\\Users\\jorda\\AppData\\Local\\Temp\\ipykernel_34876\\1573314857.py:5: PerformanceWarning: indexing past lexsort depth may impact performance.\n",
      "  sets = df_all.loc[routine, exercise].to_dict(orient=\"records\")\n",
      "C:\\Users\\jorda\\AppData\\Local\\Temp\\ipykernel_34876\\1573314857.py:5: PerformanceWarning: indexing past lexsort depth may impact performance.\n",
      "  sets = df_all.loc[routine, exercise].to_dict(orient=\"records\")\n",
      "C:\\Users\\jorda\\AppData\\Local\\Temp\\ipykernel_34876\\1573314857.py:5: PerformanceWarning: indexing past lexsort depth may impact performance.\n",
      "  sets = df_all.loc[routine, exercise].to_dict(orient=\"records\")\n",
      "C:\\Users\\jorda\\AppData\\Local\\Temp\\ipykernel_34876\\1573314857.py:5: PerformanceWarning: indexing past lexsort depth may impact performance.\n",
      "  sets = df_all.loc[routine, exercise].to_dict(orient=\"records\")\n",
      "C:\\Users\\jorda\\AppData\\Local\\Temp\\ipykernel_34876\\1573314857.py:5: PerformanceWarning: indexing past lexsort depth may impact performance.\n",
      "  sets = df_all.loc[routine, exercise].to_dict(orient=\"records\")\n"
     ]
    },
    {
     "name": "stdout",
     "output_type": "stream",
     "text": [
      "Created Routine Upper Lower 2 Sets Lower 1\n"
     ]
    },
    {
     "name": "stderr",
     "output_type": "stream",
     "text": [
      "C:\\Users\\jorda\\AppData\\Local\\Temp\\ipykernel_34876\\1573314857.py:5: PerformanceWarning: indexing past lexsort depth may impact performance.\n",
      "  sets = df_all.loc[routine, exercise].to_dict(orient=\"records\")\n",
      "C:\\Users\\jorda\\AppData\\Local\\Temp\\ipykernel_34876\\1573314857.py:5: PerformanceWarning: indexing past lexsort depth may impact performance.\n",
      "  sets = df_all.loc[routine, exercise].to_dict(orient=\"records\")\n",
      "C:\\Users\\jorda\\AppData\\Local\\Temp\\ipykernel_34876\\1573314857.py:5: PerformanceWarning: indexing past lexsort depth may impact performance.\n",
      "  sets = df_all.loc[routine, exercise].to_dict(orient=\"records\")\n",
      "C:\\Users\\jorda\\AppData\\Local\\Temp\\ipykernel_34876\\1573314857.py:5: PerformanceWarning: indexing past lexsort depth may impact performance.\n",
      "  sets = df_all.loc[routine, exercise].to_dict(orient=\"records\")\n",
      "C:\\Users\\jorda\\AppData\\Local\\Temp\\ipykernel_34876\\1573314857.py:5: PerformanceWarning: indexing past lexsort depth may impact performance.\n",
      "  sets = df_all.loc[routine, exercise].to_dict(orient=\"records\")\n"
     ]
    },
    {
     "name": "stdout",
     "output_type": "stream",
     "text": [
      "Created Routine Upper Lower 3 Sets Lower 1\n"
     ]
    },
    {
     "name": "stderr",
     "output_type": "stream",
     "text": [
      "C:\\Users\\jorda\\AppData\\Local\\Temp\\ipykernel_34876\\1573314857.py:5: PerformanceWarning: indexing past lexsort depth may impact performance.\n",
      "  sets = df_all.loc[routine, exercise].to_dict(orient=\"records\")\n",
      "C:\\Users\\jorda\\AppData\\Local\\Temp\\ipykernel_34876\\1573314857.py:5: PerformanceWarning: indexing past lexsort depth may impact performance.\n",
      "  sets = df_all.loc[routine, exercise].to_dict(orient=\"records\")\n",
      "C:\\Users\\jorda\\AppData\\Local\\Temp\\ipykernel_34876\\1573314857.py:5: PerformanceWarning: indexing past lexsort depth may impact performance.\n",
      "  sets = df_all.loc[routine, exercise].to_dict(orient=\"records\")\n",
      "C:\\Users\\jorda\\AppData\\Local\\Temp\\ipykernel_34876\\1573314857.py:5: PerformanceWarning: indexing past lexsort depth may impact performance.\n",
      "  sets = df_all.loc[routine, exercise].to_dict(orient=\"records\")\n",
      "C:\\Users\\jorda\\AppData\\Local\\Temp\\ipykernel_34876\\1573314857.py:5: PerformanceWarning: indexing past lexsort depth may impact performance.\n",
      "  sets = df_all.loc[routine, exercise].to_dict(orient=\"records\")\n",
      "C:\\Users\\jorda\\AppData\\Local\\Temp\\ipykernel_34876\\1573314857.py:5: PerformanceWarning: indexing past lexsort depth may impact performance.\n",
      "  sets = df_all.loc[routine, exercise].to_dict(orient=\"records\")\n",
      "C:\\Users\\jorda\\AppData\\Local\\Temp\\ipykernel_34876\\1573314857.py:5: PerformanceWarning: indexing past lexsort depth may impact performance.\n",
      "  sets = df_all.loc[routine, exercise].to_dict(orient=\"records\")\n"
     ]
    },
    {
     "name": "stdout",
     "output_type": "stream",
     "text": [
      "Created Routine Upper Lower 3 Sets Upper 1\n"
     ]
    },
    {
     "name": "stderr",
     "output_type": "stream",
     "text": [
      "C:\\Users\\jorda\\AppData\\Local\\Temp\\ipykernel_34876\\1573314857.py:5: PerformanceWarning: indexing past lexsort depth may impact performance.\n",
      "  sets = df_all.loc[routine, exercise].to_dict(orient=\"records\")\n",
      "C:\\Users\\jorda\\AppData\\Local\\Temp\\ipykernel_34876\\1573314857.py:5: PerformanceWarning: indexing past lexsort depth may impact performance.\n",
      "  sets = df_all.loc[routine, exercise].to_dict(orient=\"records\")\n",
      "C:\\Users\\jorda\\AppData\\Local\\Temp\\ipykernel_34876\\1573314857.py:5: PerformanceWarning: indexing past lexsort depth may impact performance.\n",
      "  sets = df_all.loc[routine, exercise].to_dict(orient=\"records\")\n",
      "C:\\Users\\jorda\\AppData\\Local\\Temp\\ipykernel_34876\\1573314857.py:5: PerformanceWarning: indexing past lexsort depth may impact performance.\n",
      "  sets = df_all.loc[routine, exercise].to_dict(orient=\"records\")\n",
      "C:\\Users\\jorda\\AppData\\Local\\Temp\\ipykernel_34876\\1573314857.py:5: PerformanceWarning: indexing past lexsort depth may impact performance.\n",
      "  sets = df_all.loc[routine, exercise].to_dict(orient=\"records\")\n"
     ]
    },
    {
     "name": "stdout",
     "output_type": "stream",
     "text": [
      "Created Routine Upper Lower 3 Sets Lower 2\n"
     ]
    },
    {
     "name": "stderr",
     "output_type": "stream",
     "text": [
      "C:\\Users\\jorda\\AppData\\Local\\Temp\\ipykernel_34876\\1573314857.py:5: PerformanceWarning: indexing past lexsort depth may impact performance.\n",
      "  sets = df_all.loc[routine, exercise].to_dict(orient=\"records\")\n",
      "C:\\Users\\jorda\\AppData\\Local\\Temp\\ipykernel_34876\\1573314857.py:5: PerformanceWarning: indexing past lexsort depth may impact performance.\n",
      "  sets = df_all.loc[routine, exercise].to_dict(orient=\"records\")\n",
      "C:\\Users\\jorda\\AppData\\Local\\Temp\\ipykernel_34876\\1573314857.py:5: PerformanceWarning: indexing past lexsort depth may impact performance.\n",
      "  sets = df_all.loc[routine, exercise].to_dict(orient=\"records\")\n",
      "C:\\Users\\jorda\\AppData\\Local\\Temp\\ipykernel_34876\\1573314857.py:5: PerformanceWarning: indexing past lexsort depth may impact performance.\n",
      "  sets = df_all.loc[routine, exercise].to_dict(orient=\"records\")\n",
      "C:\\Users\\jorda\\AppData\\Local\\Temp\\ipykernel_34876\\1573314857.py:5: PerformanceWarning: indexing past lexsort depth may impact performance.\n",
      "  sets = df_all.loc[routine, exercise].to_dict(orient=\"records\")\n",
      "C:\\Users\\jorda\\AppData\\Local\\Temp\\ipykernel_34876\\1573314857.py:5: PerformanceWarning: indexing past lexsort depth may impact performance.\n",
      "  sets = df_all.loc[routine, exercise].to_dict(orient=\"records\")\n",
      "C:\\Users\\jorda\\AppData\\Local\\Temp\\ipykernel_34876\\1573314857.py:5: PerformanceWarning: indexing past lexsort depth may impact performance.\n",
      "  sets = df_all.loc[routine, exercise].to_dict(orient=\"records\")\n"
     ]
    },
    {
     "name": "stdout",
     "output_type": "stream",
     "text": [
      "Created Routine Upper Lower 3 Sets Upper 2\n"
     ]
    }
   ],
   "source": [
    "for routine in routines:\n",
    "    all_exercises = []\n",
    "    exercises = df_all.loc[routine].index.unique()\n",
    "    for exercise in exercises:\n",
    "        sets = df_all.loc[routine, exercise].to_dict(orient=\"records\")\n",
    "        data = {\"id\": exercise, \"planned_sets\": sets}\n",
    "        all_exercises.append(data)\n",
    "    try:\n",
    "        response = client.workout_routines.create_workout_routine(\n",
    "            name=routine, exercises=all_exercises, user_id=u[\"id\"]\n",
    "        )\n",
    "        print(f\"Created Routine {routine}\")\n",
    "    except Exception as e:\n",
    "        print(e)"
   ]
  },
  {
   "cell_type": "markdown",
   "metadata": {},
   "source": [
    "# Workouts"
   ]
  },
  {
   "cell_type": "code",
   "execution_count": 25,
   "metadata": {},
   "outputs": [
    {
     "data": {
      "text/html": [
       "<div>\n",
       "<style scoped>\n",
       "    .dataframe tbody tr th:only-of-type {\n",
       "        vertical-align: middle;\n",
       "    }\n",
       "\n",
       "    .dataframe tbody tr th {\n",
       "        vertical-align: top;\n",
       "    }\n",
       "\n",
       "    .dataframe thead th {\n",
       "        text-align: right;\n",
       "    }\n",
       "</style>\n",
       "<table border=\"1\" class=\"dataframe\">\n",
       "  <thead>\n",
       "    <tr style=\"text-align: right;\">\n",
       "      <th></th>\n",
       "      <th>workoutroutine</th>\n",
       "      <th>date</th>\n",
       "      <th>exercise</th>\n",
       "      <th>weight</th>\n",
       "      <th>reps</th>\n",
       "    </tr>\n",
       "  </thead>\n",
       "  <tbody>\n",
       "    <tr>\n",
       "      <th>0</th>\n",
       "      <td>arm block chest</td>\n",
       "      <td>2024-10-28</td>\n",
       "      <td>bench press</td>\n",
       "      <td>72.5</td>\n",
       "      <td>8.0</td>\n",
       "    </tr>\n",
       "    <tr>\n",
       "      <th>1</th>\n",
       "      <td>arm block chest</td>\n",
       "      <td>2024-10-28</td>\n",
       "      <td>bench press</td>\n",
       "      <td>72.5</td>\n",
       "      <td>5.0</td>\n",
       "    </tr>\n",
       "    <tr>\n",
       "      <th>2</th>\n",
       "      <td>arm block chest</td>\n",
       "      <td>2024-10-28</td>\n",
       "      <td>bench press</td>\n",
       "      <td>60.0</td>\n",
       "      <td>11.0</td>\n",
       "    </tr>\n",
       "    <tr>\n",
       "      <th>3</th>\n",
       "      <td>arm block chest</td>\n",
       "      <td>2024-10-28</td>\n",
       "      <td>dips</td>\n",
       "      <td>0.0</td>\n",
       "      <td>10.0</td>\n",
       "    </tr>\n",
       "    <tr>\n",
       "      <th>4</th>\n",
       "      <td>arm block chest</td>\n",
       "      <td>2024-10-28</td>\n",
       "      <td>dips</td>\n",
       "      <td>0.0</td>\n",
       "      <td>10.0</td>\n",
       "    </tr>\n",
       "  </tbody>\n",
       "</table>\n",
       "</div>"
      ],
      "text/plain": [
       "    workoutroutine       date     exercise  weight  reps\n",
       "0  arm block chest 2024-10-28  bench press    72.5   8.0\n",
       "1  arm block chest 2024-10-28  bench press    72.5   5.0\n",
       "2  arm block chest 2024-10-28  bench press    60.0  11.0\n",
       "3  arm block chest 2024-10-28         dips     0.0  10.0\n",
       "4  arm block chest 2024-10-28         dips     0.0  10.0"
      ]
     },
     "execution_count": 25,
     "metadata": {},
     "output_type": "execute_result"
    }
   ],
   "source": [
    "df = pd.read_excel(DATA_DIR / \"setup.xlsx\", sheet_name=\"workouts\")\n",
    "df[\"workoutroutine\"] = df[\"workoutroutine\"].str.lower()\n",
    "df[\"exercise\"] = df[\"exercise\"].str.lower()\n",
    "df.head()"
   ]
  },
  {
   "cell_type": "code",
   "execution_count": 26,
   "metadata": {},
   "outputs": [],
   "source": [
    "dates = df[\"date\"].unique()\n",
    "dates = [str(date.date()) for date in dates]"
   ]
  },
  {
   "cell_type": "code",
   "execution_count": 27,
   "metadata": {},
   "outputs": [
    {
     "data": {
      "text/html": [
       "<div>\n",
       "<style scoped>\n",
       "    .dataframe tbody tr th:only-of-type {\n",
       "        vertical-align: middle;\n",
       "    }\n",
       "\n",
       "    .dataframe tbody tr th {\n",
       "        vertical-align: top;\n",
       "    }\n",
       "\n",
       "    .dataframe thead th {\n",
       "        text-align: right;\n",
       "    }\n",
       "</style>\n",
       "<table border=\"1\" class=\"dataframe\">\n",
       "  <thead>\n",
       "    <tr style=\"text-align: right;\">\n",
       "      <th></th>\n",
       "      <th>exercise_name</th>\n",
       "      <th>exercise_id</th>\n",
       "    </tr>\n",
       "  </thead>\n",
       "  <tbody>\n",
       "    <tr>\n",
       "      <th>0</th>\n",
       "      <td>bench press</td>\n",
       "      <td>1</td>\n",
       "    </tr>\n",
       "    <tr>\n",
       "      <th>1</th>\n",
       "      <td>lean-in cable row</td>\n",
       "      <td>2</td>\n",
       "    </tr>\n",
       "    <tr>\n",
       "      <th>2</th>\n",
       "      <td>dumbbell shoulder press neutral grip</td>\n",
       "      <td>3</td>\n",
       "    </tr>\n",
       "    <tr>\n",
       "      <th>3</th>\n",
       "      <td>lat pulldown neutral grip</td>\n",
       "      <td>4</td>\n",
       "    </tr>\n",
       "    <tr>\n",
       "      <th>4</th>\n",
       "      <td>rope hammer curls</td>\n",
       "      <td>5</td>\n",
       "    </tr>\n",
       "  </tbody>\n",
       "</table>\n",
       "</div>"
      ],
      "text/plain": [
       "                          exercise_name  exercise_id\n",
       "0                           bench press            1\n",
       "1                     lean-in cable row            2\n",
       "2  dumbbell shoulder press neutral grip            3\n",
       "3             lat pulldown neutral grip            4\n",
       "4                     rope hammer curls            5"
      ]
     },
     "execution_count": 27,
     "metadata": {},
     "output_type": "execute_result"
    }
   ],
   "source": [
    "exs = pd.DataFrame(client.exercises.get_exercises())\n",
    "exs = exs.rename(columns={\"id\": \"exercise_id\", \"name\": \"exercise_name\"})\n",
    "exs.head()"
   ]
  },
  {
   "cell_type": "code",
   "execution_count": 28,
   "metadata": {},
   "outputs": [
    {
     "data": {
      "text/html": [
       "<div>\n",
       "<style scoped>\n",
       "    .dataframe tbody tr th:only-of-type {\n",
       "        vertical-align: middle;\n",
       "    }\n",
       "\n",
       "    .dataframe tbody tr th {\n",
       "        vertical-align: top;\n",
       "    }\n",
       "\n",
       "    .dataframe thead th {\n",
       "        text-align: right;\n",
       "    }\n",
       "</style>\n",
       "<table border=\"1\" class=\"dataframe\">\n",
       "  <thead>\n",
       "    <tr style=\"text-align: right;\">\n",
       "      <th></th>\n",
       "      <th>routine_name</th>\n",
       "      <th>routine_id</th>\n",
       "      <th>routine_exercises</th>\n",
       "      <th>user_id</th>\n",
       "    </tr>\n",
       "  </thead>\n",
       "  <tbody>\n",
       "    <tr>\n",
       "      <th>0</th>\n",
       "      <td>wave loading 321 lower 1</td>\n",
       "      <td>1</td>\n",
       "      <td>[{'exercise': {'name': 'trap bar deadlift', 'i...</td>\n",
       "      <td>1</td>\n",
       "    </tr>\n",
       "    <tr>\n",
       "      <th>1</th>\n",
       "      <td>wave loading 321 upper 1</td>\n",
       "      <td>2</td>\n",
       "      <td>[{'exercise': {'name': 'bench press', 'id': 1}...</td>\n",
       "      <td>1</td>\n",
       "    </tr>\n",
       "    <tr>\n",
       "      <th>2</th>\n",
       "      <td>wave loading 321 lower 2</td>\n",
       "      <td>3</td>\n",
       "      <td>[{'exercise': {'name': 'barbell back squats', ...</td>\n",
       "      <td>1</td>\n",
       "    </tr>\n",
       "    <tr>\n",
       "      <th>3</th>\n",
       "      <td>wave loading 321 upper 2</td>\n",
       "      <td>4</td>\n",
       "      <td>[{'exercise': {'name': 'military press', 'id':...</td>\n",
       "      <td>1</td>\n",
       "    </tr>\n",
       "    <tr>\n",
       "      <th>4</th>\n",
       "      <td>wave loading 642 lower 1</td>\n",
       "      <td>5</td>\n",
       "      <td>[{'exercise': {'name': 'trap bar deadlift', 'i...</td>\n",
       "      <td>1</td>\n",
       "    </tr>\n",
       "    <tr>\n",
       "      <th>5</th>\n",
       "      <td>wave loading 642 upper 1</td>\n",
       "      <td>6</td>\n",
       "      <td>[{'exercise': {'name': 'bench press', 'id': 1}...</td>\n",
       "      <td>1</td>\n",
       "    </tr>\n",
       "    <tr>\n",
       "      <th>6</th>\n",
       "      <td>wave loading 642 lower 2</td>\n",
       "      <td>7</td>\n",
       "      <td>[{'exercise': {'name': 'barbell back squats', ...</td>\n",
       "      <td>1</td>\n",
       "    </tr>\n",
       "    <tr>\n",
       "      <th>7</th>\n",
       "      <td>wave loading 642 upper 2</td>\n",
       "      <td>8</td>\n",
       "      <td>[{'exercise': {'name': 'military press', 'id':...</td>\n",
       "      <td>1</td>\n",
       "    </tr>\n",
       "    <tr>\n",
       "      <th>8</th>\n",
       "      <td>hypertrophy legs</td>\n",
       "      <td>9</td>\n",
       "      <td>[{'exercise': {'name': 'lying leg curls', 'id'...</td>\n",
       "      <td>1</td>\n",
       "    </tr>\n",
       "    <tr>\n",
       "      <th>9</th>\n",
       "      <td>hypertrophy chest and back</td>\n",
       "      <td>10</td>\n",
       "      <td>[{'exercise': {'name': 'incline chest press ma...</td>\n",
       "      <td>1</td>\n",
       "    </tr>\n",
       "    <tr>\n",
       "      <th>10</th>\n",
       "      <td>hypertrophy shoulders and arms</td>\n",
       "      <td>11</td>\n",
       "      <td>[{'exercise': {'name': 'california press', 'id...</td>\n",
       "      <td>1</td>\n",
       "    </tr>\n",
       "    <tr>\n",
       "      <th>11</th>\n",
       "      <td>arm block chest</td>\n",
       "      <td>12</td>\n",
       "      <td>[{'exercise': {'name': 'bench press', 'id': 1}...</td>\n",
       "      <td>1</td>\n",
       "    </tr>\n",
       "    <tr>\n",
       "      <th>12</th>\n",
       "      <td>arm block back</td>\n",
       "      <td>13</td>\n",
       "      <td>[{'exercise': {'name': 'pull ups neutral grip'...</td>\n",
       "      <td>1</td>\n",
       "    </tr>\n",
       "    <tr>\n",
       "      <th>13</th>\n",
       "      <td>arm block legs</td>\n",
       "      <td>14</td>\n",
       "      <td>[{'exercise': {'name': 'barbell back squats', ...</td>\n",
       "      <td>1</td>\n",
       "    </tr>\n",
       "    <tr>\n",
       "      <th>14</th>\n",
       "      <td>arm block arms</td>\n",
       "      <td>15</td>\n",
       "      <td>[{'exercise': {'name': 'dumbbell shoulder pres...</td>\n",
       "      <td>1</td>\n",
       "    </tr>\n",
       "    <tr>\n",
       "      <th>15</th>\n",
       "      <td>arm block legs 2</td>\n",
       "      <td>16</td>\n",
       "      <td>[{'exercise': {'name': 'leg press', 'id': 24},...</td>\n",
       "      <td>1</td>\n",
       "    </tr>\n",
       "    <tr>\n",
       "      <th>16</th>\n",
       "      <td>upper lower 2 sets upper 2</td>\n",
       "      <td>17</td>\n",
       "      <td>[{'exercise': {'name': 'single arm dumbbell ro...</td>\n",
       "      <td>1</td>\n",
       "    </tr>\n",
       "    <tr>\n",
       "      <th>17</th>\n",
       "      <td>upper lower 2 sets lower 2</td>\n",
       "      <td>18</td>\n",
       "      <td>[{'exercise': {'name': 'romanian deadlift', 'i...</td>\n",
       "      <td>1</td>\n",
       "    </tr>\n",
       "    <tr>\n",
       "      <th>18</th>\n",
       "      <td>upper lower 2 sets upper 1</td>\n",
       "      <td>19</td>\n",
       "      <td>[{'exercise': {'name': 'bench press', 'id': 1}...</td>\n",
       "      <td>1</td>\n",
       "    </tr>\n",
       "    <tr>\n",
       "      <th>19</th>\n",
       "      <td>upper lower 2 sets lower 1</td>\n",
       "      <td>20</td>\n",
       "      <td>[{'exercise': {'name': 'barbell back squats', ...</td>\n",
       "      <td>1</td>\n",
       "    </tr>\n",
       "    <tr>\n",
       "      <th>20</th>\n",
       "      <td>upper lower 3 sets lower 1</td>\n",
       "      <td>21</td>\n",
       "      <td>[{'exercise': {'name': 'barbell back squats', ...</td>\n",
       "      <td>1</td>\n",
       "    </tr>\n",
       "    <tr>\n",
       "      <th>21</th>\n",
       "      <td>upper lower 3 sets upper 1</td>\n",
       "      <td>22</td>\n",
       "      <td>[{'exercise': {'name': 'bench press', 'id': 1}...</td>\n",
       "      <td>1</td>\n",
       "    </tr>\n",
       "    <tr>\n",
       "      <th>22</th>\n",
       "      <td>upper lower 3 sets lower 2</td>\n",
       "      <td>23</td>\n",
       "      <td>[{'exercise': {'name': 'romanian deadlift', 'i...</td>\n",
       "      <td>1</td>\n",
       "    </tr>\n",
       "    <tr>\n",
       "      <th>23</th>\n",
       "      <td>upper lower 3 sets upper 2</td>\n",
       "      <td>24</td>\n",
       "      <td>[{'exercise': {'name': 'barbell rows', 'id': 5...</td>\n",
       "      <td>1</td>\n",
       "    </tr>\n",
       "  </tbody>\n",
       "</table>\n",
       "</div>"
      ],
      "text/plain": [
       "                      routine_name  routine_id  \\\n",
       "0         wave loading 321 lower 1           1   \n",
       "1         wave loading 321 upper 1           2   \n",
       "2         wave loading 321 lower 2           3   \n",
       "3         wave loading 321 upper 2           4   \n",
       "4         wave loading 642 lower 1           5   \n",
       "5         wave loading 642 upper 1           6   \n",
       "6         wave loading 642 lower 2           7   \n",
       "7         wave loading 642 upper 2           8   \n",
       "8                 hypertrophy legs           9   \n",
       "9       hypertrophy chest and back          10   \n",
       "10  hypertrophy shoulders and arms          11   \n",
       "11                 arm block chest          12   \n",
       "12                  arm block back          13   \n",
       "13                  arm block legs          14   \n",
       "14                  arm block arms          15   \n",
       "15                arm block legs 2          16   \n",
       "16      upper lower 2 sets upper 2          17   \n",
       "17      upper lower 2 sets lower 2          18   \n",
       "18      upper lower 2 sets upper 1          19   \n",
       "19      upper lower 2 sets lower 1          20   \n",
       "20      upper lower 3 sets lower 1          21   \n",
       "21      upper lower 3 sets upper 1          22   \n",
       "22      upper lower 3 sets lower 2          23   \n",
       "23      upper lower 3 sets upper 2          24   \n",
       "\n",
       "                                    routine_exercises  user_id  \n",
       "0   [{'exercise': {'name': 'trap bar deadlift', 'i...        1  \n",
       "1   [{'exercise': {'name': 'bench press', 'id': 1}...        1  \n",
       "2   [{'exercise': {'name': 'barbell back squats', ...        1  \n",
       "3   [{'exercise': {'name': 'military press', 'id':...        1  \n",
       "4   [{'exercise': {'name': 'trap bar deadlift', 'i...        1  \n",
       "5   [{'exercise': {'name': 'bench press', 'id': 1}...        1  \n",
       "6   [{'exercise': {'name': 'barbell back squats', ...        1  \n",
       "7   [{'exercise': {'name': 'military press', 'id':...        1  \n",
       "8   [{'exercise': {'name': 'lying leg curls', 'id'...        1  \n",
       "9   [{'exercise': {'name': 'incline chest press ma...        1  \n",
       "10  [{'exercise': {'name': 'california press', 'id...        1  \n",
       "11  [{'exercise': {'name': 'bench press', 'id': 1}...        1  \n",
       "12  [{'exercise': {'name': 'pull ups neutral grip'...        1  \n",
       "13  [{'exercise': {'name': 'barbell back squats', ...        1  \n",
       "14  [{'exercise': {'name': 'dumbbell shoulder pres...        1  \n",
       "15  [{'exercise': {'name': 'leg press', 'id': 24},...        1  \n",
       "16  [{'exercise': {'name': 'single arm dumbbell ro...        1  \n",
       "17  [{'exercise': {'name': 'romanian deadlift', 'i...        1  \n",
       "18  [{'exercise': {'name': 'bench press', 'id': 1}...        1  \n",
       "19  [{'exercise': {'name': 'barbell back squats', ...        1  \n",
       "20  [{'exercise': {'name': 'barbell back squats', ...        1  \n",
       "21  [{'exercise': {'name': 'bench press', 'id': 1}...        1  \n",
       "22  [{'exercise': {'name': 'romanian deadlift', 'i...        1  \n",
       "23  [{'exercise': {'name': 'barbell rows', 'id': 5...        1  "
      ]
     },
     "execution_count": 28,
     "metadata": {},
     "output_type": "execute_result"
    }
   ],
   "source": [
    "routines = pd.DataFrame(client.workout_routines.get_workout_routines())\n",
    "routines = routines.rename(columns={\"name\": \"routine_name\", \"id\": \"routine_id\"})\n",
    "routines"
   ]
  },
  {
   "cell_type": "code",
   "execution_count": 29,
   "metadata": {},
   "outputs": [
    {
     "data": {
      "text/html": [
       "<div>\n",
       "<style scoped>\n",
       "    .dataframe tbody tr th:only-of-type {\n",
       "        vertical-align: middle;\n",
       "    }\n",
       "\n",
       "    .dataframe tbody tr th {\n",
       "        vertical-align: top;\n",
       "    }\n",
       "\n",
       "    .dataframe thead th {\n",
       "        text-align: right;\n",
       "    }\n",
       "</style>\n",
       "<table border=\"1\" class=\"dataframe\">\n",
       "  <thead>\n",
       "    <tr style=\"text-align: right;\">\n",
       "      <th></th>\n",
       "      <th></th>\n",
       "      <th></th>\n",
       "      <th>weight</th>\n",
       "      <th>reps</th>\n",
       "    </tr>\n",
       "    <tr>\n",
       "      <th>date</th>\n",
       "      <th>routine_id</th>\n",
       "      <th>exercise_id</th>\n",
       "      <th></th>\n",
       "      <th></th>\n",
       "    </tr>\n",
       "  </thead>\n",
       "  <tbody>\n",
       "    <tr>\n",
       "      <th rowspan=\"5\" valign=\"top\">2024-10-28</th>\n",
       "      <th rowspan=\"5\" valign=\"top\">12</th>\n",
       "      <th>1</th>\n",
       "      <td>72.5</td>\n",
       "      <td>8.0</td>\n",
       "    </tr>\n",
       "    <tr>\n",
       "      <th>1</th>\n",
       "      <td>72.5</td>\n",
       "      <td>5.0</td>\n",
       "    </tr>\n",
       "    <tr>\n",
       "      <th>1</th>\n",
       "      <td>60.0</td>\n",
       "      <td>11.0</td>\n",
       "    </tr>\n",
       "    <tr>\n",
       "      <th>36</th>\n",
       "      <td>0.0</td>\n",
       "      <td>10.0</td>\n",
       "    </tr>\n",
       "    <tr>\n",
       "      <th>36</th>\n",
       "      <td>0.0</td>\n",
       "      <td>10.0</td>\n",
       "    </tr>\n",
       "    <tr>\n",
       "      <th>...</th>\n",
       "      <th>...</th>\n",
       "      <th>...</th>\n",
       "      <td>...</td>\n",
       "      <td>...</td>\n",
       "    </tr>\n",
       "    <tr>\n",
       "      <th rowspan=\"5\" valign=\"top\">2024-12-18</th>\n",
       "      <th rowspan=\"5\" valign=\"top\">15</th>\n",
       "      <th>42</th>\n",
       "      <td>50.0</td>\n",
       "      <td>15.0</td>\n",
       "    </tr>\n",
       "    <tr>\n",
       "      <th>42</th>\n",
       "      <td>50.0</td>\n",
       "      <td>15.0</td>\n",
       "    </tr>\n",
       "    <tr>\n",
       "      <th>43</th>\n",
       "      <td>35.0</td>\n",
       "      <td>20.0</td>\n",
       "    </tr>\n",
       "    <tr>\n",
       "      <th>43</th>\n",
       "      <td>35.0</td>\n",
       "      <td>20.0</td>\n",
       "    </tr>\n",
       "    <tr>\n",
       "      <th>43</th>\n",
       "      <td>35.0</td>\n",
       "      <td>20.0</td>\n",
       "    </tr>\n",
       "  </tbody>\n",
       "</table>\n",
       "<p>1220 rows × 2 columns</p>\n",
       "</div>"
      ],
      "text/plain": [
       "                                   weight  reps\n",
       "date       routine_id exercise_id              \n",
       "2024-10-28 12         1              72.5   8.0\n",
       "                      1              72.5   5.0\n",
       "                      1              60.0  11.0\n",
       "                      36              0.0  10.0\n",
       "                      36              0.0  10.0\n",
       "...                                   ...   ...\n",
       "2024-12-18 15         42             50.0  15.0\n",
       "                      42             50.0  15.0\n",
       "                      43             35.0  20.0\n",
       "                      43             35.0  20.0\n",
       "                      43             35.0  20.0\n",
       "\n",
       "[1220 rows x 2 columns]"
      ]
     },
     "execution_count": 29,
     "metadata": {},
     "output_type": "execute_result"
    }
   ],
   "source": [
    "df_all = df.merge(right=exs, left_on=\"exercise\", right_on=\"exercise_name\").merge(\n",
    "    right=routines, left_on=\"workoutroutine\", right_on=\"routine_name\"\n",
    ")[[\"date\", \"exercise_id\", \"routine_id\", \"weight\", \"reps\"]]\n",
    "dates = df_all.date.dt.date.astype(str).unique()\n",
    "df_all = df_all.set_index([\"date\", \"routine_id\", \"exercise_id\"])\n",
    "df_all"
   ]
  },
  {
   "cell_type": "code",
   "execution_count": 30,
   "metadata": {},
   "outputs": [
    {
     "name": "stderr",
     "output_type": "stream",
     "text": [
      "C:\\Users\\jorda\\AppData\\Local\\Temp\\ipykernel_34876\\2859303871.py:4: PerformanceWarning: indexing past lexsort depth may impact performance.\n",
      "  exercise_ids = df_all.loc[(date, routine_id)].index.unique().values\n",
      "C:\\Users\\jorda\\AppData\\Local\\Temp\\ipykernel_34876\\2859303871.py:7: PerformanceWarning: indexing past lexsort depth may impact performance.\n",
      "  sets = df_all.loc[(date, routine_id, exercise_id)].to_dict(orient=\"records\")\n",
      "C:\\Users\\jorda\\AppData\\Local\\Temp\\ipykernel_34876\\2859303871.py:7: PerformanceWarning: indexing past lexsort depth may impact performance.\n",
      "  sets = df_all.loc[(date, routine_id, exercise_id)].to_dict(orient=\"records\")\n",
      "C:\\Users\\jorda\\AppData\\Local\\Temp\\ipykernel_34876\\2859303871.py:7: PerformanceWarning: indexing past lexsort depth may impact performance.\n",
      "  sets = df_all.loc[(date, routine_id, exercise_id)].to_dict(orient=\"records\")\n",
      "C:\\Users\\jorda\\AppData\\Local\\Temp\\ipykernel_34876\\2859303871.py:7: PerformanceWarning: indexing past lexsort depth may impact performance.\n",
      "  sets = df_all.loc[(date, routine_id, exercise_id)].to_dict(orient=\"records\")\n",
      "C:\\Users\\jorda\\AppData\\Local\\Temp\\ipykernel_34876\\2859303871.py:7: PerformanceWarning: indexing past lexsort depth may impact performance.\n",
      "  sets = df_all.loc[(date, routine_id, exercise_id)].to_dict(orient=\"records\")\n",
      "C:\\Users\\jorda\\AppData\\Local\\Temp\\ipykernel_34876\\2859303871.py:7: PerformanceWarning: indexing past lexsort depth may impact performance.\n",
      "  sets = df_all.loc[(date, routine_id, exercise_id)].to_dict(orient=\"records\")\n"
     ]
    },
    {
     "name": "stdout",
     "output_type": "stream",
     "text": [
      "Created workout for date 2024-10-28\n"
     ]
    },
    {
     "name": "stderr",
     "output_type": "stream",
     "text": [
      "C:\\Users\\jorda\\AppData\\Local\\Temp\\ipykernel_34876\\2859303871.py:4: PerformanceWarning: indexing past lexsort depth may impact performance.\n",
      "  exercise_ids = df_all.loc[(date, routine_id)].index.unique().values\n",
      "C:\\Users\\jorda\\AppData\\Local\\Temp\\ipykernel_34876\\2859303871.py:7: PerformanceWarning: indexing past lexsort depth may impact performance.\n",
      "  sets = df_all.loc[(date, routine_id, exercise_id)].to_dict(orient=\"records\")\n",
      "C:\\Users\\jorda\\AppData\\Local\\Temp\\ipykernel_34876\\2859303871.py:7: PerformanceWarning: indexing past lexsort depth may impact performance.\n",
      "  sets = df_all.loc[(date, routine_id, exercise_id)].to_dict(orient=\"records\")\n",
      "C:\\Users\\jorda\\AppData\\Local\\Temp\\ipykernel_34876\\2859303871.py:7: PerformanceWarning: indexing past lexsort depth may impact performance.\n",
      "  sets = df_all.loc[(date, routine_id, exercise_id)].to_dict(orient=\"records\")\n",
      "C:\\Users\\jorda\\AppData\\Local\\Temp\\ipykernel_34876\\2859303871.py:7: PerformanceWarning: indexing past lexsort depth may impact performance.\n",
      "  sets = df_all.loc[(date, routine_id, exercise_id)].to_dict(orient=\"records\")\n",
      "C:\\Users\\jorda\\AppData\\Local\\Temp\\ipykernel_34876\\2859303871.py:7: PerformanceWarning: indexing past lexsort depth may impact performance.\n",
      "  sets = df_all.loc[(date, routine_id, exercise_id)].to_dict(orient=\"records\")\n",
      "C:\\Users\\jorda\\AppData\\Local\\Temp\\ipykernel_34876\\2859303871.py:7: PerformanceWarning: indexing past lexsort depth may impact performance.\n",
      "  sets = df_all.loc[(date, routine_id, exercise_id)].to_dict(orient=\"records\")\n"
     ]
    },
    {
     "name": "stdout",
     "output_type": "stream",
     "text": [
      "Created workout for date 2024-10-29\n"
     ]
    },
    {
     "name": "stderr",
     "output_type": "stream",
     "text": [
      "C:\\Users\\jorda\\AppData\\Local\\Temp\\ipykernel_34876\\2859303871.py:4: PerformanceWarning: indexing past lexsort depth may impact performance.\n",
      "  exercise_ids = df_all.loc[(date, routine_id)].index.unique().values\n",
      "C:\\Users\\jorda\\AppData\\Local\\Temp\\ipykernel_34876\\2859303871.py:7: PerformanceWarning: indexing past lexsort depth may impact performance.\n",
      "  sets = df_all.loc[(date, routine_id, exercise_id)].to_dict(orient=\"records\")\n",
      "C:\\Users\\jorda\\AppData\\Local\\Temp\\ipykernel_34876\\2859303871.py:7: PerformanceWarning: indexing past lexsort depth may impact performance.\n",
      "  sets = df_all.loc[(date, routine_id, exercise_id)].to_dict(orient=\"records\")\n",
      "C:\\Users\\jorda\\AppData\\Local\\Temp\\ipykernel_34876\\2859303871.py:7: PerformanceWarning: indexing past lexsort depth may impact performance.\n",
      "  sets = df_all.loc[(date, routine_id, exercise_id)].to_dict(orient=\"records\")\n",
      "C:\\Users\\jorda\\AppData\\Local\\Temp\\ipykernel_34876\\2859303871.py:7: PerformanceWarning: indexing past lexsort depth may impact performance.\n",
      "  sets = df_all.loc[(date, routine_id, exercise_id)].to_dict(orient=\"records\")\n",
      "C:\\Users\\jorda\\AppData\\Local\\Temp\\ipykernel_34876\\2859303871.py:7: PerformanceWarning: indexing past lexsort depth may impact performance.\n",
      "  sets = df_all.loc[(date, routine_id, exercise_id)].to_dict(orient=\"records\")\n"
     ]
    },
    {
     "name": "stdout",
     "output_type": "stream",
     "text": [
      "Created workout for date 2024-10-30\n"
     ]
    },
    {
     "name": "stderr",
     "output_type": "stream",
     "text": [
      "C:\\Users\\jorda\\AppData\\Local\\Temp\\ipykernel_34876\\2859303871.py:4: PerformanceWarning: indexing past lexsort depth may impact performance.\n",
      "  exercise_ids = df_all.loc[(date, routine_id)].index.unique().values\n",
      "C:\\Users\\jorda\\AppData\\Local\\Temp\\ipykernel_34876\\2859303871.py:7: PerformanceWarning: indexing past lexsort depth may impact performance.\n",
      "  sets = df_all.loc[(date, routine_id, exercise_id)].to_dict(orient=\"records\")\n",
      "C:\\Users\\jorda\\AppData\\Local\\Temp\\ipykernel_34876\\2859303871.py:7: PerformanceWarning: indexing past lexsort depth may impact performance.\n",
      "  sets = df_all.loc[(date, routine_id, exercise_id)].to_dict(orient=\"records\")\n",
      "C:\\Users\\jorda\\AppData\\Local\\Temp\\ipykernel_34876\\2859303871.py:7: PerformanceWarning: indexing past lexsort depth may impact performance.\n",
      "  sets = df_all.loc[(date, routine_id, exercise_id)].to_dict(orient=\"records\")\n",
      "C:\\Users\\jorda\\AppData\\Local\\Temp\\ipykernel_34876\\2859303871.py:7: PerformanceWarning: indexing past lexsort depth may impact performance.\n",
      "  sets = df_all.loc[(date, routine_id, exercise_id)].to_dict(orient=\"records\")\n",
      "C:\\Users\\jorda\\AppData\\Local\\Temp\\ipykernel_34876\\2859303871.py:7: PerformanceWarning: indexing past lexsort depth may impact performance.\n",
      "  sets = df_all.loc[(date, routine_id, exercise_id)].to_dict(orient=\"records\")\n",
      "C:\\Users\\jorda\\AppData\\Local\\Temp\\ipykernel_34876\\2859303871.py:7: PerformanceWarning: indexing past lexsort depth may impact performance.\n",
      "  sets = df_all.loc[(date, routine_id, exercise_id)].to_dict(orient=\"records\")\n",
      "C:\\Users\\jorda\\AppData\\Local\\Temp\\ipykernel_34876\\2859303871.py:7: PerformanceWarning: indexing past lexsort depth may impact performance.\n",
      "  sets = df_all.loc[(date, routine_id, exercise_id)].to_dict(orient=\"records\")\n"
     ]
    },
    {
     "name": "stdout",
     "output_type": "stream",
     "text": [
      "Created workout for date 2024-10-31\n"
     ]
    },
    {
     "name": "stderr",
     "output_type": "stream",
     "text": [
      "C:\\Users\\jorda\\AppData\\Local\\Temp\\ipykernel_34876\\2859303871.py:4: PerformanceWarning: indexing past lexsort depth may impact performance.\n",
      "  exercise_ids = df_all.loc[(date, routine_id)].index.unique().values\n",
      "C:\\Users\\jorda\\AppData\\Local\\Temp\\ipykernel_34876\\2859303871.py:7: PerformanceWarning: indexing past lexsort depth may impact performance.\n",
      "  sets = df_all.loc[(date, routine_id, exercise_id)].to_dict(orient=\"records\")\n",
      "C:\\Users\\jorda\\AppData\\Local\\Temp\\ipykernel_34876\\2859303871.py:7: PerformanceWarning: indexing past lexsort depth may impact performance.\n",
      "  sets = df_all.loc[(date, routine_id, exercise_id)].to_dict(orient=\"records\")\n",
      "C:\\Users\\jorda\\AppData\\Local\\Temp\\ipykernel_34876\\2859303871.py:7: PerformanceWarning: indexing past lexsort depth may impact performance.\n",
      "  sets = df_all.loc[(date, routine_id, exercise_id)].to_dict(orient=\"records\")\n",
      "C:\\Users\\jorda\\AppData\\Local\\Temp\\ipykernel_34876\\2859303871.py:7: PerformanceWarning: indexing past lexsort depth may impact performance.\n",
      "  sets = df_all.loc[(date, routine_id, exercise_id)].to_dict(orient=\"records\")\n"
     ]
    },
    {
     "name": "stdout",
     "output_type": "stream",
     "text": [
      "Created workout for date 2024-11-02\n"
     ]
    },
    {
     "name": "stderr",
     "output_type": "stream",
     "text": [
      "C:\\Users\\jorda\\AppData\\Local\\Temp\\ipykernel_34876\\2859303871.py:4: PerformanceWarning: indexing past lexsort depth may impact performance.\n",
      "  exercise_ids = df_all.loc[(date, routine_id)].index.unique().values\n",
      "C:\\Users\\jorda\\AppData\\Local\\Temp\\ipykernel_34876\\2859303871.py:7: PerformanceWarning: indexing past lexsort depth may impact performance.\n",
      "  sets = df_all.loc[(date, routine_id, exercise_id)].to_dict(orient=\"records\")\n",
      "C:\\Users\\jorda\\AppData\\Local\\Temp\\ipykernel_34876\\2859303871.py:7: PerformanceWarning: indexing past lexsort depth may impact performance.\n",
      "  sets = df_all.loc[(date, routine_id, exercise_id)].to_dict(orient=\"records\")\n",
      "C:\\Users\\jorda\\AppData\\Local\\Temp\\ipykernel_34876\\2859303871.py:7: PerformanceWarning: indexing past lexsort depth may impact performance.\n",
      "  sets = df_all.loc[(date, routine_id, exercise_id)].to_dict(orient=\"records\")\n",
      "C:\\Users\\jorda\\AppData\\Local\\Temp\\ipykernel_34876\\2859303871.py:7: PerformanceWarning: indexing past lexsort depth may impact performance.\n",
      "  sets = df_all.loc[(date, routine_id, exercise_id)].to_dict(orient=\"records\")\n",
      "C:\\Users\\jorda\\AppData\\Local\\Temp\\ipykernel_34876\\2859303871.py:7: PerformanceWarning: indexing past lexsort depth may impact performance.\n",
      "  sets = df_all.loc[(date, routine_id, exercise_id)].to_dict(orient=\"records\")\n",
      "C:\\Users\\jorda\\AppData\\Local\\Temp\\ipykernel_34876\\2859303871.py:7: PerformanceWarning: indexing past lexsort depth may impact performance.\n",
      "  sets = df_all.loc[(date, routine_id, exercise_id)].to_dict(orient=\"records\")\n"
     ]
    },
    {
     "name": "stdout",
     "output_type": "stream",
     "text": [
      "Created workout for date 2024-11-04\n"
     ]
    },
    {
     "name": "stderr",
     "output_type": "stream",
     "text": [
      "C:\\Users\\jorda\\AppData\\Local\\Temp\\ipykernel_34876\\2859303871.py:4: PerformanceWarning: indexing past lexsort depth may impact performance.\n",
      "  exercise_ids = df_all.loc[(date, routine_id)].index.unique().values\n",
      "C:\\Users\\jorda\\AppData\\Local\\Temp\\ipykernel_34876\\2859303871.py:7: PerformanceWarning: indexing past lexsort depth may impact performance.\n",
      "  sets = df_all.loc[(date, routine_id, exercise_id)].to_dict(orient=\"records\")\n",
      "C:\\Users\\jorda\\AppData\\Local\\Temp\\ipykernel_34876\\2859303871.py:7: PerformanceWarning: indexing past lexsort depth may impact performance.\n",
      "  sets = df_all.loc[(date, routine_id, exercise_id)].to_dict(orient=\"records\")\n",
      "C:\\Users\\jorda\\AppData\\Local\\Temp\\ipykernel_34876\\2859303871.py:7: PerformanceWarning: indexing past lexsort depth may impact performance.\n",
      "  sets = df_all.loc[(date, routine_id, exercise_id)].to_dict(orient=\"records\")\n",
      "C:\\Users\\jorda\\AppData\\Local\\Temp\\ipykernel_34876\\2859303871.py:7: PerformanceWarning: indexing past lexsort depth may impact performance.\n",
      "  sets = df_all.loc[(date, routine_id, exercise_id)].to_dict(orient=\"records\")\n",
      "C:\\Users\\jorda\\AppData\\Local\\Temp\\ipykernel_34876\\2859303871.py:7: PerformanceWarning: indexing past lexsort depth may impact performance.\n",
      "  sets = df_all.loc[(date, routine_id, exercise_id)].to_dict(orient=\"records\")\n",
      "C:\\Users\\jorda\\AppData\\Local\\Temp\\ipykernel_34876\\2859303871.py:7: PerformanceWarning: indexing past lexsort depth may impact performance.\n",
      "  sets = df_all.loc[(date, routine_id, exercise_id)].to_dict(orient=\"records\")\n"
     ]
    },
    {
     "name": "stdout",
     "output_type": "stream",
     "text": [
      "Created workout for date 2024-11-05\n"
     ]
    },
    {
     "name": "stderr",
     "output_type": "stream",
     "text": [
      "C:\\Users\\jorda\\AppData\\Local\\Temp\\ipykernel_34876\\2859303871.py:4: PerformanceWarning: indexing past lexsort depth may impact performance.\n",
      "  exercise_ids = df_all.loc[(date, routine_id)].index.unique().values\n",
      "C:\\Users\\jorda\\AppData\\Local\\Temp\\ipykernel_34876\\2859303871.py:7: PerformanceWarning: indexing past lexsort depth may impact performance.\n",
      "  sets = df_all.loc[(date, routine_id, exercise_id)].to_dict(orient=\"records\")\n",
      "C:\\Users\\jorda\\AppData\\Local\\Temp\\ipykernel_34876\\2859303871.py:7: PerformanceWarning: indexing past lexsort depth may impact performance.\n",
      "  sets = df_all.loc[(date, routine_id, exercise_id)].to_dict(orient=\"records\")\n",
      "C:\\Users\\jorda\\AppData\\Local\\Temp\\ipykernel_34876\\2859303871.py:7: PerformanceWarning: indexing past lexsort depth may impact performance.\n",
      "  sets = df_all.loc[(date, routine_id, exercise_id)].to_dict(orient=\"records\")\n",
      "C:\\Users\\jorda\\AppData\\Local\\Temp\\ipykernel_34876\\2859303871.py:7: PerformanceWarning: indexing past lexsort depth may impact performance.\n",
      "  sets = df_all.loc[(date, routine_id, exercise_id)].to_dict(orient=\"records\")\n",
      "C:\\Users\\jorda\\AppData\\Local\\Temp\\ipykernel_34876\\2859303871.py:7: PerformanceWarning: indexing past lexsort depth may impact performance.\n",
      "  sets = df_all.loc[(date, routine_id, exercise_id)].to_dict(orient=\"records\")\n"
     ]
    },
    {
     "name": "stdout",
     "output_type": "stream",
     "text": [
      "Created workout for date 2024-11-06\n"
     ]
    },
    {
     "name": "stderr",
     "output_type": "stream",
     "text": [
      "C:\\Users\\jorda\\AppData\\Local\\Temp\\ipykernel_34876\\2859303871.py:4: PerformanceWarning: indexing past lexsort depth may impact performance.\n",
      "  exercise_ids = df_all.loc[(date, routine_id)].index.unique().values\n",
      "C:\\Users\\jorda\\AppData\\Local\\Temp\\ipykernel_34876\\2859303871.py:7: PerformanceWarning: indexing past lexsort depth may impact performance.\n",
      "  sets = df_all.loc[(date, routine_id, exercise_id)].to_dict(orient=\"records\")\n",
      "C:\\Users\\jorda\\AppData\\Local\\Temp\\ipykernel_34876\\2859303871.py:7: PerformanceWarning: indexing past lexsort depth may impact performance.\n",
      "  sets = df_all.loc[(date, routine_id, exercise_id)].to_dict(orient=\"records\")\n",
      "C:\\Users\\jorda\\AppData\\Local\\Temp\\ipykernel_34876\\2859303871.py:7: PerformanceWarning: indexing past lexsort depth may impact performance.\n",
      "  sets = df_all.loc[(date, routine_id, exercise_id)].to_dict(orient=\"records\")\n",
      "C:\\Users\\jorda\\AppData\\Local\\Temp\\ipykernel_34876\\2859303871.py:7: PerformanceWarning: indexing past lexsort depth may impact performance.\n",
      "  sets = df_all.loc[(date, routine_id, exercise_id)].to_dict(orient=\"records\")\n",
      "C:\\Users\\jorda\\AppData\\Local\\Temp\\ipykernel_34876\\2859303871.py:7: PerformanceWarning: indexing past lexsort depth may impact performance.\n",
      "  sets = df_all.loc[(date, routine_id, exercise_id)].to_dict(orient=\"records\")\n",
      "C:\\Users\\jorda\\AppData\\Local\\Temp\\ipykernel_34876\\2859303871.py:7: PerformanceWarning: indexing past lexsort depth may impact performance.\n",
      "  sets = df_all.loc[(date, routine_id, exercise_id)].to_dict(orient=\"records\")\n",
      "C:\\Users\\jorda\\AppData\\Local\\Temp\\ipykernel_34876\\2859303871.py:7: PerformanceWarning: indexing past lexsort depth may impact performance.\n",
      "  sets = df_all.loc[(date, routine_id, exercise_id)].to_dict(orient=\"records\")\n"
     ]
    },
    {
     "name": "stdout",
     "output_type": "stream",
     "text": [
      "Created workout for date 2024-11-08\n"
     ]
    },
    {
     "name": "stderr",
     "output_type": "stream",
     "text": [
      "C:\\Users\\jorda\\AppData\\Local\\Temp\\ipykernel_34876\\2859303871.py:4: PerformanceWarning: indexing past lexsort depth may impact performance.\n",
      "  exercise_ids = df_all.loc[(date, routine_id)].index.unique().values\n",
      "C:\\Users\\jorda\\AppData\\Local\\Temp\\ipykernel_34876\\2859303871.py:7: PerformanceWarning: indexing past lexsort depth may impact performance.\n",
      "  sets = df_all.loc[(date, routine_id, exercise_id)].to_dict(orient=\"records\")\n",
      "C:\\Users\\jorda\\AppData\\Local\\Temp\\ipykernel_34876\\2859303871.py:7: PerformanceWarning: indexing past lexsort depth may impact performance.\n",
      "  sets = df_all.loc[(date, routine_id, exercise_id)].to_dict(orient=\"records\")\n",
      "C:\\Users\\jorda\\AppData\\Local\\Temp\\ipykernel_34876\\2859303871.py:7: PerformanceWarning: indexing past lexsort depth may impact performance.\n",
      "  sets = df_all.loc[(date, routine_id, exercise_id)].to_dict(orient=\"records\")\n",
      "C:\\Users\\jorda\\AppData\\Local\\Temp\\ipykernel_34876\\2859303871.py:7: PerformanceWarning: indexing past lexsort depth may impact performance.\n",
      "  sets = df_all.loc[(date, routine_id, exercise_id)].to_dict(orient=\"records\")\n"
     ]
    },
    {
     "name": "stdout",
     "output_type": "stream",
     "text": [
      "Created workout for date 2024-11-09\n"
     ]
    },
    {
     "name": "stderr",
     "output_type": "stream",
     "text": [
      "C:\\Users\\jorda\\AppData\\Local\\Temp\\ipykernel_34876\\2859303871.py:4: PerformanceWarning: indexing past lexsort depth may impact performance.\n",
      "  exercise_ids = df_all.loc[(date, routine_id)].index.unique().values\n",
      "C:\\Users\\jorda\\AppData\\Local\\Temp\\ipykernel_34876\\2859303871.py:7: PerformanceWarning: indexing past lexsort depth may impact performance.\n",
      "  sets = df_all.loc[(date, routine_id, exercise_id)].to_dict(orient=\"records\")\n",
      "C:\\Users\\jorda\\AppData\\Local\\Temp\\ipykernel_34876\\2859303871.py:7: PerformanceWarning: indexing past lexsort depth may impact performance.\n",
      "  sets = df_all.loc[(date, routine_id, exercise_id)].to_dict(orient=\"records\")\n",
      "C:\\Users\\jorda\\AppData\\Local\\Temp\\ipykernel_34876\\2859303871.py:7: PerformanceWarning: indexing past lexsort depth may impact performance.\n",
      "  sets = df_all.loc[(date, routine_id, exercise_id)].to_dict(orient=\"records\")\n",
      "C:\\Users\\jorda\\AppData\\Local\\Temp\\ipykernel_34876\\2859303871.py:7: PerformanceWarning: indexing past lexsort depth may impact performance.\n",
      "  sets = df_all.loc[(date, routine_id, exercise_id)].to_dict(orient=\"records\")\n",
      "C:\\Users\\jorda\\AppData\\Local\\Temp\\ipykernel_34876\\2859303871.py:7: PerformanceWarning: indexing past lexsort depth may impact performance.\n",
      "  sets = df_all.loc[(date, routine_id, exercise_id)].to_dict(orient=\"records\")\n"
     ]
    },
    {
     "name": "stdout",
     "output_type": "stream",
     "text": [
      "Created workout for date 2024-11-11\n"
     ]
    },
    {
     "name": "stderr",
     "output_type": "stream",
     "text": [
      "C:\\Users\\jorda\\AppData\\Local\\Temp\\ipykernel_34876\\2859303871.py:4: PerformanceWarning: indexing past lexsort depth may impact performance.\n",
      "  exercise_ids = df_all.loc[(date, routine_id)].index.unique().values\n",
      "C:\\Users\\jorda\\AppData\\Local\\Temp\\ipykernel_34876\\2859303871.py:7: PerformanceWarning: indexing past lexsort depth may impact performance.\n",
      "  sets = df_all.loc[(date, routine_id, exercise_id)].to_dict(orient=\"records\")\n",
      "C:\\Users\\jorda\\AppData\\Local\\Temp\\ipykernel_34876\\2859303871.py:7: PerformanceWarning: indexing past lexsort depth may impact performance.\n",
      "  sets = df_all.loc[(date, routine_id, exercise_id)].to_dict(orient=\"records\")\n",
      "C:\\Users\\jorda\\AppData\\Local\\Temp\\ipykernel_34876\\2859303871.py:7: PerformanceWarning: indexing past lexsort depth may impact performance.\n",
      "  sets = df_all.loc[(date, routine_id, exercise_id)].to_dict(orient=\"records\")\n",
      "C:\\Users\\jorda\\AppData\\Local\\Temp\\ipykernel_34876\\2859303871.py:7: PerformanceWarning: indexing past lexsort depth may impact performance.\n",
      "  sets = df_all.loc[(date, routine_id, exercise_id)].to_dict(orient=\"records\")\n",
      "C:\\Users\\jorda\\AppData\\Local\\Temp\\ipykernel_34876\\2859303871.py:7: PerformanceWarning: indexing past lexsort depth may impact performance.\n",
      "  sets = df_all.loc[(date, routine_id, exercise_id)].to_dict(orient=\"records\")\n",
      "C:\\Users\\jorda\\AppData\\Local\\Temp\\ipykernel_34876\\2859303871.py:7: PerformanceWarning: indexing past lexsort depth may impact performance.\n",
      "  sets = df_all.loc[(date, routine_id, exercise_id)].to_dict(orient=\"records\")\n"
     ]
    },
    {
     "name": "stdout",
     "output_type": "stream",
     "text": [
      "Created workout for date 2024-11-12\n"
     ]
    },
    {
     "name": "stderr",
     "output_type": "stream",
     "text": [
      "C:\\Users\\jorda\\AppData\\Local\\Temp\\ipykernel_34876\\2859303871.py:4: PerformanceWarning: indexing past lexsort depth may impact performance.\n",
      "  exercise_ids = df_all.loc[(date, routine_id)].index.unique().values\n",
      "C:\\Users\\jorda\\AppData\\Local\\Temp\\ipykernel_34876\\2859303871.py:7: PerformanceWarning: indexing past lexsort depth may impact performance.\n",
      "  sets = df_all.loc[(date, routine_id, exercise_id)].to_dict(orient=\"records\")\n",
      "C:\\Users\\jorda\\AppData\\Local\\Temp\\ipykernel_34876\\2859303871.py:7: PerformanceWarning: indexing past lexsort depth may impact performance.\n",
      "  sets = df_all.loc[(date, routine_id, exercise_id)].to_dict(orient=\"records\")\n",
      "C:\\Users\\jorda\\AppData\\Local\\Temp\\ipykernel_34876\\2859303871.py:7: PerformanceWarning: indexing past lexsort depth may impact performance.\n",
      "  sets = df_all.loc[(date, routine_id, exercise_id)].to_dict(orient=\"records\")\n",
      "C:\\Users\\jorda\\AppData\\Local\\Temp\\ipykernel_34876\\2859303871.py:7: PerformanceWarning: indexing past lexsort depth may impact performance.\n",
      "  sets = df_all.loc[(date, routine_id, exercise_id)].to_dict(orient=\"records\")\n",
      "C:\\Users\\jorda\\AppData\\Local\\Temp\\ipykernel_34876\\2859303871.py:7: PerformanceWarning: indexing past lexsort depth may impact performance.\n",
      "  sets = df_all.loc[(date, routine_id, exercise_id)].to_dict(orient=\"records\")\n",
      "C:\\Users\\jorda\\AppData\\Local\\Temp\\ipykernel_34876\\2859303871.py:7: PerformanceWarning: indexing past lexsort depth may impact performance.\n",
      "  sets = df_all.loc[(date, routine_id, exercise_id)].to_dict(orient=\"records\")\n"
     ]
    },
    {
     "name": "stdout",
     "output_type": "stream",
     "text": [
      "Created workout for date 2024-11-13\n"
     ]
    },
    {
     "name": "stderr",
     "output_type": "stream",
     "text": [
      "C:\\Users\\jorda\\AppData\\Local\\Temp\\ipykernel_34876\\2859303871.py:4: PerformanceWarning: indexing past lexsort depth may impact performance.\n",
      "  exercise_ids = df_all.loc[(date, routine_id)].index.unique().values\n",
      "C:\\Users\\jorda\\AppData\\Local\\Temp\\ipykernel_34876\\2859303871.py:7: PerformanceWarning: indexing past lexsort depth may impact performance.\n",
      "  sets = df_all.loc[(date, routine_id, exercise_id)].to_dict(orient=\"records\")\n",
      "C:\\Users\\jorda\\AppData\\Local\\Temp\\ipykernel_34876\\2859303871.py:7: PerformanceWarning: indexing past lexsort depth may impact performance.\n",
      "  sets = df_all.loc[(date, routine_id, exercise_id)].to_dict(orient=\"records\")\n",
      "C:\\Users\\jorda\\AppData\\Local\\Temp\\ipykernel_34876\\2859303871.py:7: PerformanceWarning: indexing past lexsort depth may impact performance.\n",
      "  sets = df_all.loc[(date, routine_id, exercise_id)].to_dict(orient=\"records\")\n",
      "C:\\Users\\jorda\\AppData\\Local\\Temp\\ipykernel_34876\\2859303871.py:7: PerformanceWarning: indexing past lexsort depth may impact performance.\n",
      "  sets = df_all.loc[(date, routine_id, exercise_id)].to_dict(orient=\"records\")\n"
     ]
    },
    {
     "name": "stdout",
     "output_type": "stream",
     "text": [
      "Created workout for date 2024-11-14\n"
     ]
    },
    {
     "name": "stderr",
     "output_type": "stream",
     "text": [
      "C:\\Users\\jorda\\AppData\\Local\\Temp\\ipykernel_34876\\2859303871.py:4: PerformanceWarning: indexing past lexsort depth may impact performance.\n",
      "  exercise_ids = df_all.loc[(date, routine_id)].index.unique().values\n",
      "C:\\Users\\jorda\\AppData\\Local\\Temp\\ipykernel_34876\\2859303871.py:7: PerformanceWarning: indexing past lexsort depth may impact performance.\n",
      "  sets = df_all.loc[(date, routine_id, exercise_id)].to_dict(orient=\"records\")\n",
      "C:\\Users\\jorda\\AppData\\Local\\Temp\\ipykernel_34876\\2859303871.py:7: PerformanceWarning: indexing past lexsort depth may impact performance.\n",
      "  sets = df_all.loc[(date, routine_id, exercise_id)].to_dict(orient=\"records\")\n",
      "C:\\Users\\jorda\\AppData\\Local\\Temp\\ipykernel_34876\\2859303871.py:7: PerformanceWarning: indexing past lexsort depth may impact performance.\n",
      "  sets = df_all.loc[(date, routine_id, exercise_id)].to_dict(orient=\"records\")\n",
      "C:\\Users\\jorda\\AppData\\Local\\Temp\\ipykernel_34876\\2859303871.py:7: PerformanceWarning: indexing past lexsort depth may impact performance.\n",
      "  sets = df_all.loc[(date, routine_id, exercise_id)].to_dict(orient=\"records\")\n",
      "C:\\Users\\jorda\\AppData\\Local\\Temp\\ipykernel_34876\\2859303871.py:7: PerformanceWarning: indexing past lexsort depth may impact performance.\n",
      "  sets = df_all.loc[(date, routine_id, exercise_id)].to_dict(orient=\"records\")\n",
      "C:\\Users\\jorda\\AppData\\Local\\Temp\\ipykernel_34876\\2859303871.py:7: PerformanceWarning: indexing past lexsort depth may impact performance.\n",
      "  sets = df_all.loc[(date, routine_id, exercise_id)].to_dict(orient=\"records\")\n",
      "C:\\Users\\jorda\\AppData\\Local\\Temp\\ipykernel_34876\\2859303871.py:7: PerformanceWarning: indexing past lexsort depth may impact performance.\n",
      "  sets = df_all.loc[(date, routine_id, exercise_id)].to_dict(orient=\"records\")\n"
     ]
    },
    {
     "name": "stdout",
     "output_type": "stream",
     "text": [
      "Created workout for date 2024-11-15\n"
     ]
    },
    {
     "name": "stderr",
     "output_type": "stream",
     "text": [
      "C:\\Users\\jorda\\AppData\\Local\\Temp\\ipykernel_34876\\2859303871.py:4: PerformanceWarning: indexing past lexsort depth may impact performance.\n",
      "  exercise_ids = df_all.loc[(date, routine_id)].index.unique().values\n",
      "C:\\Users\\jorda\\AppData\\Local\\Temp\\ipykernel_34876\\2859303871.py:7: PerformanceWarning: indexing past lexsort depth may impact performance.\n",
      "  sets = df_all.loc[(date, routine_id, exercise_id)].to_dict(orient=\"records\")\n",
      "C:\\Users\\jorda\\AppData\\Local\\Temp\\ipykernel_34876\\2859303871.py:7: PerformanceWarning: indexing past lexsort depth may impact performance.\n",
      "  sets = df_all.loc[(date, routine_id, exercise_id)].to_dict(orient=\"records\")\n",
      "C:\\Users\\jorda\\AppData\\Local\\Temp\\ipykernel_34876\\2859303871.py:7: PerformanceWarning: indexing past lexsort depth may impact performance.\n",
      "  sets = df_all.loc[(date, routine_id, exercise_id)].to_dict(orient=\"records\")\n",
      "C:\\Users\\jorda\\AppData\\Local\\Temp\\ipykernel_34876\\2859303871.py:7: PerformanceWarning: indexing past lexsort depth may impact performance.\n",
      "  sets = df_all.loc[(date, routine_id, exercise_id)].to_dict(orient=\"records\")\n",
      "C:\\Users\\jorda\\AppData\\Local\\Temp\\ipykernel_34876\\2859303871.py:7: PerformanceWarning: indexing past lexsort depth may impact performance.\n",
      "  sets = df_all.loc[(date, routine_id, exercise_id)].to_dict(orient=\"records\")\n",
      "C:\\Users\\jorda\\AppData\\Local\\Temp\\ipykernel_34876\\2859303871.py:7: PerformanceWarning: indexing past lexsort depth may impact performance.\n",
      "  sets = df_all.loc[(date, routine_id, exercise_id)].to_dict(orient=\"records\")\n"
     ]
    },
    {
     "name": "stdout",
     "output_type": "stream",
     "text": [
      "Created workout for date 2024-11-18\n"
     ]
    },
    {
     "name": "stderr",
     "output_type": "stream",
     "text": [
      "C:\\Users\\jorda\\AppData\\Local\\Temp\\ipykernel_34876\\2859303871.py:4: PerformanceWarning: indexing past lexsort depth may impact performance.\n",
      "  exercise_ids = df_all.loc[(date, routine_id)].index.unique().values\n",
      "C:\\Users\\jorda\\AppData\\Local\\Temp\\ipykernel_34876\\2859303871.py:7: PerformanceWarning: indexing past lexsort depth may impact performance.\n",
      "  sets = df_all.loc[(date, routine_id, exercise_id)].to_dict(orient=\"records\")\n",
      "C:\\Users\\jorda\\AppData\\Local\\Temp\\ipykernel_34876\\2859303871.py:7: PerformanceWarning: indexing past lexsort depth may impact performance.\n",
      "  sets = df_all.loc[(date, routine_id, exercise_id)].to_dict(orient=\"records\")\n",
      "C:\\Users\\jorda\\AppData\\Local\\Temp\\ipykernel_34876\\2859303871.py:7: PerformanceWarning: indexing past lexsort depth may impact performance.\n",
      "  sets = df_all.loc[(date, routine_id, exercise_id)].to_dict(orient=\"records\")\n",
      "C:\\Users\\jorda\\AppData\\Local\\Temp\\ipykernel_34876\\2859303871.py:7: PerformanceWarning: indexing past lexsort depth may impact performance.\n",
      "  sets = df_all.loc[(date, routine_id, exercise_id)].to_dict(orient=\"records\")\n",
      "C:\\Users\\jorda\\AppData\\Local\\Temp\\ipykernel_34876\\2859303871.py:7: PerformanceWarning: indexing past lexsort depth may impact performance.\n",
      "  sets = df_all.loc[(date, routine_id, exercise_id)].to_dict(orient=\"records\")\n"
     ]
    },
    {
     "name": "stdout",
     "output_type": "stream",
     "text": [
      "Created workout for date 2024-11-19\n"
     ]
    },
    {
     "name": "stderr",
     "output_type": "stream",
     "text": [
      "C:\\Users\\jorda\\AppData\\Local\\Temp\\ipykernel_34876\\2859303871.py:4: PerformanceWarning: indexing past lexsort depth may impact performance.\n",
      "  exercise_ids = df_all.loc[(date, routine_id)].index.unique().values\n",
      "C:\\Users\\jorda\\AppData\\Local\\Temp\\ipykernel_34876\\2859303871.py:7: PerformanceWarning: indexing past lexsort depth may impact performance.\n",
      "  sets = df_all.loc[(date, routine_id, exercise_id)].to_dict(orient=\"records\")\n",
      "C:\\Users\\jorda\\AppData\\Local\\Temp\\ipykernel_34876\\2859303871.py:7: PerformanceWarning: indexing past lexsort depth may impact performance.\n",
      "  sets = df_all.loc[(date, routine_id, exercise_id)].to_dict(orient=\"records\")\n",
      "C:\\Users\\jorda\\AppData\\Local\\Temp\\ipykernel_34876\\2859303871.py:7: PerformanceWarning: indexing past lexsort depth may impact performance.\n",
      "  sets = df_all.loc[(date, routine_id, exercise_id)].to_dict(orient=\"records\")\n",
      "C:\\Users\\jorda\\AppData\\Local\\Temp\\ipykernel_34876\\2859303871.py:7: PerformanceWarning: indexing past lexsort depth may impact performance.\n",
      "  sets = df_all.loc[(date, routine_id, exercise_id)].to_dict(orient=\"records\")\n",
      "C:\\Users\\jorda\\AppData\\Local\\Temp\\ipykernel_34876\\2859303871.py:7: PerformanceWarning: indexing past lexsort depth may impact performance.\n",
      "  sets = df_all.loc[(date, routine_id, exercise_id)].to_dict(orient=\"records\")\n",
      "C:\\Users\\jorda\\AppData\\Local\\Temp\\ipykernel_34876\\2859303871.py:7: PerformanceWarning: indexing past lexsort depth may impact performance.\n",
      "  sets = df_all.loc[(date, routine_id, exercise_id)].to_dict(orient=\"records\")\n",
      "C:\\Users\\jorda\\AppData\\Local\\Temp\\ipykernel_34876\\2859303871.py:7: PerformanceWarning: indexing past lexsort depth may impact performance.\n",
      "  sets = df_all.loc[(date, routine_id, exercise_id)].to_dict(orient=\"records\")\n"
     ]
    },
    {
     "name": "stdout",
     "output_type": "stream",
     "text": [
      "Created workout for date 2024-11-20\n"
     ]
    },
    {
     "name": "stderr",
     "output_type": "stream",
     "text": [
      "C:\\Users\\jorda\\AppData\\Local\\Temp\\ipykernel_34876\\2859303871.py:4: PerformanceWarning: indexing past lexsort depth may impact performance.\n",
      "  exercise_ids = df_all.loc[(date, routine_id)].index.unique().values\n",
      "C:\\Users\\jorda\\AppData\\Local\\Temp\\ipykernel_34876\\2859303871.py:7: PerformanceWarning: indexing past lexsort depth may impact performance.\n",
      "  sets = df_all.loc[(date, routine_id, exercise_id)].to_dict(orient=\"records\")\n",
      "C:\\Users\\jorda\\AppData\\Local\\Temp\\ipykernel_34876\\2859303871.py:7: PerformanceWarning: indexing past lexsort depth may impact performance.\n",
      "  sets = df_all.loc[(date, routine_id, exercise_id)].to_dict(orient=\"records\")\n",
      "C:\\Users\\jorda\\AppData\\Local\\Temp\\ipykernel_34876\\2859303871.py:7: PerformanceWarning: indexing past lexsort depth may impact performance.\n",
      "  sets = df_all.loc[(date, routine_id, exercise_id)].to_dict(orient=\"records\")\n",
      "C:\\Users\\jorda\\AppData\\Local\\Temp\\ipykernel_34876\\2859303871.py:7: PerformanceWarning: indexing past lexsort depth may impact performance.\n",
      "  sets = df_all.loc[(date, routine_id, exercise_id)].to_dict(orient=\"records\")\n",
      "C:\\Users\\jorda\\AppData\\Local\\Temp\\ipykernel_34876\\2859303871.py:7: PerformanceWarning: indexing past lexsort depth may impact performance.\n",
      "  sets = df_all.loc[(date, routine_id, exercise_id)].to_dict(orient=\"records\")\n",
      "C:\\Users\\jorda\\AppData\\Local\\Temp\\ipykernel_34876\\2859303871.py:7: PerformanceWarning: indexing past lexsort depth may impact performance.\n",
      "  sets = df_all.loc[(date, routine_id, exercise_id)].to_dict(orient=\"records\")\n",
      "C:\\Users\\jorda\\AppData\\Local\\Temp\\ipykernel_34876\\2859303871.py:7: PerformanceWarning: indexing past lexsort depth may impact performance.\n",
      "  sets = df_all.loc[(date, routine_id, exercise_id)].to_dict(orient=\"records\")\n"
     ]
    },
    {
     "name": "stdout",
     "output_type": "stream",
     "text": [
      "Created workout for date 2024-06-29\n"
     ]
    },
    {
     "name": "stderr",
     "output_type": "stream",
     "text": [
      "C:\\Users\\jorda\\AppData\\Local\\Temp\\ipykernel_34876\\2859303871.py:4: PerformanceWarning: indexing past lexsort depth may impact performance.\n",
      "  exercise_ids = df_all.loc[(date, routine_id)].index.unique().values\n",
      "C:\\Users\\jorda\\AppData\\Local\\Temp\\ipykernel_34876\\2859303871.py:7: PerformanceWarning: indexing past lexsort depth may impact performance.\n",
      "  sets = df_all.loc[(date, routine_id, exercise_id)].to_dict(orient=\"records\")\n",
      "C:\\Users\\jorda\\AppData\\Local\\Temp\\ipykernel_34876\\2859303871.py:7: PerformanceWarning: indexing past lexsort depth may impact performance.\n",
      "  sets = df_all.loc[(date, routine_id, exercise_id)].to_dict(orient=\"records\")\n",
      "C:\\Users\\jorda\\AppData\\Local\\Temp\\ipykernel_34876\\2859303871.py:7: PerformanceWarning: indexing past lexsort depth may impact performance.\n",
      "  sets = df_all.loc[(date, routine_id, exercise_id)].to_dict(orient=\"records\")\n",
      "C:\\Users\\jorda\\AppData\\Local\\Temp\\ipykernel_34876\\2859303871.py:7: PerformanceWarning: indexing past lexsort depth may impact performance.\n",
      "  sets = df_all.loc[(date, routine_id, exercise_id)].to_dict(orient=\"records\")\n",
      "C:\\Users\\jorda\\AppData\\Local\\Temp\\ipykernel_34876\\2859303871.py:7: PerformanceWarning: indexing past lexsort depth may impact performance.\n",
      "  sets = df_all.loc[(date, routine_id, exercise_id)].to_dict(orient=\"records\")\n",
      "C:\\Users\\jorda\\AppData\\Local\\Temp\\ipykernel_34876\\2859303871.py:7: PerformanceWarning: indexing past lexsort depth may impact performance.\n",
      "  sets = df_all.loc[(date, routine_id, exercise_id)].to_dict(orient=\"records\")\n",
      "C:\\Users\\jorda\\AppData\\Local\\Temp\\ipykernel_34876\\2859303871.py:7: PerformanceWarning: indexing past lexsort depth may impact performance.\n",
      "  sets = df_all.loc[(date, routine_id, exercise_id)].to_dict(orient=\"records\")\n"
     ]
    },
    {
     "name": "stdout",
     "output_type": "stream",
     "text": [
      "Created workout for date 2024-07-01\n"
     ]
    },
    {
     "name": "stderr",
     "output_type": "stream",
     "text": [
      "C:\\Users\\jorda\\AppData\\Local\\Temp\\ipykernel_34876\\2859303871.py:4: PerformanceWarning: indexing past lexsort depth may impact performance.\n",
      "  exercise_ids = df_all.loc[(date, routine_id)].index.unique().values\n",
      "C:\\Users\\jorda\\AppData\\Local\\Temp\\ipykernel_34876\\2859303871.py:7: PerformanceWarning: indexing past lexsort depth may impact performance.\n",
      "  sets = df_all.loc[(date, routine_id, exercise_id)].to_dict(orient=\"records\")\n",
      "C:\\Users\\jorda\\AppData\\Local\\Temp\\ipykernel_34876\\2859303871.py:7: PerformanceWarning: indexing past lexsort depth may impact performance.\n",
      "  sets = df_all.loc[(date, routine_id, exercise_id)].to_dict(orient=\"records\")\n",
      "C:\\Users\\jorda\\AppData\\Local\\Temp\\ipykernel_34876\\2859303871.py:7: PerformanceWarning: indexing past lexsort depth may impact performance.\n",
      "  sets = df_all.loc[(date, routine_id, exercise_id)].to_dict(orient=\"records\")\n",
      "C:\\Users\\jorda\\AppData\\Local\\Temp\\ipykernel_34876\\2859303871.py:7: PerformanceWarning: indexing past lexsort depth may impact performance.\n",
      "  sets = df_all.loc[(date, routine_id, exercise_id)].to_dict(orient=\"records\")\n",
      "C:\\Users\\jorda\\AppData\\Local\\Temp\\ipykernel_34876\\2859303871.py:7: PerformanceWarning: indexing past lexsort depth may impact performance.\n",
      "  sets = df_all.loc[(date, routine_id, exercise_id)].to_dict(orient=\"records\")\n"
     ]
    },
    {
     "name": "stdout",
     "output_type": "stream",
     "text": [
      "Created workout for date 2024-07-02\n"
     ]
    },
    {
     "name": "stderr",
     "output_type": "stream",
     "text": [
      "C:\\Users\\jorda\\AppData\\Local\\Temp\\ipykernel_34876\\2859303871.py:4: PerformanceWarning: indexing past lexsort depth may impact performance.\n",
      "  exercise_ids = df_all.loc[(date, routine_id)].index.unique().values\n",
      "C:\\Users\\jorda\\AppData\\Local\\Temp\\ipykernel_34876\\2859303871.py:7: PerformanceWarning: indexing past lexsort depth may impact performance.\n",
      "  sets = df_all.loc[(date, routine_id, exercise_id)].to_dict(orient=\"records\")\n",
      "C:\\Users\\jorda\\AppData\\Local\\Temp\\ipykernel_34876\\2859303871.py:7: PerformanceWarning: indexing past lexsort depth may impact performance.\n",
      "  sets = df_all.loc[(date, routine_id, exercise_id)].to_dict(orient=\"records\")\n",
      "C:\\Users\\jorda\\AppData\\Local\\Temp\\ipykernel_34876\\2859303871.py:7: PerformanceWarning: indexing past lexsort depth may impact performance.\n",
      "  sets = df_all.loc[(date, routine_id, exercise_id)].to_dict(orient=\"records\")\n",
      "C:\\Users\\jorda\\AppData\\Local\\Temp\\ipykernel_34876\\2859303871.py:7: PerformanceWarning: indexing past lexsort depth may impact performance.\n",
      "  sets = df_all.loc[(date, routine_id, exercise_id)].to_dict(orient=\"records\")\n",
      "C:\\Users\\jorda\\AppData\\Local\\Temp\\ipykernel_34876\\2859303871.py:7: PerformanceWarning: indexing past lexsort depth may impact performance.\n",
      "  sets = df_all.loc[(date, routine_id, exercise_id)].to_dict(orient=\"records\")\n",
      "C:\\Users\\jorda\\AppData\\Local\\Temp\\ipykernel_34876\\2859303871.py:7: PerformanceWarning: indexing past lexsort depth may impact performance.\n",
      "  sets = df_all.loc[(date, routine_id, exercise_id)].to_dict(orient=\"records\")\n",
      "C:\\Users\\jorda\\AppData\\Local\\Temp\\ipykernel_34876\\2859303871.py:7: PerformanceWarning: indexing past lexsort depth may impact performance.\n",
      "  sets = df_all.loc[(date, routine_id, exercise_id)].to_dict(orient=\"records\")\n"
     ]
    },
    {
     "name": "stdout",
     "output_type": "stream",
     "text": [
      "Created workout for date 2024-07-05\n"
     ]
    },
    {
     "name": "stderr",
     "output_type": "stream",
     "text": [
      "C:\\Users\\jorda\\AppData\\Local\\Temp\\ipykernel_34876\\2859303871.py:4: PerformanceWarning: indexing past lexsort depth may impact performance.\n",
      "  exercise_ids = df_all.loc[(date, routine_id)].index.unique().values\n",
      "C:\\Users\\jorda\\AppData\\Local\\Temp\\ipykernel_34876\\2859303871.py:7: PerformanceWarning: indexing past lexsort depth may impact performance.\n",
      "  sets = df_all.loc[(date, routine_id, exercise_id)].to_dict(orient=\"records\")\n",
      "C:\\Users\\jorda\\AppData\\Local\\Temp\\ipykernel_34876\\2859303871.py:7: PerformanceWarning: indexing past lexsort depth may impact performance.\n",
      "  sets = df_all.loc[(date, routine_id, exercise_id)].to_dict(orient=\"records\")\n",
      "C:\\Users\\jorda\\AppData\\Local\\Temp\\ipykernel_34876\\2859303871.py:7: PerformanceWarning: indexing past lexsort depth may impact performance.\n",
      "  sets = df_all.loc[(date, routine_id, exercise_id)].to_dict(orient=\"records\")\n",
      "C:\\Users\\jorda\\AppData\\Local\\Temp\\ipykernel_34876\\2859303871.py:7: PerformanceWarning: indexing past lexsort depth may impact performance.\n",
      "  sets = df_all.loc[(date, routine_id, exercise_id)].to_dict(orient=\"records\")\n",
      "C:\\Users\\jorda\\AppData\\Local\\Temp\\ipykernel_34876\\2859303871.py:7: PerformanceWarning: indexing past lexsort depth may impact performance.\n",
      "  sets = df_all.loc[(date, routine_id, exercise_id)].to_dict(orient=\"records\")\n"
     ]
    },
    {
     "name": "stdout",
     "output_type": "stream",
     "text": [
      "Created workout for date 2024-07-08\n"
     ]
    },
    {
     "name": "stderr",
     "output_type": "stream",
     "text": [
      "C:\\Users\\jorda\\AppData\\Local\\Temp\\ipykernel_34876\\2859303871.py:4: PerformanceWarning: indexing past lexsort depth may impact performance.\n",
      "  exercise_ids = df_all.loc[(date, routine_id)].index.unique().values\n",
      "C:\\Users\\jorda\\AppData\\Local\\Temp\\ipykernel_34876\\2859303871.py:7: PerformanceWarning: indexing past lexsort depth may impact performance.\n",
      "  sets = df_all.loc[(date, routine_id, exercise_id)].to_dict(orient=\"records\")\n",
      "C:\\Users\\jorda\\AppData\\Local\\Temp\\ipykernel_34876\\2859303871.py:7: PerformanceWarning: indexing past lexsort depth may impact performance.\n",
      "  sets = df_all.loc[(date, routine_id, exercise_id)].to_dict(orient=\"records\")\n",
      "C:\\Users\\jorda\\AppData\\Local\\Temp\\ipykernel_34876\\2859303871.py:7: PerformanceWarning: indexing past lexsort depth may impact performance.\n",
      "  sets = df_all.loc[(date, routine_id, exercise_id)].to_dict(orient=\"records\")\n",
      "C:\\Users\\jorda\\AppData\\Local\\Temp\\ipykernel_34876\\2859303871.py:7: PerformanceWarning: indexing past lexsort depth may impact performance.\n",
      "  sets = df_all.loc[(date, routine_id, exercise_id)].to_dict(orient=\"records\")\n",
      "C:\\Users\\jorda\\AppData\\Local\\Temp\\ipykernel_34876\\2859303871.py:7: PerformanceWarning: indexing past lexsort depth may impact performance.\n",
      "  sets = df_all.loc[(date, routine_id, exercise_id)].to_dict(orient=\"records\")\n",
      "C:\\Users\\jorda\\AppData\\Local\\Temp\\ipykernel_34876\\2859303871.py:7: PerformanceWarning: indexing past lexsort depth may impact performance.\n",
      "  sets = df_all.loc[(date, routine_id, exercise_id)].to_dict(orient=\"records\")\n",
      "C:\\Users\\jorda\\AppData\\Local\\Temp\\ipykernel_34876\\2859303871.py:7: PerformanceWarning: indexing past lexsort depth may impact performance.\n",
      "  sets = df_all.loc[(date, routine_id, exercise_id)].to_dict(orient=\"records\")\n"
     ]
    },
    {
     "name": "stdout",
     "output_type": "stream",
     "text": [
      "Created workout for date 2024-07-09\n"
     ]
    },
    {
     "name": "stderr",
     "output_type": "stream",
     "text": [
      "C:\\Users\\jorda\\AppData\\Local\\Temp\\ipykernel_34876\\2859303871.py:4: PerformanceWarning: indexing past lexsort depth may impact performance.\n",
      "  exercise_ids = df_all.loc[(date, routine_id)].index.unique().values\n",
      "C:\\Users\\jorda\\AppData\\Local\\Temp\\ipykernel_34876\\2859303871.py:7: PerformanceWarning: indexing past lexsort depth may impact performance.\n",
      "  sets = df_all.loc[(date, routine_id, exercise_id)].to_dict(orient=\"records\")\n",
      "C:\\Users\\jorda\\AppData\\Local\\Temp\\ipykernel_34876\\2859303871.py:7: PerformanceWarning: indexing past lexsort depth may impact performance.\n",
      "  sets = df_all.loc[(date, routine_id, exercise_id)].to_dict(orient=\"records\")\n",
      "C:\\Users\\jorda\\AppData\\Local\\Temp\\ipykernel_34876\\2859303871.py:7: PerformanceWarning: indexing past lexsort depth may impact performance.\n",
      "  sets = df_all.loc[(date, routine_id, exercise_id)].to_dict(orient=\"records\")\n",
      "C:\\Users\\jorda\\AppData\\Local\\Temp\\ipykernel_34876\\2859303871.py:7: PerformanceWarning: indexing past lexsort depth may impact performance.\n",
      "  sets = df_all.loc[(date, routine_id, exercise_id)].to_dict(orient=\"records\")\n",
      "C:\\Users\\jorda\\AppData\\Local\\Temp\\ipykernel_34876\\2859303871.py:7: PerformanceWarning: indexing past lexsort depth may impact performance.\n",
      "  sets = df_all.loc[(date, routine_id, exercise_id)].to_dict(orient=\"records\")\n",
      "C:\\Users\\jorda\\AppData\\Local\\Temp\\ipykernel_34876\\2859303871.py:7: PerformanceWarning: indexing past lexsort depth may impact performance.\n",
      "  sets = df_all.loc[(date, routine_id, exercise_id)].to_dict(orient=\"records\")\n",
      "C:\\Users\\jorda\\AppData\\Local\\Temp\\ipykernel_34876\\2859303871.py:7: PerformanceWarning: indexing past lexsort depth may impact performance.\n",
      "  sets = df_all.loc[(date, routine_id, exercise_id)].to_dict(orient=\"records\")\n"
     ]
    },
    {
     "name": "stdout",
     "output_type": "stream",
     "text": [
      "Created workout for date 2024-07-12\n"
     ]
    },
    {
     "name": "stderr",
     "output_type": "stream",
     "text": [
      "C:\\Users\\jorda\\AppData\\Local\\Temp\\ipykernel_34876\\2859303871.py:4: PerformanceWarning: indexing past lexsort depth may impact performance.\n",
      "  exercise_ids = df_all.loc[(date, routine_id)].index.unique().values\n",
      "C:\\Users\\jorda\\AppData\\Local\\Temp\\ipykernel_34876\\2859303871.py:7: PerformanceWarning: indexing past lexsort depth may impact performance.\n",
      "  sets = df_all.loc[(date, routine_id, exercise_id)].to_dict(orient=\"records\")\n",
      "C:\\Users\\jorda\\AppData\\Local\\Temp\\ipykernel_34876\\2859303871.py:7: PerformanceWarning: indexing past lexsort depth may impact performance.\n",
      "  sets = df_all.loc[(date, routine_id, exercise_id)].to_dict(orient=\"records\")\n",
      "C:\\Users\\jorda\\AppData\\Local\\Temp\\ipykernel_34876\\2859303871.py:7: PerformanceWarning: indexing past lexsort depth may impact performance.\n",
      "  sets = df_all.loc[(date, routine_id, exercise_id)].to_dict(orient=\"records\")\n",
      "C:\\Users\\jorda\\AppData\\Local\\Temp\\ipykernel_34876\\2859303871.py:7: PerformanceWarning: indexing past lexsort depth may impact performance.\n",
      "  sets = df_all.loc[(date, routine_id, exercise_id)].to_dict(orient=\"records\")\n",
      "C:\\Users\\jorda\\AppData\\Local\\Temp\\ipykernel_34876\\2859303871.py:7: PerformanceWarning: indexing past lexsort depth may impact performance.\n",
      "  sets = df_all.loc[(date, routine_id, exercise_id)].to_dict(orient=\"records\")\n"
     ]
    },
    {
     "name": "stdout",
     "output_type": "stream",
     "text": [
      "Created workout for date 2024-07-13\n"
     ]
    },
    {
     "name": "stderr",
     "output_type": "stream",
     "text": [
      "C:\\Users\\jorda\\AppData\\Local\\Temp\\ipykernel_34876\\2859303871.py:4: PerformanceWarning: indexing past lexsort depth may impact performance.\n",
      "  exercise_ids = df_all.loc[(date, routine_id)].index.unique().values\n",
      "C:\\Users\\jorda\\AppData\\Local\\Temp\\ipykernel_34876\\2859303871.py:7: PerformanceWarning: indexing past lexsort depth may impact performance.\n",
      "  sets = df_all.loc[(date, routine_id, exercise_id)].to_dict(orient=\"records\")\n",
      "C:\\Users\\jorda\\AppData\\Local\\Temp\\ipykernel_34876\\2859303871.py:7: PerformanceWarning: indexing past lexsort depth may impact performance.\n",
      "  sets = df_all.loc[(date, routine_id, exercise_id)].to_dict(orient=\"records\")\n",
      "C:\\Users\\jorda\\AppData\\Local\\Temp\\ipykernel_34876\\2859303871.py:7: PerformanceWarning: indexing past lexsort depth may impact performance.\n",
      "  sets = df_all.loc[(date, routine_id, exercise_id)].to_dict(orient=\"records\")\n",
      "C:\\Users\\jorda\\AppData\\Local\\Temp\\ipykernel_34876\\2859303871.py:7: PerformanceWarning: indexing past lexsort depth may impact performance.\n",
      "  sets = df_all.loc[(date, routine_id, exercise_id)].to_dict(orient=\"records\")\n",
      "C:\\Users\\jorda\\AppData\\Local\\Temp\\ipykernel_34876\\2859303871.py:7: PerformanceWarning: indexing past lexsort depth may impact performance.\n",
      "  sets = df_all.loc[(date, routine_id, exercise_id)].to_dict(orient=\"records\")\n",
      "C:\\Users\\jorda\\AppData\\Local\\Temp\\ipykernel_34876\\2859303871.py:7: PerformanceWarning: indexing past lexsort depth may impact performance.\n",
      "  sets = df_all.loc[(date, routine_id, exercise_id)].to_dict(orient=\"records\")\n",
      "C:\\Users\\jorda\\AppData\\Local\\Temp\\ipykernel_34876\\2859303871.py:7: PerformanceWarning: indexing past lexsort depth may impact performance.\n",
      "  sets = df_all.loc[(date, routine_id, exercise_id)].to_dict(orient=\"records\")\n"
     ]
    },
    {
     "name": "stdout",
     "output_type": "stream",
     "text": [
      "Created workout for date 2024-07-15\n"
     ]
    },
    {
     "name": "stderr",
     "output_type": "stream",
     "text": [
      "C:\\Users\\jorda\\AppData\\Local\\Temp\\ipykernel_34876\\2859303871.py:4: PerformanceWarning: indexing past lexsort depth may impact performance.\n",
      "  exercise_ids = df_all.loc[(date, routine_id)].index.unique().values\n",
      "C:\\Users\\jorda\\AppData\\Local\\Temp\\ipykernel_34876\\2859303871.py:7: PerformanceWarning: indexing past lexsort depth may impact performance.\n",
      "  sets = df_all.loc[(date, routine_id, exercise_id)].to_dict(orient=\"records\")\n",
      "C:\\Users\\jorda\\AppData\\Local\\Temp\\ipykernel_34876\\2859303871.py:7: PerformanceWarning: indexing past lexsort depth may impact performance.\n",
      "  sets = df_all.loc[(date, routine_id, exercise_id)].to_dict(orient=\"records\")\n",
      "C:\\Users\\jorda\\AppData\\Local\\Temp\\ipykernel_34876\\2859303871.py:7: PerformanceWarning: indexing past lexsort depth may impact performance.\n",
      "  sets = df_all.loc[(date, routine_id, exercise_id)].to_dict(orient=\"records\")\n",
      "C:\\Users\\jorda\\AppData\\Local\\Temp\\ipykernel_34876\\2859303871.py:7: PerformanceWarning: indexing past lexsort depth may impact performance.\n",
      "  sets = df_all.loc[(date, routine_id, exercise_id)].to_dict(orient=\"records\")\n",
      "C:\\Users\\jorda\\AppData\\Local\\Temp\\ipykernel_34876\\2859303871.py:7: PerformanceWarning: indexing past lexsort depth may impact performance.\n",
      "  sets = df_all.loc[(date, routine_id, exercise_id)].to_dict(orient=\"records\")\n"
     ]
    },
    {
     "name": "stdout",
     "output_type": "stream",
     "text": [
      "Created workout for date 2024-07-18\n"
     ]
    },
    {
     "name": "stderr",
     "output_type": "stream",
     "text": [
      "C:\\Users\\jorda\\AppData\\Local\\Temp\\ipykernel_34876\\2859303871.py:4: PerformanceWarning: indexing past lexsort depth may impact performance.\n",
      "  exercise_ids = df_all.loc[(date, routine_id)].index.unique().values\n",
      "C:\\Users\\jorda\\AppData\\Local\\Temp\\ipykernel_34876\\2859303871.py:7: PerformanceWarning: indexing past lexsort depth may impact performance.\n",
      "  sets = df_all.loc[(date, routine_id, exercise_id)].to_dict(orient=\"records\")\n",
      "C:\\Users\\jorda\\AppData\\Local\\Temp\\ipykernel_34876\\2859303871.py:7: PerformanceWarning: indexing past lexsort depth may impact performance.\n",
      "  sets = df_all.loc[(date, routine_id, exercise_id)].to_dict(orient=\"records\")\n",
      "C:\\Users\\jorda\\AppData\\Local\\Temp\\ipykernel_34876\\2859303871.py:7: PerformanceWarning: indexing past lexsort depth may impact performance.\n",
      "  sets = df_all.loc[(date, routine_id, exercise_id)].to_dict(orient=\"records\")\n",
      "C:\\Users\\jorda\\AppData\\Local\\Temp\\ipykernel_34876\\2859303871.py:7: PerformanceWarning: indexing past lexsort depth may impact performance.\n",
      "  sets = df_all.loc[(date, routine_id, exercise_id)].to_dict(orient=\"records\")\n"
     ]
    },
    {
     "name": "stdout",
     "output_type": "stream",
     "text": [
      "Created workout for date 2024-07-22\n"
     ]
    },
    {
     "name": "stderr",
     "output_type": "stream",
     "text": [
      "C:\\Users\\jorda\\AppData\\Local\\Temp\\ipykernel_34876\\2859303871.py:4: PerformanceWarning: indexing past lexsort depth may impact performance.\n",
      "  exercise_ids = df_all.loc[(date, routine_id)].index.unique().values\n",
      "C:\\Users\\jorda\\AppData\\Local\\Temp\\ipykernel_34876\\2859303871.py:7: PerformanceWarning: indexing past lexsort depth may impact performance.\n",
      "  sets = df_all.loc[(date, routine_id, exercise_id)].to_dict(orient=\"records\")\n",
      "C:\\Users\\jorda\\AppData\\Local\\Temp\\ipykernel_34876\\2859303871.py:7: PerformanceWarning: indexing past lexsort depth may impact performance.\n",
      "  sets = df_all.loc[(date, routine_id, exercise_id)].to_dict(orient=\"records\")\n",
      "C:\\Users\\jorda\\AppData\\Local\\Temp\\ipykernel_34876\\2859303871.py:7: PerformanceWarning: indexing past lexsort depth may impact performance.\n",
      "  sets = df_all.loc[(date, routine_id, exercise_id)].to_dict(orient=\"records\")\n",
      "C:\\Users\\jorda\\AppData\\Local\\Temp\\ipykernel_34876\\2859303871.py:7: PerformanceWarning: indexing past lexsort depth may impact performance.\n",
      "  sets = df_all.loc[(date, routine_id, exercise_id)].to_dict(orient=\"records\")\n",
      "C:\\Users\\jorda\\AppData\\Local\\Temp\\ipykernel_34876\\2859303871.py:7: PerformanceWarning: indexing past lexsort depth may impact performance.\n",
      "  sets = df_all.loc[(date, routine_id, exercise_id)].to_dict(orient=\"records\")\n",
      "C:\\Users\\jorda\\AppData\\Local\\Temp\\ipykernel_34876\\2859303871.py:7: PerformanceWarning: indexing past lexsort depth may impact performance.\n",
      "  sets = df_all.loc[(date, routine_id, exercise_id)].to_dict(orient=\"records\")\n",
      "C:\\Users\\jorda\\AppData\\Local\\Temp\\ipykernel_34876\\2859303871.py:7: PerformanceWarning: indexing past lexsort depth may impact performance.\n",
      "  sets = df_all.loc[(date, routine_id, exercise_id)].to_dict(orient=\"records\")\n"
     ]
    },
    {
     "name": "stdout",
     "output_type": "stream",
     "text": [
      "Created workout for date 2024-07-24\n"
     ]
    },
    {
     "name": "stderr",
     "output_type": "stream",
     "text": [
      "C:\\Users\\jorda\\AppData\\Local\\Temp\\ipykernel_34876\\2859303871.py:4: PerformanceWarning: indexing past lexsort depth may impact performance.\n",
      "  exercise_ids = df_all.loc[(date, routine_id)].index.unique().values\n",
      "C:\\Users\\jorda\\AppData\\Local\\Temp\\ipykernel_34876\\2859303871.py:7: PerformanceWarning: indexing past lexsort depth may impact performance.\n",
      "  sets = df_all.loc[(date, routine_id, exercise_id)].to_dict(orient=\"records\")\n",
      "C:\\Users\\jorda\\AppData\\Local\\Temp\\ipykernel_34876\\2859303871.py:7: PerformanceWarning: indexing past lexsort depth may impact performance.\n",
      "  sets = df_all.loc[(date, routine_id, exercise_id)].to_dict(orient=\"records\")\n",
      "C:\\Users\\jorda\\AppData\\Local\\Temp\\ipykernel_34876\\2859303871.py:7: PerformanceWarning: indexing past lexsort depth may impact performance.\n",
      "  sets = df_all.loc[(date, routine_id, exercise_id)].to_dict(orient=\"records\")\n",
      "C:\\Users\\jorda\\AppData\\Local\\Temp\\ipykernel_34876\\2859303871.py:7: PerformanceWarning: indexing past lexsort depth may impact performance.\n",
      "  sets = df_all.loc[(date, routine_id, exercise_id)].to_dict(orient=\"records\")\n"
     ]
    },
    {
     "name": "stdout",
     "output_type": "stream",
     "text": [
      "Created workout for date 2024-07-26\n"
     ]
    },
    {
     "name": "stderr",
     "output_type": "stream",
     "text": [
      "C:\\Users\\jorda\\AppData\\Local\\Temp\\ipykernel_34876\\2859303871.py:4: PerformanceWarning: indexing past lexsort depth may impact performance.\n",
      "  exercise_ids = df_all.loc[(date, routine_id)].index.unique().values\n",
      "C:\\Users\\jorda\\AppData\\Local\\Temp\\ipykernel_34876\\2859303871.py:7: PerformanceWarning: indexing past lexsort depth may impact performance.\n",
      "  sets = df_all.loc[(date, routine_id, exercise_id)].to_dict(orient=\"records\")\n",
      "C:\\Users\\jorda\\AppData\\Local\\Temp\\ipykernel_34876\\2859303871.py:7: PerformanceWarning: indexing past lexsort depth may impact performance.\n",
      "  sets = df_all.loc[(date, routine_id, exercise_id)].to_dict(orient=\"records\")\n",
      "C:\\Users\\jorda\\AppData\\Local\\Temp\\ipykernel_34876\\2859303871.py:7: PerformanceWarning: indexing past lexsort depth may impact performance.\n",
      "  sets = df_all.loc[(date, routine_id, exercise_id)].to_dict(orient=\"records\")\n",
      "C:\\Users\\jorda\\AppData\\Local\\Temp\\ipykernel_34876\\2859303871.py:7: PerformanceWarning: indexing past lexsort depth may impact performance.\n",
      "  sets = df_all.loc[(date, routine_id, exercise_id)].to_dict(orient=\"records\")\n"
     ]
    },
    {
     "name": "stdout",
     "output_type": "stream",
     "text": [
      "Created workout for date 2024-07-29\n"
     ]
    },
    {
     "name": "stderr",
     "output_type": "stream",
     "text": [
      "C:\\Users\\jorda\\AppData\\Local\\Temp\\ipykernel_34876\\2859303871.py:4: PerformanceWarning: indexing past lexsort depth may impact performance.\n",
      "  exercise_ids = df_all.loc[(date, routine_id)].index.unique().values\n",
      "C:\\Users\\jorda\\AppData\\Local\\Temp\\ipykernel_34876\\2859303871.py:7: PerformanceWarning: indexing past lexsort depth may impact performance.\n",
      "  sets = df_all.loc[(date, routine_id, exercise_id)].to_dict(orient=\"records\")\n",
      "C:\\Users\\jorda\\AppData\\Local\\Temp\\ipykernel_34876\\2859303871.py:7: PerformanceWarning: indexing past lexsort depth may impact performance.\n",
      "  sets = df_all.loc[(date, routine_id, exercise_id)].to_dict(orient=\"records\")\n",
      "C:\\Users\\jorda\\AppData\\Local\\Temp\\ipykernel_34876\\2859303871.py:7: PerformanceWarning: indexing past lexsort depth may impact performance.\n",
      "  sets = df_all.loc[(date, routine_id, exercise_id)].to_dict(orient=\"records\")\n",
      "C:\\Users\\jorda\\AppData\\Local\\Temp\\ipykernel_34876\\2859303871.py:7: PerformanceWarning: indexing past lexsort depth may impact performance.\n",
      "  sets = df_all.loc[(date, routine_id, exercise_id)].to_dict(orient=\"records\")\n"
     ]
    },
    {
     "name": "stdout",
     "output_type": "stream",
     "text": [
      "Created workout for date 2024-08-05\n"
     ]
    },
    {
     "name": "stderr",
     "output_type": "stream",
     "text": [
      "C:\\Users\\jorda\\AppData\\Local\\Temp\\ipykernel_34876\\2859303871.py:4: PerformanceWarning: indexing past lexsort depth may impact performance.\n",
      "  exercise_ids = df_all.loc[(date, routine_id)].index.unique().values\n",
      "C:\\Users\\jorda\\AppData\\Local\\Temp\\ipykernel_34876\\2859303871.py:7: PerformanceWarning: indexing past lexsort depth may impact performance.\n",
      "  sets = df_all.loc[(date, routine_id, exercise_id)].to_dict(orient=\"records\")\n",
      "C:\\Users\\jorda\\AppData\\Local\\Temp\\ipykernel_34876\\2859303871.py:7: PerformanceWarning: indexing past lexsort depth may impact performance.\n",
      "  sets = df_all.loc[(date, routine_id, exercise_id)].to_dict(orient=\"records\")\n",
      "C:\\Users\\jorda\\AppData\\Local\\Temp\\ipykernel_34876\\2859303871.py:7: PerformanceWarning: indexing past lexsort depth may impact performance.\n",
      "  sets = df_all.loc[(date, routine_id, exercise_id)].to_dict(orient=\"records\")\n",
      "C:\\Users\\jorda\\AppData\\Local\\Temp\\ipykernel_34876\\2859303871.py:7: PerformanceWarning: indexing past lexsort depth may impact performance.\n",
      "  sets = df_all.loc[(date, routine_id, exercise_id)].to_dict(orient=\"records\")\n",
      "C:\\Users\\jorda\\AppData\\Local\\Temp\\ipykernel_34876\\2859303871.py:7: PerformanceWarning: indexing past lexsort depth may impact performance.\n",
      "  sets = df_all.loc[(date, routine_id, exercise_id)].to_dict(orient=\"records\")\n",
      "C:\\Users\\jorda\\AppData\\Local\\Temp\\ipykernel_34876\\2859303871.py:7: PerformanceWarning: indexing past lexsort depth may impact performance.\n",
      "  sets = df_all.loc[(date, routine_id, exercise_id)].to_dict(orient=\"records\")\n",
      "C:\\Users\\jorda\\AppData\\Local\\Temp\\ipykernel_34876\\2859303871.py:7: PerformanceWarning: indexing past lexsort depth may impact performance.\n",
      "  sets = df_all.loc[(date, routine_id, exercise_id)].to_dict(orient=\"records\")\n"
     ]
    },
    {
     "name": "stdout",
     "output_type": "stream",
     "text": [
      "Created workout for date 2024-08-06\n"
     ]
    },
    {
     "name": "stderr",
     "output_type": "stream",
     "text": [
      "C:\\Users\\jorda\\AppData\\Local\\Temp\\ipykernel_34876\\2859303871.py:4: PerformanceWarning: indexing past lexsort depth may impact performance.\n",
      "  exercise_ids = df_all.loc[(date, routine_id)].index.unique().values\n",
      "C:\\Users\\jorda\\AppData\\Local\\Temp\\ipykernel_34876\\2859303871.py:7: PerformanceWarning: indexing past lexsort depth may impact performance.\n",
      "  sets = df_all.loc[(date, routine_id, exercise_id)].to_dict(orient=\"records\")\n",
      "C:\\Users\\jorda\\AppData\\Local\\Temp\\ipykernel_34876\\2859303871.py:7: PerformanceWarning: indexing past lexsort depth may impact performance.\n",
      "  sets = df_all.loc[(date, routine_id, exercise_id)].to_dict(orient=\"records\")\n",
      "C:\\Users\\jorda\\AppData\\Local\\Temp\\ipykernel_34876\\2859303871.py:7: PerformanceWarning: indexing past lexsort depth may impact performance.\n",
      "  sets = df_all.loc[(date, routine_id, exercise_id)].to_dict(orient=\"records\")\n",
      "C:\\Users\\jorda\\AppData\\Local\\Temp\\ipykernel_34876\\2859303871.py:7: PerformanceWarning: indexing past lexsort depth may impact performance.\n",
      "  sets = df_all.loc[(date, routine_id, exercise_id)].to_dict(orient=\"records\")\n",
      "C:\\Users\\jorda\\AppData\\Local\\Temp\\ipykernel_34876\\2859303871.py:7: PerformanceWarning: indexing past lexsort depth may impact performance.\n",
      "  sets = df_all.loc[(date, routine_id, exercise_id)].to_dict(orient=\"records\")\n",
      "C:\\Users\\jorda\\AppData\\Local\\Temp\\ipykernel_34876\\2859303871.py:7: PerformanceWarning: indexing past lexsort depth may impact performance.\n",
      "  sets = df_all.loc[(date, routine_id, exercise_id)].to_dict(orient=\"records\")\n"
     ]
    },
    {
     "name": "stdout",
     "output_type": "stream",
     "text": [
      "Created workout for date 2024-08-09\n"
     ]
    },
    {
     "name": "stderr",
     "output_type": "stream",
     "text": [
      "C:\\Users\\jorda\\AppData\\Local\\Temp\\ipykernel_34876\\2859303871.py:4: PerformanceWarning: indexing past lexsort depth may impact performance.\n",
      "  exercise_ids = df_all.loc[(date, routine_id)].index.unique().values\n",
      "C:\\Users\\jorda\\AppData\\Local\\Temp\\ipykernel_34876\\2859303871.py:7: PerformanceWarning: indexing past lexsort depth may impact performance.\n",
      "  sets = df_all.loc[(date, routine_id, exercise_id)].to_dict(orient=\"records\")\n",
      "C:\\Users\\jorda\\AppData\\Local\\Temp\\ipykernel_34876\\2859303871.py:7: PerformanceWarning: indexing past lexsort depth may impact performance.\n",
      "  sets = df_all.loc[(date, routine_id, exercise_id)].to_dict(orient=\"records\")\n",
      "C:\\Users\\jorda\\AppData\\Local\\Temp\\ipykernel_34876\\2859303871.py:7: PerformanceWarning: indexing past lexsort depth may impact performance.\n",
      "  sets = df_all.loc[(date, routine_id, exercise_id)].to_dict(orient=\"records\")\n"
     ]
    },
    {
     "name": "stdout",
     "output_type": "stream",
     "text": [
      "Created workout for date 2024-08-13\n"
     ]
    },
    {
     "name": "stderr",
     "output_type": "stream",
     "text": [
      "C:\\Users\\jorda\\AppData\\Local\\Temp\\ipykernel_34876\\2859303871.py:4: PerformanceWarning: indexing past lexsort depth may impact performance.\n",
      "  exercise_ids = df_all.loc[(date, routine_id)].index.unique().values\n",
      "C:\\Users\\jorda\\AppData\\Local\\Temp\\ipykernel_34876\\2859303871.py:7: PerformanceWarning: indexing past lexsort depth may impact performance.\n",
      "  sets = df_all.loc[(date, routine_id, exercise_id)].to_dict(orient=\"records\")\n",
      "C:\\Users\\jorda\\AppData\\Local\\Temp\\ipykernel_34876\\2859303871.py:7: PerformanceWarning: indexing past lexsort depth may impact performance.\n",
      "  sets = df_all.loc[(date, routine_id, exercise_id)].to_dict(orient=\"records\")\n",
      "C:\\Users\\jorda\\AppData\\Local\\Temp\\ipykernel_34876\\2859303871.py:7: PerformanceWarning: indexing past lexsort depth may impact performance.\n",
      "  sets = df_all.loc[(date, routine_id, exercise_id)].to_dict(orient=\"records\")\n",
      "C:\\Users\\jorda\\AppData\\Local\\Temp\\ipykernel_34876\\2859303871.py:7: PerformanceWarning: indexing past lexsort depth may impact performance.\n",
      "  sets = df_all.loc[(date, routine_id, exercise_id)].to_dict(orient=\"records\")\n",
      "C:\\Users\\jorda\\AppData\\Local\\Temp\\ipykernel_34876\\2859303871.py:7: PerformanceWarning: indexing past lexsort depth may impact performance.\n",
      "  sets = df_all.loc[(date, routine_id, exercise_id)].to_dict(orient=\"records\")\n",
      "C:\\Users\\jorda\\AppData\\Local\\Temp\\ipykernel_34876\\2859303871.py:7: PerformanceWarning: indexing past lexsort depth may impact performance.\n",
      "  sets = df_all.loc[(date, routine_id, exercise_id)].to_dict(orient=\"records\")\n"
     ]
    },
    {
     "name": "stdout",
     "output_type": "stream",
     "text": [
      "Created workout for date 2024-08-15\n"
     ]
    },
    {
     "name": "stderr",
     "output_type": "stream",
     "text": [
      "C:\\Users\\jorda\\AppData\\Local\\Temp\\ipykernel_34876\\2859303871.py:4: PerformanceWarning: indexing past lexsort depth may impact performance.\n",
      "  exercise_ids = df_all.loc[(date, routine_id)].index.unique().values\n",
      "C:\\Users\\jorda\\AppData\\Local\\Temp\\ipykernel_34876\\2859303871.py:7: PerformanceWarning: indexing past lexsort depth may impact performance.\n",
      "  sets = df_all.loc[(date, routine_id, exercise_id)].to_dict(orient=\"records\")\n",
      "C:\\Users\\jorda\\AppData\\Local\\Temp\\ipykernel_34876\\2859303871.py:7: PerformanceWarning: indexing past lexsort depth may impact performance.\n",
      "  sets = df_all.loc[(date, routine_id, exercise_id)].to_dict(orient=\"records\")\n",
      "C:\\Users\\jorda\\AppData\\Local\\Temp\\ipykernel_34876\\2859303871.py:7: PerformanceWarning: indexing past lexsort depth may impact performance.\n",
      "  sets = df_all.loc[(date, routine_id, exercise_id)].to_dict(orient=\"records\")\n",
      "C:\\Users\\jorda\\AppData\\Local\\Temp\\ipykernel_34876\\2859303871.py:7: PerformanceWarning: indexing past lexsort depth may impact performance.\n",
      "  sets = df_all.loc[(date, routine_id, exercise_id)].to_dict(orient=\"records\")\n"
     ]
    },
    {
     "name": "stdout",
     "output_type": "stream",
     "text": [
      "Created workout for date 2024-08-17\n"
     ]
    },
    {
     "name": "stderr",
     "output_type": "stream",
     "text": [
      "C:\\Users\\jorda\\AppData\\Local\\Temp\\ipykernel_34876\\2859303871.py:4: PerformanceWarning: indexing past lexsort depth may impact performance.\n",
      "  exercise_ids = df_all.loc[(date, routine_id)].index.unique().values\n",
      "C:\\Users\\jorda\\AppData\\Local\\Temp\\ipykernel_34876\\2859303871.py:7: PerformanceWarning: indexing past lexsort depth may impact performance.\n",
      "  sets = df_all.loc[(date, routine_id, exercise_id)].to_dict(orient=\"records\")\n",
      "C:\\Users\\jorda\\AppData\\Local\\Temp\\ipykernel_34876\\2859303871.py:7: PerformanceWarning: indexing past lexsort depth may impact performance.\n",
      "  sets = df_all.loc[(date, routine_id, exercise_id)].to_dict(orient=\"records\")\n"
     ]
    },
    {
     "name": "stdout",
     "output_type": "stream",
     "text": [
      "Created workout for date 2024-08-19\n"
     ]
    },
    {
     "name": "stderr",
     "output_type": "stream",
     "text": [
      "C:\\Users\\jorda\\AppData\\Local\\Temp\\ipykernel_34876\\2859303871.py:4: PerformanceWarning: indexing past lexsort depth may impact performance.\n",
      "  exercise_ids = df_all.loc[(date, routine_id)].index.unique().values\n",
      "C:\\Users\\jorda\\AppData\\Local\\Temp\\ipykernel_34876\\2859303871.py:7: PerformanceWarning: indexing past lexsort depth may impact performance.\n",
      "  sets = df_all.loc[(date, routine_id, exercise_id)].to_dict(orient=\"records\")\n",
      "C:\\Users\\jorda\\AppData\\Local\\Temp\\ipykernel_34876\\2859303871.py:7: PerformanceWarning: indexing past lexsort depth may impact performance.\n",
      "  sets = df_all.loc[(date, routine_id, exercise_id)].to_dict(orient=\"records\")\n",
      "C:\\Users\\jorda\\AppData\\Local\\Temp\\ipykernel_34876\\2859303871.py:7: PerformanceWarning: indexing past lexsort depth may impact performance.\n",
      "  sets = df_all.loc[(date, routine_id, exercise_id)].to_dict(orient=\"records\")\n",
      "C:\\Users\\jorda\\AppData\\Local\\Temp\\ipykernel_34876\\2859303871.py:7: PerformanceWarning: indexing past lexsort depth may impact performance.\n",
      "  sets = df_all.loc[(date, routine_id, exercise_id)].to_dict(orient=\"records\")\n",
      "C:\\Users\\jorda\\AppData\\Local\\Temp\\ipykernel_34876\\2859303871.py:7: PerformanceWarning: indexing past lexsort depth may impact performance.\n",
      "  sets = df_all.loc[(date, routine_id, exercise_id)].to_dict(orient=\"records\")\n",
      "C:\\Users\\jorda\\AppData\\Local\\Temp\\ipykernel_34876\\2859303871.py:7: PerformanceWarning: indexing past lexsort depth may impact performance.\n",
      "  sets = df_all.loc[(date, routine_id, exercise_id)].to_dict(orient=\"records\")\n",
      "C:\\Users\\jorda\\AppData\\Local\\Temp\\ipykernel_34876\\2859303871.py:7: PerformanceWarning: indexing past lexsort depth may impact performance.\n",
      "  sets = df_all.loc[(date, routine_id, exercise_id)].to_dict(orient=\"records\")\n"
     ]
    },
    {
     "name": "stdout",
     "output_type": "stream",
     "text": [
      "Created workout for date 2024-08-24\n"
     ]
    },
    {
     "name": "stderr",
     "output_type": "stream",
     "text": [
      "C:\\Users\\jorda\\AppData\\Local\\Temp\\ipykernel_34876\\2859303871.py:4: PerformanceWarning: indexing past lexsort depth may impact performance.\n",
      "  exercise_ids = df_all.loc[(date, routine_id)].index.unique().values\n",
      "C:\\Users\\jorda\\AppData\\Local\\Temp\\ipykernel_34876\\2859303871.py:7: PerformanceWarning: indexing past lexsort depth may impact performance.\n",
      "  sets = df_all.loc[(date, routine_id, exercise_id)].to_dict(orient=\"records\")\n",
      "C:\\Users\\jorda\\AppData\\Local\\Temp\\ipykernel_34876\\2859303871.py:7: PerformanceWarning: indexing past lexsort depth may impact performance.\n",
      "  sets = df_all.loc[(date, routine_id, exercise_id)].to_dict(orient=\"records\")\n",
      "C:\\Users\\jorda\\AppData\\Local\\Temp\\ipykernel_34876\\2859303871.py:7: PerformanceWarning: indexing past lexsort depth may impact performance.\n",
      "  sets = df_all.loc[(date, routine_id, exercise_id)].to_dict(orient=\"records\")\n",
      "C:\\Users\\jorda\\AppData\\Local\\Temp\\ipykernel_34876\\2859303871.py:7: PerformanceWarning: indexing past lexsort depth may impact performance.\n",
      "  sets = df_all.loc[(date, routine_id, exercise_id)].to_dict(orient=\"records\")\n",
      "C:\\Users\\jorda\\AppData\\Local\\Temp\\ipykernel_34876\\2859303871.py:7: PerformanceWarning: indexing past lexsort depth may impact performance.\n",
      "  sets = df_all.loc[(date, routine_id, exercise_id)].to_dict(orient=\"records\")\n"
     ]
    },
    {
     "name": "stdout",
     "output_type": "stream",
     "text": [
      "Created workout for date 2024-08-26\n"
     ]
    },
    {
     "name": "stderr",
     "output_type": "stream",
     "text": [
      "C:\\Users\\jorda\\AppData\\Local\\Temp\\ipykernel_34876\\2859303871.py:4: PerformanceWarning: indexing past lexsort depth may impact performance.\n",
      "  exercise_ids = df_all.loc[(date, routine_id)].index.unique().values\n",
      "C:\\Users\\jorda\\AppData\\Local\\Temp\\ipykernel_34876\\2859303871.py:7: PerformanceWarning: indexing past lexsort depth may impact performance.\n",
      "  sets = df_all.loc[(date, routine_id, exercise_id)].to_dict(orient=\"records\")\n",
      "C:\\Users\\jorda\\AppData\\Local\\Temp\\ipykernel_34876\\2859303871.py:7: PerformanceWarning: indexing past lexsort depth may impact performance.\n",
      "  sets = df_all.loc[(date, routine_id, exercise_id)].to_dict(orient=\"records\")\n",
      "C:\\Users\\jorda\\AppData\\Local\\Temp\\ipykernel_34876\\2859303871.py:7: PerformanceWarning: indexing past lexsort depth may impact performance.\n",
      "  sets = df_all.loc[(date, routine_id, exercise_id)].to_dict(orient=\"records\")\n",
      "C:\\Users\\jorda\\AppData\\Local\\Temp\\ipykernel_34876\\2859303871.py:7: PerformanceWarning: indexing past lexsort depth may impact performance.\n",
      "  sets = df_all.loc[(date, routine_id, exercise_id)].to_dict(orient=\"records\")\n",
      "C:\\Users\\jorda\\AppData\\Local\\Temp\\ipykernel_34876\\2859303871.py:7: PerformanceWarning: indexing past lexsort depth may impact performance.\n",
      "  sets = df_all.loc[(date, routine_id, exercise_id)].to_dict(orient=\"records\")\n"
     ]
    },
    {
     "name": "stdout",
     "output_type": "stream",
     "text": [
      "Created workout for date 2024-08-28\n"
     ]
    },
    {
     "name": "stderr",
     "output_type": "stream",
     "text": [
      "C:\\Users\\jorda\\AppData\\Local\\Temp\\ipykernel_34876\\2859303871.py:4: PerformanceWarning: indexing past lexsort depth may impact performance.\n",
      "  exercise_ids = df_all.loc[(date, routine_id)].index.unique().values\n",
      "C:\\Users\\jorda\\AppData\\Local\\Temp\\ipykernel_34876\\2859303871.py:7: PerformanceWarning: indexing past lexsort depth may impact performance.\n",
      "  sets = df_all.loc[(date, routine_id, exercise_id)].to_dict(orient=\"records\")\n",
      "C:\\Users\\jorda\\AppData\\Local\\Temp\\ipykernel_34876\\2859303871.py:7: PerformanceWarning: indexing past lexsort depth may impact performance.\n",
      "  sets = df_all.loc[(date, routine_id, exercise_id)].to_dict(orient=\"records\")\n",
      "C:\\Users\\jorda\\AppData\\Local\\Temp\\ipykernel_34876\\2859303871.py:7: PerformanceWarning: indexing past lexsort depth may impact performance.\n",
      "  sets = df_all.loc[(date, routine_id, exercise_id)].to_dict(orient=\"records\")\n",
      "C:\\Users\\jorda\\AppData\\Local\\Temp\\ipykernel_34876\\2859303871.py:7: PerformanceWarning: indexing past lexsort depth may impact performance.\n",
      "  sets = df_all.loc[(date, routine_id, exercise_id)].to_dict(orient=\"records\")\n",
      "C:\\Users\\jorda\\AppData\\Local\\Temp\\ipykernel_34876\\2859303871.py:7: PerformanceWarning: indexing past lexsort depth may impact performance.\n",
      "  sets = df_all.loc[(date, routine_id, exercise_id)].to_dict(orient=\"records\")\n",
      "C:\\Users\\jorda\\AppData\\Local\\Temp\\ipykernel_34876\\2859303871.py:7: PerformanceWarning: indexing past lexsort depth may impact performance.\n",
      "  sets = df_all.loc[(date, routine_id, exercise_id)].to_dict(orient=\"records\")\n",
      "C:\\Users\\jorda\\AppData\\Local\\Temp\\ipykernel_34876\\2859303871.py:7: PerformanceWarning: indexing past lexsort depth may impact performance.\n",
      "  sets = df_all.loc[(date, routine_id, exercise_id)].to_dict(orient=\"records\")\n"
     ]
    },
    {
     "name": "stdout",
     "output_type": "stream",
     "text": [
      "Created workout for date 2024-09-03\n"
     ]
    },
    {
     "name": "stderr",
     "output_type": "stream",
     "text": [
      "C:\\Users\\jorda\\AppData\\Local\\Temp\\ipykernel_34876\\2859303871.py:4: PerformanceWarning: indexing past lexsort depth may impact performance.\n",
      "  exercise_ids = df_all.loc[(date, routine_id)].index.unique().values\n",
      "C:\\Users\\jorda\\AppData\\Local\\Temp\\ipykernel_34876\\2859303871.py:7: PerformanceWarning: indexing past lexsort depth may impact performance.\n",
      "  sets = df_all.loc[(date, routine_id, exercise_id)].to_dict(orient=\"records\")\n",
      "C:\\Users\\jorda\\AppData\\Local\\Temp\\ipykernel_34876\\2859303871.py:7: PerformanceWarning: indexing past lexsort depth may impact performance.\n",
      "  sets = df_all.loc[(date, routine_id, exercise_id)].to_dict(orient=\"records\")\n",
      "C:\\Users\\jorda\\AppData\\Local\\Temp\\ipykernel_34876\\2859303871.py:7: PerformanceWarning: indexing past lexsort depth may impact performance.\n",
      "  sets = df_all.loc[(date, routine_id, exercise_id)].to_dict(orient=\"records\")\n",
      "C:\\Users\\jorda\\AppData\\Local\\Temp\\ipykernel_34876\\2859303871.py:7: PerformanceWarning: indexing past lexsort depth may impact performance.\n",
      "  sets = df_all.loc[(date, routine_id, exercise_id)].to_dict(orient=\"records\")\n",
      "C:\\Users\\jorda\\AppData\\Local\\Temp\\ipykernel_34876\\2859303871.py:7: PerformanceWarning: indexing past lexsort depth may impact performance.\n",
      "  sets = df_all.loc[(date, routine_id, exercise_id)].to_dict(orient=\"records\")\n"
     ]
    },
    {
     "name": "stdout",
     "output_type": "stream",
     "text": [
      "Created workout for date 2024-09-05\n"
     ]
    },
    {
     "name": "stderr",
     "output_type": "stream",
     "text": [
      "C:\\Users\\jorda\\AppData\\Local\\Temp\\ipykernel_34876\\2859303871.py:4: PerformanceWarning: indexing past lexsort depth may impact performance.\n",
      "  exercise_ids = df_all.loc[(date, routine_id)].index.unique().values\n",
      "C:\\Users\\jorda\\AppData\\Local\\Temp\\ipykernel_34876\\2859303871.py:7: PerformanceWarning: indexing past lexsort depth may impact performance.\n",
      "  sets = df_all.loc[(date, routine_id, exercise_id)].to_dict(orient=\"records\")\n",
      "C:\\Users\\jorda\\AppData\\Local\\Temp\\ipykernel_34876\\2859303871.py:7: PerformanceWarning: indexing past lexsort depth may impact performance.\n",
      "  sets = df_all.loc[(date, routine_id, exercise_id)].to_dict(orient=\"records\")\n",
      "C:\\Users\\jorda\\AppData\\Local\\Temp\\ipykernel_34876\\2859303871.py:7: PerformanceWarning: indexing past lexsort depth may impact performance.\n",
      "  sets = df_all.loc[(date, routine_id, exercise_id)].to_dict(orient=\"records\")\n",
      "C:\\Users\\jorda\\AppData\\Local\\Temp\\ipykernel_34876\\2859303871.py:7: PerformanceWarning: indexing past lexsort depth may impact performance.\n",
      "  sets = df_all.loc[(date, routine_id, exercise_id)].to_dict(orient=\"records\")\n",
      "C:\\Users\\jorda\\AppData\\Local\\Temp\\ipykernel_34876\\2859303871.py:7: PerformanceWarning: indexing past lexsort depth may impact performance.\n",
      "  sets = df_all.loc[(date, routine_id, exercise_id)].to_dict(orient=\"records\")\n",
      "C:\\Users\\jorda\\AppData\\Local\\Temp\\ipykernel_34876\\2859303871.py:7: PerformanceWarning: indexing past lexsort depth may impact performance.\n",
      "  sets = df_all.loc[(date, routine_id, exercise_id)].to_dict(orient=\"records\")\n",
      "C:\\Users\\jorda\\AppData\\Local\\Temp\\ipykernel_34876\\2859303871.py:7: PerformanceWarning: indexing past lexsort depth may impact performance.\n",
      "  sets = df_all.loc[(date, routine_id, exercise_id)].to_dict(orient=\"records\")\n"
     ]
    },
    {
     "name": "stdout",
     "output_type": "stream",
     "text": [
      "Created workout for date 2024-09-06\n"
     ]
    },
    {
     "name": "stderr",
     "output_type": "stream",
     "text": [
      "C:\\Users\\jorda\\AppData\\Local\\Temp\\ipykernel_34876\\2859303871.py:4: PerformanceWarning: indexing past lexsort depth may impact performance.\n",
      "  exercise_ids = df_all.loc[(date, routine_id)].index.unique().values\n",
      "C:\\Users\\jorda\\AppData\\Local\\Temp\\ipykernel_34876\\2859303871.py:7: PerformanceWarning: indexing past lexsort depth may impact performance.\n",
      "  sets = df_all.loc[(date, routine_id, exercise_id)].to_dict(orient=\"records\")\n",
      "C:\\Users\\jorda\\AppData\\Local\\Temp\\ipykernel_34876\\2859303871.py:7: PerformanceWarning: indexing past lexsort depth may impact performance.\n",
      "  sets = df_all.loc[(date, routine_id, exercise_id)].to_dict(orient=\"records\")\n",
      "C:\\Users\\jorda\\AppData\\Local\\Temp\\ipykernel_34876\\2859303871.py:7: PerformanceWarning: indexing past lexsort depth may impact performance.\n",
      "  sets = df_all.loc[(date, routine_id, exercise_id)].to_dict(orient=\"records\")\n",
      "C:\\Users\\jorda\\AppData\\Local\\Temp\\ipykernel_34876\\2859303871.py:7: PerformanceWarning: indexing past lexsort depth may impact performance.\n",
      "  sets = df_all.loc[(date, routine_id, exercise_id)].to_dict(orient=\"records\")\n"
     ]
    },
    {
     "name": "stdout",
     "output_type": "stream",
     "text": [
      "Created workout for date 2024-09-09\n"
     ]
    },
    {
     "name": "stderr",
     "output_type": "stream",
     "text": [
      "C:\\Users\\jorda\\AppData\\Local\\Temp\\ipykernel_34876\\2859303871.py:4: PerformanceWarning: indexing past lexsort depth may impact performance.\n",
      "  exercise_ids = df_all.loc[(date, routine_id)].index.unique().values\n",
      "C:\\Users\\jorda\\AppData\\Local\\Temp\\ipykernel_34876\\2859303871.py:7: PerformanceWarning: indexing past lexsort depth may impact performance.\n",
      "  sets = df_all.loc[(date, routine_id, exercise_id)].to_dict(orient=\"records\")\n",
      "C:\\Users\\jorda\\AppData\\Local\\Temp\\ipykernel_34876\\2859303871.py:7: PerformanceWarning: indexing past lexsort depth may impact performance.\n",
      "  sets = df_all.loc[(date, routine_id, exercise_id)].to_dict(orient=\"records\")\n",
      "C:\\Users\\jorda\\AppData\\Local\\Temp\\ipykernel_34876\\2859303871.py:7: PerformanceWarning: indexing past lexsort depth may impact performance.\n",
      "  sets = df_all.loc[(date, routine_id, exercise_id)].to_dict(orient=\"records\")\n",
      "C:\\Users\\jorda\\AppData\\Local\\Temp\\ipykernel_34876\\2859303871.py:7: PerformanceWarning: indexing past lexsort depth may impact performance.\n",
      "  sets = df_all.loc[(date, routine_id, exercise_id)].to_dict(orient=\"records\")\n"
     ]
    },
    {
     "name": "stdout",
     "output_type": "stream",
     "text": [
      "Created workout for date 2024-09-11\n"
     ]
    },
    {
     "name": "stderr",
     "output_type": "stream",
     "text": [
      "C:\\Users\\jorda\\AppData\\Local\\Temp\\ipykernel_34876\\2859303871.py:4: PerformanceWarning: indexing past lexsort depth may impact performance.\n",
      "  exercise_ids = df_all.loc[(date, routine_id)].index.unique().values\n",
      "C:\\Users\\jorda\\AppData\\Local\\Temp\\ipykernel_34876\\2859303871.py:7: PerformanceWarning: indexing past lexsort depth may impact performance.\n",
      "  sets = df_all.loc[(date, routine_id, exercise_id)].to_dict(orient=\"records\")\n",
      "C:\\Users\\jorda\\AppData\\Local\\Temp\\ipykernel_34876\\2859303871.py:7: PerformanceWarning: indexing past lexsort depth may impact performance.\n",
      "  sets = df_all.loc[(date, routine_id, exercise_id)].to_dict(orient=\"records\")\n",
      "C:\\Users\\jorda\\AppData\\Local\\Temp\\ipykernel_34876\\2859303871.py:7: PerformanceWarning: indexing past lexsort depth may impact performance.\n",
      "  sets = df_all.loc[(date, routine_id, exercise_id)].to_dict(orient=\"records\")\n",
      "C:\\Users\\jorda\\AppData\\Local\\Temp\\ipykernel_34876\\2859303871.py:7: PerformanceWarning: indexing past lexsort depth may impact performance.\n",
      "  sets = df_all.loc[(date, routine_id, exercise_id)].to_dict(orient=\"records\")\n",
      "C:\\Users\\jorda\\AppData\\Local\\Temp\\ipykernel_34876\\2859303871.py:7: PerformanceWarning: indexing past lexsort depth may impact performance.\n",
      "  sets = df_all.loc[(date, routine_id, exercise_id)].to_dict(orient=\"records\")\n"
     ]
    },
    {
     "name": "stdout",
     "output_type": "stream",
     "text": [
      "Created workout for date 2024-09-12\n"
     ]
    },
    {
     "name": "stderr",
     "output_type": "stream",
     "text": [
      "C:\\Users\\jorda\\AppData\\Local\\Temp\\ipykernel_34876\\2859303871.py:4: PerformanceWarning: indexing past lexsort depth may impact performance.\n",
      "  exercise_ids = df_all.loc[(date, routine_id)].index.unique().values\n",
      "C:\\Users\\jorda\\AppData\\Local\\Temp\\ipykernel_34876\\2859303871.py:7: PerformanceWarning: indexing past lexsort depth may impact performance.\n",
      "  sets = df_all.loc[(date, routine_id, exercise_id)].to_dict(orient=\"records\")\n",
      "C:\\Users\\jorda\\AppData\\Local\\Temp\\ipykernel_34876\\2859303871.py:7: PerformanceWarning: indexing past lexsort depth may impact performance.\n",
      "  sets = df_all.loc[(date, routine_id, exercise_id)].to_dict(orient=\"records\")\n",
      "C:\\Users\\jorda\\AppData\\Local\\Temp\\ipykernel_34876\\2859303871.py:7: PerformanceWarning: indexing past lexsort depth may impact performance.\n",
      "  sets = df_all.loc[(date, routine_id, exercise_id)].to_dict(orient=\"records\")\n",
      "C:\\Users\\jorda\\AppData\\Local\\Temp\\ipykernel_34876\\2859303871.py:7: PerformanceWarning: indexing past lexsort depth may impact performance.\n",
      "  sets = df_all.loc[(date, routine_id, exercise_id)].to_dict(orient=\"records\")\n",
      "C:\\Users\\jorda\\AppData\\Local\\Temp\\ipykernel_34876\\2859303871.py:7: PerformanceWarning: indexing past lexsort depth may impact performance.\n",
      "  sets = df_all.loc[(date, routine_id, exercise_id)].to_dict(orient=\"records\")\n",
      "C:\\Users\\jorda\\AppData\\Local\\Temp\\ipykernel_34876\\2859303871.py:7: PerformanceWarning: indexing past lexsort depth may impact performance.\n",
      "  sets = df_all.loc[(date, routine_id, exercise_id)].to_dict(orient=\"records\")\n",
      "C:\\Users\\jorda\\AppData\\Local\\Temp\\ipykernel_34876\\2859303871.py:7: PerformanceWarning: indexing past lexsort depth may impact performance.\n",
      "  sets = df_all.loc[(date, routine_id, exercise_id)].to_dict(orient=\"records\")\n"
     ]
    },
    {
     "name": "stdout",
     "output_type": "stream",
     "text": [
      "Created workout for date 2024-09-14\n"
     ]
    },
    {
     "name": "stderr",
     "output_type": "stream",
     "text": [
      "C:\\Users\\jorda\\AppData\\Local\\Temp\\ipykernel_34876\\2859303871.py:4: PerformanceWarning: indexing past lexsort depth may impact performance.\n",
      "  exercise_ids = df_all.loc[(date, routine_id)].index.unique().values\n",
      "C:\\Users\\jorda\\AppData\\Local\\Temp\\ipykernel_34876\\2859303871.py:7: PerformanceWarning: indexing past lexsort depth may impact performance.\n",
      "  sets = df_all.loc[(date, routine_id, exercise_id)].to_dict(orient=\"records\")\n",
      "C:\\Users\\jorda\\AppData\\Local\\Temp\\ipykernel_34876\\2859303871.py:7: PerformanceWarning: indexing past lexsort depth may impact performance.\n",
      "  sets = df_all.loc[(date, routine_id, exercise_id)].to_dict(orient=\"records\")\n",
      "C:\\Users\\jorda\\AppData\\Local\\Temp\\ipykernel_34876\\2859303871.py:7: PerformanceWarning: indexing past lexsort depth may impact performance.\n",
      "  sets = df_all.loc[(date, routine_id, exercise_id)].to_dict(orient=\"records\")\n",
      "C:\\Users\\jorda\\AppData\\Local\\Temp\\ipykernel_34876\\2859303871.py:7: PerformanceWarning: indexing past lexsort depth may impact performance.\n",
      "  sets = df_all.loc[(date, routine_id, exercise_id)].to_dict(orient=\"records\")\n",
      "C:\\Users\\jorda\\AppData\\Local\\Temp\\ipykernel_34876\\2859303871.py:7: PerformanceWarning: indexing past lexsort depth may impact performance.\n",
      "  sets = df_all.loc[(date, routine_id, exercise_id)].to_dict(orient=\"records\")\n"
     ]
    },
    {
     "name": "stdout",
     "output_type": "stream",
     "text": [
      "Created workout for date 2024-09-16\n"
     ]
    },
    {
     "name": "stderr",
     "output_type": "stream",
     "text": [
      "C:\\Users\\jorda\\AppData\\Local\\Temp\\ipykernel_34876\\2859303871.py:4: PerformanceWarning: indexing past lexsort depth may impact performance.\n",
      "  exercise_ids = df_all.loc[(date, routine_id)].index.unique().values\n",
      "C:\\Users\\jorda\\AppData\\Local\\Temp\\ipykernel_34876\\2859303871.py:7: PerformanceWarning: indexing past lexsort depth may impact performance.\n",
      "  sets = df_all.loc[(date, routine_id, exercise_id)].to_dict(orient=\"records\")\n",
      "C:\\Users\\jorda\\AppData\\Local\\Temp\\ipykernel_34876\\2859303871.py:7: PerformanceWarning: indexing past lexsort depth may impact performance.\n",
      "  sets = df_all.loc[(date, routine_id, exercise_id)].to_dict(orient=\"records\")\n",
      "C:\\Users\\jorda\\AppData\\Local\\Temp\\ipykernel_34876\\2859303871.py:7: PerformanceWarning: indexing past lexsort depth may impact performance.\n",
      "  sets = df_all.loc[(date, routine_id, exercise_id)].to_dict(orient=\"records\")\n",
      "C:\\Users\\jorda\\AppData\\Local\\Temp\\ipykernel_34876\\2859303871.py:7: PerformanceWarning: indexing past lexsort depth may impact performance.\n",
      "  sets = df_all.loc[(date, routine_id, exercise_id)].to_dict(orient=\"records\")\n",
      "C:\\Users\\jorda\\AppData\\Local\\Temp\\ipykernel_34876\\2859303871.py:7: PerformanceWarning: indexing past lexsort depth may impact performance.\n",
      "  sets = df_all.loc[(date, routine_id, exercise_id)].to_dict(orient=\"records\")\n",
      "C:\\Users\\jorda\\AppData\\Local\\Temp\\ipykernel_34876\\2859303871.py:7: PerformanceWarning: indexing past lexsort depth may impact performance.\n",
      "  sets = df_all.loc[(date, routine_id, exercise_id)].to_dict(orient=\"records\")\n"
     ]
    },
    {
     "name": "stdout",
     "output_type": "stream",
     "text": [
      "Created workout for date 2024-09-17\n"
     ]
    },
    {
     "name": "stderr",
     "output_type": "stream",
     "text": [
      "C:\\Users\\jorda\\AppData\\Local\\Temp\\ipykernel_34876\\2859303871.py:4: PerformanceWarning: indexing past lexsort depth may impact performance.\n",
      "  exercise_ids = df_all.loc[(date, routine_id)].index.unique().values\n",
      "C:\\Users\\jorda\\AppData\\Local\\Temp\\ipykernel_34876\\2859303871.py:7: PerformanceWarning: indexing past lexsort depth may impact performance.\n",
      "  sets = df_all.loc[(date, routine_id, exercise_id)].to_dict(orient=\"records\")\n",
      "C:\\Users\\jorda\\AppData\\Local\\Temp\\ipykernel_34876\\2859303871.py:7: PerformanceWarning: indexing past lexsort depth may impact performance.\n",
      "  sets = df_all.loc[(date, routine_id, exercise_id)].to_dict(orient=\"records\")\n",
      "C:\\Users\\jorda\\AppData\\Local\\Temp\\ipykernel_34876\\2859303871.py:7: PerformanceWarning: indexing past lexsort depth may impact performance.\n",
      "  sets = df_all.loc[(date, routine_id, exercise_id)].to_dict(orient=\"records\")\n",
      "C:\\Users\\jorda\\AppData\\Local\\Temp\\ipykernel_34876\\2859303871.py:7: PerformanceWarning: indexing past lexsort depth may impact performance.\n",
      "  sets = df_all.loc[(date, routine_id, exercise_id)].to_dict(orient=\"records\")\n",
      "C:\\Users\\jorda\\AppData\\Local\\Temp\\ipykernel_34876\\2859303871.py:7: PerformanceWarning: indexing past lexsort depth may impact performance.\n",
      "  sets = df_all.loc[(date, routine_id, exercise_id)].to_dict(orient=\"records\")\n",
      "C:\\Users\\jorda\\AppData\\Local\\Temp\\ipykernel_34876\\2859303871.py:7: PerformanceWarning: indexing past lexsort depth may impact performance.\n",
      "  sets = df_all.loc[(date, routine_id, exercise_id)].to_dict(orient=\"records\")\n",
      "C:\\Users\\jorda\\AppData\\Local\\Temp\\ipykernel_34876\\2859303871.py:7: PerformanceWarning: indexing past lexsort depth may impact performance.\n",
      "  sets = df_all.loc[(date, routine_id, exercise_id)].to_dict(orient=\"records\")\n"
     ]
    },
    {
     "name": "stdout",
     "output_type": "stream",
     "text": [
      "Created workout for date 2024-09-19\n"
     ]
    },
    {
     "name": "stderr",
     "output_type": "stream",
     "text": [
      "C:\\Users\\jorda\\AppData\\Local\\Temp\\ipykernel_34876\\2859303871.py:4: PerformanceWarning: indexing past lexsort depth may impact performance.\n",
      "  exercise_ids = df_all.loc[(date, routine_id)].index.unique().values\n",
      "C:\\Users\\jorda\\AppData\\Local\\Temp\\ipykernel_34876\\2859303871.py:7: PerformanceWarning: indexing past lexsort depth may impact performance.\n",
      "  sets = df_all.loc[(date, routine_id, exercise_id)].to_dict(orient=\"records\")\n",
      "C:\\Users\\jorda\\AppData\\Local\\Temp\\ipykernel_34876\\2859303871.py:7: PerformanceWarning: indexing past lexsort depth may impact performance.\n",
      "  sets = df_all.loc[(date, routine_id, exercise_id)].to_dict(orient=\"records\")\n",
      "C:\\Users\\jorda\\AppData\\Local\\Temp\\ipykernel_34876\\2859303871.py:7: PerformanceWarning: indexing past lexsort depth may impact performance.\n",
      "  sets = df_all.loc[(date, routine_id, exercise_id)].to_dict(orient=\"records\")\n",
      "C:\\Users\\jorda\\AppData\\Local\\Temp\\ipykernel_34876\\2859303871.py:7: PerformanceWarning: indexing past lexsort depth may impact performance.\n",
      "  sets = df_all.loc[(date, routine_id, exercise_id)].to_dict(orient=\"records\")\n"
     ]
    },
    {
     "name": "stdout",
     "output_type": "stream",
     "text": [
      "Created workout for date 2024-09-20\n"
     ]
    },
    {
     "name": "stderr",
     "output_type": "stream",
     "text": [
      "C:\\Users\\jorda\\AppData\\Local\\Temp\\ipykernel_34876\\2859303871.py:4: PerformanceWarning: indexing past lexsort depth may impact performance.\n",
      "  exercise_ids = df_all.loc[(date, routine_id)].index.unique().values\n",
      "C:\\Users\\jorda\\AppData\\Local\\Temp\\ipykernel_34876\\2859303871.py:7: PerformanceWarning: indexing past lexsort depth may impact performance.\n",
      "  sets = df_all.loc[(date, routine_id, exercise_id)].to_dict(orient=\"records\")\n",
      "C:\\Users\\jorda\\AppData\\Local\\Temp\\ipykernel_34876\\2859303871.py:7: PerformanceWarning: indexing past lexsort depth may impact performance.\n",
      "  sets = df_all.loc[(date, routine_id, exercise_id)].to_dict(orient=\"records\")\n",
      "C:\\Users\\jorda\\AppData\\Local\\Temp\\ipykernel_34876\\2859303871.py:7: PerformanceWarning: indexing past lexsort depth may impact performance.\n",
      "  sets = df_all.loc[(date, routine_id, exercise_id)].to_dict(orient=\"records\")\n"
     ]
    },
    {
     "name": "stdout",
     "output_type": "stream",
     "text": [
      "Created workout for date 2024-09-23\n"
     ]
    },
    {
     "name": "stderr",
     "output_type": "stream",
     "text": [
      "C:\\Users\\jorda\\AppData\\Local\\Temp\\ipykernel_34876\\2859303871.py:4: PerformanceWarning: indexing past lexsort depth may impact performance.\n",
      "  exercise_ids = df_all.loc[(date, routine_id)].index.unique().values\n",
      "C:\\Users\\jorda\\AppData\\Local\\Temp\\ipykernel_34876\\2859303871.py:7: PerformanceWarning: indexing past lexsort depth may impact performance.\n",
      "  sets = df_all.loc[(date, routine_id, exercise_id)].to_dict(orient=\"records\")\n",
      "C:\\Users\\jorda\\AppData\\Local\\Temp\\ipykernel_34876\\2859303871.py:7: PerformanceWarning: indexing past lexsort depth may impact performance.\n",
      "  sets = df_all.loc[(date, routine_id, exercise_id)].to_dict(orient=\"records\")\n",
      "C:\\Users\\jorda\\AppData\\Local\\Temp\\ipykernel_34876\\2859303871.py:7: PerformanceWarning: indexing past lexsort depth may impact performance.\n",
      "  sets = df_all.loc[(date, routine_id, exercise_id)].to_dict(orient=\"records\")\n"
     ]
    },
    {
     "name": "stdout",
     "output_type": "stream",
     "text": [
      "Created workout for date 2024-09-24\n"
     ]
    },
    {
     "name": "stderr",
     "output_type": "stream",
     "text": [
      "C:\\Users\\jorda\\AppData\\Local\\Temp\\ipykernel_34876\\2859303871.py:4: PerformanceWarning: indexing past lexsort depth may impact performance.\n",
      "  exercise_ids = df_all.loc[(date, routine_id)].index.unique().values\n",
      "C:\\Users\\jorda\\AppData\\Local\\Temp\\ipykernel_34876\\2859303871.py:7: PerformanceWarning: indexing past lexsort depth may impact performance.\n",
      "  sets = df_all.loc[(date, routine_id, exercise_id)].to_dict(orient=\"records\")\n",
      "C:\\Users\\jorda\\AppData\\Local\\Temp\\ipykernel_34876\\2859303871.py:7: PerformanceWarning: indexing past lexsort depth may impact performance.\n",
      "  sets = df_all.loc[(date, routine_id, exercise_id)].to_dict(orient=\"records\")\n",
      "C:\\Users\\jorda\\AppData\\Local\\Temp\\ipykernel_34876\\2859303871.py:7: PerformanceWarning: indexing past lexsort depth may impact performance.\n",
      "  sets = df_all.loc[(date, routine_id, exercise_id)].to_dict(orient=\"records\")\n",
      "C:\\Users\\jorda\\AppData\\Local\\Temp\\ipykernel_34876\\2859303871.py:7: PerformanceWarning: indexing past lexsort depth may impact performance.\n",
      "  sets = df_all.loc[(date, routine_id, exercise_id)].to_dict(orient=\"records\")\n",
      "C:\\Users\\jorda\\AppData\\Local\\Temp\\ipykernel_34876\\2859303871.py:7: PerformanceWarning: indexing past lexsort depth may impact performance.\n",
      "  sets = df_all.loc[(date, routine_id, exercise_id)].to_dict(orient=\"records\")\n",
      "C:\\Users\\jorda\\AppData\\Local\\Temp\\ipykernel_34876\\2859303871.py:7: PerformanceWarning: indexing past lexsort depth may impact performance.\n",
      "  sets = df_all.loc[(date, routine_id, exercise_id)].to_dict(orient=\"records\")\n",
      "C:\\Users\\jorda\\AppData\\Local\\Temp\\ipykernel_34876\\2859303871.py:7: PerformanceWarning: indexing past lexsort depth may impact performance.\n",
      "  sets = df_all.loc[(date, routine_id, exercise_id)].to_dict(orient=\"records\")\n"
     ]
    },
    {
     "name": "stdout",
     "output_type": "stream",
     "text": [
      "Created workout for date 2024-10-05\n"
     ]
    },
    {
     "name": "stderr",
     "output_type": "stream",
     "text": [
      "C:\\Users\\jorda\\AppData\\Local\\Temp\\ipykernel_34876\\2859303871.py:4: PerformanceWarning: indexing past lexsort depth may impact performance.\n",
      "  exercise_ids = df_all.loc[(date, routine_id)].index.unique().values\n",
      "C:\\Users\\jorda\\AppData\\Local\\Temp\\ipykernel_34876\\2859303871.py:7: PerformanceWarning: indexing past lexsort depth may impact performance.\n",
      "  sets = df_all.loc[(date, routine_id, exercise_id)].to_dict(orient=\"records\")\n",
      "C:\\Users\\jorda\\AppData\\Local\\Temp\\ipykernel_34876\\2859303871.py:7: PerformanceWarning: indexing past lexsort depth may impact performance.\n",
      "  sets = df_all.loc[(date, routine_id, exercise_id)].to_dict(orient=\"records\")\n",
      "C:\\Users\\jorda\\AppData\\Local\\Temp\\ipykernel_34876\\2859303871.py:7: PerformanceWarning: indexing past lexsort depth may impact performance.\n",
      "  sets = df_all.loc[(date, routine_id, exercise_id)].to_dict(orient=\"records\")\n",
      "C:\\Users\\jorda\\AppData\\Local\\Temp\\ipykernel_34876\\2859303871.py:7: PerformanceWarning: indexing past lexsort depth may impact performance.\n",
      "  sets = df_all.loc[(date, routine_id, exercise_id)].to_dict(orient=\"records\")\n",
      "C:\\Users\\jorda\\AppData\\Local\\Temp\\ipykernel_34876\\2859303871.py:7: PerformanceWarning: indexing past lexsort depth may impact performance.\n",
      "  sets = df_all.loc[(date, routine_id, exercise_id)].to_dict(orient=\"records\")\n",
      "C:\\Users\\jorda\\AppData\\Local\\Temp\\ipykernel_34876\\2859303871.py:7: PerformanceWarning: indexing past lexsort depth may impact performance.\n",
      "  sets = df_all.loc[(date, routine_id, exercise_id)].to_dict(orient=\"records\")\n",
      "C:\\Users\\jorda\\AppData\\Local\\Temp\\ipykernel_34876\\2859303871.py:7: PerformanceWarning: indexing past lexsort depth may impact performance.\n",
      "  sets = df_all.loc[(date, routine_id, exercise_id)].to_dict(orient=\"records\")\n"
     ]
    },
    {
     "name": "stdout",
     "output_type": "stream",
     "text": [
      "Created workout for date 2024-10-08\n"
     ]
    },
    {
     "name": "stderr",
     "output_type": "stream",
     "text": [
      "C:\\Users\\jorda\\AppData\\Local\\Temp\\ipykernel_34876\\2859303871.py:4: PerformanceWarning: indexing past lexsort depth may impact performance.\n",
      "  exercise_ids = df_all.loc[(date, routine_id)].index.unique().values\n",
      "C:\\Users\\jorda\\AppData\\Local\\Temp\\ipykernel_34876\\2859303871.py:7: PerformanceWarning: indexing past lexsort depth may impact performance.\n",
      "  sets = df_all.loc[(date, routine_id, exercise_id)].to_dict(orient=\"records\")\n",
      "C:\\Users\\jorda\\AppData\\Local\\Temp\\ipykernel_34876\\2859303871.py:7: PerformanceWarning: indexing past lexsort depth may impact performance.\n",
      "  sets = df_all.loc[(date, routine_id, exercise_id)].to_dict(orient=\"records\")\n",
      "C:\\Users\\jorda\\AppData\\Local\\Temp\\ipykernel_34876\\2859303871.py:7: PerformanceWarning: indexing past lexsort depth may impact performance.\n",
      "  sets = df_all.loc[(date, routine_id, exercise_id)].to_dict(orient=\"records\")\n",
      "C:\\Users\\jorda\\AppData\\Local\\Temp\\ipykernel_34876\\2859303871.py:7: PerformanceWarning: indexing past lexsort depth may impact performance.\n",
      "  sets = df_all.loc[(date, routine_id, exercise_id)].to_dict(orient=\"records\")\n",
      "C:\\Users\\jorda\\AppData\\Local\\Temp\\ipykernel_34876\\2859303871.py:7: PerformanceWarning: indexing past lexsort depth may impact performance.\n",
      "  sets = df_all.loc[(date, routine_id, exercise_id)].to_dict(orient=\"records\")\n",
      "C:\\Users\\jorda\\AppData\\Local\\Temp\\ipykernel_34876\\2859303871.py:7: PerformanceWarning: indexing past lexsort depth may impact performance.\n",
      "  sets = df_all.loc[(date, routine_id, exercise_id)].to_dict(orient=\"records\")\n"
     ]
    },
    {
     "name": "stdout",
     "output_type": "stream",
     "text": [
      "Created workout for date 2024-10-10\n"
     ]
    },
    {
     "name": "stderr",
     "output_type": "stream",
     "text": [
      "C:\\Users\\jorda\\AppData\\Local\\Temp\\ipykernel_34876\\2859303871.py:4: PerformanceWarning: indexing past lexsort depth may impact performance.\n",
      "  exercise_ids = df_all.loc[(date, routine_id)].index.unique().values\n",
      "C:\\Users\\jorda\\AppData\\Local\\Temp\\ipykernel_34876\\2859303871.py:7: PerformanceWarning: indexing past lexsort depth may impact performance.\n",
      "  sets = df_all.loc[(date, routine_id, exercise_id)].to_dict(orient=\"records\")\n",
      "C:\\Users\\jorda\\AppData\\Local\\Temp\\ipykernel_34876\\2859303871.py:7: PerformanceWarning: indexing past lexsort depth may impact performance.\n",
      "  sets = df_all.loc[(date, routine_id, exercise_id)].to_dict(orient=\"records\")\n",
      "C:\\Users\\jorda\\AppData\\Local\\Temp\\ipykernel_34876\\2859303871.py:7: PerformanceWarning: indexing past lexsort depth may impact performance.\n",
      "  sets = df_all.loc[(date, routine_id, exercise_id)].to_dict(orient=\"records\")\n",
      "C:\\Users\\jorda\\AppData\\Local\\Temp\\ipykernel_34876\\2859303871.py:7: PerformanceWarning: indexing past lexsort depth may impact performance.\n",
      "  sets = df_all.loc[(date, routine_id, exercise_id)].to_dict(orient=\"records\")\n",
      "C:\\Users\\jorda\\AppData\\Local\\Temp\\ipykernel_34876\\2859303871.py:7: PerformanceWarning: indexing past lexsort depth may impact performance.\n",
      "  sets = df_all.loc[(date, routine_id, exercise_id)].to_dict(orient=\"records\")\n"
     ]
    },
    {
     "name": "stdout",
     "output_type": "stream",
     "text": [
      "Created workout for date 2024-10-11\n"
     ]
    },
    {
     "name": "stderr",
     "output_type": "stream",
     "text": [
      "C:\\Users\\jorda\\AppData\\Local\\Temp\\ipykernel_34876\\2859303871.py:4: PerformanceWarning: indexing past lexsort depth may impact performance.\n",
      "  exercise_ids = df_all.loc[(date, routine_id)].index.unique().values\n",
      "C:\\Users\\jorda\\AppData\\Local\\Temp\\ipykernel_34876\\2859303871.py:7: PerformanceWarning: indexing past lexsort depth may impact performance.\n",
      "  sets = df_all.loc[(date, routine_id, exercise_id)].to_dict(orient=\"records\")\n",
      "C:\\Users\\jorda\\AppData\\Local\\Temp\\ipykernel_34876\\2859303871.py:7: PerformanceWarning: indexing past lexsort depth may impact performance.\n",
      "  sets = df_all.loc[(date, routine_id, exercise_id)].to_dict(orient=\"records\")\n",
      "C:\\Users\\jorda\\AppData\\Local\\Temp\\ipykernel_34876\\2859303871.py:7: PerformanceWarning: indexing past lexsort depth may impact performance.\n",
      "  sets = df_all.loc[(date, routine_id, exercise_id)].to_dict(orient=\"records\")\n",
      "C:\\Users\\jorda\\AppData\\Local\\Temp\\ipykernel_34876\\2859303871.py:7: PerformanceWarning: indexing past lexsort depth may impact performance.\n",
      "  sets = df_all.loc[(date, routine_id, exercise_id)].to_dict(orient=\"records\")\n"
     ]
    },
    {
     "name": "stdout",
     "output_type": "stream",
     "text": [
      "Created workout for date 2024-10-14\n"
     ]
    },
    {
     "name": "stderr",
     "output_type": "stream",
     "text": [
      "C:\\Users\\jorda\\AppData\\Local\\Temp\\ipykernel_34876\\2859303871.py:4: PerformanceWarning: indexing past lexsort depth may impact performance.\n",
      "  exercise_ids = df_all.loc[(date, routine_id)].index.unique().values\n",
      "C:\\Users\\jorda\\AppData\\Local\\Temp\\ipykernel_34876\\2859303871.py:7: PerformanceWarning: indexing past lexsort depth may impact performance.\n",
      "  sets = df_all.loc[(date, routine_id, exercise_id)].to_dict(orient=\"records\")\n",
      "C:\\Users\\jorda\\AppData\\Local\\Temp\\ipykernel_34876\\2859303871.py:7: PerformanceWarning: indexing past lexsort depth may impact performance.\n",
      "  sets = df_all.loc[(date, routine_id, exercise_id)].to_dict(orient=\"records\")\n",
      "C:\\Users\\jorda\\AppData\\Local\\Temp\\ipykernel_34876\\2859303871.py:7: PerformanceWarning: indexing past lexsort depth may impact performance.\n",
      "  sets = df_all.loc[(date, routine_id, exercise_id)].to_dict(orient=\"records\")\n",
      "C:\\Users\\jorda\\AppData\\Local\\Temp\\ipykernel_34876\\2859303871.py:7: PerformanceWarning: indexing past lexsort depth may impact performance.\n",
      "  sets = df_all.loc[(date, routine_id, exercise_id)].to_dict(orient=\"records\")\n",
      "C:\\Users\\jorda\\AppData\\Local\\Temp\\ipykernel_34876\\2859303871.py:7: PerformanceWarning: indexing past lexsort depth may impact performance.\n",
      "  sets = df_all.loc[(date, routine_id, exercise_id)].to_dict(orient=\"records\")\n"
     ]
    },
    {
     "name": "stdout",
     "output_type": "stream",
     "text": [
      "Created workout for date 2024-10-16\n"
     ]
    },
    {
     "name": "stderr",
     "output_type": "stream",
     "text": [
      "C:\\Users\\jorda\\AppData\\Local\\Temp\\ipykernel_34876\\2859303871.py:4: PerformanceWarning: indexing past lexsort depth may impact performance.\n",
      "  exercise_ids = df_all.loc[(date, routine_id)].index.unique().values\n",
      "C:\\Users\\jorda\\AppData\\Local\\Temp\\ipykernel_34876\\2859303871.py:7: PerformanceWarning: indexing past lexsort depth may impact performance.\n",
      "  sets = df_all.loc[(date, routine_id, exercise_id)].to_dict(orient=\"records\")\n",
      "C:\\Users\\jorda\\AppData\\Local\\Temp\\ipykernel_34876\\2859303871.py:7: PerformanceWarning: indexing past lexsort depth may impact performance.\n",
      "  sets = df_all.loc[(date, routine_id, exercise_id)].to_dict(orient=\"records\")\n",
      "C:\\Users\\jorda\\AppData\\Local\\Temp\\ipykernel_34876\\2859303871.py:7: PerformanceWarning: indexing past lexsort depth may impact performance.\n",
      "  sets = df_all.loc[(date, routine_id, exercise_id)].to_dict(orient=\"records\")\n",
      "C:\\Users\\jorda\\AppData\\Local\\Temp\\ipykernel_34876\\2859303871.py:7: PerformanceWarning: indexing past lexsort depth may impact performance.\n",
      "  sets = df_all.loc[(date, routine_id, exercise_id)].to_dict(orient=\"records\")\n",
      "C:\\Users\\jorda\\AppData\\Local\\Temp\\ipykernel_34876\\2859303871.py:7: PerformanceWarning: indexing past lexsort depth may impact performance.\n",
      "  sets = df_all.loc[(date, routine_id, exercise_id)].to_dict(orient=\"records\")\n",
      "C:\\Users\\jorda\\AppData\\Local\\Temp\\ipykernel_34876\\2859303871.py:7: PerformanceWarning: indexing past lexsort depth may impact performance.\n",
      "  sets = df_all.loc[(date, routine_id, exercise_id)].to_dict(orient=\"records\")\n"
     ]
    },
    {
     "name": "stdout",
     "output_type": "stream",
     "text": [
      "Created workout for date 2024-10-17\n"
     ]
    },
    {
     "name": "stderr",
     "output_type": "stream",
     "text": [
      "C:\\Users\\jorda\\AppData\\Local\\Temp\\ipykernel_34876\\2859303871.py:4: PerformanceWarning: indexing past lexsort depth may impact performance.\n",
      "  exercise_ids = df_all.loc[(date, routine_id)].index.unique().values\n",
      "C:\\Users\\jorda\\AppData\\Local\\Temp\\ipykernel_34876\\2859303871.py:7: PerformanceWarning: indexing past lexsort depth may impact performance.\n",
      "  sets = df_all.loc[(date, routine_id, exercise_id)].to_dict(orient=\"records\")\n",
      "C:\\Users\\jorda\\AppData\\Local\\Temp\\ipykernel_34876\\2859303871.py:7: PerformanceWarning: indexing past lexsort depth may impact performance.\n",
      "  sets = df_all.loc[(date, routine_id, exercise_id)].to_dict(orient=\"records\")\n",
      "C:\\Users\\jorda\\AppData\\Local\\Temp\\ipykernel_34876\\2859303871.py:7: PerformanceWarning: indexing past lexsort depth may impact performance.\n",
      "  sets = df_all.loc[(date, routine_id, exercise_id)].to_dict(orient=\"records\")\n",
      "C:\\Users\\jorda\\AppData\\Local\\Temp\\ipykernel_34876\\2859303871.py:7: PerformanceWarning: indexing past lexsort depth may impact performance.\n",
      "  sets = df_all.loc[(date, routine_id, exercise_id)].to_dict(orient=\"records\")\n",
      "C:\\Users\\jorda\\AppData\\Local\\Temp\\ipykernel_34876\\2859303871.py:7: PerformanceWarning: indexing past lexsort depth may impact performance.\n",
      "  sets = df_all.loc[(date, routine_id, exercise_id)].to_dict(orient=\"records\")\n"
     ]
    },
    {
     "name": "stdout",
     "output_type": "stream",
     "text": [
      "Created workout for date 2024-10-20\n"
     ]
    },
    {
     "name": "stderr",
     "output_type": "stream",
     "text": [
      "C:\\Users\\jorda\\AppData\\Local\\Temp\\ipykernel_34876\\2859303871.py:4: PerformanceWarning: indexing past lexsort depth may impact performance.\n",
      "  exercise_ids = df_all.loc[(date, routine_id)].index.unique().values\n",
      "C:\\Users\\jorda\\AppData\\Local\\Temp\\ipykernel_34876\\2859303871.py:7: PerformanceWarning: indexing past lexsort depth may impact performance.\n",
      "  sets = df_all.loc[(date, routine_id, exercise_id)].to_dict(orient=\"records\")\n",
      "C:\\Users\\jorda\\AppData\\Local\\Temp\\ipykernel_34876\\2859303871.py:7: PerformanceWarning: indexing past lexsort depth may impact performance.\n",
      "  sets = df_all.loc[(date, routine_id, exercise_id)].to_dict(orient=\"records\")\n",
      "C:\\Users\\jorda\\AppData\\Local\\Temp\\ipykernel_34876\\2859303871.py:7: PerformanceWarning: indexing past lexsort depth may impact performance.\n",
      "  sets = df_all.loc[(date, routine_id, exercise_id)].to_dict(orient=\"records\")\n",
      "C:\\Users\\jorda\\AppData\\Local\\Temp\\ipykernel_34876\\2859303871.py:7: PerformanceWarning: indexing past lexsort depth may impact performance.\n",
      "  sets = df_all.loc[(date, routine_id, exercise_id)].to_dict(orient=\"records\")\n"
     ]
    },
    {
     "name": "stdout",
     "output_type": "stream",
     "text": [
      "Created workout for date 2024-10-21\n"
     ]
    },
    {
     "name": "stderr",
     "output_type": "stream",
     "text": [
      "C:\\Users\\jorda\\AppData\\Local\\Temp\\ipykernel_34876\\2859303871.py:4: PerformanceWarning: indexing past lexsort depth may impact performance.\n",
      "  exercise_ids = df_all.loc[(date, routine_id)].index.unique().values\n",
      "C:\\Users\\jorda\\AppData\\Local\\Temp\\ipykernel_34876\\2859303871.py:7: PerformanceWarning: indexing past lexsort depth may impact performance.\n",
      "  sets = df_all.loc[(date, routine_id, exercise_id)].to_dict(orient=\"records\")\n",
      "C:\\Users\\jorda\\AppData\\Local\\Temp\\ipykernel_34876\\2859303871.py:7: PerformanceWarning: indexing past lexsort depth may impact performance.\n",
      "  sets = df_all.loc[(date, routine_id, exercise_id)].to_dict(orient=\"records\")\n",
      "C:\\Users\\jorda\\AppData\\Local\\Temp\\ipykernel_34876\\2859303871.py:7: PerformanceWarning: indexing past lexsort depth may impact performance.\n",
      "  sets = df_all.loc[(date, routine_id, exercise_id)].to_dict(orient=\"records\")\n",
      "C:\\Users\\jorda\\AppData\\Local\\Temp\\ipykernel_34876\\2859303871.py:7: PerformanceWarning: indexing past lexsort depth may impact performance.\n",
      "  sets = df_all.loc[(date, routine_id, exercise_id)].to_dict(orient=\"records\")\n",
      "C:\\Users\\jorda\\AppData\\Local\\Temp\\ipykernel_34876\\2859303871.py:7: PerformanceWarning: indexing past lexsort depth may impact performance.\n",
      "  sets = df_all.loc[(date, routine_id, exercise_id)].to_dict(orient=\"records\")\n"
     ]
    },
    {
     "name": "stdout",
     "output_type": "stream",
     "text": [
      "Created workout for date 2024-10-22\n"
     ]
    },
    {
     "name": "stderr",
     "output_type": "stream",
     "text": [
      "C:\\Users\\jorda\\AppData\\Local\\Temp\\ipykernel_34876\\2859303871.py:4: PerformanceWarning: indexing past lexsort depth may impact performance.\n",
      "  exercise_ids = df_all.loc[(date, routine_id)].index.unique().values\n",
      "C:\\Users\\jorda\\AppData\\Local\\Temp\\ipykernel_34876\\2859303871.py:7: PerformanceWarning: indexing past lexsort depth may impact performance.\n",
      "  sets = df_all.loc[(date, routine_id, exercise_id)].to_dict(orient=\"records\")\n",
      "C:\\Users\\jorda\\AppData\\Local\\Temp\\ipykernel_34876\\2859303871.py:7: PerformanceWarning: indexing past lexsort depth may impact performance.\n",
      "  sets = df_all.loc[(date, routine_id, exercise_id)].to_dict(orient=\"records\")\n",
      "C:\\Users\\jorda\\AppData\\Local\\Temp\\ipykernel_34876\\2859303871.py:7: PerformanceWarning: indexing past lexsort depth may impact performance.\n",
      "  sets = df_all.loc[(date, routine_id, exercise_id)].to_dict(orient=\"records\")\n",
      "C:\\Users\\jorda\\AppData\\Local\\Temp\\ipykernel_34876\\2859303871.py:7: PerformanceWarning: indexing past lexsort depth may impact performance.\n",
      "  sets = df_all.loc[(date, routine_id, exercise_id)].to_dict(orient=\"records\")\n",
      "C:\\Users\\jorda\\AppData\\Local\\Temp\\ipykernel_34876\\2859303871.py:7: PerformanceWarning: indexing past lexsort depth may impact performance.\n",
      "  sets = df_all.loc[(date, routine_id, exercise_id)].to_dict(orient=\"records\")\n",
      "C:\\Users\\jorda\\AppData\\Local\\Temp\\ipykernel_34876\\2859303871.py:7: PerformanceWarning: indexing past lexsort depth may impact performance.\n",
      "  sets = df_all.loc[(date, routine_id, exercise_id)].to_dict(orient=\"records\")\n"
     ]
    },
    {
     "name": "stdout",
     "output_type": "stream",
     "text": [
      "Created workout for date 2024-11-23\n"
     ]
    },
    {
     "name": "stderr",
     "output_type": "stream",
     "text": [
      "C:\\Users\\jorda\\AppData\\Local\\Temp\\ipykernel_34876\\2859303871.py:4: PerformanceWarning: indexing past lexsort depth may impact performance.\n",
      "  exercise_ids = df_all.loc[(date, routine_id)].index.unique().values\n",
      "C:\\Users\\jorda\\AppData\\Local\\Temp\\ipykernel_34876\\2859303871.py:7: PerformanceWarning: indexing past lexsort depth may impact performance.\n",
      "  sets = df_all.loc[(date, routine_id, exercise_id)].to_dict(orient=\"records\")\n",
      "C:\\Users\\jorda\\AppData\\Local\\Temp\\ipykernel_34876\\2859303871.py:7: PerformanceWarning: indexing past lexsort depth may impact performance.\n",
      "  sets = df_all.loc[(date, routine_id, exercise_id)].to_dict(orient=\"records\")\n",
      "C:\\Users\\jorda\\AppData\\Local\\Temp\\ipykernel_34876\\2859303871.py:7: PerformanceWarning: indexing past lexsort depth may impact performance.\n",
      "  sets = df_all.loc[(date, routine_id, exercise_id)].to_dict(orient=\"records\")\n",
      "C:\\Users\\jorda\\AppData\\Local\\Temp\\ipykernel_34876\\2859303871.py:7: PerformanceWarning: indexing past lexsort depth may impact performance.\n",
      "  sets = df_all.loc[(date, routine_id, exercise_id)].to_dict(orient=\"records\")\n"
     ]
    },
    {
     "name": "stdout",
     "output_type": "stream",
     "text": [
      "Created workout for date 2024-11-24\n"
     ]
    },
    {
     "name": "stderr",
     "output_type": "stream",
     "text": [
      "C:\\Users\\jorda\\AppData\\Local\\Temp\\ipykernel_34876\\2859303871.py:4: PerformanceWarning: indexing past lexsort depth may impact performance.\n",
      "  exercise_ids = df_all.loc[(date, routine_id)].index.unique().values\n",
      "C:\\Users\\jorda\\AppData\\Local\\Temp\\ipykernel_34876\\2859303871.py:7: PerformanceWarning: indexing past lexsort depth may impact performance.\n",
      "  sets = df_all.loc[(date, routine_id, exercise_id)].to_dict(orient=\"records\")\n",
      "C:\\Users\\jorda\\AppData\\Local\\Temp\\ipykernel_34876\\2859303871.py:7: PerformanceWarning: indexing past lexsort depth may impact performance.\n",
      "  sets = df_all.loc[(date, routine_id, exercise_id)].to_dict(orient=\"records\")\n",
      "C:\\Users\\jorda\\AppData\\Local\\Temp\\ipykernel_34876\\2859303871.py:7: PerformanceWarning: indexing past lexsort depth may impact performance.\n",
      "  sets = df_all.loc[(date, routine_id, exercise_id)].to_dict(orient=\"records\")\n",
      "C:\\Users\\jorda\\AppData\\Local\\Temp\\ipykernel_34876\\2859303871.py:7: PerformanceWarning: indexing past lexsort depth may impact performance.\n",
      "  sets = df_all.loc[(date, routine_id, exercise_id)].to_dict(orient=\"records\")\n",
      "C:\\Users\\jorda\\AppData\\Local\\Temp\\ipykernel_34876\\2859303871.py:7: PerformanceWarning: indexing past lexsort depth may impact performance.\n",
      "  sets = df_all.loc[(date, routine_id, exercise_id)].to_dict(orient=\"records\")\n",
      "C:\\Users\\jorda\\AppData\\Local\\Temp\\ipykernel_34876\\2859303871.py:7: PerformanceWarning: indexing past lexsort depth may impact performance.\n",
      "  sets = df_all.loc[(date, routine_id, exercise_id)].to_dict(orient=\"records\")\n"
     ]
    },
    {
     "name": "stdout",
     "output_type": "stream",
     "text": [
      "Created workout for date 2024-11-25\n"
     ]
    },
    {
     "name": "stderr",
     "output_type": "stream",
     "text": [
      "C:\\Users\\jorda\\AppData\\Local\\Temp\\ipykernel_34876\\2859303871.py:4: PerformanceWarning: indexing past lexsort depth may impact performance.\n",
      "  exercise_ids = df_all.loc[(date, routine_id)].index.unique().values\n",
      "C:\\Users\\jorda\\AppData\\Local\\Temp\\ipykernel_34876\\2859303871.py:7: PerformanceWarning: indexing past lexsort depth may impact performance.\n",
      "  sets = df_all.loc[(date, routine_id, exercise_id)].to_dict(orient=\"records\")\n",
      "C:\\Users\\jorda\\AppData\\Local\\Temp\\ipykernel_34876\\2859303871.py:7: PerformanceWarning: indexing past lexsort depth may impact performance.\n",
      "  sets = df_all.loc[(date, routine_id, exercise_id)].to_dict(orient=\"records\")\n",
      "C:\\Users\\jorda\\AppData\\Local\\Temp\\ipykernel_34876\\2859303871.py:7: PerformanceWarning: indexing past lexsort depth may impact performance.\n",
      "  sets = df_all.loc[(date, routine_id, exercise_id)].to_dict(orient=\"records\")\n",
      "C:\\Users\\jorda\\AppData\\Local\\Temp\\ipykernel_34876\\2859303871.py:7: PerformanceWarning: indexing past lexsort depth may impact performance.\n",
      "  sets = df_all.loc[(date, routine_id, exercise_id)].to_dict(orient=\"records\")\n",
      "C:\\Users\\jorda\\AppData\\Local\\Temp\\ipykernel_34876\\2859303871.py:7: PerformanceWarning: indexing past lexsort depth may impact performance.\n",
      "  sets = df_all.loc[(date, routine_id, exercise_id)].to_dict(orient=\"records\")\n",
      "C:\\Users\\jorda\\AppData\\Local\\Temp\\ipykernel_34876\\2859303871.py:7: PerformanceWarning: indexing past lexsort depth may impact performance.\n",
      "  sets = df_all.loc[(date, routine_id, exercise_id)].to_dict(orient=\"records\")\n",
      "C:\\Users\\jorda\\AppData\\Local\\Temp\\ipykernel_34876\\2859303871.py:7: PerformanceWarning: indexing past lexsort depth may impact performance.\n",
      "  sets = df_all.loc[(date, routine_id, exercise_id)].to_dict(orient=\"records\")\n"
     ]
    },
    {
     "name": "stdout",
     "output_type": "stream",
     "text": [
      "Created workout for date 2024-11-27\n"
     ]
    },
    {
     "name": "stderr",
     "output_type": "stream",
     "text": [
      "C:\\Users\\jorda\\AppData\\Local\\Temp\\ipykernel_34876\\2859303871.py:4: PerformanceWarning: indexing past lexsort depth may impact performance.\n",
      "  exercise_ids = df_all.loc[(date, routine_id)].index.unique().values\n",
      "C:\\Users\\jorda\\AppData\\Local\\Temp\\ipykernel_34876\\2859303871.py:7: PerformanceWarning: indexing past lexsort depth may impact performance.\n",
      "  sets = df_all.loc[(date, routine_id, exercise_id)].to_dict(orient=\"records\")\n",
      "C:\\Users\\jorda\\AppData\\Local\\Temp\\ipykernel_34876\\2859303871.py:7: PerformanceWarning: indexing past lexsort depth may impact performance.\n",
      "  sets = df_all.loc[(date, routine_id, exercise_id)].to_dict(orient=\"records\")\n",
      "C:\\Users\\jorda\\AppData\\Local\\Temp\\ipykernel_34876\\2859303871.py:7: PerformanceWarning: indexing past lexsort depth may impact performance.\n",
      "  sets = df_all.loc[(date, routine_id, exercise_id)].to_dict(orient=\"records\")\n",
      "C:\\Users\\jorda\\AppData\\Local\\Temp\\ipykernel_34876\\2859303871.py:7: PerformanceWarning: indexing past lexsort depth may impact performance.\n",
      "  sets = df_all.loc[(date, routine_id, exercise_id)].to_dict(orient=\"records\")\n",
      "C:\\Users\\jorda\\AppData\\Local\\Temp\\ipykernel_34876\\2859303871.py:7: PerformanceWarning: indexing past lexsort depth may impact performance.\n",
      "  sets = df_all.loc[(date, routine_id, exercise_id)].to_dict(orient=\"records\")\n"
     ]
    },
    {
     "name": "stdout",
     "output_type": "stream",
     "text": [
      "Created workout for date 2024-11-30\n"
     ]
    },
    {
     "name": "stderr",
     "output_type": "stream",
     "text": [
      "C:\\Users\\jorda\\AppData\\Local\\Temp\\ipykernel_34876\\2859303871.py:4: PerformanceWarning: indexing past lexsort depth may impact performance.\n",
      "  exercise_ids = df_all.loc[(date, routine_id)].index.unique().values\n",
      "C:\\Users\\jorda\\AppData\\Local\\Temp\\ipykernel_34876\\2859303871.py:7: PerformanceWarning: indexing past lexsort depth may impact performance.\n",
      "  sets = df_all.loc[(date, routine_id, exercise_id)].to_dict(orient=\"records\")\n",
      "C:\\Users\\jorda\\AppData\\Local\\Temp\\ipykernel_34876\\2859303871.py:7: PerformanceWarning: indexing past lexsort depth may impact performance.\n",
      "  sets = df_all.loc[(date, routine_id, exercise_id)].to_dict(orient=\"records\")\n",
      "C:\\Users\\jorda\\AppData\\Local\\Temp\\ipykernel_34876\\2859303871.py:7: PerformanceWarning: indexing past lexsort depth may impact performance.\n",
      "  sets = df_all.loc[(date, routine_id, exercise_id)].to_dict(orient=\"records\")\n",
      "C:\\Users\\jorda\\AppData\\Local\\Temp\\ipykernel_34876\\2859303871.py:7: PerformanceWarning: indexing past lexsort depth may impact performance.\n",
      "  sets = df_all.loc[(date, routine_id, exercise_id)].to_dict(orient=\"records\")\n",
      "C:\\Users\\jorda\\AppData\\Local\\Temp\\ipykernel_34876\\2859303871.py:7: PerformanceWarning: indexing past lexsort depth may impact performance.\n",
      "  sets = df_all.loc[(date, routine_id, exercise_id)].to_dict(orient=\"records\")\n",
      "C:\\Users\\jorda\\AppData\\Local\\Temp\\ipykernel_34876\\2859303871.py:7: PerformanceWarning: indexing past lexsort depth may impact performance.\n",
      "  sets = df_all.loc[(date, routine_id, exercise_id)].to_dict(orient=\"records\")\n"
     ]
    },
    {
     "name": "stdout",
     "output_type": "stream",
     "text": [
      "Created workout for date 2024-12-01\n"
     ]
    },
    {
     "name": "stderr",
     "output_type": "stream",
     "text": [
      "C:\\Users\\jorda\\AppData\\Local\\Temp\\ipykernel_34876\\2859303871.py:4: PerformanceWarning: indexing past lexsort depth may impact performance.\n",
      "  exercise_ids = df_all.loc[(date, routine_id)].index.unique().values\n",
      "C:\\Users\\jorda\\AppData\\Local\\Temp\\ipykernel_34876\\2859303871.py:7: PerformanceWarning: indexing past lexsort depth may impact performance.\n",
      "  sets = df_all.loc[(date, routine_id, exercise_id)].to_dict(orient=\"records\")\n",
      "C:\\Users\\jorda\\AppData\\Local\\Temp\\ipykernel_34876\\2859303871.py:7: PerformanceWarning: indexing past lexsort depth may impact performance.\n",
      "  sets = df_all.loc[(date, routine_id, exercise_id)].to_dict(orient=\"records\")\n",
      "C:\\Users\\jorda\\AppData\\Local\\Temp\\ipykernel_34876\\2859303871.py:7: PerformanceWarning: indexing past lexsort depth may impact performance.\n",
      "  sets = df_all.loc[(date, routine_id, exercise_id)].to_dict(orient=\"records\")\n",
      "C:\\Users\\jorda\\AppData\\Local\\Temp\\ipykernel_34876\\2859303871.py:7: PerformanceWarning: indexing past lexsort depth may impact performance.\n",
      "  sets = df_all.loc[(date, routine_id, exercise_id)].to_dict(orient=\"records\")\n",
      "C:\\Users\\jorda\\AppData\\Local\\Temp\\ipykernel_34876\\2859303871.py:7: PerformanceWarning: indexing past lexsort depth may impact performance.\n",
      "  sets = df_all.loc[(date, routine_id, exercise_id)].to_dict(orient=\"records\")\n",
      "C:\\Users\\jorda\\AppData\\Local\\Temp\\ipykernel_34876\\2859303871.py:7: PerformanceWarning: indexing past lexsort depth may impact performance.\n",
      "  sets = df_all.loc[(date, routine_id, exercise_id)].to_dict(orient=\"records\")\n"
     ]
    },
    {
     "name": "stdout",
     "output_type": "stream",
     "text": [
      "Created workout for date 2024-12-02\n"
     ]
    },
    {
     "name": "stderr",
     "output_type": "stream",
     "text": [
      "C:\\Users\\jorda\\AppData\\Local\\Temp\\ipykernel_34876\\2859303871.py:4: PerformanceWarning: indexing past lexsort depth may impact performance.\n",
      "  exercise_ids = df_all.loc[(date, routine_id)].index.unique().values\n",
      "C:\\Users\\jorda\\AppData\\Local\\Temp\\ipykernel_34876\\2859303871.py:7: PerformanceWarning: indexing past lexsort depth may impact performance.\n",
      "  sets = df_all.loc[(date, routine_id, exercise_id)].to_dict(orient=\"records\")\n",
      "C:\\Users\\jorda\\AppData\\Local\\Temp\\ipykernel_34876\\2859303871.py:7: PerformanceWarning: indexing past lexsort depth may impact performance.\n",
      "  sets = df_all.loc[(date, routine_id, exercise_id)].to_dict(orient=\"records\")\n",
      "C:\\Users\\jorda\\AppData\\Local\\Temp\\ipykernel_34876\\2859303871.py:7: PerformanceWarning: indexing past lexsort depth may impact performance.\n",
      "  sets = df_all.loc[(date, routine_id, exercise_id)].to_dict(orient=\"records\")\n",
      "C:\\Users\\jorda\\AppData\\Local\\Temp\\ipykernel_34876\\2859303871.py:7: PerformanceWarning: indexing past lexsort depth may impact performance.\n",
      "  sets = df_all.loc[(date, routine_id, exercise_id)].to_dict(orient=\"records\")\n"
     ]
    },
    {
     "name": "stdout",
     "output_type": "stream",
     "text": [
      "Created workout for date 2024-12-03\n"
     ]
    },
    {
     "name": "stderr",
     "output_type": "stream",
     "text": [
      "C:\\Users\\jorda\\AppData\\Local\\Temp\\ipykernel_34876\\2859303871.py:4: PerformanceWarning: indexing past lexsort depth may impact performance.\n",
      "  exercise_ids = df_all.loc[(date, routine_id)].index.unique().values\n",
      "C:\\Users\\jorda\\AppData\\Local\\Temp\\ipykernel_34876\\2859303871.py:7: PerformanceWarning: indexing past lexsort depth may impact performance.\n",
      "  sets = df_all.loc[(date, routine_id, exercise_id)].to_dict(orient=\"records\")\n",
      "C:\\Users\\jorda\\AppData\\Local\\Temp\\ipykernel_34876\\2859303871.py:7: PerformanceWarning: indexing past lexsort depth may impact performance.\n",
      "  sets = df_all.loc[(date, routine_id, exercise_id)].to_dict(orient=\"records\")\n",
      "C:\\Users\\jorda\\AppData\\Local\\Temp\\ipykernel_34876\\2859303871.py:7: PerformanceWarning: indexing past lexsort depth may impact performance.\n",
      "  sets = df_all.loc[(date, routine_id, exercise_id)].to_dict(orient=\"records\")\n",
      "C:\\Users\\jorda\\AppData\\Local\\Temp\\ipykernel_34876\\2859303871.py:7: PerformanceWarning: indexing past lexsort depth may impact performance.\n",
      "  sets = df_all.loc[(date, routine_id, exercise_id)].to_dict(orient=\"records\")\n",
      "C:\\Users\\jorda\\AppData\\Local\\Temp\\ipykernel_34876\\2859303871.py:7: PerformanceWarning: indexing past lexsort depth may impact performance.\n",
      "  sets = df_all.loc[(date, routine_id, exercise_id)].to_dict(orient=\"records\")\n",
      "C:\\Users\\jorda\\AppData\\Local\\Temp\\ipykernel_34876\\2859303871.py:7: PerformanceWarning: indexing past lexsort depth may impact performance.\n",
      "  sets = df_all.loc[(date, routine_id, exercise_id)].to_dict(orient=\"records\")\n",
      "C:\\Users\\jorda\\AppData\\Local\\Temp\\ipykernel_34876\\2859303871.py:7: PerformanceWarning: indexing past lexsort depth may impact performance.\n",
      "  sets = df_all.loc[(date, routine_id, exercise_id)].to_dict(orient=\"records\")\n"
     ]
    },
    {
     "name": "stdout",
     "output_type": "stream",
     "text": [
      "Created workout for date 2024-12-05\n"
     ]
    },
    {
     "name": "stderr",
     "output_type": "stream",
     "text": [
      "C:\\Users\\jorda\\AppData\\Local\\Temp\\ipykernel_34876\\2859303871.py:4: PerformanceWarning: indexing past lexsort depth may impact performance.\n",
      "  exercise_ids = df_all.loc[(date, routine_id)].index.unique().values\n",
      "C:\\Users\\jorda\\AppData\\Local\\Temp\\ipykernel_34876\\2859303871.py:7: PerformanceWarning: indexing past lexsort depth may impact performance.\n",
      "  sets = df_all.loc[(date, routine_id, exercise_id)].to_dict(orient=\"records\")\n",
      "C:\\Users\\jorda\\AppData\\Local\\Temp\\ipykernel_34876\\2859303871.py:7: PerformanceWarning: indexing past lexsort depth may impact performance.\n",
      "  sets = df_all.loc[(date, routine_id, exercise_id)].to_dict(orient=\"records\")\n",
      "C:\\Users\\jorda\\AppData\\Local\\Temp\\ipykernel_34876\\2859303871.py:7: PerformanceWarning: indexing past lexsort depth may impact performance.\n",
      "  sets = df_all.loc[(date, routine_id, exercise_id)].to_dict(orient=\"records\")\n",
      "C:\\Users\\jorda\\AppData\\Local\\Temp\\ipykernel_34876\\2859303871.py:7: PerformanceWarning: indexing past lexsort depth may impact performance.\n",
      "  sets = df_all.loc[(date, routine_id, exercise_id)].to_dict(orient=\"records\")\n",
      "C:\\Users\\jorda\\AppData\\Local\\Temp\\ipykernel_34876\\2859303871.py:7: PerformanceWarning: indexing past lexsort depth may impact performance.\n",
      "  sets = df_all.loc[(date, routine_id, exercise_id)].to_dict(orient=\"records\")\n"
     ]
    },
    {
     "name": "stdout",
     "output_type": "stream",
     "text": [
      "Created workout for date 2024-12-08\n"
     ]
    },
    {
     "name": "stderr",
     "output_type": "stream",
     "text": [
      "C:\\Users\\jorda\\AppData\\Local\\Temp\\ipykernel_34876\\2859303871.py:4: PerformanceWarning: indexing past lexsort depth may impact performance.\n",
      "  exercise_ids = df_all.loc[(date, routine_id)].index.unique().values\n",
      "C:\\Users\\jorda\\AppData\\Local\\Temp\\ipykernel_34876\\2859303871.py:7: PerformanceWarning: indexing past lexsort depth may impact performance.\n",
      "  sets = df_all.loc[(date, routine_id, exercise_id)].to_dict(orient=\"records\")\n",
      "C:\\Users\\jorda\\AppData\\Local\\Temp\\ipykernel_34876\\2859303871.py:7: PerformanceWarning: indexing past lexsort depth may impact performance.\n",
      "  sets = df_all.loc[(date, routine_id, exercise_id)].to_dict(orient=\"records\")\n",
      "C:\\Users\\jorda\\AppData\\Local\\Temp\\ipykernel_34876\\2859303871.py:7: PerformanceWarning: indexing past lexsort depth may impact performance.\n",
      "  sets = df_all.loc[(date, routine_id, exercise_id)].to_dict(orient=\"records\")\n",
      "C:\\Users\\jorda\\AppData\\Local\\Temp\\ipykernel_34876\\2859303871.py:7: PerformanceWarning: indexing past lexsort depth may impact performance.\n",
      "  sets = df_all.loc[(date, routine_id, exercise_id)].to_dict(orient=\"records\")\n",
      "C:\\Users\\jorda\\AppData\\Local\\Temp\\ipykernel_34876\\2859303871.py:7: PerformanceWarning: indexing past lexsort depth may impact performance.\n",
      "  sets = df_all.loc[(date, routine_id, exercise_id)].to_dict(orient=\"records\")\n",
      "C:\\Users\\jorda\\AppData\\Local\\Temp\\ipykernel_34876\\2859303871.py:7: PerformanceWarning: indexing past lexsort depth may impact performance.\n",
      "  sets = df_all.loc[(date, routine_id, exercise_id)].to_dict(orient=\"records\")\n"
     ]
    },
    {
     "name": "stdout",
     "output_type": "stream",
     "text": [
      "Created workout for date 2024-12-09\n"
     ]
    },
    {
     "name": "stderr",
     "output_type": "stream",
     "text": [
      "C:\\Users\\jorda\\AppData\\Local\\Temp\\ipykernel_34876\\2859303871.py:4: PerformanceWarning: indexing past lexsort depth may impact performance.\n",
      "  exercise_ids = df_all.loc[(date, routine_id)].index.unique().values\n",
      "C:\\Users\\jorda\\AppData\\Local\\Temp\\ipykernel_34876\\2859303871.py:7: PerformanceWarning: indexing past lexsort depth may impact performance.\n",
      "  sets = df_all.loc[(date, routine_id, exercise_id)].to_dict(orient=\"records\")\n",
      "C:\\Users\\jorda\\AppData\\Local\\Temp\\ipykernel_34876\\2859303871.py:7: PerformanceWarning: indexing past lexsort depth may impact performance.\n",
      "  sets = df_all.loc[(date, routine_id, exercise_id)].to_dict(orient=\"records\")\n",
      "C:\\Users\\jorda\\AppData\\Local\\Temp\\ipykernel_34876\\2859303871.py:7: PerformanceWarning: indexing past lexsort depth may impact performance.\n",
      "  sets = df_all.loc[(date, routine_id, exercise_id)].to_dict(orient=\"records\")\n",
      "C:\\Users\\jorda\\AppData\\Local\\Temp\\ipykernel_34876\\2859303871.py:7: PerformanceWarning: indexing past lexsort depth may impact performance.\n",
      "  sets = df_all.loc[(date, routine_id, exercise_id)].to_dict(orient=\"records\")\n",
      "C:\\Users\\jorda\\AppData\\Local\\Temp\\ipykernel_34876\\2859303871.py:7: PerformanceWarning: indexing past lexsort depth may impact performance.\n",
      "  sets = df_all.loc[(date, routine_id, exercise_id)].to_dict(orient=\"records\")\n"
     ]
    },
    {
     "name": "stdout",
     "output_type": "stream",
     "text": [
      "Created workout for date 2024-12-10\n"
     ]
    },
    {
     "name": "stderr",
     "output_type": "stream",
     "text": [
      "C:\\Users\\jorda\\AppData\\Local\\Temp\\ipykernel_34876\\2859303871.py:4: PerformanceWarning: indexing past lexsort depth may impact performance.\n",
      "  exercise_ids = df_all.loc[(date, routine_id)].index.unique().values\n",
      "C:\\Users\\jorda\\AppData\\Local\\Temp\\ipykernel_34876\\2859303871.py:7: PerformanceWarning: indexing past lexsort depth may impact performance.\n",
      "  sets = df_all.loc[(date, routine_id, exercise_id)].to_dict(orient=\"records\")\n",
      "C:\\Users\\jorda\\AppData\\Local\\Temp\\ipykernel_34876\\2859303871.py:7: PerformanceWarning: indexing past lexsort depth may impact performance.\n",
      "  sets = df_all.loc[(date, routine_id, exercise_id)].to_dict(orient=\"records\")\n",
      "C:\\Users\\jorda\\AppData\\Local\\Temp\\ipykernel_34876\\2859303871.py:7: PerformanceWarning: indexing past lexsort depth may impact performance.\n",
      "  sets = df_all.loc[(date, routine_id, exercise_id)].to_dict(orient=\"records\")\n",
      "C:\\Users\\jorda\\AppData\\Local\\Temp\\ipykernel_34876\\2859303871.py:7: PerformanceWarning: indexing past lexsort depth may impact performance.\n",
      "  sets = df_all.loc[(date, routine_id, exercise_id)].to_dict(orient=\"records\")\n",
      "C:\\Users\\jorda\\AppData\\Local\\Temp\\ipykernel_34876\\2859303871.py:7: PerformanceWarning: indexing past lexsort depth may impact performance.\n",
      "  sets = df_all.loc[(date, routine_id, exercise_id)].to_dict(orient=\"records\")\n",
      "C:\\Users\\jorda\\AppData\\Local\\Temp\\ipykernel_34876\\2859303871.py:7: PerformanceWarning: indexing past lexsort depth may impact performance.\n",
      "  sets = df_all.loc[(date, routine_id, exercise_id)].to_dict(orient=\"records\")\n"
     ]
    },
    {
     "name": "stdout",
     "output_type": "stream",
     "text": [
      "Created workout for date 2024-12-11\n"
     ]
    },
    {
     "name": "stderr",
     "output_type": "stream",
     "text": [
      "C:\\Users\\jorda\\AppData\\Local\\Temp\\ipykernel_34876\\2859303871.py:4: PerformanceWarning: indexing past lexsort depth may impact performance.\n",
      "  exercise_ids = df_all.loc[(date, routine_id)].index.unique().values\n",
      "C:\\Users\\jorda\\AppData\\Local\\Temp\\ipykernel_34876\\2859303871.py:7: PerformanceWarning: indexing past lexsort depth may impact performance.\n",
      "  sets = df_all.loc[(date, routine_id, exercise_id)].to_dict(orient=\"records\")\n",
      "C:\\Users\\jorda\\AppData\\Local\\Temp\\ipykernel_34876\\2859303871.py:7: PerformanceWarning: indexing past lexsort depth may impact performance.\n",
      "  sets = df_all.loc[(date, routine_id, exercise_id)].to_dict(orient=\"records\")\n",
      "C:\\Users\\jorda\\AppData\\Local\\Temp\\ipykernel_34876\\2859303871.py:7: PerformanceWarning: indexing past lexsort depth may impact performance.\n",
      "  sets = df_all.loc[(date, routine_id, exercise_id)].to_dict(orient=\"records\")\n",
      "C:\\Users\\jorda\\AppData\\Local\\Temp\\ipykernel_34876\\2859303871.py:7: PerformanceWarning: indexing past lexsort depth may impact performance.\n",
      "  sets = df_all.loc[(date, routine_id, exercise_id)].to_dict(orient=\"records\")\n",
      "C:\\Users\\jorda\\AppData\\Local\\Temp\\ipykernel_34876\\2859303871.py:7: PerformanceWarning: indexing past lexsort depth may impact performance.\n",
      "  sets = df_all.loc[(date, routine_id, exercise_id)].to_dict(orient=\"records\")\n",
      "C:\\Users\\jorda\\AppData\\Local\\Temp\\ipykernel_34876\\2859303871.py:7: PerformanceWarning: indexing past lexsort depth may impact performance.\n",
      "  sets = df_all.loc[(date, routine_id, exercise_id)].to_dict(orient=\"records\")\n",
      "C:\\Users\\jorda\\AppData\\Local\\Temp\\ipykernel_34876\\2859303871.py:7: PerformanceWarning: indexing past lexsort depth may impact performance.\n",
      "  sets = df_all.loc[(date, routine_id, exercise_id)].to_dict(orient=\"records\")\n"
     ]
    },
    {
     "name": "stdout",
     "output_type": "stream",
     "text": [
      "Created workout for date 2024-12-13\n"
     ]
    },
    {
     "name": "stderr",
     "output_type": "stream",
     "text": [
      "C:\\Users\\jorda\\AppData\\Local\\Temp\\ipykernel_34876\\2859303871.py:4: PerformanceWarning: indexing past lexsort depth may impact performance.\n",
      "  exercise_ids = df_all.loc[(date, routine_id)].index.unique().values\n",
      "C:\\Users\\jorda\\AppData\\Local\\Temp\\ipykernel_34876\\2859303871.py:7: PerformanceWarning: indexing past lexsort depth may impact performance.\n",
      "  sets = df_all.loc[(date, routine_id, exercise_id)].to_dict(orient=\"records\")\n",
      "C:\\Users\\jorda\\AppData\\Local\\Temp\\ipykernel_34876\\2859303871.py:7: PerformanceWarning: indexing past lexsort depth may impact performance.\n",
      "  sets = df_all.loc[(date, routine_id, exercise_id)].to_dict(orient=\"records\")\n",
      "C:\\Users\\jorda\\AppData\\Local\\Temp\\ipykernel_34876\\2859303871.py:7: PerformanceWarning: indexing past lexsort depth may impact performance.\n",
      "  sets = df_all.loc[(date, routine_id, exercise_id)].to_dict(orient=\"records\")\n",
      "C:\\Users\\jorda\\AppData\\Local\\Temp\\ipykernel_34876\\2859303871.py:7: PerformanceWarning: indexing past lexsort depth may impact performance.\n",
      "  sets = df_all.loc[(date, routine_id, exercise_id)].to_dict(orient=\"records\")\n"
     ]
    },
    {
     "name": "stdout",
     "output_type": "stream",
     "text": [
      "Created workout for date 2024-12-14\n"
     ]
    },
    {
     "name": "stderr",
     "output_type": "stream",
     "text": [
      "C:\\Users\\jorda\\AppData\\Local\\Temp\\ipykernel_34876\\2859303871.py:4: PerformanceWarning: indexing past lexsort depth may impact performance.\n",
      "  exercise_ids = df_all.loc[(date, routine_id)].index.unique().values\n",
      "C:\\Users\\jorda\\AppData\\Local\\Temp\\ipykernel_34876\\2859303871.py:7: PerformanceWarning: indexing past lexsort depth may impact performance.\n",
      "  sets = df_all.loc[(date, routine_id, exercise_id)].to_dict(orient=\"records\")\n",
      "C:\\Users\\jorda\\AppData\\Local\\Temp\\ipykernel_34876\\2859303871.py:7: PerformanceWarning: indexing past lexsort depth may impact performance.\n",
      "  sets = df_all.loc[(date, routine_id, exercise_id)].to_dict(orient=\"records\")\n",
      "C:\\Users\\jorda\\AppData\\Local\\Temp\\ipykernel_34876\\2859303871.py:7: PerformanceWarning: indexing past lexsort depth may impact performance.\n",
      "  sets = df_all.loc[(date, routine_id, exercise_id)].to_dict(orient=\"records\")\n",
      "C:\\Users\\jorda\\AppData\\Local\\Temp\\ipykernel_34876\\2859303871.py:7: PerformanceWarning: indexing past lexsort depth may impact performance.\n",
      "  sets = df_all.loc[(date, routine_id, exercise_id)].to_dict(orient=\"records\")\n",
      "C:\\Users\\jorda\\AppData\\Local\\Temp\\ipykernel_34876\\2859303871.py:7: PerformanceWarning: indexing past lexsort depth may impact performance.\n",
      "  sets = df_all.loc[(date, routine_id, exercise_id)].to_dict(orient=\"records\")\n",
      "C:\\Users\\jorda\\AppData\\Local\\Temp\\ipykernel_34876\\2859303871.py:7: PerformanceWarning: indexing past lexsort depth may impact performance.\n",
      "  sets = df_all.loc[(date, routine_id, exercise_id)].to_dict(orient=\"records\")\n"
     ]
    },
    {
     "name": "stdout",
     "output_type": "stream",
     "text": [
      "Created workout for date 2024-12-16\n"
     ]
    },
    {
     "name": "stderr",
     "output_type": "stream",
     "text": [
      "C:\\Users\\jorda\\AppData\\Local\\Temp\\ipykernel_34876\\2859303871.py:4: PerformanceWarning: indexing past lexsort depth may impact performance.\n",
      "  exercise_ids = df_all.loc[(date, routine_id)].index.unique().values\n",
      "C:\\Users\\jorda\\AppData\\Local\\Temp\\ipykernel_34876\\2859303871.py:7: PerformanceWarning: indexing past lexsort depth may impact performance.\n",
      "  sets = df_all.loc[(date, routine_id, exercise_id)].to_dict(orient=\"records\")\n",
      "C:\\Users\\jorda\\AppData\\Local\\Temp\\ipykernel_34876\\2859303871.py:7: PerformanceWarning: indexing past lexsort depth may impact performance.\n",
      "  sets = df_all.loc[(date, routine_id, exercise_id)].to_dict(orient=\"records\")\n",
      "C:\\Users\\jorda\\AppData\\Local\\Temp\\ipykernel_34876\\2859303871.py:7: PerformanceWarning: indexing past lexsort depth may impact performance.\n",
      "  sets = df_all.loc[(date, routine_id, exercise_id)].to_dict(orient=\"records\")\n",
      "C:\\Users\\jorda\\AppData\\Local\\Temp\\ipykernel_34876\\2859303871.py:7: PerformanceWarning: indexing past lexsort depth may impact performance.\n",
      "  sets = df_all.loc[(date, routine_id, exercise_id)].to_dict(orient=\"records\")\n",
      "C:\\Users\\jorda\\AppData\\Local\\Temp\\ipykernel_34876\\2859303871.py:7: PerformanceWarning: indexing past lexsort depth may impact performance.\n",
      "  sets = df_all.loc[(date, routine_id, exercise_id)].to_dict(orient=\"records\")\n",
      "C:\\Users\\jorda\\AppData\\Local\\Temp\\ipykernel_34876\\2859303871.py:7: PerformanceWarning: indexing past lexsort depth may impact performance.\n",
      "  sets = df_all.loc[(date, routine_id, exercise_id)].to_dict(orient=\"records\")\n"
     ]
    },
    {
     "name": "stdout",
     "output_type": "stream",
     "text": [
      "Created workout for date 2024-12-17\n"
     ]
    },
    {
     "name": "stderr",
     "output_type": "stream",
     "text": [
      "C:\\Users\\jorda\\AppData\\Local\\Temp\\ipykernel_34876\\2859303871.py:4: PerformanceWarning: indexing past lexsort depth may impact performance.\n",
      "  exercise_ids = df_all.loc[(date, routine_id)].index.unique().values\n",
      "C:\\Users\\jorda\\AppData\\Local\\Temp\\ipykernel_34876\\2859303871.py:7: PerformanceWarning: indexing past lexsort depth may impact performance.\n",
      "  sets = df_all.loc[(date, routine_id, exercise_id)].to_dict(orient=\"records\")\n",
      "C:\\Users\\jorda\\AppData\\Local\\Temp\\ipykernel_34876\\2859303871.py:7: PerformanceWarning: indexing past lexsort depth may impact performance.\n",
      "  sets = df_all.loc[(date, routine_id, exercise_id)].to_dict(orient=\"records\")\n",
      "C:\\Users\\jorda\\AppData\\Local\\Temp\\ipykernel_34876\\2859303871.py:7: PerformanceWarning: indexing past lexsort depth may impact performance.\n",
      "  sets = df_all.loc[(date, routine_id, exercise_id)].to_dict(orient=\"records\")\n",
      "C:\\Users\\jorda\\AppData\\Local\\Temp\\ipykernel_34876\\2859303871.py:7: PerformanceWarning: indexing past lexsort depth may impact performance.\n",
      "  sets = df_all.loc[(date, routine_id, exercise_id)].to_dict(orient=\"records\")\n",
      "C:\\Users\\jorda\\AppData\\Local\\Temp\\ipykernel_34876\\2859303871.py:7: PerformanceWarning: indexing past lexsort depth may impact performance.\n",
      "  sets = df_all.loc[(date, routine_id, exercise_id)].to_dict(orient=\"records\")\n"
     ]
    },
    {
     "name": "stdout",
     "output_type": "stream",
     "text": [
      "Created workout for date 2024-12-18\n"
     ]
    }
   ],
   "source": [
    "for date in dates:\n",
    "    routine_ids = df_all.loc[date].index.get_level_values(0).unique().values\n",
    "    for routine_id in routine_ids:\n",
    "        exercise_ids = df_all.loc[(date, routine_id)].index.unique().values\n",
    "        all_exercises = []\n",
    "        for exercise_id in exercise_ids:\n",
    "            sets = df_all.loc[(date, routine_id, exercise_id)].to_dict(orient=\"records\")\n",
    "            data = {\"id\": int(exercise_id), \"sets\": sets}\n",
    "            all_exercises.append(data)\n",
    "    try:\n",
    "        response = client.workouts.create_workout(\n",
    "            date=date,\n",
    "            exercises=all_exercises,\n",
    "            user_id=u[\"id\"],\n",
    "            workoutroutine_id=int(routine_id),\n",
    "        )\n",
    "        print(f\"Created workout for date {date}\")\n",
    "    except Exception as e:\n",
    "        print(e)"
   ]
  }
 ],
 "metadata": {
  "kernelspec": {
   "display_name": "pybenchmark-Zfe2W2H7-py3.12",
   "language": "python",
   "name": "python3"
  },
  "language_info": {
   "codemirror_mode": {
    "name": "ipython",
    "version": 3
   },
   "file_extension": ".py",
   "mimetype": "text/x-python",
   "name": "python",
   "nbconvert_exporter": "python",
   "pygments_lexer": "ipython3",
   "version": "3.12.1"
  }
 },
 "nbformat": 4,
 "nbformat_minor": 2
}
