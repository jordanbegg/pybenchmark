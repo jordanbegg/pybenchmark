{
 "cells": [
  {
   "cell_type": "code",
   "execution_count": 1,
   "metadata": {},
   "outputs": [],
   "source": [
    "from pathlib import Path\n",
    "\n",
    "import pandas as pd\n",
    "\n",
    "from pybenchmark.client import BenchmarkClient"
   ]
  },
  {
   "cell_type": "code",
   "execution_count": 2,
   "metadata": {},
   "outputs": [],
   "source": [
    "URL = \"http://127.0.0.1:8000\"\n",
    "DATA_DIR = Path(\"../resources\")"
   ]
  },
  {
   "cell_type": "code",
   "execution_count": 3,
   "metadata": {},
   "outputs": [],
   "source": [
    "client = BenchmarkClient(url=URL)"
   ]
  },
  {
   "cell_type": "markdown",
   "metadata": {},
   "source": [
    "# Muscle Groups"
   ]
  },
  {
   "cell_type": "code",
   "execution_count": 4,
   "metadata": {},
   "outputs": [
    {
     "data": {
      "text/html": [
       "<div>\n",
       "<style scoped>\n",
       "    .dataframe tbody tr th:only-of-type {\n",
       "        vertical-align: middle;\n",
       "    }\n",
       "\n",
       "    .dataframe tbody tr th {\n",
       "        vertical-align: top;\n",
       "    }\n",
       "\n",
       "    .dataframe thead th {\n",
       "        text-align: right;\n",
       "    }\n",
       "</style>\n",
       "<table border=\"1\" class=\"dataframe\">\n",
       "  <thead>\n",
       "    <tr style=\"text-align: right;\">\n",
       "      <th></th>\n",
       "      <th>name</th>\n",
       "    </tr>\n",
       "  </thead>\n",
       "  <tbody>\n",
       "    <tr>\n",
       "      <th>0</th>\n",
       "      <td>chest</td>\n",
       "    </tr>\n",
       "    <tr>\n",
       "      <th>1</th>\n",
       "      <td>triceps</td>\n",
       "    </tr>\n",
       "    <tr>\n",
       "      <th>2</th>\n",
       "      <td>biceps</td>\n",
       "    </tr>\n",
       "    <tr>\n",
       "      <th>3</th>\n",
       "      <td>shoulders</td>\n",
       "    </tr>\n",
       "    <tr>\n",
       "      <th>4</th>\n",
       "      <td>quadriceps</td>\n",
       "    </tr>\n",
       "  </tbody>\n",
       "</table>\n",
       "</div>"
      ],
      "text/plain": [
       "         name\n",
       "0       chest\n",
       "1     triceps\n",
       "2      biceps\n",
       "3   shoulders\n",
       "4  quadriceps"
      ]
     },
     "execution_count": 4,
     "metadata": {},
     "output_type": "execute_result"
    }
   ],
   "source": [
    "df = pd.read_excel(DATA_DIR / \"setup.xlsx\", sheet_name=\"musclegroups\")\n",
    "df.head()"
   ]
  },
  {
   "cell_type": "code",
   "execution_count": 5,
   "metadata": {},
   "outputs": [
    {
     "name": "stdout",
     "output_type": "stream",
     "text": [
      "Created Muscle Group chest\n",
      "Created Muscle Group triceps\n",
      "Created Muscle Group biceps\n",
      "Created Muscle Group shoulders\n",
      "Created Muscle Group quadriceps\n",
      "Created Muscle Group hamstrings\n",
      "Created Muscle Group calves\n",
      "Created Muscle Group core\n",
      "Created Muscle Group back\n",
      "Created Muscle Group glutes\n"
     ]
    }
   ],
   "source": [
    "for name in df.name.tolist():\n",
    "    try:\n",
    "        response = client.musclegroups.create_musclegroup(name=name)\n",
    "        print(f\"Created Muscle Group {name}\")\n",
    "    except Exception as e:\n",
    "        print(e)"
   ]
  },
  {
   "cell_type": "markdown",
   "metadata": {},
   "source": [
    "# Exercises"
   ]
  },
  {
   "cell_type": "code",
   "execution_count": 6,
   "metadata": {},
   "outputs": [
    {
     "data": {
      "text/html": [
       "<div>\n",
       "<style scoped>\n",
       "    .dataframe tbody tr th:only-of-type {\n",
       "        vertical-align: middle;\n",
       "    }\n",
       "\n",
       "    .dataframe tbody tr th {\n",
       "        vertical-align: top;\n",
       "    }\n",
       "\n",
       "    .dataframe thead th {\n",
       "        text-align: right;\n",
       "    }\n",
       "</style>\n",
       "<table border=\"1\" class=\"dataframe\">\n",
       "  <thead>\n",
       "    <tr style=\"text-align: right;\">\n",
       "      <th></th>\n",
       "      <th>name</th>\n",
       "      <th>musclegroups</th>\n",
       "    </tr>\n",
       "  </thead>\n",
       "  <tbody>\n",
       "    <tr>\n",
       "      <th>0</th>\n",
       "      <td>Bench Press</td>\n",
       "      <td>chest, triceps</td>\n",
       "    </tr>\n",
       "    <tr>\n",
       "      <th>1</th>\n",
       "      <td>Lean-In Cable Row</td>\n",
       "      <td>back, biceps</td>\n",
       "    </tr>\n",
       "    <tr>\n",
       "      <th>2</th>\n",
       "      <td>Dumbbell Shoulder Press Neutral Grip</td>\n",
       "      <td>shoulders</td>\n",
       "    </tr>\n",
       "    <tr>\n",
       "      <th>3</th>\n",
       "      <td>Lat Pulldown Neutral Grip</td>\n",
       "      <td>back, biceps</td>\n",
       "    </tr>\n",
       "    <tr>\n",
       "      <th>4</th>\n",
       "      <td>Rope Hammer Curls</td>\n",
       "      <td>biceps</td>\n",
       "    </tr>\n",
       "  </tbody>\n",
       "</table>\n",
       "</div>"
      ],
      "text/plain": [
       "                                   name    musclegroups\n",
       "0                           Bench Press  chest, triceps\n",
       "1                     Lean-In Cable Row    back, biceps\n",
       "2  Dumbbell Shoulder Press Neutral Grip       shoulders\n",
       "3             Lat Pulldown Neutral Grip    back, biceps\n",
       "4                     Rope Hammer Curls          biceps"
      ]
     },
     "execution_count": 6,
     "metadata": {},
     "output_type": "execute_result"
    }
   ],
   "source": [
    "df = pd.read_excel(DATA_DIR / \"setup.xlsx\", sheet_name=\"exercises\")\n",
    "df.head()"
   ]
  },
  {
   "cell_type": "code",
   "execution_count": 7,
   "metadata": {},
   "outputs": [
    {
     "data": {
      "text/html": [
       "<div>\n",
       "<style scoped>\n",
       "    .dataframe tbody tr th:only-of-type {\n",
       "        vertical-align: middle;\n",
       "    }\n",
       "\n",
       "    .dataframe tbody tr th {\n",
       "        vertical-align: top;\n",
       "    }\n",
       "\n",
       "    .dataframe thead th {\n",
       "        text-align: right;\n",
       "    }\n",
       "</style>\n",
       "<table border=\"1\" class=\"dataframe\">\n",
       "  <thead>\n",
       "    <tr style=\"text-align: right;\">\n",
       "      <th></th>\n",
       "      <th>name</th>\n",
       "      <th>id</th>\n",
       "    </tr>\n",
       "  </thead>\n",
       "  <tbody>\n",
       "    <tr>\n",
       "      <th>0</th>\n",
       "      <td>chest</td>\n",
       "      <td>1</td>\n",
       "    </tr>\n",
       "    <tr>\n",
       "      <th>1</th>\n",
       "      <td>triceps</td>\n",
       "      <td>2</td>\n",
       "    </tr>\n",
       "    <tr>\n",
       "      <th>2</th>\n",
       "      <td>biceps</td>\n",
       "      <td>3</td>\n",
       "    </tr>\n",
       "    <tr>\n",
       "      <th>3</th>\n",
       "      <td>shoulders</td>\n",
       "      <td>4</td>\n",
       "    </tr>\n",
       "    <tr>\n",
       "      <th>4</th>\n",
       "      <td>quadriceps</td>\n",
       "      <td>5</td>\n",
       "    </tr>\n",
       "  </tbody>\n",
       "</table>\n",
       "</div>"
      ],
      "text/plain": [
       "         name  id\n",
       "0       chest   1\n",
       "1     triceps   2\n",
       "2      biceps   3\n",
       "3   shoulders   4\n",
       "4  quadriceps   5"
      ]
     },
     "execution_count": 7,
     "metadata": {},
     "output_type": "execute_result"
    }
   ],
   "source": [
    "mgs = pd.DataFrame(client.musclegroups.get_musclegroups())\n",
    "mgs.head()"
   ]
  },
  {
   "cell_type": "code",
   "execution_count": 8,
   "metadata": {},
   "outputs": [
    {
     "name": "stdout",
     "output_type": "stream",
     "text": [
      "Created Exercise Bench Press\n",
      "Created Exercise Lean-In Cable Row\n",
      "Created Exercise Dumbbell Shoulder Press Neutral Grip\n",
      "Created Exercise Lat Pulldown Neutral Grip\n",
      "Created Exercise Rope Hammer Curls\n",
      "Created Exercise Cable Lateral Raises\n",
      "Created Exercise Tricep Pushdown\n",
      "Created Exercise V-Bar Pushdown\n",
      "Created Exercise Barbell Back Squats\n",
      "Created Exercise Barbell Stiff Leg Deadlift\n",
      "Created Exercise Dumbbell Bulgarian Split Squats Single Arm\n",
      "Created Exercise Hyperextensions\n",
      "Created Exercise Rollouts\n",
      "Created Exercise Military Press\n",
      "Created Exercise Pull Ups Neutral Grip\n",
      "Created Exercise Incline Dumbbell Bench Press Neutral Grip\n",
      "Created Exercise Dumbbell Prone Rows\n",
      "Created Exercise Seated Dumbbell Hammer Curls\n",
      "Created Exercise Seated Dumbbell Lat Raises\n",
      "Created Exercise Dumbbell Skull Crushers\n",
      "Created Exercise Trap Bar Deadlift\n",
      "Created Exercise Dumbbell Split Squats\n",
      "Created Exercise Lying Leg Curls\n",
      "Created Exercise Leg Press\n",
      "Created Exercise Leg Raises\n",
      "Created Exercise Hack Squat\n",
      "Created Exercise Pendulum Squat\n",
      "Created Exercise Belt Squat\n",
      "Created Exercise Incline Chest Press Machine\n",
      "Created Exercise Chest Press Machine\n",
      "Created Exercise Machine Row\n",
      "Created Exercise Cable Flyes\n",
      "Created Exercise Incline Dumbbell Curls\n",
      "Created Exercise California Press\n",
      "Created Exercise Pull Ups Supinated Grip\n",
      "Created Exercise Dips\n",
      "Created Exercise Face Pulls\n",
      "Created Exercise Seated Cable Row\n",
      "Created Exercise Press Ups\n",
      "Created Exercise Farmers Walks\n",
      "Created Exercise Romanian Deadlift\n",
      "Created Exercise Seated Leg Curls\n",
      "Created Exercise Leg Extensions\n",
      "Created Exercise Dumbbell Shoulder Press Pronated Grip\n",
      "Created Exercise Overhead Tricep Rope Extension\n",
      "Created Exercise Cable Drag Curls\n",
      "Created Exercise Walking Lunges\n",
      "Created Exercise Lat Pulldown Overhand Grip\n"
     ]
    }
   ],
   "source": [
    "for ix, exercise in df.iterrows():\n",
    "    name = exercise[\"name\"]\n",
    "    mg_names = [mg.strip() for mg in exercise.musclegroups.split(\",\")]\n",
    "    mg_ids = mgs[mgs[\"name\"].isin(mg_names)].id.to_list()\n",
    "    try:\n",
    "        response = client.exercises.create_exercise(name=name, musclegroup_ids=mg_ids)\n",
    "        print(f\"Created Exercise {name}\")\n",
    "    except Exception as e:\n",
    "        print(e)"
   ]
  },
  {
   "cell_type": "markdown",
   "metadata": {},
   "source": [
    "# Workout Routines"
   ]
  },
  {
   "cell_type": "code",
   "execution_count": 9,
   "metadata": {},
   "outputs": [
    {
     "data": {
      "text/html": [
       "<div>\n",
       "<style scoped>\n",
       "    .dataframe tbody tr th:only-of-type {\n",
       "        vertical-align: middle;\n",
       "    }\n",
       "\n",
       "    .dataframe tbody tr th {\n",
       "        vertical-align: top;\n",
       "    }\n",
       "\n",
       "    .dataframe thead th {\n",
       "        text-align: right;\n",
       "    }\n",
       "</style>\n",
       "<table border=\"1\" class=\"dataframe\">\n",
       "  <thead>\n",
       "    <tr style=\"text-align: right;\">\n",
       "      <th></th>\n",
       "      <th>routine_name</th>\n",
       "      <th>exercise</th>\n",
       "      <th>reps</th>\n",
       "    </tr>\n",
       "  </thead>\n",
       "  <tbody>\n",
       "    <tr>\n",
       "      <th>0</th>\n",
       "      <td>Wave Loading 321 Lower 1</td>\n",
       "      <td>Trap Bar Deadlift</td>\n",
       "      <td>3</td>\n",
       "    </tr>\n",
       "    <tr>\n",
       "      <th>1</th>\n",
       "      <td>Wave Loading 321 Lower 1</td>\n",
       "      <td>Trap Bar Deadlift</td>\n",
       "      <td>2</td>\n",
       "    </tr>\n",
       "    <tr>\n",
       "      <th>2</th>\n",
       "      <td>Wave Loading 321 Lower 1</td>\n",
       "      <td>Trap Bar Deadlift</td>\n",
       "      <td>1</td>\n",
       "    </tr>\n",
       "    <tr>\n",
       "      <th>3</th>\n",
       "      <td>Wave Loading 321 Lower 1</td>\n",
       "      <td>Trap Bar Deadlift</td>\n",
       "      <td>3</td>\n",
       "    </tr>\n",
       "    <tr>\n",
       "      <th>4</th>\n",
       "      <td>Wave Loading 321 Lower 1</td>\n",
       "      <td>Trap Bar Deadlift</td>\n",
       "      <td>2</td>\n",
       "    </tr>\n",
       "  </tbody>\n",
       "</table>\n",
       "</div>"
      ],
      "text/plain": [
       "               routine_name           exercise  reps\n",
       "0  Wave Loading 321 Lower 1  Trap Bar Deadlift     3\n",
       "1  Wave Loading 321 Lower 1  Trap Bar Deadlift     2\n",
       "2  Wave Loading 321 Lower 1  Trap Bar Deadlift     1\n",
       "3  Wave Loading 321 Lower 1  Trap Bar Deadlift     3\n",
       "4  Wave Loading 321 Lower 1  Trap Bar Deadlift     2"
      ]
     },
     "execution_count": 9,
     "metadata": {},
     "output_type": "execute_result"
    }
   ],
   "source": [
    "df = pd.read_excel(DATA_DIR / \"setup.xlsx\", sheet_name=\"workoutroutines\")\n",
    "df = df.rename(columns={\"name\": \"routine_name\"})\n",
    "df.head()"
   ]
  },
  {
   "cell_type": "code",
   "execution_count": 10,
   "metadata": {},
   "outputs": [
    {
     "data": {
      "text/plain": [
       "array(['Wave Loading 321 Lower 1', 'Wave Loading 321 Upper 1',\n",
       "       'Wave Loading 321 Lower 2', 'Wave Loading 321 Upper 2',\n",
       "       'Wave Loading 642 Lower 1', 'Wave Loading 642 Upper 1',\n",
       "       'Wave Loading 642 Lower 2', 'Wave Loading 642 Upper 2',\n",
       "       'Hypertrophy Legs', 'Hypertrophy Chest and Back',\n",
       "       'Hypertrophy Shoulders and Arms', 'Arm Block Chest',\n",
       "       'Arm Block Back', 'Arm Block Legs', 'Arm Block Arms',\n",
       "       'Arm Block Legs 2'], dtype=object)"
      ]
     },
     "execution_count": 10,
     "metadata": {},
     "output_type": "execute_result"
    }
   ],
   "source": [
    "routines = df[\"routine_name\"].unique()\n",
    "routines"
   ]
  },
  {
   "cell_type": "code",
   "execution_count": 11,
   "metadata": {},
   "outputs": [
    {
     "data": {
      "text/html": [
       "<div>\n",
       "<style scoped>\n",
       "    .dataframe tbody tr th:only-of-type {\n",
       "        vertical-align: middle;\n",
       "    }\n",
       "\n",
       "    .dataframe tbody tr th {\n",
       "        vertical-align: top;\n",
       "    }\n",
       "\n",
       "    .dataframe thead th {\n",
       "        text-align: right;\n",
       "    }\n",
       "</style>\n",
       "<table border=\"1\" class=\"dataframe\">\n",
       "  <thead>\n",
       "    <tr style=\"text-align: right;\">\n",
       "      <th></th>\n",
       "      <th>name</th>\n",
       "      <th>id</th>\n",
       "    </tr>\n",
       "  </thead>\n",
       "  <tbody>\n",
       "    <tr>\n",
       "      <th>0</th>\n",
       "      <td>bench press</td>\n",
       "      <td>1</td>\n",
       "    </tr>\n",
       "    <tr>\n",
       "      <th>1</th>\n",
       "      <td>lean-in cable row</td>\n",
       "      <td>2</td>\n",
       "    </tr>\n",
       "    <tr>\n",
       "      <th>2</th>\n",
       "      <td>dumbbell shoulder press neutral grip</td>\n",
       "      <td>3</td>\n",
       "    </tr>\n",
       "    <tr>\n",
       "      <th>3</th>\n",
       "      <td>lat pulldown neutral grip</td>\n",
       "      <td>4</td>\n",
       "    </tr>\n",
       "    <tr>\n",
       "      <th>4</th>\n",
       "      <td>rope hammer curls</td>\n",
       "      <td>5</td>\n",
       "    </tr>\n",
       "  </tbody>\n",
       "</table>\n",
       "</div>"
      ],
      "text/plain": [
       "                                   name  id\n",
       "0                           bench press   1\n",
       "1                     lean-in cable row   2\n",
       "2  dumbbell shoulder press neutral grip   3\n",
       "3             lat pulldown neutral grip   4\n",
       "4                     rope hammer curls   5"
      ]
     },
     "execution_count": 11,
     "metadata": {},
     "output_type": "execute_result"
    }
   ],
   "source": [
    "exs = pd.DataFrame(client.exercises.get_exercises())\n",
    "exs.head()"
   ]
  },
  {
   "cell_type": "code",
   "execution_count": 12,
   "metadata": {},
   "outputs": [
    {
     "data": {
      "text/html": [
       "<div>\n",
       "<style scoped>\n",
       "    .dataframe tbody tr th:only-of-type {\n",
       "        vertical-align: middle;\n",
       "    }\n",
       "\n",
       "    .dataframe tbody tr th {\n",
       "        vertical-align: top;\n",
       "    }\n",
       "\n",
       "    .dataframe thead th {\n",
       "        text-align: right;\n",
       "    }\n",
       "</style>\n",
       "<table border=\"1\" class=\"dataframe\">\n",
       "  <thead>\n",
       "    <tr style=\"text-align: right;\">\n",
       "      <th></th>\n",
       "      <th>routine_name</th>\n",
       "      <th>exercise</th>\n",
       "      <th>reps</th>\n",
       "      <th>exercise_lower</th>\n",
       "    </tr>\n",
       "  </thead>\n",
       "  <tbody>\n",
       "    <tr>\n",
       "      <th>0</th>\n",
       "      <td>Wave Loading 321 Lower 1</td>\n",
       "      <td>Trap Bar Deadlift</td>\n",
       "      <td>3</td>\n",
       "      <td>trap bar deadlift</td>\n",
       "    </tr>\n",
       "    <tr>\n",
       "      <th>1</th>\n",
       "      <td>Wave Loading 321 Lower 1</td>\n",
       "      <td>Trap Bar Deadlift</td>\n",
       "      <td>2</td>\n",
       "      <td>trap bar deadlift</td>\n",
       "    </tr>\n",
       "    <tr>\n",
       "      <th>2</th>\n",
       "      <td>Wave Loading 321 Lower 1</td>\n",
       "      <td>Trap Bar Deadlift</td>\n",
       "      <td>1</td>\n",
       "      <td>trap bar deadlift</td>\n",
       "    </tr>\n",
       "    <tr>\n",
       "      <th>3</th>\n",
       "      <td>Wave Loading 321 Lower 1</td>\n",
       "      <td>Trap Bar Deadlift</td>\n",
       "      <td>3</td>\n",
       "      <td>trap bar deadlift</td>\n",
       "    </tr>\n",
       "    <tr>\n",
       "      <th>4</th>\n",
       "      <td>Wave Loading 321 Lower 1</td>\n",
       "      <td>Trap Bar Deadlift</td>\n",
       "      <td>2</td>\n",
       "      <td>trap bar deadlift</td>\n",
       "    </tr>\n",
       "  </tbody>\n",
       "</table>\n",
       "</div>"
      ],
      "text/plain": [
       "               routine_name           exercise  reps     exercise_lower\n",
       "0  Wave Loading 321 Lower 1  Trap Bar Deadlift     3  trap bar deadlift\n",
       "1  Wave Loading 321 Lower 1  Trap Bar Deadlift     2  trap bar deadlift\n",
       "2  Wave Loading 321 Lower 1  Trap Bar Deadlift     1  trap bar deadlift\n",
       "3  Wave Loading 321 Lower 1  Trap Bar Deadlift     3  trap bar deadlift\n",
       "4  Wave Loading 321 Lower 1  Trap Bar Deadlift     2  trap bar deadlift"
      ]
     },
     "execution_count": 12,
     "metadata": {},
     "output_type": "execute_result"
    }
   ],
   "source": [
    "df[\"exercise_lower\"] = df.exercise.str.lower()\n",
    "df.head()"
   ]
  },
  {
   "cell_type": "code",
   "execution_count": 13,
   "metadata": {},
   "outputs": [
    {
     "data": {
      "text/html": [
       "<div>\n",
       "<style scoped>\n",
       "    .dataframe tbody tr th:only-of-type {\n",
       "        vertical-align: middle;\n",
       "    }\n",
       "\n",
       "    .dataframe tbody tr th {\n",
       "        vertical-align: top;\n",
       "    }\n",
       "\n",
       "    .dataframe thead th {\n",
       "        text-align: right;\n",
       "    }\n",
       "</style>\n",
       "<table border=\"1\" class=\"dataframe\">\n",
       "  <thead>\n",
       "    <tr style=\"text-align: right;\">\n",
       "      <th></th>\n",
       "      <th></th>\n",
       "      <th>reps</th>\n",
       "    </tr>\n",
       "    <tr>\n",
       "      <th>routine_name</th>\n",
       "      <th>id</th>\n",
       "      <th></th>\n",
       "    </tr>\n",
       "  </thead>\n",
       "  <tbody>\n",
       "    <tr>\n",
       "      <th rowspan=\"5\" valign=\"top\">Wave Loading 321 Lower 1</th>\n",
       "      <th>21</th>\n",
       "      <td>3</td>\n",
       "    </tr>\n",
       "    <tr>\n",
       "      <th>21</th>\n",
       "      <td>2</td>\n",
       "    </tr>\n",
       "    <tr>\n",
       "      <th>21</th>\n",
       "      <td>1</td>\n",
       "    </tr>\n",
       "    <tr>\n",
       "      <th>21</th>\n",
       "      <td>3</td>\n",
       "    </tr>\n",
       "    <tr>\n",
       "      <th>21</th>\n",
       "      <td>2</td>\n",
       "    </tr>\n",
       "    <tr>\n",
       "      <th>...</th>\n",
       "      <th>...</th>\n",
       "      <td>...</td>\n",
       "    </tr>\n",
       "    <tr>\n",
       "      <th rowspan=\"5\" valign=\"top\">Arm Block Legs 2</th>\n",
       "      <th>47</th>\n",
       "      <td>24</td>\n",
       "    </tr>\n",
       "    <tr>\n",
       "      <th>42</th>\n",
       "      <td>20</td>\n",
       "    </tr>\n",
       "    <tr>\n",
       "      <th>42</th>\n",
       "      <td>20</td>\n",
       "    </tr>\n",
       "    <tr>\n",
       "      <th>42</th>\n",
       "      <td>20</td>\n",
       "    </tr>\n",
       "    <tr>\n",
       "      <th>42</th>\n",
       "      <td>20</td>\n",
       "    </tr>\n",
       "  </tbody>\n",
       "</table>\n",
       "<p>333 rows × 1 columns</p>\n",
       "</div>"
      ],
      "text/plain": [
       "                             reps\n",
       "routine_name             id      \n",
       "Wave Loading 321 Lower 1 21     3\n",
       "                         21     2\n",
       "                         21     1\n",
       "                         21     3\n",
       "                         21     2\n",
       "...                           ...\n",
       "Arm Block Legs 2         47    24\n",
       "                         42    20\n",
       "                         42    20\n",
       "                         42    20\n",
       "                         42    20\n",
       "\n",
       "[333 rows x 1 columns]"
      ]
     },
     "execution_count": 13,
     "metadata": {},
     "output_type": "execute_result"
    }
   ],
   "source": [
    "df_all = df.merge(right=exs, left_on=\"exercise_lower\", right_on=\"name\").set_index(\"routine_name\")[[\"reps\", \"id\"]]\n",
    "df_all = df_all.reset_index().set_index([\"routine_name\", \"id\"])\n",
    "df_all"
   ]
  },
  {
   "cell_type": "code",
   "execution_count": 14,
   "metadata": {},
   "outputs": [
    {
     "name": "stderr",
     "output_type": "stream",
     "text": [
      "C:\\Users\\jorda\\AppData\\Local\\Temp\\ipykernel_22804\\774130799.py:5: PerformanceWarning: indexing past lexsort depth may impact performance.\n",
      "  sets = df_all.loc[routine, exercise].to_dict(orient=\"records\")\n",
      "C:\\Users\\jorda\\AppData\\Local\\Temp\\ipykernel_22804\\774130799.py:5: PerformanceWarning: indexing past lexsort depth may impact performance.\n",
      "  sets = df_all.loc[routine, exercise].to_dict(orient=\"records\")\n",
      "C:\\Users\\jorda\\AppData\\Local\\Temp\\ipykernel_22804\\774130799.py:5: PerformanceWarning: indexing past lexsort depth may impact performance.\n",
      "  sets = df_all.loc[routine, exercise].to_dict(orient=\"records\")\n",
      "C:\\Users\\jorda\\AppData\\Local\\Temp\\ipykernel_22804\\774130799.py:5: PerformanceWarning: indexing past lexsort depth may impact performance.\n",
      "  sets = df_all.loc[routine, exercise].to_dict(orient=\"records\")\n",
      "C:\\Users\\jorda\\AppData\\Local\\Temp\\ipykernel_22804\\774130799.py:5: PerformanceWarning: indexing past lexsort depth may impact performance.\n",
      "  sets = df_all.loc[routine, exercise].to_dict(orient=\"records\")\n"
     ]
    },
    {
     "name": "stdout",
     "output_type": "stream",
     "text": [
      "Created Routine Wave Loading 321 Lower 1\n"
     ]
    },
    {
     "name": "stderr",
     "output_type": "stream",
     "text": [
      "C:\\Users\\jorda\\AppData\\Local\\Temp\\ipykernel_22804\\774130799.py:5: PerformanceWarning: indexing past lexsort depth may impact performance.\n",
      "  sets = df_all.loc[routine, exercise].to_dict(orient=\"records\")\n",
      "C:\\Users\\jorda\\AppData\\Local\\Temp\\ipykernel_22804\\774130799.py:5: PerformanceWarning: indexing past lexsort depth may impact performance.\n",
      "  sets = df_all.loc[routine, exercise].to_dict(orient=\"records\")\n",
      "C:\\Users\\jorda\\AppData\\Local\\Temp\\ipykernel_22804\\774130799.py:5: PerformanceWarning: indexing past lexsort depth may impact performance.\n",
      "  sets = df_all.loc[routine, exercise].to_dict(orient=\"records\")\n",
      "C:\\Users\\jorda\\AppData\\Local\\Temp\\ipykernel_22804\\774130799.py:5: PerformanceWarning: indexing past lexsort depth may impact performance.\n",
      "  sets = df_all.loc[routine, exercise].to_dict(orient=\"records\")\n",
      "C:\\Users\\jorda\\AppData\\Local\\Temp\\ipykernel_22804\\774130799.py:5: PerformanceWarning: indexing past lexsort depth may impact performance.\n",
      "  sets = df_all.loc[routine, exercise].to_dict(orient=\"records\")\n",
      "C:\\Users\\jorda\\AppData\\Local\\Temp\\ipykernel_22804\\774130799.py:5: PerformanceWarning: indexing past lexsort depth may impact performance.\n",
      "  sets = df_all.loc[routine, exercise].to_dict(orient=\"records\")\n",
      "C:\\Users\\jorda\\AppData\\Local\\Temp\\ipykernel_22804\\774130799.py:5: PerformanceWarning: indexing past lexsort depth may impact performance.\n",
      "  sets = df_all.loc[routine, exercise].to_dict(orient=\"records\")\n"
     ]
    },
    {
     "name": "stdout",
     "output_type": "stream",
     "text": [
      "Created Routine Wave Loading 321 Upper 1\n"
     ]
    },
    {
     "name": "stderr",
     "output_type": "stream",
     "text": [
      "C:\\Users\\jorda\\AppData\\Local\\Temp\\ipykernel_22804\\774130799.py:5: PerformanceWarning: indexing past lexsort depth may impact performance.\n",
      "  sets = df_all.loc[routine, exercise].to_dict(orient=\"records\")\n",
      "C:\\Users\\jorda\\AppData\\Local\\Temp\\ipykernel_22804\\774130799.py:5: PerformanceWarning: indexing past lexsort depth may impact performance.\n",
      "  sets = df_all.loc[routine, exercise].to_dict(orient=\"records\")\n",
      "C:\\Users\\jorda\\AppData\\Local\\Temp\\ipykernel_22804\\774130799.py:5: PerformanceWarning: indexing past lexsort depth may impact performance.\n",
      "  sets = df_all.loc[routine, exercise].to_dict(orient=\"records\")\n",
      "C:\\Users\\jorda\\AppData\\Local\\Temp\\ipykernel_22804\\774130799.py:5: PerformanceWarning: indexing past lexsort depth may impact performance.\n",
      "  sets = df_all.loc[routine, exercise].to_dict(orient=\"records\")\n",
      "C:\\Users\\jorda\\AppData\\Local\\Temp\\ipykernel_22804\\774130799.py:5: PerformanceWarning: indexing past lexsort depth may impact performance.\n",
      "  sets = df_all.loc[routine, exercise].to_dict(orient=\"records\")\n"
     ]
    },
    {
     "name": "stdout",
     "output_type": "stream",
     "text": [
      "Created Routine Wave Loading 321 Lower 2\n"
     ]
    },
    {
     "name": "stderr",
     "output_type": "stream",
     "text": [
      "C:\\Users\\jorda\\AppData\\Local\\Temp\\ipykernel_22804\\774130799.py:5: PerformanceWarning: indexing past lexsort depth may impact performance.\n",
      "  sets = df_all.loc[routine, exercise].to_dict(orient=\"records\")\n",
      "C:\\Users\\jorda\\AppData\\Local\\Temp\\ipykernel_22804\\774130799.py:5: PerformanceWarning: indexing past lexsort depth may impact performance.\n",
      "  sets = df_all.loc[routine, exercise].to_dict(orient=\"records\")\n",
      "C:\\Users\\jorda\\AppData\\Local\\Temp\\ipykernel_22804\\774130799.py:5: PerformanceWarning: indexing past lexsort depth may impact performance.\n",
      "  sets = df_all.loc[routine, exercise].to_dict(orient=\"records\")\n",
      "C:\\Users\\jorda\\AppData\\Local\\Temp\\ipykernel_22804\\774130799.py:5: PerformanceWarning: indexing past lexsort depth may impact performance.\n",
      "  sets = df_all.loc[routine, exercise].to_dict(orient=\"records\")\n",
      "C:\\Users\\jorda\\AppData\\Local\\Temp\\ipykernel_22804\\774130799.py:5: PerformanceWarning: indexing past lexsort depth may impact performance.\n",
      "  sets = df_all.loc[routine, exercise].to_dict(orient=\"records\")\n",
      "C:\\Users\\jorda\\AppData\\Local\\Temp\\ipykernel_22804\\774130799.py:5: PerformanceWarning: indexing past lexsort depth may impact performance.\n",
      "  sets = df_all.loc[routine, exercise].to_dict(orient=\"records\")\n",
      "C:\\Users\\jorda\\AppData\\Local\\Temp\\ipykernel_22804\\774130799.py:5: PerformanceWarning: indexing past lexsort depth may impact performance.\n",
      "  sets = df_all.loc[routine, exercise].to_dict(orient=\"records\")\n"
     ]
    },
    {
     "name": "stdout",
     "output_type": "stream",
     "text": [
      "Created Routine Wave Loading 321 Upper 2\n"
     ]
    },
    {
     "name": "stderr",
     "output_type": "stream",
     "text": [
      "C:\\Users\\jorda\\AppData\\Local\\Temp\\ipykernel_22804\\774130799.py:5: PerformanceWarning: indexing past lexsort depth may impact performance.\n",
      "  sets = df_all.loc[routine, exercise].to_dict(orient=\"records\")\n",
      "C:\\Users\\jorda\\AppData\\Local\\Temp\\ipykernel_22804\\774130799.py:5: PerformanceWarning: indexing past lexsort depth may impact performance.\n",
      "  sets = df_all.loc[routine, exercise].to_dict(orient=\"records\")\n",
      "C:\\Users\\jorda\\AppData\\Local\\Temp\\ipykernel_22804\\774130799.py:5: PerformanceWarning: indexing past lexsort depth may impact performance.\n",
      "  sets = df_all.loc[routine, exercise].to_dict(orient=\"records\")\n",
      "C:\\Users\\jorda\\AppData\\Local\\Temp\\ipykernel_22804\\774130799.py:5: PerformanceWarning: indexing past lexsort depth may impact performance.\n",
      "  sets = df_all.loc[routine, exercise].to_dict(orient=\"records\")\n",
      "C:\\Users\\jorda\\AppData\\Local\\Temp\\ipykernel_22804\\774130799.py:5: PerformanceWarning: indexing past lexsort depth may impact performance.\n",
      "  sets = df_all.loc[routine, exercise].to_dict(orient=\"records\")\n"
     ]
    },
    {
     "name": "stdout",
     "output_type": "stream",
     "text": [
      "Created Routine Wave Loading 642 Lower 1\n"
     ]
    },
    {
     "name": "stderr",
     "output_type": "stream",
     "text": [
      "C:\\Users\\jorda\\AppData\\Local\\Temp\\ipykernel_22804\\774130799.py:5: PerformanceWarning: indexing past lexsort depth may impact performance.\n",
      "  sets = df_all.loc[routine, exercise].to_dict(orient=\"records\")\n",
      "C:\\Users\\jorda\\AppData\\Local\\Temp\\ipykernel_22804\\774130799.py:5: PerformanceWarning: indexing past lexsort depth may impact performance.\n",
      "  sets = df_all.loc[routine, exercise].to_dict(orient=\"records\")\n",
      "C:\\Users\\jorda\\AppData\\Local\\Temp\\ipykernel_22804\\774130799.py:5: PerformanceWarning: indexing past lexsort depth may impact performance.\n",
      "  sets = df_all.loc[routine, exercise].to_dict(orient=\"records\")\n",
      "C:\\Users\\jorda\\AppData\\Local\\Temp\\ipykernel_22804\\774130799.py:5: PerformanceWarning: indexing past lexsort depth may impact performance.\n",
      "  sets = df_all.loc[routine, exercise].to_dict(orient=\"records\")\n",
      "C:\\Users\\jorda\\AppData\\Local\\Temp\\ipykernel_22804\\774130799.py:5: PerformanceWarning: indexing past lexsort depth may impact performance.\n",
      "  sets = df_all.loc[routine, exercise].to_dict(orient=\"records\")\n",
      "C:\\Users\\jorda\\AppData\\Local\\Temp\\ipykernel_22804\\774130799.py:5: PerformanceWarning: indexing past lexsort depth may impact performance.\n",
      "  sets = df_all.loc[routine, exercise].to_dict(orient=\"records\")\n",
      "C:\\Users\\jorda\\AppData\\Local\\Temp\\ipykernel_22804\\774130799.py:5: PerformanceWarning: indexing past lexsort depth may impact performance.\n",
      "  sets = df_all.loc[routine, exercise].to_dict(orient=\"records\")\n"
     ]
    },
    {
     "name": "stdout",
     "output_type": "stream",
     "text": [
      "Created Routine Wave Loading 642 Upper 1\n"
     ]
    },
    {
     "name": "stderr",
     "output_type": "stream",
     "text": [
      "C:\\Users\\jorda\\AppData\\Local\\Temp\\ipykernel_22804\\774130799.py:5: PerformanceWarning: indexing past lexsort depth may impact performance.\n",
      "  sets = df_all.loc[routine, exercise].to_dict(orient=\"records\")\n",
      "C:\\Users\\jorda\\AppData\\Local\\Temp\\ipykernel_22804\\774130799.py:5: PerformanceWarning: indexing past lexsort depth may impact performance.\n",
      "  sets = df_all.loc[routine, exercise].to_dict(orient=\"records\")\n",
      "C:\\Users\\jorda\\AppData\\Local\\Temp\\ipykernel_22804\\774130799.py:5: PerformanceWarning: indexing past lexsort depth may impact performance.\n",
      "  sets = df_all.loc[routine, exercise].to_dict(orient=\"records\")\n",
      "C:\\Users\\jorda\\AppData\\Local\\Temp\\ipykernel_22804\\774130799.py:5: PerformanceWarning: indexing past lexsort depth may impact performance.\n",
      "  sets = df_all.loc[routine, exercise].to_dict(orient=\"records\")\n",
      "C:\\Users\\jorda\\AppData\\Local\\Temp\\ipykernel_22804\\774130799.py:5: PerformanceWarning: indexing past lexsort depth may impact performance.\n",
      "  sets = df_all.loc[routine, exercise].to_dict(orient=\"records\")\n"
     ]
    },
    {
     "name": "stdout",
     "output_type": "stream",
     "text": [
      "Created Routine Wave Loading 642 Lower 2\n"
     ]
    },
    {
     "name": "stderr",
     "output_type": "stream",
     "text": [
      "C:\\Users\\jorda\\AppData\\Local\\Temp\\ipykernel_22804\\774130799.py:5: PerformanceWarning: indexing past lexsort depth may impact performance.\n",
      "  sets = df_all.loc[routine, exercise].to_dict(orient=\"records\")\n",
      "C:\\Users\\jorda\\AppData\\Local\\Temp\\ipykernel_22804\\774130799.py:5: PerformanceWarning: indexing past lexsort depth may impact performance.\n",
      "  sets = df_all.loc[routine, exercise].to_dict(orient=\"records\")\n",
      "C:\\Users\\jorda\\AppData\\Local\\Temp\\ipykernel_22804\\774130799.py:5: PerformanceWarning: indexing past lexsort depth may impact performance.\n",
      "  sets = df_all.loc[routine, exercise].to_dict(orient=\"records\")\n",
      "C:\\Users\\jorda\\AppData\\Local\\Temp\\ipykernel_22804\\774130799.py:5: PerformanceWarning: indexing past lexsort depth may impact performance.\n",
      "  sets = df_all.loc[routine, exercise].to_dict(orient=\"records\")\n",
      "C:\\Users\\jorda\\AppData\\Local\\Temp\\ipykernel_22804\\774130799.py:5: PerformanceWarning: indexing past lexsort depth may impact performance.\n",
      "  sets = df_all.loc[routine, exercise].to_dict(orient=\"records\")\n",
      "C:\\Users\\jorda\\AppData\\Local\\Temp\\ipykernel_22804\\774130799.py:5: PerformanceWarning: indexing past lexsort depth may impact performance.\n",
      "  sets = df_all.loc[routine, exercise].to_dict(orient=\"records\")\n",
      "C:\\Users\\jorda\\AppData\\Local\\Temp\\ipykernel_22804\\774130799.py:5: PerformanceWarning: indexing past lexsort depth may impact performance.\n",
      "  sets = df_all.loc[routine, exercise].to_dict(orient=\"records\")\n"
     ]
    },
    {
     "name": "stdout",
     "output_type": "stream",
     "text": [
      "Created Routine Wave Loading 642 Upper 2\n"
     ]
    },
    {
     "name": "stderr",
     "output_type": "stream",
     "text": [
      "C:\\Users\\jorda\\AppData\\Local\\Temp\\ipykernel_22804\\774130799.py:5: PerformanceWarning: indexing past lexsort depth may impact performance.\n",
      "  sets = df_all.loc[routine, exercise].to_dict(orient=\"records\")\n",
      "C:\\Users\\jorda\\AppData\\Local\\Temp\\ipykernel_22804\\774130799.py:5: PerformanceWarning: indexing past lexsort depth may impact performance.\n",
      "  sets = df_all.loc[routine, exercise].to_dict(orient=\"records\")\n",
      "C:\\Users\\jorda\\AppData\\Local\\Temp\\ipykernel_22804\\774130799.py:5: PerformanceWarning: indexing past lexsort depth may impact performance.\n",
      "  sets = df_all.loc[routine, exercise].to_dict(orient=\"records\")\n",
      "C:\\Users\\jorda\\AppData\\Local\\Temp\\ipykernel_22804\\774130799.py:5: PerformanceWarning: indexing past lexsort depth may impact performance.\n",
      "  sets = df_all.loc[routine, exercise].to_dict(orient=\"records\")\n",
      "C:\\Users\\jorda\\AppData\\Local\\Temp\\ipykernel_22804\\774130799.py:5: PerformanceWarning: indexing past lexsort depth may impact performance.\n",
      "  sets = df_all.loc[routine, exercise].to_dict(orient=\"records\")\n"
     ]
    },
    {
     "name": "stdout",
     "output_type": "stream",
     "text": [
      "Created Routine Hypertrophy Legs\n"
     ]
    },
    {
     "name": "stderr",
     "output_type": "stream",
     "text": [
      "C:\\Users\\jorda\\AppData\\Local\\Temp\\ipykernel_22804\\774130799.py:5: PerformanceWarning: indexing past lexsort depth may impact performance.\n",
      "  sets = df_all.loc[routine, exercise].to_dict(orient=\"records\")\n",
      "C:\\Users\\jorda\\AppData\\Local\\Temp\\ipykernel_22804\\774130799.py:5: PerformanceWarning: indexing past lexsort depth may impact performance.\n",
      "  sets = df_all.loc[routine, exercise].to_dict(orient=\"records\")\n",
      "C:\\Users\\jorda\\AppData\\Local\\Temp\\ipykernel_22804\\774130799.py:5: PerformanceWarning: indexing past lexsort depth may impact performance.\n",
      "  sets = df_all.loc[routine, exercise].to_dict(orient=\"records\")\n",
      "C:\\Users\\jorda\\AppData\\Local\\Temp\\ipykernel_22804\\774130799.py:5: PerformanceWarning: indexing past lexsort depth may impact performance.\n",
      "  sets = df_all.loc[routine, exercise].to_dict(orient=\"records\")\n",
      "C:\\Users\\jorda\\AppData\\Local\\Temp\\ipykernel_22804\\774130799.py:5: PerformanceWarning: indexing past lexsort depth may impact performance.\n",
      "  sets = df_all.loc[routine, exercise].to_dict(orient=\"records\")\n",
      "C:\\Users\\jorda\\AppData\\Local\\Temp\\ipykernel_22804\\774130799.py:5: PerformanceWarning: indexing past lexsort depth may impact performance.\n",
      "  sets = df_all.loc[routine, exercise].to_dict(orient=\"records\")\n"
     ]
    },
    {
     "name": "stdout",
     "output_type": "stream",
     "text": [
      "Created Routine Hypertrophy Chest and Back\n"
     ]
    },
    {
     "name": "stderr",
     "output_type": "stream",
     "text": [
      "C:\\Users\\jorda\\AppData\\Local\\Temp\\ipykernel_22804\\774130799.py:5: PerformanceWarning: indexing past lexsort depth may impact performance.\n",
      "  sets = df_all.loc[routine, exercise].to_dict(orient=\"records\")\n",
      "C:\\Users\\jorda\\AppData\\Local\\Temp\\ipykernel_22804\\774130799.py:5: PerformanceWarning: indexing past lexsort depth may impact performance.\n",
      "  sets = df_all.loc[routine, exercise].to_dict(orient=\"records\")\n",
      "C:\\Users\\jorda\\AppData\\Local\\Temp\\ipykernel_22804\\774130799.py:5: PerformanceWarning: indexing past lexsort depth may impact performance.\n",
      "  sets = df_all.loc[routine, exercise].to_dict(orient=\"records\")\n",
      "C:\\Users\\jorda\\AppData\\Local\\Temp\\ipykernel_22804\\774130799.py:5: PerformanceWarning: indexing past lexsort depth may impact performance.\n",
      "  sets = df_all.loc[routine, exercise].to_dict(orient=\"records\")\n",
      "C:\\Users\\jorda\\AppData\\Local\\Temp\\ipykernel_22804\\774130799.py:5: PerformanceWarning: indexing past lexsort depth may impact performance.\n",
      "  sets = df_all.loc[routine, exercise].to_dict(orient=\"records\")\n",
      "C:\\Users\\jorda\\AppData\\Local\\Temp\\ipykernel_22804\\774130799.py:5: PerformanceWarning: indexing past lexsort depth may impact performance.\n",
      "  sets = df_all.loc[routine, exercise].to_dict(orient=\"records\")\n"
     ]
    },
    {
     "name": "stdout",
     "output_type": "stream",
     "text": [
      "Created Routine Hypertrophy Shoulders and Arms\n"
     ]
    },
    {
     "name": "stderr",
     "output_type": "stream",
     "text": [
      "C:\\Users\\jorda\\AppData\\Local\\Temp\\ipykernel_22804\\774130799.py:5: PerformanceWarning: indexing past lexsort depth may impact performance.\n",
      "  sets = df_all.loc[routine, exercise].to_dict(orient=\"records\")\n",
      "C:\\Users\\jorda\\AppData\\Local\\Temp\\ipykernel_22804\\774130799.py:5: PerformanceWarning: indexing past lexsort depth may impact performance.\n",
      "  sets = df_all.loc[routine, exercise].to_dict(orient=\"records\")\n",
      "C:\\Users\\jorda\\AppData\\Local\\Temp\\ipykernel_22804\\774130799.py:5: PerformanceWarning: indexing past lexsort depth may impact performance.\n",
      "  sets = df_all.loc[routine, exercise].to_dict(orient=\"records\")\n",
      "C:\\Users\\jorda\\AppData\\Local\\Temp\\ipykernel_22804\\774130799.py:5: PerformanceWarning: indexing past lexsort depth may impact performance.\n",
      "  sets = df_all.loc[routine, exercise].to_dict(orient=\"records\")\n",
      "C:\\Users\\jorda\\AppData\\Local\\Temp\\ipykernel_22804\\774130799.py:5: PerformanceWarning: indexing past lexsort depth may impact performance.\n",
      "  sets = df_all.loc[routine, exercise].to_dict(orient=\"records\")\n",
      "C:\\Users\\jorda\\AppData\\Local\\Temp\\ipykernel_22804\\774130799.py:5: PerformanceWarning: indexing past lexsort depth may impact performance.\n",
      "  sets = df_all.loc[routine, exercise].to_dict(orient=\"records\")\n"
     ]
    },
    {
     "name": "stdout",
     "output_type": "stream",
     "text": [
      "Created Routine Arm Block Chest\n"
     ]
    },
    {
     "name": "stderr",
     "output_type": "stream",
     "text": [
      "C:\\Users\\jorda\\AppData\\Local\\Temp\\ipykernel_22804\\774130799.py:5: PerformanceWarning: indexing past lexsort depth may impact performance.\n",
      "  sets = df_all.loc[routine, exercise].to_dict(orient=\"records\")\n",
      "C:\\Users\\jorda\\AppData\\Local\\Temp\\ipykernel_22804\\774130799.py:5: PerformanceWarning: indexing past lexsort depth may impact performance.\n",
      "  sets = df_all.loc[routine, exercise].to_dict(orient=\"records\")\n",
      "C:\\Users\\jorda\\AppData\\Local\\Temp\\ipykernel_22804\\774130799.py:5: PerformanceWarning: indexing past lexsort depth may impact performance.\n",
      "  sets = df_all.loc[routine, exercise].to_dict(orient=\"records\")\n",
      "C:\\Users\\jorda\\AppData\\Local\\Temp\\ipykernel_22804\\774130799.py:5: PerformanceWarning: indexing past lexsort depth may impact performance.\n",
      "  sets = df_all.loc[routine, exercise].to_dict(orient=\"records\")\n",
      "C:\\Users\\jorda\\AppData\\Local\\Temp\\ipykernel_22804\\774130799.py:5: PerformanceWarning: indexing past lexsort depth may impact performance.\n",
      "  sets = df_all.loc[routine, exercise].to_dict(orient=\"records\")\n",
      "C:\\Users\\jorda\\AppData\\Local\\Temp\\ipykernel_22804\\774130799.py:5: PerformanceWarning: indexing past lexsort depth may impact performance.\n",
      "  sets = df_all.loc[routine, exercise].to_dict(orient=\"records\")\n"
     ]
    },
    {
     "name": "stdout",
     "output_type": "stream",
     "text": [
      "Created Routine Arm Block Back\n"
     ]
    },
    {
     "name": "stderr",
     "output_type": "stream",
     "text": [
      "C:\\Users\\jorda\\AppData\\Local\\Temp\\ipykernel_22804\\774130799.py:5: PerformanceWarning: indexing past lexsort depth may impact performance.\n",
      "  sets = df_all.loc[routine, exercise].to_dict(orient=\"records\")\n",
      "C:\\Users\\jorda\\AppData\\Local\\Temp\\ipykernel_22804\\774130799.py:5: PerformanceWarning: indexing past lexsort depth may impact performance.\n",
      "  sets = df_all.loc[routine, exercise].to_dict(orient=\"records\")\n",
      "C:\\Users\\jorda\\AppData\\Local\\Temp\\ipykernel_22804\\774130799.py:5: PerformanceWarning: indexing past lexsort depth may impact performance.\n",
      "  sets = df_all.loc[routine, exercise].to_dict(orient=\"records\")\n",
      "C:\\Users\\jorda\\AppData\\Local\\Temp\\ipykernel_22804\\774130799.py:5: PerformanceWarning: indexing past lexsort depth may impact performance.\n",
      "  sets = df_all.loc[routine, exercise].to_dict(orient=\"records\")\n",
      "C:\\Users\\jorda\\AppData\\Local\\Temp\\ipykernel_22804\\774130799.py:5: PerformanceWarning: indexing past lexsort depth may impact performance.\n",
      "  sets = df_all.loc[routine, exercise].to_dict(orient=\"records\")\n"
     ]
    },
    {
     "name": "stdout",
     "output_type": "stream",
     "text": [
      "Created Routine Arm Block Legs\n"
     ]
    },
    {
     "name": "stderr",
     "output_type": "stream",
     "text": [
      "C:\\Users\\jorda\\AppData\\Local\\Temp\\ipykernel_22804\\774130799.py:5: PerformanceWarning: indexing past lexsort depth may impact performance.\n",
      "  sets = df_all.loc[routine, exercise].to_dict(orient=\"records\")\n",
      "C:\\Users\\jorda\\AppData\\Local\\Temp\\ipykernel_22804\\774130799.py:5: PerformanceWarning: indexing past lexsort depth may impact performance.\n",
      "  sets = df_all.loc[routine, exercise].to_dict(orient=\"records\")\n",
      "C:\\Users\\jorda\\AppData\\Local\\Temp\\ipykernel_22804\\774130799.py:5: PerformanceWarning: indexing past lexsort depth may impact performance.\n",
      "  sets = df_all.loc[routine, exercise].to_dict(orient=\"records\")\n",
      "C:\\Users\\jorda\\AppData\\Local\\Temp\\ipykernel_22804\\774130799.py:5: PerformanceWarning: indexing past lexsort depth may impact performance.\n",
      "  sets = df_all.loc[routine, exercise].to_dict(orient=\"records\")\n",
      "C:\\Users\\jorda\\AppData\\Local\\Temp\\ipykernel_22804\\774130799.py:5: PerformanceWarning: indexing past lexsort depth may impact performance.\n",
      "  sets = df_all.loc[routine, exercise].to_dict(orient=\"records\")\n",
      "C:\\Users\\jorda\\AppData\\Local\\Temp\\ipykernel_22804\\774130799.py:5: PerformanceWarning: indexing past lexsort depth may impact performance.\n",
      "  sets = df_all.loc[routine, exercise].to_dict(orient=\"records\")\n",
      "C:\\Users\\jorda\\AppData\\Local\\Temp\\ipykernel_22804\\774130799.py:5: PerformanceWarning: indexing past lexsort depth may impact performance.\n",
      "  sets = df_all.loc[routine, exercise].to_dict(orient=\"records\")\n"
     ]
    },
    {
     "name": "stdout",
     "output_type": "stream",
     "text": [
      "Created Routine Arm Block Arms\n",
      "Created Routine Arm Block Legs 2\n"
     ]
    },
    {
     "name": "stderr",
     "output_type": "stream",
     "text": [
      "C:\\Users\\jorda\\AppData\\Local\\Temp\\ipykernel_22804\\774130799.py:5: PerformanceWarning: indexing past lexsort depth may impact performance.\n",
      "  sets = df_all.loc[routine, exercise].to_dict(orient=\"records\")\n",
      "C:\\Users\\jorda\\AppData\\Local\\Temp\\ipykernel_22804\\774130799.py:5: PerformanceWarning: indexing past lexsort depth may impact performance.\n",
      "  sets = df_all.loc[routine, exercise].to_dict(orient=\"records\")\n",
      "C:\\Users\\jorda\\AppData\\Local\\Temp\\ipykernel_22804\\774130799.py:5: PerformanceWarning: indexing past lexsort depth may impact performance.\n",
      "  sets = df_all.loc[routine, exercise].to_dict(orient=\"records\")\n",
      "C:\\Users\\jorda\\AppData\\Local\\Temp\\ipykernel_22804\\774130799.py:5: PerformanceWarning: indexing past lexsort depth may impact performance.\n",
      "  sets = df_all.loc[routine, exercise].to_dict(orient=\"records\")\n"
     ]
    }
   ],
   "source": [
    "for routine in routines:\n",
    "    all_exercises = []\n",
    "    exercises = df_all.loc[routine].index.unique()\n",
    "    for exercise in exercises:\n",
    "        sets = df_all.loc[routine, exercise].to_dict(orient=\"records\")\n",
    "        data = {\"id\": exercise, \"planned_sets\": sets}\n",
    "        all_exercises.append(data)\n",
    "    try:\n",
    "        response = client.workout_routines.create_workout_routine(name=routine, exercises=all_exercises)\n",
    "        print(f\"Created Routine {routine}\")\n",
    "    except Exception as e:\n",
    "        print(e)"
   ]
  },
  {
   "cell_type": "markdown",
   "metadata": {},
   "source": [
    "# Workouts"
   ]
  },
  {
   "cell_type": "code",
   "execution_count": 15,
   "metadata": {},
   "outputs": [
    {
     "data": {
      "text/html": [
       "<div>\n",
       "<style scoped>\n",
       "    .dataframe tbody tr th:only-of-type {\n",
       "        vertical-align: middle;\n",
       "    }\n",
       "\n",
       "    .dataframe tbody tr th {\n",
       "        vertical-align: top;\n",
       "    }\n",
       "\n",
       "    .dataframe thead th {\n",
       "        text-align: right;\n",
       "    }\n",
       "</style>\n",
       "<table border=\"1\" class=\"dataframe\">\n",
       "  <thead>\n",
       "    <tr style=\"text-align: right;\">\n",
       "      <th></th>\n",
       "      <th>workoutroutine</th>\n",
       "      <th>date</th>\n",
       "      <th>exercise</th>\n",
       "      <th>weight</th>\n",
       "      <th>reps</th>\n",
       "    </tr>\n",
       "  </thead>\n",
       "  <tbody>\n",
       "    <tr>\n",
       "      <th>0</th>\n",
       "      <td>Hypertrophy Legs</td>\n",
       "      <td>2023-04-22</td>\n",
       "      <td>Lying Leg Curls</td>\n",
       "      <td>35.0</td>\n",
       "      <td>16</td>\n",
       "    </tr>\n",
       "    <tr>\n",
       "      <th>1</th>\n",
       "      <td>Hypertrophy Legs</td>\n",
       "      <td>2023-04-22</td>\n",
       "      <td>Lying Leg Curls</td>\n",
       "      <td>35.0</td>\n",
       "      <td>16</td>\n",
       "    </tr>\n",
       "    <tr>\n",
       "      <th>2</th>\n",
       "      <td>Hypertrophy Legs</td>\n",
       "      <td>2023-04-22</td>\n",
       "      <td>Lying Leg Curls</td>\n",
       "      <td>35.0</td>\n",
       "      <td>10</td>\n",
       "    </tr>\n",
       "    <tr>\n",
       "      <th>3</th>\n",
       "      <td>Hypertrophy Legs</td>\n",
       "      <td>2023-04-22</td>\n",
       "      <td>Hack Squat</td>\n",
       "      <td>60.0</td>\n",
       "      <td>8</td>\n",
       "    </tr>\n",
       "    <tr>\n",
       "      <th>4</th>\n",
       "      <td>Hypertrophy Legs</td>\n",
       "      <td>2023-04-22</td>\n",
       "      <td>Hack Squat</td>\n",
       "      <td>60.0</td>\n",
       "      <td>6</td>\n",
       "    </tr>\n",
       "  </tbody>\n",
       "</table>\n",
       "</div>"
      ],
      "text/plain": [
       "     workoutroutine       date         exercise  weight  reps\n",
       "0  Hypertrophy Legs 2023-04-22  Lying Leg Curls    35.0    16\n",
       "1  Hypertrophy Legs 2023-04-22  Lying Leg Curls    35.0    16\n",
       "2  Hypertrophy Legs 2023-04-22  Lying Leg Curls    35.0    10\n",
       "3  Hypertrophy Legs 2023-04-22       Hack Squat    60.0     8\n",
       "4  Hypertrophy Legs 2023-04-22       Hack Squat    60.0     6"
      ]
     },
     "execution_count": 15,
     "metadata": {},
     "output_type": "execute_result"
    }
   ],
   "source": [
    "df = pd.read_excel(DATA_DIR / \"setup.xlsx\", sheet_name=\"workouts\")\n",
    "df = df.rename(columns={\"name\": \"routine_name\"})\n",
    "df.head()"
   ]
  },
  {
   "cell_type": "code",
   "execution_count": 16,
   "metadata": {},
   "outputs": [],
   "source": [
    "dates = df[\"date\"].unique()\n",
    "dates = [str(date.date()) for date in dates]"
   ]
  },
  {
   "cell_type": "code",
   "execution_count": 17,
   "metadata": {},
   "outputs": [
    {
     "data": {
      "text/html": [
       "<div>\n",
       "<style scoped>\n",
       "    .dataframe tbody tr th:only-of-type {\n",
       "        vertical-align: middle;\n",
       "    }\n",
       "\n",
       "    .dataframe tbody tr th {\n",
       "        vertical-align: top;\n",
       "    }\n",
       "\n",
       "    .dataframe thead th {\n",
       "        text-align: right;\n",
       "    }\n",
       "</style>\n",
       "<table border=\"1\" class=\"dataframe\">\n",
       "  <thead>\n",
       "    <tr style=\"text-align: right;\">\n",
       "      <th></th>\n",
       "      <th>exercise_name</th>\n",
       "      <th>exercise_id</th>\n",
       "    </tr>\n",
       "  </thead>\n",
       "  <tbody>\n",
       "    <tr>\n",
       "      <th>0</th>\n",
       "      <td>bench press</td>\n",
       "      <td>1</td>\n",
       "    </tr>\n",
       "    <tr>\n",
       "      <th>1</th>\n",
       "      <td>lean-in cable row</td>\n",
       "      <td>2</td>\n",
       "    </tr>\n",
       "    <tr>\n",
       "      <th>2</th>\n",
       "      <td>dumbbell shoulder press neutral grip</td>\n",
       "      <td>3</td>\n",
       "    </tr>\n",
       "    <tr>\n",
       "      <th>3</th>\n",
       "      <td>lat pulldown neutral grip</td>\n",
       "      <td>4</td>\n",
       "    </tr>\n",
       "    <tr>\n",
       "      <th>4</th>\n",
       "      <td>rope hammer curls</td>\n",
       "      <td>5</td>\n",
       "    </tr>\n",
       "  </tbody>\n",
       "</table>\n",
       "</div>"
      ],
      "text/plain": [
       "                          exercise_name  exercise_id\n",
       "0                           bench press            1\n",
       "1                     lean-in cable row            2\n",
       "2  dumbbell shoulder press neutral grip            3\n",
       "3             lat pulldown neutral grip            4\n",
       "4                     rope hammer curls            5"
      ]
     },
     "execution_count": 17,
     "metadata": {},
     "output_type": "execute_result"
    }
   ],
   "source": [
    "exs = pd.DataFrame(client.exercises.get_exercises())\n",
    "exs = exs.rename(columns={\"id\": \"exercise_id\", \"name\": \"exercise_name\"})\n",
    "exs.head()"
   ]
  },
  {
   "cell_type": "code",
   "execution_count": 18,
   "metadata": {},
   "outputs": [
    {
     "data": {
      "text/html": [
       "<div>\n",
       "<style scoped>\n",
       "    .dataframe tbody tr th:only-of-type {\n",
       "        vertical-align: middle;\n",
       "    }\n",
       "\n",
       "    .dataframe tbody tr th {\n",
       "        vertical-align: top;\n",
       "    }\n",
       "\n",
       "    .dataframe thead th {\n",
       "        text-align: right;\n",
       "    }\n",
       "</style>\n",
       "<table border=\"1\" class=\"dataframe\">\n",
       "  <thead>\n",
       "    <tr style=\"text-align: right;\">\n",
       "      <th></th>\n",
       "      <th>routine_name</th>\n",
       "      <th>routine_id</th>\n",
       "      <th>routine_exercises</th>\n",
       "    </tr>\n",
       "  </thead>\n",
       "  <tbody>\n",
       "    <tr>\n",
       "      <th>0</th>\n",
       "      <td>wave loading 321 lower 1</td>\n",
       "      <td>1</td>\n",
       "      <td>[{'exercise': {'name': 'trap bar deadlift', 'i...</td>\n",
       "    </tr>\n",
       "    <tr>\n",
       "      <th>1</th>\n",
       "      <td>wave loading 321 upper 1</td>\n",
       "      <td>2</td>\n",
       "      <td>[{'exercise': {'name': 'bench press', 'id': 1}...</td>\n",
       "    </tr>\n",
       "    <tr>\n",
       "      <th>2</th>\n",
       "      <td>wave loading 321 lower 2</td>\n",
       "      <td>3</td>\n",
       "      <td>[{'exercise': {'name': 'barbell back squats', ...</td>\n",
       "    </tr>\n",
       "    <tr>\n",
       "      <th>3</th>\n",
       "      <td>wave loading 321 upper 2</td>\n",
       "      <td>4</td>\n",
       "      <td>[{'exercise': {'name': 'military press', 'id':...</td>\n",
       "    </tr>\n",
       "    <tr>\n",
       "      <th>4</th>\n",
       "      <td>wave loading 642 lower 1</td>\n",
       "      <td>5</td>\n",
       "      <td>[{'exercise': {'name': 'trap bar deadlift', 'i...</td>\n",
       "    </tr>\n",
       "  </tbody>\n",
       "</table>\n",
       "</div>"
      ],
      "text/plain": [
       "               routine_name  routine_id  \\\n",
       "0  wave loading 321 lower 1           1   \n",
       "1  wave loading 321 upper 1           2   \n",
       "2  wave loading 321 lower 2           3   \n",
       "3  wave loading 321 upper 2           4   \n",
       "4  wave loading 642 lower 1           5   \n",
       "\n",
       "                                   routine_exercises  \n",
       "0  [{'exercise': {'name': 'trap bar deadlift', 'i...  \n",
       "1  [{'exercise': {'name': 'bench press', 'id': 1}...  \n",
       "2  [{'exercise': {'name': 'barbell back squats', ...  \n",
       "3  [{'exercise': {'name': 'military press', 'id':...  \n",
       "4  [{'exercise': {'name': 'trap bar deadlift', 'i...  "
      ]
     },
     "execution_count": 18,
     "metadata": {},
     "output_type": "execute_result"
    }
   ],
   "source": [
    "routines = pd.DataFrame(client.workout_routines.get_workout_routines())\n",
    "routines = routines.rename(columns={\"name\": \"routine_name\", \"id\": \"routine_id\"})\n",
    "routines.head()"
   ]
  },
  {
   "cell_type": "code",
   "execution_count": 19,
   "metadata": {},
   "outputs": [
    {
     "data": {
      "text/html": [
       "<div>\n",
       "<style scoped>\n",
       "    .dataframe tbody tr th:only-of-type {\n",
       "        vertical-align: middle;\n",
       "    }\n",
       "\n",
       "    .dataframe tbody tr th {\n",
       "        vertical-align: top;\n",
       "    }\n",
       "\n",
       "    .dataframe thead th {\n",
       "        text-align: right;\n",
       "    }\n",
       "</style>\n",
       "<table border=\"1\" class=\"dataframe\">\n",
       "  <thead>\n",
       "    <tr style=\"text-align: right;\">\n",
       "      <th></th>\n",
       "      <th>workoutroutine</th>\n",
       "      <th>date</th>\n",
       "      <th>exercise</th>\n",
       "      <th>weight</th>\n",
       "      <th>reps</th>\n",
       "      <th>exercise_lower</th>\n",
       "      <th>workoutroutine_lower</th>\n",
       "    </tr>\n",
       "  </thead>\n",
       "  <tbody>\n",
       "    <tr>\n",
       "      <th>0</th>\n",
       "      <td>Hypertrophy Legs</td>\n",
       "      <td>2023-04-22</td>\n",
       "      <td>Lying Leg Curls</td>\n",
       "      <td>35.0</td>\n",
       "      <td>16</td>\n",
       "      <td>lying leg curls</td>\n",
       "      <td>hypertrophy legs</td>\n",
       "    </tr>\n",
       "    <tr>\n",
       "      <th>1</th>\n",
       "      <td>Hypertrophy Legs</td>\n",
       "      <td>2023-04-22</td>\n",
       "      <td>Lying Leg Curls</td>\n",
       "      <td>35.0</td>\n",
       "      <td>16</td>\n",
       "      <td>lying leg curls</td>\n",
       "      <td>hypertrophy legs</td>\n",
       "    </tr>\n",
       "    <tr>\n",
       "      <th>2</th>\n",
       "      <td>Hypertrophy Legs</td>\n",
       "      <td>2023-04-22</td>\n",
       "      <td>Lying Leg Curls</td>\n",
       "      <td>35.0</td>\n",
       "      <td>10</td>\n",
       "      <td>lying leg curls</td>\n",
       "      <td>hypertrophy legs</td>\n",
       "    </tr>\n",
       "    <tr>\n",
       "      <th>3</th>\n",
       "      <td>Hypertrophy Legs</td>\n",
       "      <td>2023-04-22</td>\n",
       "      <td>Hack Squat</td>\n",
       "      <td>60.0</td>\n",
       "      <td>8</td>\n",
       "      <td>hack squat</td>\n",
       "      <td>hypertrophy legs</td>\n",
       "    </tr>\n",
       "    <tr>\n",
       "      <th>4</th>\n",
       "      <td>Hypertrophy Legs</td>\n",
       "      <td>2023-04-22</td>\n",
       "      <td>Hack Squat</td>\n",
       "      <td>60.0</td>\n",
       "      <td>6</td>\n",
       "      <td>hack squat</td>\n",
       "      <td>hypertrophy legs</td>\n",
       "    </tr>\n",
       "  </tbody>\n",
       "</table>\n",
       "</div>"
      ],
      "text/plain": [
       "     workoutroutine       date         exercise  weight  reps  \\\n",
       "0  Hypertrophy Legs 2023-04-22  Lying Leg Curls    35.0    16   \n",
       "1  Hypertrophy Legs 2023-04-22  Lying Leg Curls    35.0    16   \n",
       "2  Hypertrophy Legs 2023-04-22  Lying Leg Curls    35.0    10   \n",
       "3  Hypertrophy Legs 2023-04-22       Hack Squat    60.0     8   \n",
       "4  Hypertrophy Legs 2023-04-22       Hack Squat    60.0     6   \n",
       "\n",
       "    exercise_lower workoutroutine_lower  \n",
       "0  lying leg curls     hypertrophy legs  \n",
       "1  lying leg curls     hypertrophy legs  \n",
       "2  lying leg curls     hypertrophy legs  \n",
       "3       hack squat     hypertrophy legs  \n",
       "4       hack squat     hypertrophy legs  "
      ]
     },
     "execution_count": 19,
     "metadata": {},
     "output_type": "execute_result"
    }
   ],
   "source": [
    "df[\"exercise_lower\"] = df.exercise.str.lower()\n",
    "df[\"workoutroutine_lower\"] = df.workoutroutine.str.lower()\n",
    "df.head()"
   ]
  },
  {
   "cell_type": "code",
   "execution_count": 20,
   "metadata": {},
   "outputs": [
    {
     "data": {
      "text/html": [
       "<div>\n",
       "<style scoped>\n",
       "    .dataframe tbody tr th:only-of-type {\n",
       "        vertical-align: middle;\n",
       "    }\n",
       "\n",
       "    .dataframe tbody tr th {\n",
       "        vertical-align: top;\n",
       "    }\n",
       "\n",
       "    .dataframe thead th {\n",
       "        text-align: right;\n",
       "    }\n",
       "</style>\n",
       "<table border=\"1\" class=\"dataframe\">\n",
       "  <thead>\n",
       "    <tr style=\"text-align: right;\">\n",
       "      <th></th>\n",
       "      <th></th>\n",
       "      <th></th>\n",
       "      <th>weight</th>\n",
       "      <th>reps</th>\n",
       "    </tr>\n",
       "    <tr>\n",
       "      <th>date</th>\n",
       "      <th>routine_id</th>\n",
       "      <th>exercise_id</th>\n",
       "      <th></th>\n",
       "      <th></th>\n",
       "    </tr>\n",
       "  </thead>\n",
       "  <tbody>\n",
       "    <tr>\n",
       "      <th rowspan=\"5\" valign=\"top\">2023-04-22</th>\n",
       "      <th rowspan=\"5\" valign=\"top\">9</th>\n",
       "      <th>23</th>\n",
       "      <td>35.0</td>\n",
       "      <td>16</td>\n",
       "    </tr>\n",
       "    <tr>\n",
       "      <th>23</th>\n",
       "      <td>35.0</td>\n",
       "      <td>16</td>\n",
       "    </tr>\n",
       "    <tr>\n",
       "      <th>23</th>\n",
       "      <td>35.0</td>\n",
       "      <td>10</td>\n",
       "    </tr>\n",
       "    <tr>\n",
       "      <th>26</th>\n",
       "      <td>60.0</td>\n",
       "      <td>8</td>\n",
       "    </tr>\n",
       "    <tr>\n",
       "      <th>26</th>\n",
       "      <td>60.0</td>\n",
       "      <td>6</td>\n",
       "    </tr>\n",
       "    <tr>\n",
       "      <th>...</th>\n",
       "      <th>...</th>\n",
       "      <th>...</th>\n",
       "      <td>...</td>\n",
       "      <td>...</td>\n",
       "    </tr>\n",
       "    <tr>\n",
       "      <th rowspan=\"5\" valign=\"top\">2024-11-18</th>\n",
       "      <th rowspan=\"5\" valign=\"top\">12</th>\n",
       "      <th>8</th>\n",
       "      <td>20.0</td>\n",
       "      <td>20</td>\n",
       "    </tr>\n",
       "    <tr>\n",
       "      <th>8</th>\n",
       "      <td>22.5</td>\n",
       "      <td>14</td>\n",
       "    </tr>\n",
       "    <tr>\n",
       "      <th>8</th>\n",
       "      <td>20.0</td>\n",
       "      <td>17</td>\n",
       "    </tr>\n",
       "    <tr>\n",
       "      <th>39</th>\n",
       "      <td>0.0</td>\n",
       "      <td>17</td>\n",
       "    </tr>\n",
       "    <tr>\n",
       "      <th>39</th>\n",
       "      <td>0.0</td>\n",
       "      <td>13</td>\n",
       "    </tr>\n",
       "  </tbody>\n",
       "</table>\n",
       "<p>296 rows × 2 columns</p>\n",
       "</div>"
      ],
      "text/plain": [
       "                                   weight  reps\n",
       "date       routine_id exercise_id              \n",
       "2023-04-22 9          23             35.0    16\n",
       "                      23             35.0    16\n",
       "                      23             35.0    10\n",
       "                      26             60.0     8\n",
       "                      26             60.0     6\n",
       "...                                   ...   ...\n",
       "2024-11-18 12         8              20.0    20\n",
       "                      8              22.5    14\n",
       "                      8              20.0    17\n",
       "                      39              0.0    17\n",
       "                      39              0.0    13\n",
       "\n",
       "[296 rows x 2 columns]"
      ]
     },
     "execution_count": 20,
     "metadata": {},
     "output_type": "execute_result"
    }
   ],
   "source": [
    "df_all = df.merge(right=exs, left_on=\"exercise_lower\", right_on=\"exercise_name\")\n",
    "df_all = df_all.merge(right=routines, left_on=\"workoutroutine_lower\", right_on=\"routine_name\")[[\"date\", \"weight\", \"reps\", \"routine_id\", \"exercise_id\"]]\n",
    "df_all = df_all.set_index([\"date\", \"routine_id\", \"exercise_id\"])\n",
    "df_all"
   ]
  },
  {
   "cell_type": "code",
   "execution_count": 21,
   "metadata": {},
   "outputs": [
    {
     "name": "stderr",
     "output_type": "stream",
     "text": [
      "C:\\Users\\jorda\\AppData\\Local\\Temp\\ipykernel_22804\\2834727724.py:6: PerformanceWarning: indexing past lexsort depth may impact performance.\n",
      "  exercises = df_all.loc[(date, routine)].index.unique()\n",
      "C:\\Users\\jorda\\AppData\\Local\\Temp\\ipykernel_22804\\2834727724.py:8: PerformanceWarning: indexing past lexsort depth may impact performance.\n",
      "  sets = df_all.loc[(date, routine, exercise)].to_dict(orient=\"records\")\n",
      "C:\\Users\\jorda\\AppData\\Local\\Temp\\ipykernel_22804\\2834727724.py:8: PerformanceWarning: indexing past lexsort depth may impact performance.\n",
      "  sets = df_all.loc[(date, routine, exercise)].to_dict(orient=\"records\")\n",
      "C:\\Users\\jorda\\AppData\\Local\\Temp\\ipykernel_22804\\2834727724.py:8: PerformanceWarning: indexing past lexsort depth may impact performance.\n",
      "  sets = df_all.loc[(date, routine, exercise)].to_dict(orient=\"records\")\n",
      "C:\\Users\\jorda\\AppData\\Local\\Temp\\ipykernel_22804\\2834727724.py:8: PerformanceWarning: indexing past lexsort depth may impact performance.\n",
      "  sets = df_all.loc[(date, routine, exercise)].to_dict(orient=\"records\")\n",
      "C:\\Users\\jorda\\AppData\\Local\\Temp\\ipykernel_22804\\2834727724.py:6: PerformanceWarning: indexing past lexsort depth may impact performance.\n",
      "  exercises = df_all.loc[(date, routine)].index.unique()\n",
      "C:\\Users\\jorda\\AppData\\Local\\Temp\\ipykernel_22804\\2834727724.py:8: PerformanceWarning: indexing past lexsort depth may impact performance.\n",
      "  sets = df_all.loc[(date, routine, exercise)].to_dict(orient=\"records\")\n",
      "C:\\Users\\jorda\\AppData\\Local\\Temp\\ipykernel_22804\\2834727724.py:8: PerformanceWarning: indexing past lexsort depth may impact performance.\n",
      "  sets = df_all.loc[(date, routine, exercise)].to_dict(orient=\"records\")\n",
      "C:\\Users\\jorda\\AppData\\Local\\Temp\\ipykernel_22804\\2834727724.py:8: PerformanceWarning: indexing past lexsort depth may impact performance.\n",
      "  sets = df_all.loc[(date, routine, exercise)].to_dict(orient=\"records\")\n",
      "C:\\Users\\jorda\\AppData\\Local\\Temp\\ipykernel_22804\\2834727724.py:8: PerformanceWarning: indexing past lexsort depth may impact performance.\n",
      "  sets = df_all.loc[(date, routine, exercise)].to_dict(orient=\"records\")\n",
      "C:\\Users\\jorda\\AppData\\Local\\Temp\\ipykernel_22804\\2834727724.py:8: PerformanceWarning: indexing past lexsort depth may impact performance.\n",
      "  sets = df_all.loc[(date, routine, exercise)].to_dict(orient=\"records\")\n",
      "C:\\Users\\jorda\\AppData\\Local\\Temp\\ipykernel_22804\\2834727724.py:8: PerformanceWarning: indexing past lexsort depth may impact performance.\n",
      "  sets = df_all.loc[(date, routine, exercise)].to_dict(orient=\"records\")\n",
      "C:\\Users\\jorda\\AppData\\Local\\Temp\\ipykernel_22804\\2834727724.py:8: PerformanceWarning: indexing past lexsort depth may impact performance.\n",
      "  sets = df_all.loc[(date, routine, exercise)].to_dict(orient=\"records\")\n"
     ]
    },
    {
     "name": "stdout",
     "output_type": "stream",
     "text": [
      "Created Workout for date 2023-04-22\n",
      "Created Workout for date 2023-04-21\n"
     ]
    },
    {
     "name": "stderr",
     "output_type": "stream",
     "text": [
      "C:\\Users\\jorda\\AppData\\Local\\Temp\\ipykernel_22804\\2834727724.py:6: PerformanceWarning: indexing past lexsort depth may impact performance.\n",
      "  exercises = df_all.loc[(date, routine)].index.unique()\n",
      "C:\\Users\\jorda\\AppData\\Local\\Temp\\ipykernel_22804\\2834727724.py:8: PerformanceWarning: indexing past lexsort depth may impact performance.\n",
      "  sets = df_all.loc[(date, routine, exercise)].to_dict(orient=\"records\")\n",
      "C:\\Users\\jorda\\AppData\\Local\\Temp\\ipykernel_22804\\2834727724.py:8: PerformanceWarning: indexing past lexsort depth may impact performance.\n",
      "  sets = df_all.loc[(date, routine, exercise)].to_dict(orient=\"records\")\n",
      "C:\\Users\\jorda\\AppData\\Local\\Temp\\ipykernel_22804\\2834727724.py:8: PerformanceWarning: indexing past lexsort depth may impact performance.\n",
      "  sets = df_all.loc[(date, routine, exercise)].to_dict(orient=\"records\")\n",
      "C:\\Users\\jorda\\AppData\\Local\\Temp\\ipykernel_22804\\2834727724.py:8: PerformanceWarning: indexing past lexsort depth may impact performance.\n",
      "  sets = df_all.loc[(date, routine, exercise)].to_dict(orient=\"records\")\n",
      "C:\\Users\\jorda\\AppData\\Local\\Temp\\ipykernel_22804\\2834727724.py:8: PerformanceWarning: indexing past lexsort depth may impact performance.\n",
      "  sets = df_all.loc[(date, routine, exercise)].to_dict(orient=\"records\")\n",
      "C:\\Users\\jorda\\AppData\\Local\\Temp\\ipykernel_22804\\2834727724.py:8: PerformanceWarning: indexing past lexsort depth may impact performance.\n",
      "  sets = df_all.loc[(date, routine, exercise)].to_dict(orient=\"records\")\n"
     ]
    },
    {
     "name": "stdout",
     "output_type": "stream",
     "text": [
      "Created Workout for date 2024-10-28\n"
     ]
    },
    {
     "name": "stderr",
     "output_type": "stream",
     "text": [
      "C:\\Users\\jorda\\AppData\\Local\\Temp\\ipykernel_22804\\2834727724.py:6: PerformanceWarning: indexing past lexsort depth may impact performance.\n",
      "  exercises = df_all.loc[(date, routine)].index.unique()\n",
      "C:\\Users\\jorda\\AppData\\Local\\Temp\\ipykernel_22804\\2834727724.py:8: PerformanceWarning: indexing past lexsort depth may impact performance.\n",
      "  sets = df_all.loc[(date, routine, exercise)].to_dict(orient=\"records\")\n",
      "C:\\Users\\jorda\\AppData\\Local\\Temp\\ipykernel_22804\\2834727724.py:8: PerformanceWarning: indexing past lexsort depth may impact performance.\n",
      "  sets = df_all.loc[(date, routine, exercise)].to_dict(orient=\"records\")\n",
      "C:\\Users\\jorda\\AppData\\Local\\Temp\\ipykernel_22804\\2834727724.py:8: PerformanceWarning: indexing past lexsort depth may impact performance.\n",
      "  sets = df_all.loc[(date, routine, exercise)].to_dict(orient=\"records\")\n",
      "C:\\Users\\jorda\\AppData\\Local\\Temp\\ipykernel_22804\\2834727724.py:8: PerformanceWarning: indexing past lexsort depth may impact performance.\n",
      "  sets = df_all.loc[(date, routine, exercise)].to_dict(orient=\"records\")\n",
      "C:\\Users\\jorda\\AppData\\Local\\Temp\\ipykernel_22804\\2834727724.py:8: PerformanceWarning: indexing past lexsort depth may impact performance.\n",
      "  sets = df_all.loc[(date, routine, exercise)].to_dict(orient=\"records\")\n",
      "C:\\Users\\jorda\\AppData\\Local\\Temp\\ipykernel_22804\\2834727724.py:8: PerformanceWarning: indexing past lexsort depth may impact performance.\n",
      "  sets = df_all.loc[(date, routine, exercise)].to_dict(orient=\"records\")\n"
     ]
    },
    {
     "name": "stdout",
     "output_type": "stream",
     "text": [
      "Created Workout for date 2024-10-29\n"
     ]
    },
    {
     "name": "stderr",
     "output_type": "stream",
     "text": [
      "C:\\Users\\jorda\\AppData\\Local\\Temp\\ipykernel_22804\\2834727724.py:6: PerformanceWarning: indexing past lexsort depth may impact performance.\n",
      "  exercises = df_all.loc[(date, routine)].index.unique()\n",
      "C:\\Users\\jorda\\AppData\\Local\\Temp\\ipykernel_22804\\2834727724.py:8: PerformanceWarning: indexing past lexsort depth may impact performance.\n",
      "  sets = df_all.loc[(date, routine, exercise)].to_dict(orient=\"records\")\n",
      "C:\\Users\\jorda\\AppData\\Local\\Temp\\ipykernel_22804\\2834727724.py:8: PerformanceWarning: indexing past lexsort depth may impact performance.\n",
      "  sets = df_all.loc[(date, routine, exercise)].to_dict(orient=\"records\")\n",
      "C:\\Users\\jorda\\AppData\\Local\\Temp\\ipykernel_22804\\2834727724.py:8: PerformanceWarning: indexing past lexsort depth may impact performance.\n",
      "  sets = df_all.loc[(date, routine, exercise)].to_dict(orient=\"records\")\n",
      "C:\\Users\\jorda\\AppData\\Local\\Temp\\ipykernel_22804\\2834727724.py:8: PerformanceWarning: indexing past lexsort depth may impact performance.\n",
      "  sets = df_all.loc[(date, routine, exercise)].to_dict(orient=\"records\")\n",
      "C:\\Users\\jorda\\AppData\\Local\\Temp\\ipykernel_22804\\2834727724.py:8: PerformanceWarning: indexing past lexsort depth may impact performance.\n",
      "  sets = df_all.loc[(date, routine, exercise)].to_dict(orient=\"records\")\n"
     ]
    },
    {
     "name": "stdout",
     "output_type": "stream",
     "text": [
      "Created Workout for date 2024-10-30\n"
     ]
    },
    {
     "name": "stderr",
     "output_type": "stream",
     "text": [
      "C:\\Users\\jorda\\AppData\\Local\\Temp\\ipykernel_22804\\2834727724.py:6: PerformanceWarning: indexing past lexsort depth may impact performance.\n",
      "  exercises = df_all.loc[(date, routine)].index.unique()\n",
      "C:\\Users\\jorda\\AppData\\Local\\Temp\\ipykernel_22804\\2834727724.py:8: PerformanceWarning: indexing past lexsort depth may impact performance.\n",
      "  sets = df_all.loc[(date, routine, exercise)].to_dict(orient=\"records\")\n",
      "C:\\Users\\jorda\\AppData\\Local\\Temp\\ipykernel_22804\\2834727724.py:8: PerformanceWarning: indexing past lexsort depth may impact performance.\n",
      "  sets = df_all.loc[(date, routine, exercise)].to_dict(orient=\"records\")\n",
      "C:\\Users\\jorda\\AppData\\Local\\Temp\\ipykernel_22804\\2834727724.py:8: PerformanceWarning: indexing past lexsort depth may impact performance.\n",
      "  sets = df_all.loc[(date, routine, exercise)].to_dict(orient=\"records\")\n",
      "C:\\Users\\jorda\\AppData\\Local\\Temp\\ipykernel_22804\\2834727724.py:8: PerformanceWarning: indexing past lexsort depth may impact performance.\n",
      "  sets = df_all.loc[(date, routine, exercise)].to_dict(orient=\"records\")\n",
      "C:\\Users\\jorda\\AppData\\Local\\Temp\\ipykernel_22804\\2834727724.py:8: PerformanceWarning: indexing past lexsort depth may impact performance.\n",
      "  sets = df_all.loc[(date, routine, exercise)].to_dict(orient=\"records\")\n",
      "C:\\Users\\jorda\\AppData\\Local\\Temp\\ipykernel_22804\\2834727724.py:8: PerformanceWarning: indexing past lexsort depth may impact performance.\n",
      "  sets = df_all.loc[(date, routine, exercise)].to_dict(orient=\"records\")\n",
      "C:\\Users\\jorda\\AppData\\Local\\Temp\\ipykernel_22804\\2834727724.py:8: PerformanceWarning: indexing past lexsort depth may impact performance.\n",
      "  sets = df_all.loc[(date, routine, exercise)].to_dict(orient=\"records\")\n"
     ]
    },
    {
     "name": "stdout",
     "output_type": "stream",
     "text": [
      "Created Workout for date 2024-10-31\n"
     ]
    },
    {
     "name": "stderr",
     "output_type": "stream",
     "text": [
      "C:\\Users\\jorda\\AppData\\Local\\Temp\\ipykernel_22804\\2834727724.py:6: PerformanceWarning: indexing past lexsort depth may impact performance.\n",
      "  exercises = df_all.loc[(date, routine)].index.unique()\n",
      "C:\\Users\\jorda\\AppData\\Local\\Temp\\ipykernel_22804\\2834727724.py:8: PerformanceWarning: indexing past lexsort depth may impact performance.\n",
      "  sets = df_all.loc[(date, routine, exercise)].to_dict(orient=\"records\")\n",
      "C:\\Users\\jorda\\AppData\\Local\\Temp\\ipykernel_22804\\2834727724.py:8: PerformanceWarning: indexing past lexsort depth may impact performance.\n",
      "  sets = df_all.loc[(date, routine, exercise)].to_dict(orient=\"records\")\n",
      "C:\\Users\\jorda\\AppData\\Local\\Temp\\ipykernel_22804\\2834727724.py:8: PerformanceWarning: indexing past lexsort depth may impact performance.\n",
      "  sets = df_all.loc[(date, routine, exercise)].to_dict(orient=\"records\")\n",
      "C:\\Users\\jorda\\AppData\\Local\\Temp\\ipykernel_22804\\2834727724.py:8: PerformanceWarning: indexing past lexsort depth may impact performance.\n",
      "  sets = df_all.loc[(date, routine, exercise)].to_dict(orient=\"records\")\n"
     ]
    },
    {
     "name": "stdout",
     "output_type": "stream",
     "text": [
      "Created Workout for date 2024-11-02\n"
     ]
    },
    {
     "name": "stderr",
     "output_type": "stream",
     "text": [
      "C:\\Users\\jorda\\AppData\\Local\\Temp\\ipykernel_22804\\2834727724.py:6: PerformanceWarning: indexing past lexsort depth may impact performance.\n",
      "  exercises = df_all.loc[(date, routine)].index.unique()\n",
      "C:\\Users\\jorda\\AppData\\Local\\Temp\\ipykernel_22804\\2834727724.py:8: PerformanceWarning: indexing past lexsort depth may impact performance.\n",
      "  sets = df_all.loc[(date, routine, exercise)].to_dict(orient=\"records\")\n",
      "C:\\Users\\jorda\\AppData\\Local\\Temp\\ipykernel_22804\\2834727724.py:8: PerformanceWarning: indexing past lexsort depth may impact performance.\n",
      "  sets = df_all.loc[(date, routine, exercise)].to_dict(orient=\"records\")\n",
      "C:\\Users\\jorda\\AppData\\Local\\Temp\\ipykernel_22804\\2834727724.py:8: PerformanceWarning: indexing past lexsort depth may impact performance.\n",
      "  sets = df_all.loc[(date, routine, exercise)].to_dict(orient=\"records\")\n",
      "C:\\Users\\jorda\\AppData\\Local\\Temp\\ipykernel_22804\\2834727724.py:8: PerformanceWarning: indexing past lexsort depth may impact performance.\n",
      "  sets = df_all.loc[(date, routine, exercise)].to_dict(orient=\"records\")\n",
      "C:\\Users\\jorda\\AppData\\Local\\Temp\\ipykernel_22804\\2834727724.py:8: PerformanceWarning: indexing past lexsort depth may impact performance.\n",
      "  sets = df_all.loc[(date, routine, exercise)].to_dict(orient=\"records\")\n",
      "C:\\Users\\jorda\\AppData\\Local\\Temp\\ipykernel_22804\\2834727724.py:8: PerformanceWarning: indexing past lexsort depth may impact performance.\n",
      "  sets = df_all.loc[(date, routine, exercise)].to_dict(orient=\"records\")\n"
     ]
    },
    {
     "name": "stdout",
     "output_type": "stream",
     "text": [
      "Created Workout for date 2024-11-04\n"
     ]
    },
    {
     "name": "stderr",
     "output_type": "stream",
     "text": [
      "C:\\Users\\jorda\\AppData\\Local\\Temp\\ipykernel_22804\\2834727724.py:6: PerformanceWarning: indexing past lexsort depth may impact performance.\n",
      "  exercises = df_all.loc[(date, routine)].index.unique()\n",
      "C:\\Users\\jorda\\AppData\\Local\\Temp\\ipykernel_22804\\2834727724.py:8: PerformanceWarning: indexing past lexsort depth may impact performance.\n",
      "  sets = df_all.loc[(date, routine, exercise)].to_dict(orient=\"records\")\n",
      "C:\\Users\\jorda\\AppData\\Local\\Temp\\ipykernel_22804\\2834727724.py:8: PerformanceWarning: indexing past lexsort depth may impact performance.\n",
      "  sets = df_all.loc[(date, routine, exercise)].to_dict(orient=\"records\")\n",
      "C:\\Users\\jorda\\AppData\\Local\\Temp\\ipykernel_22804\\2834727724.py:8: PerformanceWarning: indexing past lexsort depth may impact performance.\n",
      "  sets = df_all.loc[(date, routine, exercise)].to_dict(orient=\"records\")\n",
      "C:\\Users\\jorda\\AppData\\Local\\Temp\\ipykernel_22804\\2834727724.py:8: PerformanceWarning: indexing past lexsort depth may impact performance.\n",
      "  sets = df_all.loc[(date, routine, exercise)].to_dict(orient=\"records\")\n",
      "C:\\Users\\jorda\\AppData\\Local\\Temp\\ipykernel_22804\\2834727724.py:8: PerformanceWarning: indexing past lexsort depth may impact performance.\n",
      "  sets = df_all.loc[(date, routine, exercise)].to_dict(orient=\"records\")\n",
      "C:\\Users\\jorda\\AppData\\Local\\Temp\\ipykernel_22804\\2834727724.py:8: PerformanceWarning: indexing past lexsort depth may impact performance.\n",
      "  sets = df_all.loc[(date, routine, exercise)].to_dict(orient=\"records\")\n"
     ]
    },
    {
     "name": "stdout",
     "output_type": "stream",
     "text": [
      "Created Workout for date 2024-11-05\n"
     ]
    },
    {
     "name": "stderr",
     "output_type": "stream",
     "text": [
      "C:\\Users\\jorda\\AppData\\Local\\Temp\\ipykernel_22804\\2834727724.py:6: PerformanceWarning: indexing past lexsort depth may impact performance.\n",
      "  exercises = df_all.loc[(date, routine)].index.unique()\n",
      "C:\\Users\\jorda\\AppData\\Local\\Temp\\ipykernel_22804\\2834727724.py:8: PerformanceWarning: indexing past lexsort depth may impact performance.\n",
      "  sets = df_all.loc[(date, routine, exercise)].to_dict(orient=\"records\")\n",
      "C:\\Users\\jorda\\AppData\\Local\\Temp\\ipykernel_22804\\2834727724.py:8: PerformanceWarning: indexing past lexsort depth may impact performance.\n",
      "  sets = df_all.loc[(date, routine, exercise)].to_dict(orient=\"records\")\n",
      "C:\\Users\\jorda\\AppData\\Local\\Temp\\ipykernel_22804\\2834727724.py:8: PerformanceWarning: indexing past lexsort depth may impact performance.\n",
      "  sets = df_all.loc[(date, routine, exercise)].to_dict(orient=\"records\")\n",
      "C:\\Users\\jorda\\AppData\\Local\\Temp\\ipykernel_22804\\2834727724.py:8: PerformanceWarning: indexing past lexsort depth may impact performance.\n",
      "  sets = df_all.loc[(date, routine, exercise)].to_dict(orient=\"records\")\n",
      "C:\\Users\\jorda\\AppData\\Local\\Temp\\ipykernel_22804\\2834727724.py:8: PerformanceWarning: indexing past lexsort depth may impact performance.\n",
      "  sets = df_all.loc[(date, routine, exercise)].to_dict(orient=\"records\")\n"
     ]
    },
    {
     "name": "stdout",
     "output_type": "stream",
     "text": [
      "Created Workout for date 2024-11-06\n"
     ]
    },
    {
     "name": "stderr",
     "output_type": "stream",
     "text": [
      "C:\\Users\\jorda\\AppData\\Local\\Temp\\ipykernel_22804\\2834727724.py:6: PerformanceWarning: indexing past lexsort depth may impact performance.\n",
      "  exercises = df_all.loc[(date, routine)].index.unique()\n",
      "C:\\Users\\jorda\\AppData\\Local\\Temp\\ipykernel_22804\\2834727724.py:8: PerformanceWarning: indexing past lexsort depth may impact performance.\n",
      "  sets = df_all.loc[(date, routine, exercise)].to_dict(orient=\"records\")\n",
      "C:\\Users\\jorda\\AppData\\Local\\Temp\\ipykernel_22804\\2834727724.py:8: PerformanceWarning: indexing past lexsort depth may impact performance.\n",
      "  sets = df_all.loc[(date, routine, exercise)].to_dict(orient=\"records\")\n",
      "C:\\Users\\jorda\\AppData\\Local\\Temp\\ipykernel_22804\\2834727724.py:8: PerformanceWarning: indexing past lexsort depth may impact performance.\n",
      "  sets = df_all.loc[(date, routine, exercise)].to_dict(orient=\"records\")\n",
      "C:\\Users\\jorda\\AppData\\Local\\Temp\\ipykernel_22804\\2834727724.py:8: PerformanceWarning: indexing past lexsort depth may impact performance.\n",
      "  sets = df_all.loc[(date, routine, exercise)].to_dict(orient=\"records\")\n",
      "C:\\Users\\jorda\\AppData\\Local\\Temp\\ipykernel_22804\\2834727724.py:8: PerformanceWarning: indexing past lexsort depth may impact performance.\n",
      "  sets = df_all.loc[(date, routine, exercise)].to_dict(orient=\"records\")\n",
      "C:\\Users\\jorda\\AppData\\Local\\Temp\\ipykernel_22804\\2834727724.py:8: PerformanceWarning: indexing past lexsort depth may impact performance.\n",
      "  sets = df_all.loc[(date, routine, exercise)].to_dict(orient=\"records\")\n",
      "C:\\Users\\jorda\\AppData\\Local\\Temp\\ipykernel_22804\\2834727724.py:8: PerformanceWarning: indexing past lexsort depth may impact performance.\n",
      "  sets = df_all.loc[(date, routine, exercise)].to_dict(orient=\"records\")\n"
     ]
    },
    {
     "name": "stdout",
     "output_type": "stream",
     "text": [
      "Created Workout for date 2024-10-08\n"
     ]
    },
    {
     "name": "stderr",
     "output_type": "stream",
     "text": [
      "C:\\Users\\jorda\\AppData\\Local\\Temp\\ipykernel_22804\\2834727724.py:6: PerformanceWarning: indexing past lexsort depth may impact performance.\n",
      "  exercises = df_all.loc[(date, routine)].index.unique()\n",
      "C:\\Users\\jorda\\AppData\\Local\\Temp\\ipykernel_22804\\2834727724.py:8: PerformanceWarning: indexing past lexsort depth may impact performance.\n",
      "  sets = df_all.loc[(date, routine, exercise)].to_dict(orient=\"records\")\n",
      "C:\\Users\\jorda\\AppData\\Local\\Temp\\ipykernel_22804\\2834727724.py:8: PerformanceWarning: indexing past lexsort depth may impact performance.\n",
      "  sets = df_all.loc[(date, routine, exercise)].to_dict(orient=\"records\")\n",
      "C:\\Users\\jorda\\AppData\\Local\\Temp\\ipykernel_22804\\2834727724.py:8: PerformanceWarning: indexing past lexsort depth may impact performance.\n",
      "  sets = df_all.loc[(date, routine, exercise)].to_dict(orient=\"records\")\n",
      "C:\\Users\\jorda\\AppData\\Local\\Temp\\ipykernel_22804\\2834727724.py:8: PerformanceWarning: indexing past lexsort depth may impact performance.\n",
      "  sets = df_all.loc[(date, routine, exercise)].to_dict(orient=\"records\")\n"
     ]
    },
    {
     "name": "stdout",
     "output_type": "stream",
     "text": [
      "Created Workout for date 2024-11-09\n"
     ]
    },
    {
     "name": "stderr",
     "output_type": "stream",
     "text": [
      "C:\\Users\\jorda\\AppData\\Local\\Temp\\ipykernel_22804\\2834727724.py:6: PerformanceWarning: indexing past lexsort depth may impact performance.\n",
      "  exercises = df_all.loc[(date, routine)].index.unique()\n",
      "C:\\Users\\jorda\\AppData\\Local\\Temp\\ipykernel_22804\\2834727724.py:8: PerformanceWarning: indexing past lexsort depth may impact performance.\n",
      "  sets = df_all.loc[(date, routine, exercise)].to_dict(orient=\"records\")\n",
      "C:\\Users\\jorda\\AppData\\Local\\Temp\\ipykernel_22804\\2834727724.py:8: PerformanceWarning: indexing past lexsort depth may impact performance.\n",
      "  sets = df_all.loc[(date, routine, exercise)].to_dict(orient=\"records\")\n",
      "C:\\Users\\jorda\\AppData\\Local\\Temp\\ipykernel_22804\\2834727724.py:8: PerformanceWarning: indexing past lexsort depth may impact performance.\n",
      "  sets = df_all.loc[(date, routine, exercise)].to_dict(orient=\"records\")\n",
      "C:\\Users\\jorda\\AppData\\Local\\Temp\\ipykernel_22804\\2834727724.py:8: PerformanceWarning: indexing past lexsort depth may impact performance.\n",
      "  sets = df_all.loc[(date, routine, exercise)].to_dict(orient=\"records\")\n",
      "C:\\Users\\jorda\\AppData\\Local\\Temp\\ipykernel_22804\\2834727724.py:8: PerformanceWarning: indexing past lexsort depth may impact performance.\n",
      "  sets = df_all.loc[(date, routine, exercise)].to_dict(orient=\"records\")\n"
     ]
    },
    {
     "name": "stdout",
     "output_type": "stream",
     "text": [
      "Created Workout for date 2024-11-11\n"
     ]
    },
    {
     "name": "stderr",
     "output_type": "stream",
     "text": [
      "C:\\Users\\jorda\\AppData\\Local\\Temp\\ipykernel_22804\\2834727724.py:6: PerformanceWarning: indexing past lexsort depth may impact performance.\n",
      "  exercises = df_all.loc[(date, routine)].index.unique()\n",
      "C:\\Users\\jorda\\AppData\\Local\\Temp\\ipykernel_22804\\2834727724.py:8: PerformanceWarning: indexing past lexsort depth may impact performance.\n",
      "  sets = df_all.loc[(date, routine, exercise)].to_dict(orient=\"records\")\n",
      "C:\\Users\\jorda\\AppData\\Local\\Temp\\ipykernel_22804\\2834727724.py:8: PerformanceWarning: indexing past lexsort depth may impact performance.\n",
      "  sets = df_all.loc[(date, routine, exercise)].to_dict(orient=\"records\")\n",
      "C:\\Users\\jorda\\AppData\\Local\\Temp\\ipykernel_22804\\2834727724.py:8: PerformanceWarning: indexing past lexsort depth may impact performance.\n",
      "  sets = df_all.loc[(date, routine, exercise)].to_dict(orient=\"records\")\n",
      "C:\\Users\\jorda\\AppData\\Local\\Temp\\ipykernel_22804\\2834727724.py:8: PerformanceWarning: indexing past lexsort depth may impact performance.\n",
      "  sets = df_all.loc[(date, routine, exercise)].to_dict(orient=\"records\")\n",
      "C:\\Users\\jorda\\AppData\\Local\\Temp\\ipykernel_22804\\2834727724.py:8: PerformanceWarning: indexing past lexsort depth may impact performance.\n",
      "  sets = df_all.loc[(date, routine, exercise)].to_dict(orient=\"records\")\n",
      "C:\\Users\\jorda\\AppData\\Local\\Temp\\ipykernel_22804\\2834727724.py:8: PerformanceWarning: indexing past lexsort depth may impact performance.\n",
      "  sets = df_all.loc[(date, routine, exercise)].to_dict(orient=\"records\")\n"
     ]
    },
    {
     "name": "stdout",
     "output_type": "stream",
     "text": [
      "Created Workout for date 2024-11-12\n"
     ]
    },
    {
     "name": "stderr",
     "output_type": "stream",
     "text": [
      "C:\\Users\\jorda\\AppData\\Local\\Temp\\ipykernel_22804\\2834727724.py:6: PerformanceWarning: indexing past lexsort depth may impact performance.\n",
      "  exercises = df_all.loc[(date, routine)].index.unique()\n",
      "C:\\Users\\jorda\\AppData\\Local\\Temp\\ipykernel_22804\\2834727724.py:8: PerformanceWarning: indexing past lexsort depth may impact performance.\n",
      "  sets = df_all.loc[(date, routine, exercise)].to_dict(orient=\"records\")\n",
      "C:\\Users\\jorda\\AppData\\Local\\Temp\\ipykernel_22804\\2834727724.py:8: PerformanceWarning: indexing past lexsort depth may impact performance.\n",
      "  sets = df_all.loc[(date, routine, exercise)].to_dict(orient=\"records\")\n",
      "C:\\Users\\jorda\\AppData\\Local\\Temp\\ipykernel_22804\\2834727724.py:8: PerformanceWarning: indexing past lexsort depth may impact performance.\n",
      "  sets = df_all.loc[(date, routine, exercise)].to_dict(orient=\"records\")\n",
      "C:\\Users\\jorda\\AppData\\Local\\Temp\\ipykernel_22804\\2834727724.py:8: PerformanceWarning: indexing past lexsort depth may impact performance.\n",
      "  sets = df_all.loc[(date, routine, exercise)].to_dict(orient=\"records\")\n",
      "C:\\Users\\jorda\\AppData\\Local\\Temp\\ipykernel_22804\\2834727724.py:8: PerformanceWarning: indexing past lexsort depth may impact performance.\n",
      "  sets = df_all.loc[(date, routine, exercise)].to_dict(orient=\"records\")\n",
      "C:\\Users\\jorda\\AppData\\Local\\Temp\\ipykernel_22804\\2834727724.py:8: PerformanceWarning: indexing past lexsort depth may impact performance.\n",
      "  sets = df_all.loc[(date, routine, exercise)].to_dict(orient=\"records\")\n"
     ]
    },
    {
     "name": "stdout",
     "output_type": "stream",
     "text": [
      "Created Workout for date 2024-11-13\n",
      "Created Workout for date 2024-11-14\n"
     ]
    },
    {
     "name": "stderr",
     "output_type": "stream",
     "text": [
      "C:\\Users\\jorda\\AppData\\Local\\Temp\\ipykernel_22804\\2834727724.py:6: PerformanceWarning: indexing past lexsort depth may impact performance.\n",
      "  exercises = df_all.loc[(date, routine)].index.unique()\n",
      "C:\\Users\\jorda\\AppData\\Local\\Temp\\ipykernel_22804\\2834727724.py:8: PerformanceWarning: indexing past lexsort depth may impact performance.\n",
      "  sets = df_all.loc[(date, routine, exercise)].to_dict(orient=\"records\")\n",
      "C:\\Users\\jorda\\AppData\\Local\\Temp\\ipykernel_22804\\2834727724.py:8: PerformanceWarning: indexing past lexsort depth may impact performance.\n",
      "  sets = df_all.loc[(date, routine, exercise)].to_dict(orient=\"records\")\n",
      "C:\\Users\\jorda\\AppData\\Local\\Temp\\ipykernel_22804\\2834727724.py:8: PerformanceWarning: indexing past lexsort depth may impact performance.\n",
      "  sets = df_all.loc[(date, routine, exercise)].to_dict(orient=\"records\")\n",
      "C:\\Users\\jorda\\AppData\\Local\\Temp\\ipykernel_22804\\2834727724.py:8: PerformanceWarning: indexing past lexsort depth may impact performance.\n",
      "  sets = df_all.loc[(date, routine, exercise)].to_dict(orient=\"records\")\n",
      "C:\\Users\\jorda\\AppData\\Local\\Temp\\ipykernel_22804\\2834727724.py:6: PerformanceWarning: indexing past lexsort depth may impact performance.\n",
      "  exercises = df_all.loc[(date, routine)].index.unique()\n",
      "C:\\Users\\jorda\\AppData\\Local\\Temp\\ipykernel_22804\\2834727724.py:8: PerformanceWarning: indexing past lexsort depth may impact performance.\n",
      "  sets = df_all.loc[(date, routine, exercise)].to_dict(orient=\"records\")\n",
      "C:\\Users\\jorda\\AppData\\Local\\Temp\\ipykernel_22804\\2834727724.py:8: PerformanceWarning: indexing past lexsort depth may impact performance.\n",
      "  sets = df_all.loc[(date, routine, exercise)].to_dict(orient=\"records\")\n",
      "C:\\Users\\jorda\\AppData\\Local\\Temp\\ipykernel_22804\\2834727724.py:8: PerformanceWarning: indexing past lexsort depth may impact performance.\n",
      "  sets = df_all.loc[(date, routine, exercise)].to_dict(orient=\"records\")\n",
      "C:\\Users\\jorda\\AppData\\Local\\Temp\\ipykernel_22804\\2834727724.py:8: PerformanceWarning: indexing past lexsort depth may impact performance.\n",
      "  sets = df_all.loc[(date, routine, exercise)].to_dict(orient=\"records\")\n",
      "C:\\Users\\jorda\\AppData\\Local\\Temp\\ipykernel_22804\\2834727724.py:8: PerformanceWarning: indexing past lexsort depth may impact performance.\n",
      "  sets = df_all.loc[(date, routine, exercise)].to_dict(orient=\"records\")\n",
      "C:\\Users\\jorda\\AppData\\Local\\Temp\\ipykernel_22804\\2834727724.py:8: PerformanceWarning: indexing past lexsort depth may impact performance.\n",
      "  sets = df_all.loc[(date, routine, exercise)].to_dict(orient=\"records\")\n",
      "C:\\Users\\jorda\\AppData\\Local\\Temp\\ipykernel_22804\\2834727724.py:8: PerformanceWarning: indexing past lexsort depth may impact performance.\n",
      "  sets = df_all.loc[(date, routine, exercise)].to_dict(orient=\"records\")\n"
     ]
    },
    {
     "name": "stdout",
     "output_type": "stream",
     "text": [
      "Created Workout for date 2024-11-15\n"
     ]
    },
    {
     "name": "stderr",
     "output_type": "stream",
     "text": [
      "C:\\Users\\jorda\\AppData\\Local\\Temp\\ipykernel_22804\\2834727724.py:6: PerformanceWarning: indexing past lexsort depth may impact performance.\n",
      "  exercises = df_all.loc[(date, routine)].index.unique()\n",
      "C:\\Users\\jorda\\AppData\\Local\\Temp\\ipykernel_22804\\2834727724.py:8: PerformanceWarning: indexing past lexsort depth may impact performance.\n",
      "  sets = df_all.loc[(date, routine, exercise)].to_dict(orient=\"records\")\n",
      "C:\\Users\\jorda\\AppData\\Local\\Temp\\ipykernel_22804\\2834727724.py:8: PerformanceWarning: indexing past lexsort depth may impact performance.\n",
      "  sets = df_all.loc[(date, routine, exercise)].to_dict(orient=\"records\")\n",
      "C:\\Users\\jorda\\AppData\\Local\\Temp\\ipykernel_22804\\2834727724.py:8: PerformanceWarning: indexing past lexsort depth may impact performance.\n",
      "  sets = df_all.loc[(date, routine, exercise)].to_dict(orient=\"records\")\n",
      "C:\\Users\\jorda\\AppData\\Local\\Temp\\ipykernel_22804\\2834727724.py:8: PerformanceWarning: indexing past lexsort depth may impact performance.\n",
      "  sets = df_all.loc[(date, routine, exercise)].to_dict(orient=\"records\")\n",
      "C:\\Users\\jorda\\AppData\\Local\\Temp\\ipykernel_22804\\2834727724.py:8: PerformanceWarning: indexing past lexsort depth may impact performance.\n",
      "  sets = df_all.loc[(date, routine, exercise)].to_dict(orient=\"records\")\n",
      "C:\\Users\\jorda\\AppData\\Local\\Temp\\ipykernel_22804\\2834727724.py:8: PerformanceWarning: indexing past lexsort depth may impact performance.\n",
      "  sets = df_all.loc[(date, routine, exercise)].to_dict(orient=\"records\")\n"
     ]
    },
    {
     "name": "stdout",
     "output_type": "stream",
     "text": [
      "Created Workout for date 2024-11-18\n"
     ]
    }
   ],
   "source": [
    "for date in dates:\n",
    "    all_workouts = []\n",
    "    routines = df_all.loc[date].index.get_level_values(0).unique()\n",
    "    for routine in routines:\n",
    "        all_exercises = []\n",
    "        exercises = df_all.loc[(date, routine)].index.unique()\n",
    "        for exercise in exercises:\n",
    "            sets = df_all.loc[(date, routine, exercise)].to_dict(orient=\"records\")\n",
    "            data = {\"id\": exercise, \"sets\": sets}\n",
    "            all_exercises.append(data)\n",
    "        try:\n",
    "            response = client.workouts.create_workout(date=str(date), exercises=all_exercises, workoutroutine_id=routine)\n",
    "            print(f\"Created Workout for date {date}\")\n",
    "        except Exception as e:\n",
    "            print(e)"
   ]
  }
 ],
 "metadata": {
  "kernelspec": {
   "display_name": "pybenchmark-Zfe2W2H7-py3.12",
   "language": "python",
   "name": "python3"
  },
  "language_info": {
   "codemirror_mode": {
    "name": "ipython",
    "version": 3
   },
   "file_extension": ".py",
   "mimetype": "text/x-python",
   "name": "python",
   "nbconvert_exporter": "python",
   "pygments_lexer": "ipython3",
   "version": "3.12.1"
  }
 },
 "nbformat": 4,
 "nbformat_minor": 2
}
