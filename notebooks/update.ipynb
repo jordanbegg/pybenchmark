{
 "cells": [
  {
   "cell_type": "code",
   "execution_count": 1,
   "metadata": {},
   "outputs": [],
   "source": [
    "from pathlib import Path\n",
    "\n",
    "import pandas as pd\n",
    "\n",
    "from pybenchmark.client import BenchmarkClient"
   ]
  },
  {
   "cell_type": "code",
   "execution_count": 2,
   "metadata": {},
   "outputs": [],
   "source": [
    "URL = \"https://benchmark-container-app.braveflower-04bf6ce2.uksouth.azurecontainerapps.io/\"\n",
    "DATA_DIR = Path(\"../resources\")"
   ]
  },
  {
   "cell_type": "code",
   "execution_count": 3,
   "metadata": {},
   "outputs": [],
   "source": [
    "client = BenchmarkClient(url=URL)"
   ]
  },
  {
   "cell_type": "markdown",
   "metadata": {},
   "source": [
    "# Workouts"
   ]
  },
  {
   "cell_type": "code",
   "execution_count": 23,
   "metadata": {},
   "outputs": [
    {
     "data": {
      "text/html": [
       "<div>\n",
       "<style scoped>\n",
       "    .dataframe tbody tr th:only-of-type {\n",
       "        vertical-align: middle;\n",
       "    }\n",
       "\n",
       "    .dataframe tbody tr th {\n",
       "        vertical-align: top;\n",
       "    }\n",
       "\n",
       "    .dataframe thead th {\n",
       "        text-align: right;\n",
       "    }\n",
       "</style>\n",
       "<table border=\"1\" class=\"dataframe\">\n",
       "  <thead>\n",
       "    <tr style=\"text-align: right;\">\n",
       "      <th></th>\n",
       "      <th>workoutroutine</th>\n",
       "      <th>date</th>\n",
       "      <th>exercise</th>\n",
       "      <th>weight</th>\n",
       "      <th>reps</th>\n",
       "    </tr>\n",
       "  </thead>\n",
       "  <tbody>\n",
       "    <tr>\n",
       "      <th>0</th>\n",
       "      <td>Hypertrophy Legs</td>\n",
       "      <td>2023-04-22</td>\n",
       "      <td>Lying Leg Curls</td>\n",
       "      <td>35.0</td>\n",
       "      <td>16</td>\n",
       "    </tr>\n",
       "    <tr>\n",
       "      <th>1</th>\n",
       "      <td>Hypertrophy Legs</td>\n",
       "      <td>2023-04-22</td>\n",
       "      <td>Lying Leg Curls</td>\n",
       "      <td>35.0</td>\n",
       "      <td>16</td>\n",
       "    </tr>\n",
       "    <tr>\n",
       "      <th>2</th>\n",
       "      <td>Hypertrophy Legs</td>\n",
       "      <td>2023-04-22</td>\n",
       "      <td>Lying Leg Curls</td>\n",
       "      <td>35.0</td>\n",
       "      <td>10</td>\n",
       "    </tr>\n",
       "    <tr>\n",
       "      <th>3</th>\n",
       "      <td>Hypertrophy Legs</td>\n",
       "      <td>2023-04-22</td>\n",
       "      <td>Hack Squat</td>\n",
       "      <td>60.0</td>\n",
       "      <td>8</td>\n",
       "    </tr>\n",
       "    <tr>\n",
       "      <th>4</th>\n",
       "      <td>Hypertrophy Legs</td>\n",
       "      <td>2023-04-22</td>\n",
       "      <td>Hack Squat</td>\n",
       "      <td>60.0</td>\n",
       "      <td>6</td>\n",
       "    </tr>\n",
       "  </tbody>\n",
       "</table>\n",
       "</div>"
      ],
      "text/plain": [
       "     workoutroutine       date         exercise  weight  reps\n",
       "0  Hypertrophy Legs 2023-04-22  Lying Leg Curls    35.0    16\n",
       "1  Hypertrophy Legs 2023-04-22  Lying Leg Curls    35.0    16\n",
       "2  Hypertrophy Legs 2023-04-22  Lying Leg Curls    35.0    10\n",
       "3  Hypertrophy Legs 2023-04-22       Hack Squat    60.0     8\n",
       "4  Hypertrophy Legs 2023-04-22       Hack Squat    60.0     6"
      ]
     },
     "execution_count": 23,
     "metadata": {},
     "output_type": "execute_result"
    }
   ],
   "source": [
    "df = pd.read_excel(DATA_DIR / \"setup.xlsx\", sheet_name=\"workouts\")\n",
    "df = df.rename(columns={\"name\": \"routine_name\"})\n",
    "df.head()"
   ]
  },
  {
   "cell_type": "code",
   "execution_count": 24,
   "metadata": {},
   "outputs": [
    {
     "data": {
      "text/html": [
       "<div>\n",
       "<style scoped>\n",
       "    .dataframe tbody tr th:only-of-type {\n",
       "        vertical-align: middle;\n",
       "    }\n",
       "\n",
       "    .dataframe tbody tr th {\n",
       "        vertical-align: top;\n",
       "    }\n",
       "\n",
       "    .dataframe thead th {\n",
       "        text-align: right;\n",
       "    }\n",
       "</style>\n",
       "<table border=\"1\" class=\"dataframe\">\n",
       "  <thead>\n",
       "    <tr style=\"text-align: right;\">\n",
       "      <th></th>\n",
       "      <th>workoutroutine</th>\n",
       "      <th>date</th>\n",
       "      <th>exercise</th>\n",
       "      <th>weight</th>\n",
       "      <th>reps</th>\n",
       "    </tr>\n",
       "  </thead>\n",
       "  <tbody>\n",
       "  </tbody>\n",
       "</table>\n",
       "</div>"
      ],
      "text/plain": [
       "Empty DataFrame\n",
       "Columns: [workoutroutine, date, exercise, weight, reps]\n",
       "Index: []"
      ]
     },
     "execution_count": 24,
     "metadata": {},
     "output_type": "execute_result"
    }
   ],
   "source": [
    "latest_workout_date = client.workouts.get_latest_workout()[\"date\"]\n",
    "df = df[df[\"date\"] > latest_workout_date]\n",
    "df.head()"
   ]
  },
  {
   "cell_type": "code",
   "execution_count": 25,
   "metadata": {},
   "outputs": [],
   "source": [
    "dates = df[\"date\"].unique()\n",
    "dates = [str(date.date()) for date in dates]"
   ]
  },
  {
   "cell_type": "code",
   "execution_count": 27,
   "metadata": {},
   "outputs": [
    {
     "data": {
      "text/html": [
       "<div>\n",
       "<style scoped>\n",
       "    .dataframe tbody tr th:only-of-type {\n",
       "        vertical-align: middle;\n",
       "    }\n",
       "\n",
       "    .dataframe tbody tr th {\n",
       "        vertical-align: top;\n",
       "    }\n",
       "\n",
       "    .dataframe thead th {\n",
       "        text-align: right;\n",
       "    }\n",
       "</style>\n",
       "<table border=\"1\" class=\"dataframe\">\n",
       "  <thead>\n",
       "    <tr style=\"text-align: right;\">\n",
       "      <th></th>\n",
       "      <th>exercise_name</th>\n",
       "      <th>exercise_id</th>\n",
       "    </tr>\n",
       "  </thead>\n",
       "  <tbody>\n",
       "    <tr>\n",
       "      <th>0</th>\n",
       "      <td>bench press</td>\n",
       "      <td>1</td>\n",
       "    </tr>\n",
       "    <tr>\n",
       "      <th>1</th>\n",
       "      <td>lean-in cable row</td>\n",
       "      <td>2</td>\n",
       "    </tr>\n",
       "    <tr>\n",
       "      <th>2</th>\n",
       "      <td>dumbbell shoulder press neutral grip</td>\n",
       "      <td>3</td>\n",
       "    </tr>\n",
       "    <tr>\n",
       "      <th>3</th>\n",
       "      <td>lat pulldown neutral grip</td>\n",
       "      <td>4</td>\n",
       "    </tr>\n",
       "    <tr>\n",
       "      <th>4</th>\n",
       "      <td>rope hammer curls</td>\n",
       "      <td>5</td>\n",
       "    </tr>\n",
       "  </tbody>\n",
       "</table>\n",
       "</div>"
      ],
      "text/plain": [
       "                          exercise_name  exercise_id\n",
       "0                           bench press            1\n",
       "1                     lean-in cable row            2\n",
       "2  dumbbell shoulder press neutral grip            3\n",
       "3             lat pulldown neutral grip            4\n",
       "4                     rope hammer curls            5"
      ]
     },
     "execution_count": 27,
     "metadata": {},
     "output_type": "execute_result"
    }
   ],
   "source": [
    "exs = pd.DataFrame(client.exercises.get_exercises())\n",
    "exs = exs.rename(columns={\"id\": \"exercise_id\", \"name\": \"exercise_name\"})\n",
    "exs.head()"
   ]
  },
  {
   "cell_type": "code",
   "execution_count": 28,
   "metadata": {},
   "outputs": [
    {
     "data": {
      "text/html": [
       "<div>\n",
       "<style scoped>\n",
       "    .dataframe tbody tr th:only-of-type {\n",
       "        vertical-align: middle;\n",
       "    }\n",
       "\n",
       "    .dataframe tbody tr th {\n",
       "        vertical-align: top;\n",
       "    }\n",
       "\n",
       "    .dataframe thead th {\n",
       "        text-align: right;\n",
       "    }\n",
       "</style>\n",
       "<table border=\"1\" class=\"dataframe\">\n",
       "  <thead>\n",
       "    <tr style=\"text-align: right;\">\n",
       "      <th></th>\n",
       "      <th>routine_name</th>\n",
       "      <th>routine_id</th>\n",
       "      <th>routine_exercises</th>\n",
       "    </tr>\n",
       "  </thead>\n",
       "  <tbody>\n",
       "    <tr>\n",
       "      <th>0</th>\n",
       "      <td>wave loading 321 lower 1</td>\n",
       "      <td>1</td>\n",
       "      <td>[{'exercise': {'name': 'trap bar deadlift', 'i...</td>\n",
       "    </tr>\n",
       "    <tr>\n",
       "      <th>1</th>\n",
       "      <td>wave loading 321 upper 1</td>\n",
       "      <td>2</td>\n",
       "      <td>[{'exercise': {'name': 'bench press', 'id': 1}...</td>\n",
       "    </tr>\n",
       "    <tr>\n",
       "      <th>2</th>\n",
       "      <td>wave loading 321 lower 2</td>\n",
       "      <td>3</td>\n",
       "      <td>[{'exercise': {'name': 'barbell back squats', ...</td>\n",
       "    </tr>\n",
       "    <tr>\n",
       "      <th>3</th>\n",
       "      <td>wave loading 321 upper 2</td>\n",
       "      <td>4</td>\n",
       "      <td>[{'exercise': {'name': 'military press', 'id':...</td>\n",
       "    </tr>\n",
       "    <tr>\n",
       "      <th>4</th>\n",
       "      <td>wave loading 642 lower 1</td>\n",
       "      <td>5</td>\n",
       "      <td>[{'exercise': {'name': 'trap bar deadlift', 'i...</td>\n",
       "    </tr>\n",
       "  </tbody>\n",
       "</table>\n",
       "</div>"
      ],
      "text/plain": [
       "               routine_name  routine_id  \\\n",
       "0  wave loading 321 lower 1           1   \n",
       "1  wave loading 321 upper 1           2   \n",
       "2  wave loading 321 lower 2           3   \n",
       "3  wave loading 321 upper 2           4   \n",
       "4  wave loading 642 lower 1           5   \n",
       "\n",
       "                                   routine_exercises  \n",
       "0  [{'exercise': {'name': 'trap bar deadlift', 'i...  \n",
       "1  [{'exercise': {'name': 'bench press', 'id': 1}...  \n",
       "2  [{'exercise': {'name': 'barbell back squats', ...  \n",
       "3  [{'exercise': {'name': 'military press', 'id':...  \n",
       "4  [{'exercise': {'name': 'trap bar deadlift', 'i...  "
      ]
     },
     "execution_count": 28,
     "metadata": {},
     "output_type": "execute_result"
    }
   ],
   "source": [
    "routines = pd.DataFrame(client.workout_routines.get_workout_routines())\n",
    "routines = routines.rename(columns={\"name\": \"routine_name\", \"id\": \"routine_id\"})\n",
    "routines.head()"
   ]
  },
  {
   "cell_type": "code",
   "execution_count": 29,
   "metadata": {},
   "outputs": [
    {
     "data": {
      "text/html": [
       "<div>\n",
       "<style scoped>\n",
       "    .dataframe tbody tr th:only-of-type {\n",
       "        vertical-align: middle;\n",
       "    }\n",
       "\n",
       "    .dataframe tbody tr th {\n",
       "        vertical-align: top;\n",
       "    }\n",
       "\n",
       "    .dataframe thead th {\n",
       "        text-align: right;\n",
       "    }\n",
       "</style>\n",
       "<table border=\"1\" class=\"dataframe\">\n",
       "  <thead>\n",
       "    <tr style=\"text-align: right;\">\n",
       "      <th></th>\n",
       "      <th>workoutroutine</th>\n",
       "      <th>date</th>\n",
       "      <th>exercise</th>\n",
       "      <th>weight</th>\n",
       "      <th>reps</th>\n",
       "      <th>exercise_lower</th>\n",
       "      <th>workoutroutine_lower</th>\n",
       "    </tr>\n",
       "  </thead>\n",
       "  <tbody>\n",
       "  </tbody>\n",
       "</table>\n",
       "</div>"
      ],
      "text/plain": [
       "Empty DataFrame\n",
       "Columns: [workoutroutine, date, exercise, weight, reps, exercise_lower, workoutroutine_lower]\n",
       "Index: []"
      ]
     },
     "execution_count": 29,
     "metadata": {},
     "output_type": "execute_result"
    }
   ],
   "source": [
    "df[\"exercise_lower\"] = df.exercise.str.lower()\n",
    "df[\"workoutroutine_lower\"] = df.workoutroutine.str.lower()\n",
    "df.head()"
   ]
  },
  {
   "cell_type": "code",
   "execution_count": 30,
   "metadata": {},
   "outputs": [
    {
     "data": {
      "text/html": [
       "<div>\n",
       "<style scoped>\n",
       "    .dataframe tbody tr th:only-of-type {\n",
       "        vertical-align: middle;\n",
       "    }\n",
       "\n",
       "    .dataframe tbody tr th {\n",
       "        vertical-align: top;\n",
       "    }\n",
       "\n",
       "    .dataframe thead th {\n",
       "        text-align: right;\n",
       "    }\n",
       "</style>\n",
       "<table border=\"1\" class=\"dataframe\">\n",
       "  <thead>\n",
       "    <tr style=\"text-align: right;\">\n",
       "      <th></th>\n",
       "      <th></th>\n",
       "      <th></th>\n",
       "      <th>weight</th>\n",
       "      <th>reps</th>\n",
       "    </tr>\n",
       "    <tr>\n",
       "      <th>date</th>\n",
       "      <th>routine_id</th>\n",
       "      <th>exercise_id</th>\n",
       "      <th></th>\n",
       "      <th></th>\n",
       "    </tr>\n",
       "  </thead>\n",
       "  <tbody>\n",
       "  </tbody>\n",
       "</table>\n",
       "</div>"
      ],
      "text/plain": [
       "Empty DataFrame\n",
       "Columns: [weight, reps]\n",
       "Index: []"
      ]
     },
     "execution_count": 30,
     "metadata": {},
     "output_type": "execute_result"
    }
   ],
   "source": [
    "df_all = df.merge(right=exs, left_on=\"exercise_lower\", right_on=\"exercise_name\")\n",
    "df_all = df_all.merge(right=routines, left_on=\"workoutroutine_lower\", right_on=\"routine_name\")[[\"date\", \"weight\", \"reps\", \"routine_id\", \"exercise_id\"]]\n",
    "df_all = df_all.set_index([\"date\", \"routine_id\", \"exercise_id\"])\n",
    "df_all"
   ]
  },
  {
   "cell_type": "code",
   "execution_count": null,
   "metadata": {},
   "outputs": [],
   "source": [
    "for date in dates:\n",
    "    all_workouts = []\n",
    "    routines = df_all.loc[date].index.get_level_values(0).unique()\n",
    "    for routine in routines:\n",
    "        all_exercises = []\n",
    "        exercises = df_all.loc[(date, routine)].index.unique()\n",
    "        for exercise in exercises:\n",
    "            sets = df_all.loc[(date, routine, exercise)].to_dict(orient=\"records\")\n",
    "            data = {\"id\": exercise, \"sets\": sets}\n",
    "            all_exercises.append(data)\n",
    "        try:\n",
    "            response = client.workouts.create_workout(date=str(date), exercises=all_exercises, workoutroutine_id=routine)\n",
    "            print(f\"Created Workout for date {date}\")\n",
    "        except Exception as e:\n",
    "            print(e)"
   ]
  }
 ],
 "metadata": {
  "kernelspec": {
   "display_name": "pybenchmark-Zfe2W2H7-py3.12",
   "language": "python",
   "name": "python3"
  },
  "language_info": {
   "codemirror_mode": {
    "name": "ipython",
    "version": 3
   },
   "file_extension": ".py",
   "mimetype": "text/x-python",
   "name": "python",
   "nbconvert_exporter": "python",
   "pygments_lexer": "ipython3",
   "version": "3.12.1"
  }
 },
 "nbformat": 4,
 "nbformat_minor": 2
}
