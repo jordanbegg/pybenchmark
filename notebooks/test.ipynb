{
 "cells": [
  {
   "cell_type": "code",
   "execution_count": 1,
   "metadata": {},
   "outputs": [],
   "source": [
    "from pybenchmark.client import BenchmarkClient"
   ]
  },
  {
   "cell_type": "code",
   "execution_count": 2,
   "metadata": {},
   "outputs": [],
   "source": [
    "url = \"http://127.0.0.1:8000\""
   ]
  },
  {
   "cell_type": "code",
   "execution_count": 3,
   "metadata": {},
   "outputs": [],
   "source": [
    "client = BenchmarkClient(url=url)"
   ]
  },
  {
   "cell_type": "code",
   "execution_count": 11,
   "metadata": {},
   "outputs": [
    {
     "data": {
      "text/plain": [
       "{'name': 'triceps', 'id': 2}"
      ]
     },
     "execution_count": 11,
     "metadata": {},
     "output_type": "execute_result"
    }
   ],
   "source": [
    "r = client.musclegroups.create_musclegroup(name=\"triceps\")\n",
    "r"
   ]
  },
  {
   "cell_type": "code",
   "execution_count": 5,
   "metadata": {},
   "outputs": [
    {
     "data": {
      "text/plain": [
       "{'name': 'chest', 'id': 1, 'exercises': []}"
      ]
     },
     "execution_count": 5,
     "metadata": {},
     "output_type": "execute_result"
    }
   ],
   "source": [
    "r = client.musclegroups.get_musclegroup(1)\n",
    "r"
   ]
  },
  {
   "cell_type": "code",
   "execution_count": 13,
   "metadata": {},
   "outputs": [
    {
     "data": {
      "text/plain": [
       "[{'name': 'biceps', 'id': 3},\n",
       " {'name': 'shoulders', 'id': 4},\n",
       " {'name': 'quadriceps', 'id': 5},\n",
       " {'name': 'hamstrings', 'id': 6},\n",
       " {'name': 'calves', 'id': 7},\n",
       " {'name': 'core', 'id': 8},\n",
       " {'name': 'back', 'id': 9},\n",
       " {'name': 'glutes', 'id': 10}]"
      ]
     },
     "execution_count": 13,
     "metadata": {},
     "output_type": "execute_result"
    }
   ],
   "source": [
    "r = client.musclegroups.get_musclegroups()\n",
    "r"
   ]
  },
  {
   "cell_type": "code",
   "execution_count": 6,
   "metadata": {},
   "outputs": [],
   "source": [
    "r = client.musclegroups.delete_musclegroup(2)\n",
    "r"
   ]
  },
  {
   "cell_type": "code",
   "execution_count": null,
   "metadata": {},
   "outputs": [
    {
     "data": {
      "text/plain": [
       "[]"
      ]
     },
     "execution_count": 10,
     "metadata": {},
     "output_type": "execute_result"
    }
   ],
   "source": [
    "r = client.musclegroups.get_musclegroups()\n",
    "r"
   ]
  },
  {
   "cell_type": "code",
   "execution_count": 15,
   "metadata": {},
   "outputs": [
    {
     "data": {
      "text/plain": [
       "[{'name': 'bench press', 'id': 1},\n",
       " {'name': 'lean-in cable row', 'id': 2},\n",
       " {'name': 'dumbbell shoulder press neutral grip', 'id': 3},\n",
       " {'name': 'lat pulldown neutral grip', 'id': 4},\n",
       " {'name': 'rope hammer curls', 'id': 5},\n",
       " {'name': 'cable lateral raises', 'id': 6},\n",
       " {'name': 'tricep pushdown', 'id': 7},\n",
       " {'name': 'v-bar pushdown', 'id': 8},\n",
       " {'name': 'barbell back squats', 'id': 9},\n",
       " {'name': 'barbell stiff leg deadlift', 'id': 10},\n",
       " {'name': 'dumbbell bulgarian split squats single arm', 'id': 11},\n",
       " {'name': 'hyperextensions', 'id': 12},\n",
       " {'name': 'rollouts', 'id': 13},\n",
       " {'name': 'military press', 'id': 14},\n",
       " {'name': 'pull ups neutral grip', 'id': 15},\n",
       " {'name': 'incline dumbbell bench press neutral grip', 'id': 16},\n",
       " {'name': 'dumbbell prone rows', 'id': 17},\n",
       " {'name': 'seated dumbbell hammer curls', 'id': 18},\n",
       " {'name': 'seated dumbbell lat raises', 'id': 19},\n",
       " {'name': 'dumbbell skull crushers', 'id': 20},\n",
       " {'name': 'trap bar deadlift', 'id': 21},\n",
       " {'name': 'dumbbell split squats', 'id': 22},\n",
       " {'name': 'lying leg curls', 'id': 23},\n",
       " {'name': 'leg press', 'id': 24},\n",
       " {'name': 'leg raises', 'id': 25},\n",
       " {'name': 'hack squat', 'id': 26},\n",
       " {'name': 'pendulum squat', 'id': 27},\n",
       " {'name': 'belt squat', 'id': 28},\n",
       " {'name': 'incline chest press machine', 'id': 29},\n",
       " {'name': 'chest press machine', 'id': 30},\n",
       " {'name': 'machine row', 'id': 31},\n",
       " {'name': 'cable flyes', 'id': 32},\n",
       " {'name': 'incline dumbbell curls', 'id': 33},\n",
       " {'name': 'california press', 'id': 34},\n",
       " {'name': 'pull ups supinated grip', 'id': 35},\n",
       " {'name': 'dips', 'id': 36},\n",
       " {'name': 'face pulls', 'id': 37},\n",
       " {'name': 'seated cable row', 'id': 38},\n",
       " {'name': 'press ups', 'id': 39},\n",
       " {'name': 'farmers walks', 'id': 40},\n",
       " {'name': 'romanian deadlift', 'id': 41},\n",
       " {'name': 'seated leg curls', 'id': 42},\n",
       " {'name': 'leg extensions', 'id': 43},\n",
       " {'name': 'dumbbell shoulder press pronated grip', 'id': 44},\n",
       " {'name': 'overhead tricep rope extension', 'id': 45},\n",
       " {'name': 'cable drag curls', 'id': 46},\n",
       " {'name': 'walking lunges', 'id': 47},\n",
       " {'name': 'lat pulldown overhand grip', 'id': 48}]"
      ]
     },
     "execution_count": 15,
     "metadata": {},
     "output_type": "execute_result"
    }
   ],
   "source": [
    "r = client.exercises.get_exercises()\n",
    "r"
   ]
  },
  {
   "cell_type": "code",
   "execution_count": 16,
   "metadata": {},
   "outputs": [],
   "source": [
    "for ex in r:\n",
    "    client.exercises.delete_exercise(exercise_id=ex[\"id\"])"
   ]
  },
  {
   "cell_type": "code",
   "execution_count": 23,
   "metadata": {},
   "outputs": [
    {
     "data": {
      "text/plain": [
       "[]"
      ]
     },
     "execution_count": 23,
     "metadata": {},
     "output_type": "execute_result"
    }
   ],
   "source": [
    "r = client.workout_routines.get_workout_routines()\n",
    "r"
   ]
  },
  {
   "cell_type": "code",
   "execution_count": 22,
   "metadata": {},
   "outputs": [],
   "source": [
    "for ex in r:\n",
    "    client.workout_routines.delete_workout_routine(workout_routine_id=ex[\"id\"])"
   ]
  },
  {
   "cell_type": "code",
   "execution_count": null,
   "metadata": {},
   "outputs": [],
   "source": []
  }
 ],
 "metadata": {
  "kernelspec": {
   "display_name": "pybenchmark-Zfe2W2H7-py3.12",
   "language": "python",
   "name": "python3"
  },
  "language_info": {
   "codemirror_mode": {
    "name": "ipython",
    "version": 3
   },
   "file_extension": ".py",
   "mimetype": "text/x-python",
   "name": "python",
   "nbconvert_exporter": "python",
   "pygments_lexer": "ipython3",
   "version": "3.12.1"
  }
 },
 "nbformat": 4,
 "nbformat_minor": 2
}
