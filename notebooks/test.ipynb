{
 "cells": [
  {
   "cell_type": "code",
   "execution_count": 1,
   "metadata": {},
   "outputs": [],
   "source": [
    "from pybenchmark.client import BenchmarkClient"
   ]
  },
  {
   "cell_type": "code",
   "execution_count": 2,
   "metadata": {},
   "outputs": [],
   "source": [
    "url = \"https://benchmark-container-app.braveflower-04bf6ce2.uksouth.azurecontainerapps.io/\""
   ]
  },
  {
   "cell_type": "code",
   "execution_count": 3,
   "metadata": {},
   "outputs": [],
   "source": [
    "client = BenchmarkClient(url=url)"
   ]
  },
  {
   "cell_type": "markdown",
   "metadata": {},
   "source": [
    "# Muscle Groups"
   ]
  },
  {
   "cell_type": "code",
   "execution_count": 4,
   "metadata": {},
   "outputs": [
    {
     "data": {
      "text/plain": [
       "[{'name': 'chest', 'id': 11},\n",
       " {'name': 'triceps', 'id': 12},\n",
       " {'name': 'biceps', 'id': 13},\n",
       " {'name': 'shoulders', 'id': 14},\n",
       " {'name': 'quadriceps', 'id': 15},\n",
       " {'name': 'hamstrings', 'id': 16},\n",
       " {'name': 'calves', 'id': 17},\n",
       " {'name': 'core', 'id': 18},\n",
       " {'name': 'back', 'id': 19},\n",
       " {'name': 'glutes', 'id': 20}]"
      ]
     },
     "execution_count": 4,
     "metadata": {},
     "output_type": "execute_result"
    }
   ],
   "source": [
    "r = client.musclegroups.get_musclegroups()\n",
    "r"
   ]
  },
  {
   "cell_type": "code",
   "execution_count": 5,
   "metadata": {},
   "outputs": [],
   "source": [
    "for mg in r:\n",
    "    client.musclegroups.delete_musclegroup(mg[\"id\"])"
   ]
  },
  {
   "cell_type": "markdown",
   "metadata": {},
   "source": [
    "# Exercises"
   ]
  },
  {
   "cell_type": "code",
   "execution_count": 6,
   "metadata": {},
   "outputs": [
    {
     "data": {
      "text/plain": [
       "[{'name': 'bench press', 'id': 49},\n",
       " {'name': 'lean-in cable row', 'id': 50},\n",
       " {'name': 'dumbbell shoulder press neutral grip', 'id': 51},\n",
       " {'name': 'lat pulldown neutral grip', 'id': 52},\n",
       " {'name': 'rope hammer curls', 'id': 53},\n",
       " {'name': 'cable lateral raises', 'id': 54},\n",
       " {'name': 'tricep pushdown', 'id': 55},\n",
       " {'name': 'v-bar pushdown', 'id': 56},\n",
       " {'name': 'barbell back squats', 'id': 57},\n",
       " {'name': 'barbell stiff leg deadlift', 'id': 58},\n",
       " {'name': 'dumbbell bulgarian split squats single arm', 'id': 59},\n",
       " {'name': 'hyperextensions', 'id': 60},\n",
       " {'name': 'rollouts', 'id': 61},\n",
       " {'name': 'military press', 'id': 62},\n",
       " {'name': 'pull ups neutral grip', 'id': 63},\n",
       " {'name': 'incline dumbbell bench press neutral grip', 'id': 64},\n",
       " {'name': 'dumbbell prone rows', 'id': 65},\n",
       " {'name': 'seated dumbbell hammer curls', 'id': 66},\n",
       " {'name': 'seated dumbbell lat raises', 'id': 67},\n",
       " {'name': 'dumbbell skull crushers', 'id': 68},\n",
       " {'name': 'trap bar deadlift', 'id': 69},\n",
       " {'name': 'dumbbell split squats', 'id': 70},\n",
       " {'name': 'lying leg curls', 'id': 71},\n",
       " {'name': 'leg press', 'id': 72},\n",
       " {'name': 'leg raises', 'id': 73},\n",
       " {'name': 'hack squat', 'id': 74},\n",
       " {'name': 'pendulum squat', 'id': 75},\n",
       " {'name': 'belt squat', 'id': 76},\n",
       " {'name': 'incline chest press machine', 'id': 77},\n",
       " {'name': 'chest press machine', 'id': 78},\n",
       " {'name': 'machine row', 'id': 79},\n",
       " {'name': 'cable flyes', 'id': 80},\n",
       " {'name': 'incline dumbbell curls', 'id': 81},\n",
       " {'name': 'california press', 'id': 82},\n",
       " {'name': 'pull ups supinated grip', 'id': 83},\n",
       " {'name': 'dips', 'id': 84},\n",
       " {'name': 'face pulls', 'id': 85},\n",
       " {'name': 'seated cable row', 'id': 86},\n",
       " {'name': 'press ups', 'id': 87},\n",
       " {'name': 'farmers walks', 'id': 88},\n",
       " {'name': 'romanian deadlift', 'id': 89},\n",
       " {'name': 'seated leg curls', 'id': 90},\n",
       " {'name': 'leg extensions', 'id': 91},\n",
       " {'name': 'dumbbell shoulder press pronated grip', 'id': 92},\n",
       " {'name': 'overhead tricep rope extension', 'id': 93},\n",
       " {'name': 'cable drag curls', 'id': 94},\n",
       " {'name': 'walking lunges', 'id': 95},\n",
       " {'name': 'lat pulldown overhand grip', 'id': 96},\n",
       " {'name': 'single arm dumbbell rows', 'id': 97},\n",
       " {'name': 'incline dumbbell bench press pronated grip', 'id': 98},\n",
       " {'name': 'cable tricep crossover', 'id': 99},\n",
       " {'name': 'incline bench press machine', 'id': 100},\n",
       " {'name': 'squat machine', 'id': 101},\n",
       " {'name': 'dumbbell split squats single arm', 'id': 102},\n",
       " {'name': 'barbell rows', 'id': 103},\n",
       " {'name': 'dumbbell lateral raises', 'id': 104},\n",
       " {'name': 'ez-bar curls', 'id': 105}]"
      ]
     },
     "execution_count": 6,
     "metadata": {},
     "output_type": "execute_result"
    }
   ],
   "source": [
    "r = client.exercises.get_exercises()\n",
    "r"
   ]
  },
  {
   "cell_type": "code",
   "execution_count": 7,
   "metadata": {},
   "outputs": [],
   "source": [
    "for ex in r:\n",
    "    client.exercises.delete_exercise(exercise_id=ex[\"id\"])"
   ]
  },
  {
   "cell_type": "markdown",
   "metadata": {},
   "source": [
    "# Workout Routines"
   ]
  },
  {
   "cell_type": "code",
   "execution_count": 8,
   "metadata": {},
   "outputs": [
    {
     "data": {
      "text/plain": [
       "[{'name': 'wave loading 321 lower 1', 'id': 17, 'routine_exercises': []},\n",
       " {'name': 'wave loading 321 upper 1', 'id': 18, 'routine_exercises': []},\n",
       " {'name': 'wave loading 321 lower 2', 'id': 19, 'routine_exercises': []},\n",
       " {'name': 'wave loading 321 upper 2', 'id': 20, 'routine_exercises': []},\n",
       " {'name': 'wave loading 642 lower 1', 'id': 21, 'routine_exercises': []},\n",
       " {'name': 'wave loading 642 upper 1', 'id': 22, 'routine_exercises': []},\n",
       " {'name': 'wave loading 642 lower 2', 'id': 23, 'routine_exercises': []},\n",
       " {'name': 'wave loading 642 upper 2', 'id': 24, 'routine_exercises': []},\n",
       " {'name': 'hypertrophy legs', 'id': 25, 'routine_exercises': []},\n",
       " {'name': 'hypertrophy chest and back', 'id': 26, 'routine_exercises': []},\n",
       " {'name': 'hypertrophy shoulders and arms', 'id': 27, 'routine_exercises': []},\n",
       " {'name': 'arm block chest', 'id': 28, 'routine_exercises': []},\n",
       " {'name': 'arm block back', 'id': 29, 'routine_exercises': []},\n",
       " {'name': 'arm block legs', 'id': 30, 'routine_exercises': []},\n",
       " {'name': 'arm block arms', 'id': 31, 'routine_exercises': []},\n",
       " {'name': 'arm block legs 2', 'id': 32, 'routine_exercises': []},\n",
       " {'name': 'upper lower 2 sets upper 2', 'id': 33, 'routine_exercises': []},\n",
       " {'name': 'upper lower 2 sets lower 2', 'id': 34, 'routine_exercises': []},\n",
       " {'name': 'upper lower 2 sets upper 1', 'id': 35, 'routine_exercises': []},\n",
       " {'name': 'upper lower 2 sets lower 1', 'id': 36, 'routine_exercises': []},\n",
       " {'name': 'upper lower 3 sets lower 1', 'id': 37, 'routine_exercises': []},\n",
       " {'name': 'upper lower 3 sets upper 1', 'id': 38, 'routine_exercises': []},\n",
       " {'name': 'upper lower 3 sets lower 2', 'id': 39, 'routine_exercises': []},\n",
       " {'name': 'upper lower 3 sets upper 2', 'id': 40, 'routine_exercises': []}]"
      ]
     },
     "execution_count": 8,
     "metadata": {},
     "output_type": "execute_result"
    }
   ],
   "source": [
    "r = client.workout_routines.get_workout_routines()\n",
    "r"
   ]
  },
  {
   "cell_type": "code",
   "execution_count": 9,
   "metadata": {},
   "outputs": [],
   "source": [
    "for ex in r:\n",
    "    client.workout_routines.delete_workout_routine(workout_routine_id=ex[\"id\"])"
   ]
  },
  {
   "cell_type": "code",
   "execution_count": 10,
   "metadata": {},
   "outputs": [
    {
     "data": {
      "text/plain": [
       "[]"
      ]
     },
     "execution_count": 10,
     "metadata": {},
     "output_type": "execute_result"
    }
   ],
   "source": [
    "r = client.workout_routines.get_workout_routines()\n",
    "r"
   ]
  },
  {
   "cell_type": "code",
   "execution_count": 11,
   "metadata": {},
   "outputs": [
    {
     "data": {
      "text/plain": [
       "[]"
      ]
     },
     "execution_count": 11,
     "metadata": {},
     "output_type": "execute_result"
    }
   ],
   "source": [
    "r = client.workouts.get_workouts()\n",
    "r"
   ]
  },
  {
   "cell_type": "code",
   "execution_count": 32,
   "metadata": {},
   "outputs": [
    {
     "data": {
      "text/plain": [
       "{'date': '2024-11-20',\n",
       " 'id': 40,\n",
       " 'workoutroutine_id': 31,\n",
       " 'workout_exercises': [{'exercise': {'name': 'dumbbell shoulder press pronated grip',\n",
       "    'id': 92},\n",
       "   'sets': [{'reps': 9, 'weight': 26.0}, {'reps': 20, 'weight': 20.0}]},\n",
       "  {'exercise': {'name': 'cable lateral raises', 'id': 54},\n",
       "   'sets': [{'reps': 20, 'weight': 18.0},\n",
       "    {'reps': 20, 'weight': 18.0},\n",
       "    {'reps': 17, 'weight': 18.0}]},\n",
       "  {'exercise': {'name': 'face pulls', 'id': 85},\n",
       "   'sets': [{'reps': 20, 'weight': 25.0},\n",
       "    {'reps': 20, 'weight': 25.0},\n",
       "    {'reps': 20, 'weight': 30.0}]},\n",
       "  {'exercise': {'name': 'dumbbell skull crushers', 'id': 68},\n",
       "   'sets': [{'reps': 15, 'weight': 9.0},\n",
       "    {'reps': 12, 'weight': 9.0},\n",
       "    {'reps': 12, 'weight': 9.0}]},\n",
       "  {'exercise': {'name': 'seated dumbbell hammer curls', 'id': 66},\n",
       "   'sets': [{'reps': 15, 'weight': 12.5},\n",
       "    {'reps': 12, 'weight': 12.5},\n",
       "    {'reps': 15, 'weight': 12.5}]},\n",
       "  {'exercise': {'name': 'cable drag curls', 'id': 94},\n",
       "   'sets': [{'reps': 20, 'weight': 7.5},\n",
       "    {'reps': 18, 'weight': 7.5},\n",
       "    {'reps': 16, 'weight': 7.5}]},\n",
       "  {'exercise': {'name': 'overhead tricep rope extension', 'id': 93},\n",
       "   'sets': [{'reps': 18, 'weight': 17.5},\n",
       "    {'reps': 15, 'weight': 17.5},\n",
       "    {'reps': 15, 'weight': 17.5}]}]}"
      ]
     },
     "execution_count": 32,
     "metadata": {},
     "output_type": "execute_result"
    }
   ],
   "source": [
    "r = client.workouts.get_latest_workout()\n",
    "r"
   ]
  },
  {
   "cell_type": "code",
   "execution_count": null,
   "metadata": {},
   "outputs": [],
   "source": []
  }
 ],
 "metadata": {
  "kernelspec": {
   "display_name": "pybenchmark-Zfe2W2H7-py3.12",
   "language": "python",
   "name": "python3"
  },
  "language_info": {
   "codemirror_mode": {
    "name": "ipython",
    "version": 3
   },
   "file_extension": ".py",
   "mimetype": "text/x-python",
   "name": "python",
   "nbconvert_exporter": "python",
   "pygments_lexer": "ipython3",
   "version": "3.12.1"
  }
 },
 "nbformat": 4,
 "nbformat_minor": 2
}
